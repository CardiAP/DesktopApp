{
 "cells": [
  {
   "cell_type": "code",
   "execution_count": 268,
   "metadata": {
    "collapsed": true,
    "jupyter": {
     "outputs_hidden": true
    }
   },
   "outputs": [
    {
     "ename": "ValueError",
     "evalue": "Peaks not found",
     "output_type": "error",
     "traceback": [
      "\u001b[0;31m---------------------------------------------------------------------------\u001b[0m",
      "\u001b[0;31mValueError\u001b[0m                                Traceback (most recent call last)",
      "\u001b[0;32m<ipython-input-268-34f1f037c4c6>\u001b[0m in \u001b[0;36m<module>\u001b[0;34m\u001b[0m\n\u001b[1;32m     35\u001b[0m \u001b[0mimage\u001b[0m \u001b[0;34m=\u001b[0m \u001b[0mimage_data\u001b[0m\u001b[0;34m.\u001b[0m\u001b[0mcrop_horizontal\u001b[0m\u001b[0;34m(\u001b[0m\u001b[0mimage\u001b[0m\u001b[0;34m,\u001b[0m \u001b[0my_start\u001b[0m\u001b[0;34m,\u001b[0m \u001b[0my_end\u001b[0m\u001b[0;34m)\u001b[0m\u001b[0;34m\u001b[0m\u001b[0;34m\u001b[0m\u001b[0m\n\u001b[1;32m     36\u001b[0m \u001b[0;34m\u001b[0m\u001b[0m\n\u001b[0;32m---> 37\u001b[0;31m \u001b[0mresults\u001b[0m \u001b[0;34m=\u001b[0m \u001b[0mdyssynchrony_analysis\u001b[0m\u001b[0;34m.\u001b[0m\u001b[0manalyze_image\u001b[0m\u001b[0;34m(\u001b[0m\u001b[0mimage\u001b[0m\u001b[0;34m,\u001b[0m \u001b[0mmin_dist_between_maxs\u001b[0m\u001b[0;34m,\u001b[0m \u001b[0mcalibration\u001b[0m\u001b[0;34m,\u001b[0m \u001b[0mslice_width\u001b[0m\u001b[0;34m=\u001b[0m\u001b[0mslice_width\u001b[0m\u001b[0;34m)\u001b[0m\u001b[0;34m\u001b[0m\u001b[0;34m\u001b[0m\u001b[0m\n\u001b[0m",
      "\u001b[0;32m~/Documentos/Analisis_de_imagenes/CardiAP/DesktopApp/lib/analysis/dyssynchrony_analysis.py\u001b[0m in \u001b[0;36manalyze_image\u001b[0;34m(image, min_dist_between_max_peaks, calibration, slice_width)\u001b[0m\n\u001b[1;32m      9\u001b[0m \u001b[0;32mdef\u001b[0m \u001b[0manalyze_image\u001b[0m\u001b[0;34m(\u001b[0m\u001b[0mimage\u001b[0m\u001b[0;34m,\u001b[0m \u001b[0mmin_dist_between_max_peaks\u001b[0m\u001b[0;34m,\u001b[0m \u001b[0mcalibration\u001b[0m\u001b[0;34m,\u001b[0m \u001b[0mslice_width\u001b[0m\u001b[0;34m=\u001b[0m\u001b[0;36m0\u001b[0m\u001b[0;34m)\u001b[0m\u001b[0;34m:\u001b[0m\u001b[0;34m\u001b[0m\u001b[0;34m\u001b[0m\u001b[0m\n\u001b[1;32m     10\u001b[0m     \u001b[0mimage_analysis\u001b[0m \u001b[0;34m=\u001b[0m \u001b[0m_analyze_matrix\u001b[0m\u001b[0;34m(\u001b[0m\u001b[0mimage\u001b[0m\u001b[0;34m,\u001b[0m \u001b[0mmin_dist_between_max_peaks\u001b[0m\u001b[0;34m,\u001b[0m \u001b[0mcalibration\u001b[0m\u001b[0;34m)\u001b[0m\u001b[0;34m\u001b[0m\u001b[0;34m\u001b[0m\u001b[0m\n\u001b[0;32m---> 11\u001b[0;31m     slices_analysis = [_analyze_matrix(matrix, min_dist_between_max_peaks, calibration) for matrix in\n\u001b[0m\u001b[1;32m     12\u001b[0m                        split_vertically_by(image, slice_width)] if slice_width > 0 else []\n\u001b[1;32m     13\u001b[0m \u001b[0;34m\u001b[0m\u001b[0m\n",
      "\u001b[0;32m~/Documentos/Analisis_de_imagenes/CardiAP/DesktopApp/lib/analysis/dyssynchrony_analysis.py\u001b[0m in \u001b[0;36m<listcomp>\u001b[0;34m(.0)\u001b[0m\n\u001b[1;32m      9\u001b[0m \u001b[0;32mdef\u001b[0m \u001b[0manalyze_image\u001b[0m\u001b[0;34m(\u001b[0m\u001b[0mimage\u001b[0m\u001b[0;34m,\u001b[0m \u001b[0mmin_dist_between_max_peaks\u001b[0m\u001b[0;34m,\u001b[0m \u001b[0mcalibration\u001b[0m\u001b[0;34m,\u001b[0m \u001b[0mslice_width\u001b[0m\u001b[0;34m=\u001b[0m\u001b[0;36m0\u001b[0m\u001b[0;34m)\u001b[0m\u001b[0;34m:\u001b[0m\u001b[0;34m\u001b[0m\u001b[0;34m\u001b[0m\u001b[0m\n\u001b[1;32m     10\u001b[0m     \u001b[0mimage_analysis\u001b[0m \u001b[0;34m=\u001b[0m \u001b[0m_analyze_matrix\u001b[0m\u001b[0;34m(\u001b[0m\u001b[0mimage\u001b[0m\u001b[0;34m,\u001b[0m \u001b[0mmin_dist_between_max_peaks\u001b[0m\u001b[0;34m,\u001b[0m \u001b[0mcalibration\u001b[0m\u001b[0;34m)\u001b[0m\u001b[0;34m\u001b[0m\u001b[0;34m\u001b[0m\u001b[0m\n\u001b[0;32m---> 11\u001b[0;31m     slices_analysis = [_analyze_matrix(matrix, min_dist_between_max_peaks, calibration) for matrix in\n\u001b[0m\u001b[1;32m     12\u001b[0m                        split_vertically_by(image, slice_width)] if slice_width > 0 else []\n\u001b[1;32m     13\u001b[0m \u001b[0;34m\u001b[0m\u001b[0m\n",
      "\u001b[0;32m~/Documentos/Analisis_de_imagenes/CardiAP/DesktopApp/lib/analysis/dyssynchrony_analysis.py\u001b[0m in \u001b[0;36m_analyze_matrix\u001b[0;34m(matrix, min_dist_between_max_peaks, calibration)\u001b[0m\n\u001b[1;32m     20\u001b[0m \u001b[0;32mdef\u001b[0m \u001b[0m_analyze_matrix\u001b[0m\u001b[0;34m(\u001b[0m\u001b[0mmatrix\u001b[0m\u001b[0;34m,\u001b[0m \u001b[0mmin_dist_between_max_peaks\u001b[0m\u001b[0;34m,\u001b[0m \u001b[0mcalibration\u001b[0m\u001b[0;34m)\u001b[0m\u001b[0;34m:\u001b[0m\u001b[0;34m\u001b[0m\u001b[0;34m\u001b[0m\u001b[0m\n\u001b[1;32m     21\u001b[0m     \u001b[0mintensities\u001b[0m \u001b[0;34m=\u001b[0m \u001b[0mnp\u001b[0m\u001b[0;34m.\u001b[0m\u001b[0masarray\u001b[0m\u001b[0;34m(\u001b[0m\u001b[0m_mean_columns\u001b[0m\u001b[0;34m(\u001b[0m\u001b[0mmatrix\u001b[0m\u001b[0;34m)\u001b[0m\u001b[0;34m,\u001b[0m \u001b[0mdtype\u001b[0m\u001b[0;34m=\u001b[0m\u001b[0mnp\u001b[0m\u001b[0;34m.\u001b[0m\u001b[0mint16\u001b[0m\u001b[0;34m)\u001b[0m\u001b[0;34m\u001b[0m\u001b[0;34m\u001b[0m\u001b[0m\n\u001b[0;32m---> 22\u001b[0;31m     \u001b[0;34m(\u001b[0m\u001b[0mmax_peaks_positions\u001b[0m\u001b[0;34m,\u001b[0m \u001b[0mmin_peaks_positions\u001b[0m\u001b[0;34m)\u001b[0m \u001b[0;34m=\u001b[0m \u001b[0mcalculate_peaks\u001b[0m\u001b[0;34m(\u001b[0m\u001b[0mintensities\u001b[0m\u001b[0;34m,\u001b[0m \u001b[0mmin_dist_between_max_peaks\u001b[0m\u001b[0;34m)\u001b[0m\u001b[0;34m\u001b[0m\u001b[0;34m\u001b[0m\u001b[0m\n\u001b[0m\u001b[1;32m     23\u001b[0m     \u001b[0mmax_peaks_intensities\u001b[0m \u001b[0;34m=\u001b[0m \u001b[0m_intensities_in_positions\u001b[0m\u001b[0;34m(\u001b[0m\u001b[0mintensities\u001b[0m\u001b[0;34m,\u001b[0m \u001b[0mmax_peaks_positions\u001b[0m\u001b[0;34m)\u001b[0m\u001b[0;34m\u001b[0m\u001b[0;34m\u001b[0m\u001b[0m\n\u001b[1;32m     24\u001b[0m     \u001b[0mmin_peaks_intensities\u001b[0m \u001b[0;34m=\u001b[0m \u001b[0m_intensities_in_positions\u001b[0m\u001b[0;34m(\u001b[0m\u001b[0mintensities\u001b[0m\u001b[0;34m,\u001b[0m \u001b[0mmin_peaks_positions\u001b[0m\u001b[0;34m)\u001b[0m\u001b[0;34m\u001b[0m\u001b[0;34m\u001b[0m\u001b[0m\n",
      "\u001b[0;32m~/Documentos/Analisis_de_imagenes/CardiAP/DesktopApp/lib/analysis/peaks_calculation.py\u001b[0m in \u001b[0;36mcalculate_peaks\u001b[0;34m(vector, min_dist_between_max_peaks)\u001b[0m\n\u001b[1;32m      4\u001b[0m \u001b[0;34m\u001b[0m\u001b[0m\n\u001b[1;32m      5\u001b[0m \u001b[0;32mdef\u001b[0m \u001b[0mcalculate_peaks\u001b[0m\u001b[0;34m(\u001b[0m\u001b[0mvector\u001b[0m\u001b[0;34m,\u001b[0m \u001b[0mmin_dist_between_max_peaks\u001b[0m\u001b[0;34m)\u001b[0m\u001b[0;34m:\u001b[0m\u001b[0;34m\u001b[0m\u001b[0;34m\u001b[0m\u001b[0m\n\u001b[0;32m----> 6\u001b[0;31m     \u001b[0mmax_peaks\u001b[0m \u001b[0;34m=\u001b[0m \u001b[0m_max_peaks_positions\u001b[0m\u001b[0;34m(\u001b[0m\u001b[0mvector\u001b[0m\u001b[0;34m,\u001b[0m \u001b[0mmin_dist_between_max_peaks\u001b[0m\u001b[0;34m)\u001b[0m\u001b[0;34m\u001b[0m\u001b[0;34m\u001b[0m\u001b[0m\n\u001b[0m\u001b[1;32m      7\u001b[0m     \u001b[0mmin_peaks\u001b[0m \u001b[0;34m=\u001b[0m \u001b[0m_min_peaks_positions\u001b[0m\u001b[0;34m(\u001b[0m\u001b[0mvector\u001b[0m\u001b[0;34m,\u001b[0m \u001b[0mmax_peaks\u001b[0m\u001b[0;34m)\u001b[0m\u001b[0;34m\u001b[0m\u001b[0;34m\u001b[0m\u001b[0m\n\u001b[1;32m      8\u001b[0m \u001b[0;34m\u001b[0m\u001b[0m\n",
      "\u001b[0;32m~/Documentos/Analisis_de_imagenes/CardiAP/DesktopApp/lib/analysis/peaks_calculation.py\u001b[0m in \u001b[0;36m_max_peaks_positions\u001b[0;34m(vector, min_dist_between_max_peaks)\u001b[0m\n\u001b[1;32m     16\u001b[0m     \u001b[0mmax_peaks\u001b[0m \u001b[0;34m=\u001b[0m \u001b[0;34m[\u001b[0m\u001b[0mmax_peak\u001b[0m \u001b[0;32mfor\u001b[0m \u001b[0mmax_peak\u001b[0m \u001b[0;32min\u001b[0m \u001b[0mpossible_max_peaks\u001b[0m \u001b[0;32mif\u001b[0m \u001b[0mvector\u001b[0m\u001b[0;34m[\u001b[0m\u001b[0mmax_peak\u001b[0m\u001b[0;34m]\u001b[0m \u001b[0;34m>\u001b[0m \u001b[0mintensity_avg\u001b[0m\u001b[0;34m/\u001b[0m\u001b[0;36m4\u001b[0m\u001b[0;34m]\u001b[0m\u001b[0;34m\u001b[0m\u001b[0;34m\u001b[0m\u001b[0m\n\u001b[1;32m     17\u001b[0m \u001b[0;34m\u001b[0m\u001b[0m\n\u001b[0;32m---> 18\u001b[0;31m     \u001b[0;32mif\u001b[0m \u001b[0mlen\u001b[0m\u001b[0;34m(\u001b[0m\u001b[0mmax_peaks\u001b[0m\u001b[0;34m)\u001b[0m \u001b[0;34m==\u001b[0m \u001b[0;36m0\u001b[0m\u001b[0;34m:\u001b[0m \u001b[0;32mraise\u001b[0m \u001b[0mValueError\u001b[0m\u001b[0;34m(\u001b[0m\u001b[0;34m\"Peaks not found\"\u001b[0m\u001b[0;34m)\u001b[0m\u001b[0;34m\u001b[0m\u001b[0;34m\u001b[0m\u001b[0m\n\u001b[0m\u001b[1;32m     19\u001b[0m \u001b[0;34m\u001b[0m\u001b[0m\n\u001b[1;32m     20\u001b[0m     \u001b[0;32mreturn\u001b[0m \u001b[0mmax_peaks\u001b[0m\u001b[0;34m\u001b[0m\u001b[0;34m\u001b[0m\u001b[0m\n",
      "\u001b[0;31mValueError\u001b[0m: Peaks not found"
     ]
    }
   ],
   "source": [
    "# En esta celda se puede probar la funcion de analisis de una imagen\n",
    "\n",
    "from lib.image import image_data\n",
    "from lib.analysis import dyssynchrony_analysis\n",
    "import cv2\n",
    "\n",
    "# Path completo donde esta la imagen (incluyendo nombre y extencion)\n",
    "path = '/media/leandro/Volumen1TB/Lean/Analizador_imagenes_calcio/Luis/imagenes/060320sel/060320dan7/'\n",
    "photo_name = 'd7b001'\n",
    "photo = photo_name + '.tif'\n",
    "# Ancho de la feta a analisar (es un parametro opcional)\n",
    "slice_width = 5\n",
    "\n",
    "# Distancia minima en pixeles entre picos\n",
    "min_dist_between_maxs = 70\n",
    "# Calibracion del tiempo de cada pixel\n",
    "calibration = 1\n",
    "\n",
    "image = cv2.imread(path + photo_name + '.tif')\n",
    "# Select ROI\n",
    "fromCenter = False\n",
    "showCrosshair = False\n",
    "seleted_parameters = cv2.selectROI(image, fromCenter, showCrosshair)\n",
    "\n",
    "# Crop image\n",
    "x_start = int(seleted_parameters[1])\n",
    "x_end = x_start + int(seleted_parameters[3])\n",
    "y_start = int(seleted_parameters[0])\n",
    "y_end = y_start + int(seleted_parameters[2])\n",
    "\n",
    "cv2.destroyAllWindows()\n",
    "\n",
    "image = image_data.get_image_data(image)\n",
    "image = image_data.crop_vertical(image, x_start, x_end)\n",
    "image = image_data.crop_horizontal(image, y_start, y_end)\n",
    "\n",
    "results = dyssynchrony_analysis.analyze_image(image, min_dist_between_maxs, calibration, slice_width=slice_width)"
   ]
  },
  {
   "cell_type": "code",
   "execution_count": 265,
   "metadata": {},
   "outputs": [],
   "source": [
    "jasonGenerator(path,results,photo_name)"
   ]
  },
  {
   "cell_type": "code",
   "execution_count": 266,
   "metadata": {
    "collapsed": true,
    "jupyter": {
     "outputs_hidden": true
    }
   },
   "outputs": [
    {
     "ename": "ValueError",
     "evalue": "cannot set a row with mismatched columns",
     "output_type": "error",
     "traceback": [
      "\u001b[0;31m---------------------------------------------------------------------------\u001b[0m",
      "\u001b[0;31mValueError\u001b[0m                                Traceback (most recent call last)",
      "\u001b[0;32m<ipython-input-266-9eb2146b1204>\u001b[0m in \u001b[0;36m<module>\u001b[0;34m\u001b[0m\n\u001b[1;32m      1\u001b[0m \u001b[0mdic\u001b[0m \u001b[0;34m=\u001b[0m \u001b[0mjasonReader\u001b[0m\u001b[0;34m(\u001b[0m\u001b[0mpath\u001b[0m \u001b[0;34m+\u001b[0m \u001b[0;34m'analysis_result_'\u001b[0m \u001b[0;34m+\u001b[0m \u001b[0mphoto_name\u001b[0m \u001b[0;34m+\u001b[0m \u001b[0;34m'.json'\u001b[0m\u001b[0;34m)\u001b[0m\u001b[0;34m\u001b[0m\u001b[0;34m\u001b[0m\u001b[0m\n\u001b[0;32m----> 2\u001b[0;31m \u001b[0mslicesParser_amplitudes\u001b[0m\u001b[0;34m(\u001b[0m\u001b[0mdic\u001b[0m\u001b[0;34m)\u001b[0m\u001b[0;34m\u001b[0m\u001b[0;34m\u001b[0m\u001b[0m\n\u001b[0m",
      "\u001b[0;32m<ipython-input-10-c73ebdd67b03>\u001b[0m in \u001b[0;36mslicesParser_amplitudes\u001b[0;34m(dictres)\u001b[0m\n\u001b[1;32m      8\u001b[0m     \u001b[0;31m#populating the dataframe\u001b[0m\u001b[0;34m\u001b[0m\u001b[0;34m\u001b[0m\u001b[0;34m\u001b[0m\u001b[0m\n\u001b[1;32m      9\u001b[0m     \u001b[0;32mfor\u001b[0m \u001b[0mi\u001b[0m \u001b[0;32min\u001b[0m \u001b[0mrange\u001b[0m\u001b[0;34m(\u001b[0m\u001b[0;36m0\u001b[0m\u001b[0;34m,\u001b[0m\u001b[0mlen\u001b[0m\u001b[0;34m(\u001b[0m\u001b[0mallSlices\u001b[0m\u001b[0;34m)\u001b[0m\u001b[0;34m)\u001b[0m\u001b[0;34m:\u001b[0m\u001b[0;34m\u001b[0m\u001b[0;34m\u001b[0m\u001b[0m\n\u001b[0;32m---> 10\u001b[0;31m         \u001b[0mdf_sum\u001b[0m\u001b[0;34m.\u001b[0m\u001b[0mloc\u001b[0m\u001b[0;34m[\u001b[0m\u001b[0mi\u001b[0m\u001b[0;34m+\u001b[0m\u001b[0;36m1\u001b[0m\u001b[0;34m]\u001b[0m \u001b[0;34m=\u001b[0m \u001b[0mallSlices\u001b[0m\u001b[0;34m[\u001b[0m\u001b[0mi\u001b[0m\u001b[0;34m]\u001b[0m\u001b[0;34m[\u001b[0m\u001b[0;34m'amplitudes'\u001b[0m\u001b[0;34m]\u001b[0m\u001b[0;34m\u001b[0m\u001b[0;34m\u001b[0m\u001b[0m\n\u001b[0m\u001b[1;32m     11\u001b[0m \u001b[0;34m\u001b[0m\u001b[0m\n\u001b[1;32m     12\u001b[0m     \u001b[0;32mreturn\u001b[0m \u001b[0mdf_sum\u001b[0m\u001b[0;34m\u001b[0m\u001b[0;34m\u001b[0m\u001b[0m\n",
      "\u001b[0;32m~/.local/lib/python3.8/site-packages/pandas/core/indexing.py\u001b[0m in \u001b[0;36m__setitem__\u001b[0;34m(self, key, value)\u001b[0m\n\u001b[1;32m    668\u001b[0m \u001b[0;34m\u001b[0m\u001b[0m\n\u001b[1;32m    669\u001b[0m         \u001b[0miloc\u001b[0m \u001b[0;34m=\u001b[0m \u001b[0mself\u001b[0m \u001b[0;32mif\u001b[0m \u001b[0mself\u001b[0m\u001b[0;34m.\u001b[0m\u001b[0mname\u001b[0m \u001b[0;34m==\u001b[0m \u001b[0;34m\"iloc\"\u001b[0m \u001b[0;32melse\u001b[0m \u001b[0mself\u001b[0m\u001b[0;34m.\u001b[0m\u001b[0mobj\u001b[0m\u001b[0;34m.\u001b[0m\u001b[0miloc\u001b[0m\u001b[0;34m\u001b[0m\u001b[0;34m\u001b[0m\u001b[0m\n\u001b[0;32m--> 670\u001b[0;31m         \u001b[0miloc\u001b[0m\u001b[0;34m.\u001b[0m\u001b[0m_setitem_with_indexer\u001b[0m\u001b[0;34m(\u001b[0m\u001b[0mindexer\u001b[0m\u001b[0;34m,\u001b[0m \u001b[0mvalue\u001b[0m\u001b[0;34m)\u001b[0m\u001b[0;34m\u001b[0m\u001b[0;34m\u001b[0m\u001b[0m\n\u001b[0m\u001b[1;32m    671\u001b[0m \u001b[0;34m\u001b[0m\u001b[0m\n\u001b[1;32m    672\u001b[0m     \u001b[0;32mdef\u001b[0m \u001b[0m_validate_key\u001b[0m\u001b[0;34m(\u001b[0m\u001b[0mself\u001b[0m\u001b[0;34m,\u001b[0m \u001b[0mkey\u001b[0m\u001b[0;34m,\u001b[0m \u001b[0maxis\u001b[0m\u001b[0;34m:\u001b[0m \u001b[0mint\u001b[0m\u001b[0;34m)\u001b[0m\u001b[0;34m:\u001b[0m\u001b[0;34m\u001b[0m\u001b[0;34m\u001b[0m\u001b[0m\n",
      "\u001b[0;32m~/.local/lib/python3.8/site-packages/pandas/core/indexing.py\u001b[0m in \u001b[0;36m_setitem_with_indexer\u001b[0;34m(self, indexer, value)\u001b[0m\n\u001b[1;32m   1624\u001b[0m \u001b[0;34m\u001b[0m\u001b[0m\n\u001b[1;32m   1625\u001b[0m             \u001b[0;32mif\u001b[0m \u001b[0mmissing\u001b[0m\u001b[0;34m:\u001b[0m\u001b[0;34m\u001b[0m\u001b[0;34m\u001b[0m\u001b[0m\n\u001b[0;32m-> 1626\u001b[0;31m                 \u001b[0mself\u001b[0m\u001b[0;34m.\u001b[0m\u001b[0m_setitem_with_indexer_missing\u001b[0m\u001b[0;34m(\u001b[0m\u001b[0mindexer\u001b[0m\u001b[0;34m,\u001b[0m \u001b[0mvalue\u001b[0m\u001b[0;34m)\u001b[0m\u001b[0;34m\u001b[0m\u001b[0;34m\u001b[0m\u001b[0m\n\u001b[0m\u001b[1;32m   1627\u001b[0m                 \u001b[0;32mreturn\u001b[0m\u001b[0;34m\u001b[0m\u001b[0;34m\u001b[0m\u001b[0m\n\u001b[1;32m   1628\u001b[0m \u001b[0;34m\u001b[0m\u001b[0m\n",
      "\u001b[0;32m~/.local/lib/python3.8/site-packages/pandas/core/indexing.py\u001b[0m in \u001b[0;36m_setitem_with_indexer_missing\u001b[0;34m(self, indexer, value)\u001b[0m\n\u001b[1;32m   1856\u001b[0m                     \u001b[0;31m# must have conforming columns\u001b[0m\u001b[0;34m\u001b[0m\u001b[0;34m\u001b[0m\u001b[0;34m\u001b[0m\u001b[0m\n\u001b[1;32m   1857\u001b[0m                     \u001b[0;32mif\u001b[0m \u001b[0mlen\u001b[0m\u001b[0;34m(\u001b[0m\u001b[0mvalue\u001b[0m\u001b[0;34m)\u001b[0m \u001b[0;34m!=\u001b[0m \u001b[0mlen\u001b[0m\u001b[0;34m(\u001b[0m\u001b[0mself\u001b[0m\u001b[0;34m.\u001b[0m\u001b[0mobj\u001b[0m\u001b[0;34m.\u001b[0m\u001b[0mcolumns\u001b[0m\u001b[0;34m)\u001b[0m\u001b[0;34m:\u001b[0m\u001b[0;34m\u001b[0m\u001b[0;34m\u001b[0m\u001b[0m\n\u001b[0;32m-> 1858\u001b[0;31m                         \u001b[0;32mraise\u001b[0m \u001b[0mValueError\u001b[0m\u001b[0;34m(\u001b[0m\u001b[0;34m\"cannot set a row with mismatched columns\"\u001b[0m\u001b[0;34m)\u001b[0m\u001b[0;34m\u001b[0m\u001b[0;34m\u001b[0m\u001b[0m\n\u001b[0m\u001b[1;32m   1859\u001b[0m \u001b[0;34m\u001b[0m\u001b[0m\n\u001b[1;32m   1860\u001b[0m                 \u001b[0mvalue\u001b[0m \u001b[0;34m=\u001b[0m \u001b[0mSeries\u001b[0m\u001b[0;34m(\u001b[0m\u001b[0mvalue\u001b[0m\u001b[0;34m,\u001b[0m \u001b[0mindex\u001b[0m\u001b[0;34m=\u001b[0m\u001b[0mself\u001b[0m\u001b[0;34m.\u001b[0m\u001b[0mobj\u001b[0m\u001b[0;34m.\u001b[0m\u001b[0mcolumns\u001b[0m\u001b[0;34m,\u001b[0m \u001b[0mname\u001b[0m\u001b[0;34m=\u001b[0m\u001b[0mindexer\u001b[0m\u001b[0;34m)\u001b[0m\u001b[0;34m\u001b[0m\u001b[0;34m\u001b[0m\u001b[0m\n",
      "\u001b[0;31mValueError\u001b[0m: cannot set a row with mismatched columns"
     ]
    }
   ],
   "source": [
    "dic = jasonReader(path + 'analysis_result_' + photo_name + '.json')\n",
    "slicesParser_amplitudes(dic)"
   ]
  },
  {
   "cell_type": "code",
   "execution_count": 263,
   "metadata": {},
   "outputs": [
    {
     "name": "stdout",
     "output_type": "stream",
     "text": [
      "[49, 130, 206, 287, 361]\n",
      "0 [50, 125, 204, 283, 360]\n",
      "1 [49, 135, 207, 286, 370]\n",
      "2 [57, 128, 206, 291, 366]\n",
      "3 [48, 129, 205, 286, 367]\n",
      "4 [50, 128, 207, 286, 366]\n",
      "5 [51, 129, 204, 289, 361]\n",
      "6 [51, 130, 205, 289, 366]\n",
      "7 [50, 128, 208, 286, 369]\n",
      "8 [55, 129, 207, 285, 361]\n",
      "9 [47, 129, 204, 283, 362]\n",
      "10 [47, 132, 204, 284, 362]\n",
      "11 [49, 128, 205, 285, 361]\n",
      "12 [50, 131, 205, 286, 361]\n",
      "13 [50, 131, 209, 292, 367]\n",
      "14 [49, 129, 209, 289, 374]\n",
      "15 [50, 140, 212, 289, 365]\n",
      "16 [53, 136, 209, 289, 369]\n",
      "17 [51, 125, 214, 288, 372]\n",
      "18 [52, 125, 211, 291, 372]\n",
      "19 [49, 125, 214, 287, 369]\n",
      "20 [48, 126, 206, 287, 363]\n",
      "21 [48, 127, 204, 284, 358]\n",
      "22 [46, 128, 203, 287, 359]\n",
      "23 [47, 132, 204, 283, 360]\n",
      "24 [52, 130, 206, 285, 360]\n",
      "25 [49, 128, 213, 289, 361]\n",
      "26 [49, 136, 289, 361]\n",
      "27 [52, 132, 206, 287, 361]\n",
      "28 [50, 129, 209, 287, 370]\n",
      "29 [58, 131, 207, 289, 370]\n",
      "30 [59, 134, 217, 291, 367]\n",
      "31 [58, 135, 207, 286, 368]\n"
     ]
    }
   ],
   "source": [
    "print(results['image']['max_peaks_positions'])\n",
    "for i in range(0,len(results['slices'])):\n",
    "    array = results['slices'][i]['max_peaks_positions']\n",
    "    print(i,array)"
   ]
  },
  {
   "cell_type": "code",
   "execution_count": null,
   "metadata": {},
   "outputs": [],
   "source": [
    "import matplotlib.pyplot as plt\n",
    "\n",
    "for i in range(0,len(results['slices'])):\n",
    "    array = results['slices'][i]['intensities']\n",
    "    plt.plot(array) # plotting by columns\n",
    "    plt.show()"
   ]
  },
  {
   "cell_type": "markdown",
   "metadata": {},
   "source": [
    "# PRUEBA ANALISIS "
   ]
  },
  {
   "cell_type": "code",
   "execution_count": null,
   "metadata": {},
   "outputs": [],
   "source": [
    "# En esta celda se puede probar la funcion de analisis todas las imagenes .tif en un directorio\n",
    "import os\n",
    "from lib.image import image_data\n",
    "from lib.analysis import dyssynchrony_analysis\n",
    "import cv2\n",
    "\n",
    "# Ancho de la feta a analisar (es un parametro opcional)\n",
    "slice_width = 5\n",
    "\n",
    "# Distancia minima en pixeles entre picos\n",
    "min_dist_between_maxs = 200\n",
    "\n",
    "# Calibracion del tiempo de cada pixel\n",
    "calibration = 3.1\n",
    "\n",
    "# Path donde estan las imagenes\n",
    "path = \"C:/Users/Leand/OneDrive/Documentos/Lean/Analizador_imagenes_calcio/1 Hz/\"\n",
    "\n",
    "images_paths = [ f'{path}/{file}' for file in os.listdir(path) if file.endswith(\".tif\") ]\n",
    "images = [ cv2.imread(image_path) for image_path in images_paths ]"
   ]
  },
  {
   "cell_type": "code",
   "execution_count": null,
   "metadata": {},
   "outputs": [],
   "source": [
    "fromCenter = False\n",
    "showCrosshair = False\n",
    "\n",
    "#Tomamos la primer imagen para seleccionar el recorte elegido el resto de las imagenes se van a recortar igual\n",
    "seleted_parameters = cv2.selectROI(images[0], fromCenter, showCrosshair)\n",
    "\n",
    "# Crop image\n",
    "x_start = int(seleted_parameters[1])\n",
    "x_end = x_start + int(seleted_parameters[3])\n",
    "y_start = int(seleted_parameters[0])\n",
    "y_end = y_start + int(seleted_parameters[2])\n",
    "\n",
    "cv2.destroyAllWindows()"
   ]
  },
  {
   "cell_type": "code",
   "execution_count": null,
   "metadata": {},
   "outputs": [],
   "source": [
    "images = [ image_data.get_image_data(image) for image in images ]\n",
    "images = [ image_data.crop_vertical(image, x_start, x_end) for image in images ]\n",
    "images = [ image_data.crop_horizontal(image, y_start, y_end) for image in images ]"
   ]
  },
  {
   "cell_type": "code",
   "execution_count": null,
   "metadata": {},
   "outputs": [],
   "source": [
    "results = [(dyssynchrony_analysis.analyze_image(image, min_dist_between_maxs, calibration, slice_width=5), print ('Done')) for image in images]"
   ]
  },
  {
   "cell_type": "markdown",
   "metadata": {},
   "source": [
    "# Analisis de datos\n",
    "Notas: \n",
    "- Image corresponde al análisis de toda la célula y slices corresponde a fetas de esa imagen\n",
    "- intensidades es el valor que resulta de comprimir (sumando) la matriz con las coordenadas de x,y,z de los pixeles \n",
    "- max_peaks_pos es la index de en la lista de intensidades \n",
    "- max_peaks_intensities el valor de intensidad que se corresponde con el pico en la posicion analoga de max_peaks_pos"
   ]
  },
  {
   "cell_type": "code",
   "execution_count": 1,
   "metadata": {},
   "outputs": [],
   "source": [
    "#Imports\n",
    "import json\n",
    "import numpy as np\n",
    "import pandas as pd"
   ]
  },
  {
   "cell_type": "code",
   "execution_count": 2,
   "metadata": {},
   "outputs": [],
   "source": [
    "#encodes a dictionary into a jason\n",
    "class NumpyEncoder(json.JSONEncoder):\n",
    "    \"\"\" Special json encoder for numpy types \"\"\"\n",
    "    def default(self, obj):\n",
    "        if isinstance(obj, np.integer):\n",
    "            return int(obj)\n",
    "        elif isinstance(obj, np.floating):\n",
    "            return float(obj)\n",
    "        elif isinstance(obj, np.ndarray):\n",
    "            return obj.tolist()\n",
    "        return json.JSONEncoder.default(self, obj)\n",
    "\n",
    "\n",
    "def jasonGenerator(path,results,photo_name):\n",
    "    \"\"\" Generates a .jason file in the path given folder from the a dictionary \"\"\"\n",
    "    with open(path + '/analysis_result_' + photo_name + '.json',\"w\") as miarch:\n",
    "        miarch.write(json.dumps(results, cls=NumpyEncoder))"
   ]
  },
  {
   "cell_type": "code",
   "execution_count": 3,
   "metadata": {},
   "outputs": [],
   "source": [
    "def jasonReader(path):\n",
    "    \"\"\" Reads the .jason generated with jasonGenartor the given path\"\"\"\n",
    "    with open(path,'r') as miarch:\n",
    "        loaded_dict = json.loads(miarch.read())\n",
    "    return loaded_dict"
   ]
  },
  {
   "cell_type": "code",
   "execution_count": 4,
   "metadata": {},
   "outputs": [],
   "source": [
    "def slicesParser_max_peaksI(dictres):\n",
    "#extract all the slices data\n",
    "    allSlices = dictres['slices']\n",
    "    #seting columns names\n",
    "    column_names = ['transient' + str(x) for x in range(0,len(allSlices[0]['max_peaks_intensities']))]    \n",
    "    #define a dataframe\n",
    "    df_sum = pd.DataFrame(columns=column_names)\n",
    "    for i in range(0,len(allSlices)):\n",
    "        df_sum.loc[i] = allSlices[i]['max_peaks_intensities'][0:] \n",
    "    return df_sum"
   ]
  },
  {
   "cell_type": "code",
   "execution_count": 5,
   "metadata": {},
   "outputs": [],
   "source": [
    "def slicesParser_halfpeakstime(dictres):\n",
    "    #extract all the slices data\n",
    "    allSlices = dictres['slices']\n",
    "    \n",
    "    #seting columns names\n",
    "    column_names = ['transient' + str(x+1) for x in range(0,len(allSlices[0]['times_to_half_peaks']))]\n",
    "    #define a dataframe\n",
    "    df_sum = pd.DataFrame(columns=column_names)\n",
    "    #populating the dataframe\n",
    "    for i in range(0,len(allSlices)):\n",
    "        df_sum.loc[i+1] = allSlices[i]['times_to_half_peaks']\n",
    "    return df_sum"
   ]
  },
  {
   "cell_type": "code",
   "execution_count": 6,
   "metadata": {},
   "outputs": [],
   "source": [
    "def slicesParser_amplitudes(dictres):\n",
    "    #extract all the slices data\n",
    "    allSlices = dictres['slices']\n",
    "    #seting columns names\n",
    "    column_names = ['transient' + str(x+1) for x in range(0,len(allSlices[0]['amplitudes']))]\n",
    "    #define a dataframe\n",
    "    df_sum = pd.DataFrame(columns=column_names)\n",
    "    #populating the dataframe\n",
    "    for i in range(0,len(allSlices)):\n",
    "        df_sum.loc[i+1] = allSlices[i]['amplitudes']\n",
    "    return df_sum"
   ]
  },
  {
   "cell_type": "code",
   "execution_count": 7,
   "metadata": {},
   "outputs": [],
   "source": [
    "def slicesParser_amplitudes_col(dictres):\n",
    "    #extract all the slices data\n",
    "    allSlices = dictres['slices']\n",
    "    #seting columns names\n",
    "    column_names = ['transient' + str(x+1) for x in range(0,len(allSlices[0]['amplitudes']))]\n",
    "    #define a dataframe\n",
    "    df_sum = pd.DataFrame(columns=column_names)\n",
    "    #populating the dataframe\n",
    "    for i in range(0,len(allSlices)):\n",
    "        df_sum = pd.concat([df_sum,pd.DataFrame([jasonReader(path_file)['slices'][i]['amplitudes']])], ignore_index=True, axis=0)\n",
    "    print(df_sum)\n",
    "    return df_sum"
   ]
  },
  {
   "cell_type": "code",
   "execution_count": 8,
   "metadata": {},
   "outputs": [],
   "source": [
    "def slicesParser_min_peaksI(dictres):\n",
    "    #extract all the slices data\n",
    "    allSlices = dictres['slices']\n",
    "    #seting columns names\n",
    "    column_names = ['transient' + str(x+1) for x in range(0,len(allSlices[0]['min_peaks_intensities']))]\n",
    "    #define a dataframe\n",
    "    df_sum = pd.DataFrame(columns=column_names)\n",
    "    #populating the dataframe\n",
    "    for i in range(0,len(allSlices)-1):\n",
    "        df_sum.loc[i+1] = allSlices[i]['min_peaks_intensities']\n",
    "\n",
    "    return df_sum"
   ]
  },
  {
   "cell_type": "code",
   "execution_count": 9,
   "metadata": {},
   "outputs": [],
   "source": [
    "def slicesParser_peaktime(dictres):\n",
    "    #extract all the slices data\n",
    "    allSlices = dictres['slices']\n",
    "\n",
    "    #seting columns names\n",
    "    column_names = ['transient' + str(x+1) for x in range(0,len(allSlices[0]['times_to_peaks']))]\n",
    "    #define a dataframe\n",
    "    df_sum = pd.DataFrame(columns=column_names)\n",
    "    #populating the dataframe\n",
    "    for i in range(0,len(allSlices)):\n",
    "        df_sum.loc[i+1] = allSlices[i]['times_to_peaks']\n",
    "\n",
    "    return df_sum"
   ]
  },
  {
   "cell_type": "code",
   "execution_count": 10,
   "metadata": {},
   "outputs": [],
   "source": [
    "def slicesParser_tau(dictres):\n",
    "    #extract all the slices data\n",
    "    allSlices = dictres['slices']\n",
    "    #seting columns names\n",
    "    column_names = ['transient' + str(x+1) for x in range(0,len(allSlices[0]['tau_s']))]\n",
    "    #define a dataframe\n",
    "    df_sum = pd.DataFrame(columns=column_names)\n",
    "    #populating the dataframe\n",
    "    for i in range(0,len(allSlices)):\n",
    "        df_sum.loc[i+1] = allSlices[i]['tau_s']\n",
    "\n",
    "    return df_sum"
   ]
  },
  {
   "cell_type": "code",
   "execution_count": 11,
   "metadata": {},
   "outputs": [],
   "source": [
    "def BasicStasts(df):\n",
    "    if df.empty == False:\n",
    "        return df.astype('int').describe()"
   ]
  },
  {
   "cell_type": "code",
   "execution_count": 12,
   "metadata": {},
   "outputs": [],
   "source": [
    "def amplitudes_ratio(df):\n",
    "    df_alt = pd.DataFrame()\n",
    "    for i in range(0,len(list(df))-1):\n",
    "        name = 'ratio' + str(i+1) +'-' + str(i)\n",
    "        df_alt[name] = df[list(df)[i+1]]/df[list(df)[i]]\n",
    "    return df_alt"
   ]
  },
  {
   "cell_type": "code",
   "execution_count": null,
   "metadata": {},
   "outputs": [],
   "source": [
    "# path = '/home/leandro/Documentos/Analisis_de_imagenes/CardiAP/DesktopApp/photos_examples/'\n",
    "photo_name = 'c1d000'\n",
    "photo = photo_name + '.tif'"
   ]
  },
  {
   "cell_type": "code",
   "execution_count": null,
   "metadata": {},
   "outputs": [],
   "source": [
    "loaded_dict = jasonReader(path)"
   ]
  },
  {
   "cell_type": "code",
   "execution_count": null,
   "metadata": {},
   "outputs": [],
   "source": [
    "BasicStasts(slicesParser_max_peaksI(path))"
   ]
  },
  {
   "cell_type": "code",
   "execution_count": null,
   "metadata": {},
   "outputs": [],
   "source": [
    "amplitudes_ratio(slicesParser_amplitudes(path)).std()"
   ]
  },
  {
   "cell_type": "code",
   "execution_count": null,
   "metadata": {},
   "outputs": [],
   "source": [
    "amp_mean = slicesParser_amplitudes(path).mean()\n",
    "for i in range(0,len(amp_mean)-1):\n",
    "    AR_ind = (1- (amp_mean[i+1])/amp_mean[i])\n",
    "    print (AR_ind)"
   ]
  },
  {
   "cell_type": "code",
   "execution_count": null,
   "metadata": {},
   "outputs": [],
   "source": [
    "slicesParser_min_peaksI(path).head(2)"
   ]
  },
  {
   "cell_type": "code",
   "execution_count": null,
   "metadata": {},
   "outputs": [],
   "source": [
    "slicesParser_tau(path).head()"
   ]
  },
  {
   "cell_type": "code",
   "execution_count": 13,
   "metadata": {},
   "outputs": [],
   "source": [
    "def discordance_index(path):\n",
    "    DIs = pd.DataFrame()\n",
    "    for j in range (1, len(slicesParser_amplitudes(path).columns)):\n",
    "        rel_diff = []\n",
    "        for i in range (0, len (slicesParser_amplitudes(path))):\n",
    "            T1 = list(slicesParser_amplitudes(path)['transient'+str(j)])[i]\n",
    "            T2 = list(slicesParser_amplitudes(path)['transient'+str(j+1)])[i]\n",
    "            rel_diff.append((T1-T2)/max(T1,T2))\n",
    "        DIs[j] = rel_diff\n",
    "    return DIs\n",
    "def alternance_ratio(path):\n",
    "    T1_mean = float(slicesParser_amplitudes(path)['transient1'].mean())\n",
    "    T2_mean = float(slicesParser_amplitudes(path)['transient2'].mean())\n",
    "    AR = (abs(T1_mean-T2_mean))/max(T1_mean, T2_mean)\n",
    "    return AR"
   ]
  },
  {
   "cell_type": "code",
   "execution_count": 109,
   "metadata": {
    "collapsed": true,
    "jupyter": {
     "outputs_hidden": true
    }
   },
   "outputs": [
    {
     "name": "stdout",
     "output_type": "stream",
     "text": [
      "311019_analysis_result_vk2b000.json\n",
      "171019_analysis_result_c1c000.json\n",
      "200121_analysis_result_vk2b000.json\n",
      "050320c8_analysis_result_8b000.json\n",
      "060121_analysis_result_vk12a000.json\n",
      "031019c4_analysis_result_c4c000.json\n",
      "171019_analysis_result_vk3b000.json\n",
      "180221_analysis_result_vk2b000.json\n",
      "200121_analysis_result_c3a000.json\n",
      "180221_analysis_result_d2d000.json\n",
      "071119c1sel_analysis_result_c1c002.json\n",
      "060121_analysis_result_vk2c001.json\n",
      "050320c6_analysis_result_6b001.json\n",
      "060320_analysis_result_vk3b001.json\n",
      "060320_analysis_result_vk2b001.json\n",
      "311019_analysis_result_dan3b000.json\n",
      "060121_analysis_result_c8d000.json\n",
      "200121_analysis_result_c1c000.json\n",
      "120121_analysis_result_5c000.json\n",
      "031019c3_analysis_result_c3d000.json\n",
      "060320c1_analysis_result_1b000.json\n",
      "060121_analysis_result_c3c000.json\n",
      "200121_analysis_result_c1b000.json\n",
      "050320c4_analysis_result_4c001.json\n",
      "060121_analysis_result_d5b000.json\n",
      "050320c3_analysis_result_3c001.json\n",
      "031019c4_analysis_result_c4d000.json\n",
      "031019c1_analysis_result_c1e000.json\n",
      "031019c3_analysis_result_c3c000.json\n",
      "060121_analysis_result_c9a001.json\n",
      "230819_analysis_result_D1b001.json\n",
      "060121_analysis_result_vk11b000.json\n",
      "171019_analysis_result_c1b000.json\n",
      "200121_analysis_result_vk1d000.json\n",
      "060121_analysis_result_c8b001.json\n",
      "230819_analysis_result_vk1c000.json\n",
      "120121_analysis_result_4a000.json\n",
      "060320_analysis_result_1c001.json\n",
      "180221_analysis_result_vk2c000.json\n",
      "060121_analysis_result_vk2a000.json\n",
      "200121_analysis_result_vk2a000.json\n",
      "171019_analysis_result_c6b000.json\n",
      "060121_analysis_result_vk11d000.json\n",
      "031019c3_analysis_result_c3b000.json\n",
      "180221_analysis_result_vk4d000.json\n",
      "031019c5_analysis_result_c5c000.json\n",
      "060320_analysis_result_vk3b000.json\n",
      "060121_analysis_result_vk12c001.json\n",
      "060121_analysis_result_d4a000.json\n",
      "120121_analysis_result_1b000.json\n",
      "230819_analysis_result_ctrol2b0.json\n",
      "060121_analysis_result_vk12d001.json\n",
      "200121_analysis_result_c2a000.json\n",
      "060121_analysis_result_c8d001.json\n",
      "170221_analysis_result_D3b000.json\n",
      "060320_analysis_result_d4b000.json\n",
      "120121_analysis_result_4c000.json\n",
      "171019_analysis_result_dan4b000.json\n",
      "120121_analysis_result_2c000.json\n",
      "200121_analysis_result_c1a000.json\n",
      "060121_analysis_result_vk11d001.json\n",
      "060320_analysis_result_d6c001.json\n",
      "050320c6_analysis_result_6c001.json\n",
      "060121_analysis_result_d4d000.json\n",
      "120121_analysis_result_3d000.json\n",
      "060320c1_analysis_result_1c000.json\n",
      "120121_analysis_result_5b000.json\n",
      "180221_analysis_result_d1b000.json\n",
      "060121_analysis_result_vk10c001.json\n",
      "060320_analysis_result_vk2b000.json\n",
      "171019_analysis_result_c6c000.json\n",
      "060320_analysis_result_d6c000.json\n",
      "060320_analysis_result_d6b001.json\n",
      "060320_analysis_result_vk2c001.json\n",
      "031019c4_analysis_result_c4e000.json\n",
      "180221_analysis_result_d1d000.json\n",
      "060121_analysis_result_c8a001.json\n",
      "180221_analysis_result_vk2d000.json\n",
      "060121_analysis_result_vk12b000.json\n",
      "060320_analysis_result_vk5b001.json\n",
      "060320_analysis_result_vk5c001.json\n",
      "060121_analysis_result_d4d001.json\n",
      "050320c8_analysis_result_8c000.json\n",
      "060121_analysis_result_d4b001.json\n",
      "060320_analysis_result_1c000.json\n",
      "060121_analysis_result_d7d000.json\n",
      "060121_analysis_result_c8c000.json\n",
      "060121_analysis_result_vk2d000.json\n",
      "060320_analysis_result_vk5b000.json\n",
      "200121_analysis_result_d2a000.json\n",
      "060121_analysis_result_vk11c000.json\n",
      "050320c5_analysis_result_5b001.json\n",
      "060121_analysis_result_c8b000.json\n",
      "060320_analysis_result_d4b001.json\n",
      "071119vk2_analysis_result_vk2d000.json\n",
      "060320_analysis_result_d4c001.json\n",
      "071119vk5_analysis_result_vk5d000.json\n",
      "120121_analysis_result_5a000.json\n",
      "060320_analysis_result_d6b000.json\n",
      "060121_analysis_result_vk11a001.json\n",
      "060121_analysis_result_vk11c001.json\n",
      "060121_analysis_result_vk2b000.json\n",
      "120121_analysis_result_1a000.json\n",
      "060121_analysis_result_d7c001.json\n",
      "031019c3_analysis_result_c3e000.json\n",
      "180221_analysis_result_d2a000.json\n",
      "071119dan3_analysis_result_dan3b000.json\n",
      "031019c1_analysis_result_c1d000.json\n",
      "120121_analysis_result_5d000.json\n",
      "230819_analysis_result_D1c001.json\n",
      "170221_analysis_result_D1b001.json\n",
      "200121_analysis_result_d1a000.json\n",
      "060320_analysis_result_1b000.json\n",
      "180221_analysis_result_vk3d000.json\n",
      "060121_analysis_result_d4a001.json\n",
      "060121_analysis_result_vk10b000.json\n",
      "060121_analysis_result_vk10d000.json\n",
      "230819_analysis_result_vk2c000.json\n",
      "050320c2_analysis_result_2b000.json\n",
      "060320_analysis_result_d7b001.json\n",
      "060121_analysis_result_c9a000.json\n",
      "050320c7_analysis_result_7c001.json\n",
      "031019c5_analysis_result_c5E000.json\n",
      "200121_analysis_result_d2b000.json\n",
      "170221_analysis_result_D2e000.json\n",
      "031019c2_analysis_result_c2c000.json\n",
      "120121_analysis_result_2b000.json\n",
      "050320c8_analysis_result_8d000.json\n",
      "060320_analysis_result_d7c000.json\n",
      "171019_analysis_result_dan7b000.json\n",
      "120121_analysis_result_1c000.json\n",
      "050320c7_analysis_result_7b001.json\n",
      "311019_analysis_result_c1b000.json\n",
      "060121_analysis_result_c3a001.json\n",
      "060121_analysis_result_d5a000.json\n",
      "180221_analysis_result_vk4c000.json\n",
      "170221_analysis_result_D2b000.json\n",
      "180221_analysis_result_vk4a000.json\n",
      "200121_analysis_result_vk1c000.json\n",
      "180221_analysis_result_vk3a000.json\n",
      "060121_analysis_result_c3c001.json\n",
      "311019_analysis_result_dan5c000.json\n",
      "060320_analysis_result_1b001.json\n",
      "060320_analysis_result_vk3c001.json\n",
      "060121_analysis_result_d7b000.json\n",
      "170221_analysis_result_D1c001.json\n",
      "311019_analysis_result_dan5b000.json\n",
      "060121_analysis_result_vk12c000.json\n",
      "060121_analysis_result_d7c000.json\n",
      "180221_analysis_result_d2c000.json\n",
      "180221_analysis_result_d2b000.json\n",
      "071119dan3_analysis_result_dan3c000.json\n",
      "060121_analysis_result_d7b001.json\n",
      "060121_analysis_result_c8c001.json\n",
      "060121_analysis_result_c8a000.json\n",
      "071119vk2_analysis_result_vk2b000.json\n",
      "060121_analysis_result_d7a001.json\n",
      "060320dan4_analysis_result_d4c000.json\n",
      "200121_analysis_result_d1d000.json\n",
      "311019_analysis_result_vk2c000.json\n",
      "050320c4_analysis_result_4b001.json\n",
      "060121_analysis_result_d5a001.json\n",
      "171019_analysis_result_dan4c000.json\n",
      "060121_analysis_result_c3d000.json\n",
      "200121_analysis_result_d4d000.json\n",
      "200121_analysis_result_vk1b000.json\n",
      "200121_analysis_result_c3b000.json\n",
      "031019c5_analysis_result_c5B000.json\n",
      "311019_analysis_result_c6c000.json\n",
      "060320_analysis_result_vk3c000.json\n",
      "031019c2_analysis_result_c2b000.json\n",
      "200121_analysis_result_d1c000.json\n",
      "200121_analysis_result_d3b000.json\n",
      "200121_analysis_result_vk3c000.json\n",
      "060121_analysis_result_c3a000.json\n",
      "060320_analysis_result_vk5c000.json\n",
      "120121_analysis_result_4d000.json\n",
      "060121_analysis_result_vk10a001.json\n",
      "060121_analysis_result_vk10c000.json\n",
      "060121_analysis_result_vk2b001.json\n",
      "060121_analysis_result_d4c000.json\n",
      "060121_analysis_result_d4b000.json\n",
      "071119dan4_analysis_result_dan4c000.json\n",
      "060121_analysis_result_vk10b001.json\n",
      "060320dan6_analysis_result_d6c001.json\n",
      "311019_analysis_result_c1c000.json\n",
      "031019c1_analysis_result_c1c000.json\n",
      "031019c4_analysis_result_c4b000.json\n",
      "031019c2_analysis_result_c2d000.json\n",
      "200121_analysis_result_d4b000.json\n",
      "180221_analysis_result_vk3b000.json\n",
      "060121_analysis_result_c9b000.json\n",
      "170221_analysis_result_D3a000.json\n",
      "031019c5_analysis_result_c5d000.json\n",
      "031019c2_analysis_result_c2e000.json\n",
      "230819Dan2_analysis_result_D2b000.json\n",
      "120121_analysis_result_2d000.json\n",
      "060121_analysis_result_vk11b001.json\n",
      "180221_analysis_result_d1c000.json\n",
      "060121_analysis_result_vk12b001.json\n",
      "180221_analysis_result_vk4b000.json\n",
      "311019_analysis_result_c6b000.json\n",
      "060320_analysis_result_vk2c000.json\n",
      "230819_analysis_result_ctrol2c0.json\n",
      "050320c5_analysis_result_5c001.json\n",
      "200121_analysis_result_c2c000.json\n",
      "120121_analysis_result_2a000.json\n",
      "060121_analysis_result_vk12a001.json\n",
      "060320_analysis_result_d7b000.json\n",
      "060121_analysis_result_d4c001.json\n",
      "060121_analysis_result_vk2d001.json\n",
      "060121_analysis_result_vk12d000.json\n",
      "200121_analysis_result_d3d000.json\n",
      "031019c1_analysis_result_c1b000.json\n",
      "171019_analysis_result_vk3c000.json\n",
      "200121_analysis_result_vk3b000.json\n",
      "050320c2_analysis_result_2c000.json\n",
      "170221_analysis_result_D2c000.json\n",
      "200121_analysis_result_c2b000.json\n",
      "120121_analysis_result_3a000.json\n",
      "200121_analysis_result_c2d000.json\n",
      "050320c1_analysis_result_1b000.json\n",
      "200121_analysis_result_d3c000.json\n",
      "170221_analysis_result_D2a000.json\n",
      "050320c1_analysis_result_1c000.json\n",
      "200121_analysis_result_d4a000.json\n",
      "120121_analysis_result_3b000.json\n",
      "060320_analysis_result_d4c000.json\n",
      "180221_analysis_result_vk2a000.json\n",
      "230819_analysis_result_vk2b000.json\n",
      "200121_analysis_result_d3a000.json\n",
      "071119c1sel_analysis_result_c1b002.json\n",
      "071119dan4_analysis_result_dan4b000.json\n",
      "311019_analysis_result_dan3c000.json\n",
      "200121_analysis_result_vk3a000.json\n",
      "060121_analysis_result_vk2c000.json\n",
      "230819Dan2_analysis_result_D2c000.json\n",
      "171019_analysis_result_dan7c000.json\n",
      "200121_analysis_result_vk1a000.json\n",
      "050320c3_analysis_result_3b001.json\n",
      "200121_analysis_result_d2d000.json\n",
      "060320dan4_analysis_result_d4b000.json\n",
      "170221_analysis_result_D1a001.json\n",
      "060121_analysis_result_d7a000.json\n",
      "200121_analysis_result_c1d000.json\n",
      "120121_analysis_result_1d000.json\n",
      "170221_analysis_result_D1d001.json\n",
      "200121_analysis_result_d1b000.json\n",
      "200121_analysis_result_d2ctif00.json\n",
      "311019_analysis_result_vk4b000.json\n",
      "060121_analysis_result_vk11a000.json\n",
      "060121_analysis_result_d5b001.json\n",
      "120121_analysis_result_3c000.json\n",
      "060121_analysis_result_d5d000.json\n",
      "120121_analysis_result_4b000.json\n",
      "060121_analysis_result_d7d001.json\n",
      "311019_analysis_result_vk4c000.json\n",
      "060121_analysis_result_c3d001.json\n",
      "071119vk5_analysis_result_vk5b000.json\n",
      "180221_analysis_result_d1a000.json\n",
      "200121_analysis_result_vk3d000.json\n",
      "060320dan6_analysis_result_d6b001.json\n",
      "230819_analysis_result_vk1b000.json\n",
      "180221_analysis_result_vk3c000.json\n",
      "200121_analysis_result_d4c000.json\n",
      "060121_analysis_result_vk2a001.json\n",
      "Done\n"
     ]
    }
   ],
   "source": [
    "import os\n",
    "\n",
    "DI_list = []\n",
    "path = '/media/leandro/Volumen1TB/Lean/Analizador_imagenes_calcio/Luis/analisis/json_nuevos/'\n",
    "jsons_list = os.listdir(path)\n",
    "file_error = []\n",
    "for file in jsons_list:\n",
    "    try:\n",
    "        path_file = path + file\n",
    "        dic = jasonReader(path_file)\n",
    "        print (file)\n",
    "        DI_list.append([file, discordance_index(dic).std().mean()])\n",
    "    except ValueError:\n",
    "        file_error.append(file)\n",
    "    except IsADirectoryError:\n",
    "        pass\n",
    "print('Done')"
   ]
  },
  {
   "cell_type": "code",
   "execution_count": 89,
   "metadata": {},
   "outputs": [],
   "source": [
    "file = []\n",
    "for index in range(0,len(DI_list)):\n",
    "    file.append([jsons_list[index], (DI_list[index]).std().mean()])"
   ]
  },
  {
   "cell_type": "code",
   "execution_count": 110,
   "metadata": {},
   "outputs": [],
   "source": [
    "import csv\n",
    "import pandas as pd    \n",
    "\n",
    "df = pd.DataFrame(DI_list, columns= ['photo_name','DI'])\n",
    "df.to_csv(path + 'discordances_indexes_nuevos.csv', sep='\\t')"
   ]
  },
  {
   "cell_type": "code",
   "execution_count": 111,
   "metadata": {},
   "outputs": [],
   "source": [
    "with open(path + 'Failed.txt', 'w') as file:\n",
    "    for item in file_error:\n",
    "        file.write(\"%s\\n\" % item)"
   ]
  },
  {
   "cell_type": "code",
   "execution_count": null,
   "metadata": {},
   "outputs": [],
   "source": [
    "arch_defectuosos = []\n",
    "for i in list_archs:\n",
    "    dic = jasonReader(i)\n",
    "    try:\n",
    "        slicesParser_max_peaksI(dic)\n",
    "    except:\n",
    "        arch_defectuosos.append(i)"
   ]
  },
  {
   "cell_type": "code",
   "execution_count": null,
   "metadata": {},
   "outputs": [],
   "source": [
    "arch_defectuosos"
   ]
  },
  {
   "cell_type": "code",
   "execution_count": 102,
   "metadata": {},
   "outputs": [
    {
     "name": "stdout",
     "output_type": "stream",
     "text": [
      "Done\n"
     ]
    }
   ],
   "source": [
    "import os\n",
    "\n",
    "AR_list = []\n",
    "path = '/media/leandro/Volumen1TB/Lean/Analizador_imagenes_calcio/Luis/analisis/json_nuevos/'\n",
    "jsons_list = os.listdir(path)\n",
    "for file in jsons_list:\n",
    "    try:\n",
    "        path_file = path + file\n",
    "        dic = jasonReader(path_file)\n",
    "        T1_mean = dic['image']['amplitudes'][0]\n",
    "        T2_mean = dic['image']['amplitudes'][1]\n",
    "        AR_list.append([file, (abs(T1_mean-T2_mean))/max(T1_mean, T2_mean)])\n",
    "    except IsADirectoryError:\n",
    "        pass\n",
    "print('Done')"
   ]
  },
  {
   "cell_type": "code",
   "execution_count": 103,
   "metadata": {},
   "outputs": [],
   "source": [
    "import csv\n",
    "import pandas as pd    \n",
    "\n",
    "df = pd.DataFrame(AR_list, columns= ['photo_name','AR'])\n",
    "df.to_csv(path + 'alternance_ratio_nuevos.csv', sep='\\t')"
   ]
  },
  {
   "cell_type": "code",
   "execution_count": 13,
   "metadata": {},
   "outputs": [],
   "source": [
    "disc_index = pd.read_csv('/media/leandro/Volumen1TB/Lean/Analizador_imagenes_calcio/Luis/analisis/json_nuevos/discordances_indexes_nuevos.csv', encoding='utf-8', sep='\\t')\n",
    "del disc_index['Unnamed: 0']"
   ]
  },
  {
   "cell_type": "code",
   "execution_count": 30,
   "metadata": {},
   "outputs": [
    {
     "data": {
      "text/html": [
       "<div>\n",
       "<style scoped>\n",
       "    .dataframe tbody tr th:only-of-type {\n",
       "        vertical-align: middle;\n",
       "    }\n",
       "\n",
       "    .dataframe tbody tr th {\n",
       "        vertical-align: top;\n",
       "    }\n",
       "\n",
       "    .dataframe thead th {\n",
       "        text-align: right;\n",
       "    }\n",
       "</style>\n",
       "<table border=\"1\" class=\"dataframe\">\n",
       "  <thead>\n",
       "    <tr style=\"text-align: right;\">\n",
       "      <th></th>\n",
       "      <th>photo_name</th>\n",
       "      <th>DI</th>\n",
       "      <th>tratamiento</th>\n",
       "      <th>frecuencia</th>\n",
       "    </tr>\n",
       "  </thead>\n",
       "  <tbody>\n",
       "    <tr>\n",
       "      <th>0</th>\n",
       "      <td>311019_analysis_result_vk2b000.json</td>\n",
       "      <td>0.090926</td>\n",
       "      <td>vk</td>\n",
       "      <td>3.0</td>\n",
       "    </tr>\n",
       "    <tr>\n",
       "      <th>1</th>\n",
       "      <td>171019_analysis_result_c1c000.json</td>\n",
       "      <td>0.125577</td>\n",
       "      <td>c</td>\n",
       "      <td>4.0</td>\n",
       "    </tr>\n",
       "    <tr>\n",
       "      <th>2</th>\n",
       "      <td>060121_analysis_result_vk12a000.json</td>\n",
       "      <td>NaN</td>\n",
       "      <td>vk</td>\n",
       "      <td>1.0</td>\n",
       "    </tr>\n",
       "    <tr>\n",
       "      <th>3</th>\n",
       "      <td>031019c4_analysis_result_c4c000.json</td>\n",
       "      <td>0.101607</td>\n",
       "      <td>c</td>\n",
       "      <td>3.0</td>\n",
       "    </tr>\n",
       "    <tr>\n",
       "      <th>4</th>\n",
       "      <td>171019_analysis_result_vk3b000.json</td>\n",
       "      <td>0.275692</td>\n",
       "      <td>vk</td>\n",
       "      <td>3.0</td>\n",
       "    </tr>\n",
       "  </tbody>\n",
       "</table>\n",
       "</div>"
      ],
      "text/plain": [
       "                             photo_name        DI tratamiento  frecuencia\n",
       "0   311019_analysis_result_vk2b000.json  0.090926          vk         3.0\n",
       "1    171019_analysis_result_c1c000.json  0.125577           c         4.0\n",
       "2  060121_analysis_result_vk12a000.json       NaN          vk         1.0\n",
       "3  031019c4_analysis_result_c4c000.json  0.101607           c         3.0\n",
       "4   171019_analysis_result_vk3b000.json  0.275692          vk         3.0"
      ]
     },
     "execution_count": 30,
     "metadata": {},
     "output_type": "execute_result"
    }
   ],
   "source": [
    "disc_index.head()"
   ]
  },
  {
   "cell_type": "code",
   "execution_count": 37,
   "metadata": {},
   "outputs": [],
   "source": [
    "from scipy.stats import ttest_ind, ttest_ind_from_stats\n",
    "c_1 = disc_index[(disc_index['tratamiento'] == 'c') & (disc_index['frecuencia'] == 1)]\n",
    "del c_1['tratamiento']\n",
    "del c_1['frecuencia']\n",
    "c_3 = disc_index[(disc_index['tratamiento'] == 'c') & (disc_index['frecuencia'] == 3)]\n",
    "del c_3['tratamiento']\n",
    "del c_3['frecuencia']\n",
    "c_4 = disc_index[(disc_index['tratamiento'] == 'c') & (disc_index['frecuencia'] == 4)]\n",
    "del c_4['tratamiento']\n",
    "del c_4['frecuencia']\n",
    "c_5 = disc_index[(disc_index['tratamiento'] == 'c') & (disc_index['frecuencia'] == 5)]\n",
    "del c_5['tratamiento']\n",
    "del c_5['frecuencia']\n",
    "\n",
    "\n",
    "df1 = pd.concat([c_1.reset_index(),c_3.reset_index(),c_4.reset_index(),c_5.reset_index()],axis =1, ignore_index=True, sort=False)\n",
    "df1.to_csv('/media/leandro/Volumen1TB/Lean/Analizador_imagenes_calcio/Luis/analisis/json_nuevos/DI_nuevos.csv', encoding='utf-8', sep='\\t')"
   ]
  },
  {
   "cell_type": "code",
   "execution_count": 98,
   "metadata": {},
   "outputs": [
    {
     "data": {
      "image/png": "[encoded data removed]",
      "text/plain": [
       "<Figure size 432x288 with 1 Axes>"
      ]
     },
     "metadata": {},
     "output_type": "display_data"
    }
   ],
   "source": [
    "DI = pd.read_csv('/media/leandro/Volumen1TB/Lean/Analizador_imagenes_calcio/Luis/analisis/json_nuevos/DI_nuevos.csv', encoding='utf-8', sep='\\t')\n",
    "DI.head()\n",
    "del DI['photo_name']\n",
    "\n",
    "from mpl_toolkits.axisartist.axislines import SubplotZero\n",
    "fig = plt.figure()\n",
    "ax = SubplotZero(fig, 111)\n",
    "fig.add_subplot(ax)\n",
    "\n",
    "# for direction in [\"xzero\", \"yzero\"]:\n",
    "#     # adds arrows at the ends of each axis\n",
    "#     ax.axis[direction].set_axisline_style(\"-|>\")\n",
    "\n",
    "#     # adds X and Y-axis from the origin\n",
    "#     ax.axis[direction].set_visible(False)\n",
    "\n",
    "for direction in [\"right\", \"top\"]:\n",
    "    # hides borders\n",
    "    ax.axis[direction].set_visible(False)\n",
    "    \n",
    "for row in range(0,len(DI)):\n",
    "    plt.plot(DI.loc[row],'o''-')\n",
    "    plt.box(on=None)\n",
    "plt.show()"
   ]
  },
  {
   "cell_type": "code",
   "execution_count": 71,
   "metadata": {},
   "outputs": [
    {
     "data": {
      "text/plain": [
       "0.0022028394667408533"
      ]
     },
     "execution_count": 71,
     "metadata": {},
     "output_type": "execute_result"
    }
   ],
   "source": [
    "from scipy.stats import ttest_ind, ttest_ind_from_stats\n",
    "c_1 = disc_index[(disc_index['tratamiento'] == 'c') & (disc_index['frecuencia'] == 1)]['DI']\n",
    "c_3 = disc_index[(disc_index['tratamiento'] == 'c') & (disc_index['frecuencia'] == 3)]['DI']\n",
    "c_4 = disc_index[(disc_index['tratamiento'] == 'c') & (disc_index['frecuencia'] == 4)]['DI']\n",
    "c_5 = disc_index[(disc_index['tratamiento'] == 'c') & (disc_index['frecuencia'] == 5)]['DI']\n",
    "\n",
    "\n",
    "df = pd.concat([c_1.reset_index()['DI'],c_3.reset_index()['DI'],c_4.reset_index()['DI'],c_5.reset_index()['DI']],axis =1, ignore_index=True, sort=False)\n",
    "\n"
   ]
  },
  {
   "cell_type": "code",
   "execution_count": 74,
   "metadata": {},
   "outputs": [
    {
     "data": {
      "text/plain": [
       "0.012976812650132176"
      ]
     },
     "execution_count": 74,
     "metadata": {},
     "output_type": "execute_result"
    }
   ],
   "source": [
    "DI = DI.interpolate(method ='linear', limit_direction ='forward')\n",
    "t, p = ttest_ind(DI['4'], DI['5'], equal_var=False)\n",
    "p"
   ]
  },
  {
   "cell_type": "code",
   "execution_count": 61,
   "metadata": {},
   "outputs": [
    {
     "data": {
      "text/plain": [
       "<AxesSubplot:>"
      ]
     },
     "execution_count": 61,
     "metadata": {},
     "output_type": "execute_result"
    },
    {
     "data": {
      "image/png": "[encoded data removed]",
      "text/plain": [
       "<Figure size 504x432 with 1 Axes>"
      ]
     },
     "metadata": {},
     "output_type": "display_data"
    }
   ],
   "source": [
    "import matplotlib.pyplot as plt\n",
    "import seaborn as sns\n",
    "\n",
    "sns.set(style=\"ticks\")\n",
    "\n",
    "# Initialize the figure with a logarithmic x axis\n",
    "f, ax = plt.subplots(figsize=(7, 6))\n",
    "\n",
    "\n",
    "sns.boxplot(data=DI)\n",
    "\n",
    "sns.swarmplot(data=DI, linewidth=2)\n",
    "# plt.savefig('AR')"
   ]
  },
  {
   "cell_type": "code",
   "execution_count": null,
   "metadata": {},
   "outputs": [],
   "source": [
    "plt.scatter()"
   ]
  },
  {
   "cell_type": "code",
   "execution_count": null,
   "metadata": {},
   "outputs": [],
   "source": [
    "import os\n",
    "\n",
    "tau_list = []\n",
    "path = 'C:/Users/Leand/OneDrive/Documentos/Lean/Analizador_imagenes_calcio/Luis/jsons/'\n",
    "jsons_list = os.listdir(path)\n",
    "for file in jsons_list:\n",
    "    path_file = path + file\n",
    "    dic = jasonReader(path_file)\n",
    "    taus = slicesParser_tau(dic)\n",
    "    tau_list.append(taus)\n",
    "print('Done')"
   ]
  },
  {
   "cell_type": "code",
   "execution_count": null,
   "metadata": {},
   "outputs": [],
   "source": [
    "tau_list[-1].mean().mean()"
   ]
  },
  {
   "cell_type": "code",
   "execution_count": null,
   "metadata": {},
   "outputs": [],
   "source": [
    "tau_list = []\n",
    "path = 'C:/Users/Leand/OneDrive/Documentos/Lean/Analizador_imagenes_calcio/Luis/jsons/'\n",
    "jsons_list = os.listdir(path)\n",
    "for file in jsons_list:\n",
    "    path_file = path + file\n",
    "    dic = jasonReader(path_file)\n",
    "    taus = dic['image']['tau_s']\n",
    "    tau_list.append([file,sum(taus)/len(taus),slicesParser_tau(dic).mean().mean()])"
   ]
  },
  {
   "cell_type": "code",
   "execution_count": null,
   "metadata": {},
   "outputs": [],
   "source": [
    "import csv\n",
    "import pandas as pd    \n",
    "\n",
    "df = pd.DataFrame(tau_list, columns= ['photo_name','tau_wc', 'tau_slices'])\n",
    "df.to_csv(path + 'tau.csv', sep='\\t')"
   ]
  },
  {
   "cell_type": "code",
   "execution_count": null,
   "metadata": {},
   "outputs": [],
   "source": [
    "import numpy as np\n",
    "from pandas import Series\n",
    "\n",
    "from lmfit import Model, Parameter, report_fit\n",
    "\n",
    "def decay(t, N, tau):\n",
    "    return N*np.exp(-t/tau)\n",
    "\n",
    "t = np.linspace(218, 244, num=26)\n",
    "data = [50, 50, 50, 50, 50, 50, 50, 49, 49, 49, 49, 49, 48, 48, 48, 48, 47, 47, 47, 46, 46, 46, 45, 45, 45, 45]\n",
    "\n",
    "model = Model(decay, independent_vars=['t'])\n",
    "result = model.fit(data, t=t, N=10, tau=150)\n",
    "result.plot()\n",
    "print(result.values)\n",
    "\n",
    "result = model.fit(data, t=t,\n",
    "                   N=Parameter('N', value=10),\n",
    "                   tau=Parameter('tau', value=1))\n",
    "report_fit(result.params)"
   ]
  },
  {
   "cell_type": "code",
   "execution_count": null,
   "metadata": {},
   "outputs": [],
   "source": []
  }
 ],
 "metadata": {
  "kernelspec": {
   "display_name": "Python 3",
   "language": "python",
   "name": "python3"
  },
  "language_info": {
   "codemirror_mode": {
    "name": "ipython",
    "version": 3
   },
   "file_extension": ".py",
   "mimetype": "text/x-python",
   "name": "python",
   "nbconvert_exporter": "python",
   "pygments_lexer": "ipython3",
   "version": "3.8.5"
  }
 },
 "nbformat": 4,
 "nbformat_minor": 4
}
