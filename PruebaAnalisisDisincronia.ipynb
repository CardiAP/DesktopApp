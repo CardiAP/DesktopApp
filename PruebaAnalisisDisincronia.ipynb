{
 "cells": [
  {
   "cell_type": "code",
   "execution_count": 256,
   "metadata": {},
   "outputs": [],
   "source": [
    "# En esta celda se puede probar la funcion de analisis de una imagen\n",
    "\n",
    "from lib.image import image_data\n",
    "from lib.analysis import dyssynchrony_analysis\n",
    "import cv2\n",
    "\n",
    "# Path completo donde esta la imagen (incluyendo nombre y extencion)\n",
    "path = 'C:/Users/Leand/OneDrive/Documentos/Lean/Analizador_imagenes_calcio/Luis/031019Sel/031019c3/'\n",
    "photo_name = 'c3f000'\n",
    "photo = photo_name + '.tif'\n",
    "# Ancho de la feta a analisar (es un parametro opcional)\n",
    "slice_width = 5\n",
    "\n",
    "# Distancia minima en pixeles entre picos\n",
    "min_dist_between_maxs = 33\n",
    "# Calibracion del tiempo de cada pixel\n",
    "calibration = 4.5\n",
    "\n",
    "image = cv2.imread(path + photo_name + '.tif')\n",
    "# Select ROI\n",
    "fromCenter = False\n",
    "showCrosshair = False\n",
    "seleted_parameters = cv2.selectROI(image, fromCenter, showCrosshair)\n",
    "\n",
    "# Crop image\n",
    "x_start = int(seleted_parameters[1])\n",
    "x_end = x_start + int(seleted_parameters[3])\n",
    "y_start = int(seleted_parameters[0])\n",
    "y_end = y_start + int(seleted_parameters[2])\n",
    "\n",
    "cv2.destroyAllWindows()\n",
    "\n",
    "image = image_data.get_image_data(image)\n",
    "image = image_data.crop_vertical(image, x_start, x_end)\n",
    "image = image_data.crop_horizontal(image, y_start, y_end)\n",
    "\n",
    "results = dyssynchrony_analysis.analyze_image(image, min_dist_between_maxs, calibration, slice_width=slice_width)"
   ]
  },
  {
   "cell_type": "code",
   "execution_count": 257,
   "metadata": {},
   "outputs": [],
   "source": [
    "jasonGenerator(path,results,photo_name)"
   ]
  },
  {
   "cell_type": "code",
   "execution_count": 258,
   "metadata": {
    "collapsed": true,
    "jupyter": {
     "outputs_hidden": true
    }
   },
   "outputs": [
    {
     "name": "stdout",
     "output_type": "stream",
     "text": [
      "[22, 69, 117]\n",
      "0 [20, 77, 114]\n",
      "1 [27, 69, 114]\n",
      "2 [28, 67, 115]\n",
      "3 [28, 69, 115]\n",
      "4 [27, 73, 115]\n",
      "5 [23, 70, 117]\n",
      "6 [21, 68, 116]\n",
      "7 [22, 68, 117]\n",
      "8 [22, 67, 119]\n",
      "9 [24, 63, 120]\n",
      "10 [24, 70, 120]\n",
      "11 [22, 67, 119]\n",
      "12 [19, 68, 118]\n",
      "13 [21, 68, 122]\n",
      "14 [21, 69, 128]\n",
      "15 [22, 69, 122]\n",
      "16 [21, 70, 119]\n",
      "17 [22, 75, 120]\n",
      "18 [21, 73, 113]\n",
      "19 [21, 73, 114]\n",
      "20 [20, 70, 114]\n",
      "21 [18, 70, 115]\n",
      "22 [19, 70, 118]\n",
      "23 [21, 69, 122]\n",
      "24 [27, 71, 123]\n",
      "25 [22, 69, 122]\n",
      "26 [23, 69, 119]\n",
      "27 [29, 68, 118]\n",
      "28 [21, 67, 119]\n",
      "29 [23, 69, 115]\n",
      "30 [19, 68, 115]\n"
     ]
    }
   ],
   "source": [
    "print(results['image']['max_peaks_positions'])\n",
    "for i in range(0,len(results['slices'])):\n",
    "    array = results['slices'][i]['max_peaks_positions']\n",
    "    print(i,array)"
   ]
  },
  {
   "cell_type": "code",
   "execution_count": null,
   "metadata": {},
   "outputs": [],
   "source": [
    "import matplotlib.pyplot as plt\n",
    "\n",
    "for i in range(0,len(results['slices'])):\n",
    "    array = results['slices'][i]['intensities']\n",
    "    plt.plot(array) # plotting by columns\n",
    "    plt.show()"
   ]
  },
  {
   "cell_type": "markdown",
   "metadata": {},
   "source": [
    "# PRUEBA ANALISIS "
   ]
  },
  {
   "cell_type": "code",
   "execution_count": null,
   "metadata": {},
   "outputs": [],
   "source": [
    "# En esta celda se puede probar la funcion de analisis todas las imagenes .tif en un directorio\n",
    "import os\n",
    "from lib.image import image_data\n",
    "from lib.analysis import dyssynchrony_analysis\n",
    "import cv2\n",
    "\n",
    "# Ancho de la feta a analisar (es un parametro opcional)\n",
    "slice_width = 5\n",
    "\n",
    "# Distancia minima en pixeles entre picos\n",
    "min_dist_between_maxs = 200\n",
    "\n",
    "# Calibracion del tiempo de cada pixel\n",
    "calibration = 3.1\n",
    "\n",
    "# Path donde estan las imagenes\n",
    "path = \"C:/Users/Leand/OneDrive/Documentos/Lean/Analizador_imagenes_calcio/1 Hz/\"\n",
    "\n",
    "images_paths = [ f'{path}/{file}' for file in os.listdir(path) if file.endswith(\".tif\") ]\n",
    "images = [ cv2.imread(image_path) for image_path in images_paths ]"
   ]
  },
  {
   "cell_type": "code",
   "execution_count": null,
   "metadata": {},
   "outputs": [],
   "source": [
    "fromCenter = False\n",
    "showCrosshair = False\n",
    "\n",
    "#Tomamos la primer imagen para seleccionar el recorte elegido el resto de las imagenes se van a recortar igual\n",
    "seleted_parameters = cv2.selectROI(images[0], fromCenter, showCrosshair)\n",
    "\n",
    "# Crop image\n",
    "x_start = int(seleted_parameters[1])\n",
    "x_end = x_start + int(seleted_parameters[3])\n",
    "y_start = int(seleted_parameters[0])\n",
    "y_end = y_start + int(seleted_parameters[2])\n",
    "\n",
    "cv2.destroyAllWindows()"
   ]
  },
  {
   "cell_type": "code",
   "execution_count": null,
   "metadata": {},
   "outputs": [],
   "source": [
    "images = [ image_data.get_image_data(image) for image in images ]\n",
    "images = [ image_data.crop_vertical(image, x_start, x_end) for image in images ]\n",
    "images = [ image_data.crop_horizontal(image, y_start, y_end) for image in images ]"
   ]
  },
  {
   "cell_type": "code",
   "execution_count": null,
   "metadata": {},
   "outputs": [],
   "source": [
    "results = [(dyssynchrony_analysis.analyze_image(image, min_dist_between_maxs, calibration, slice_width=5), print ('Done')) for image in images]"
   ]
  },
  {
   "cell_type": "markdown",
   "metadata": {},
   "source": [
    "# Analisis de datos\n",
    "Notas: \n",
    "- Image corresponde al análisis de toda la célula y slices corresponde a fetas de esa imagen\n",
    "- intensidades es el valor que resulta de comprimir (sumando) la matriz con las coordenadas de x,y,z de los pixeles \n",
    "- max_peaks_pos es la index de en la lista de intensidades \n",
    "- max_peaks_intensities el valor de intensidad que se corresponde con el pico en la posicion analoga de max_peaks_pos"
   ]
  },
  {
   "cell_type": "code",
   "execution_count": 1,
   "metadata": {},
   "outputs": [],
   "source": [
    "#Imports\n",
    "import json\n",
    "import numpy as np\n",
    "import pandas as pd"
   ]
  },
  {
   "cell_type": "code",
   "execution_count": 64,
   "metadata": {},
   "outputs": [],
   "source": [
    "#encodes a dictionary into a jason\n",
    "class NumpyEncoder(json.JSONEncoder):\n",
    "    \"\"\" Special json encoder for numpy types \"\"\"\n",
    "    def default(self, obj):\n",
    "        if isinstance(obj, np.integer):\n",
    "            return int(obj)\n",
    "        elif isinstance(obj, np.floating):\n",
    "            return float(obj)\n",
    "        elif isinstance(obj, np.ndarray):\n",
    "            return obj.tolist()\n",
    "        return json.JSONEncoder.default(self, obj)\n",
    "\n",
    "\n",
    "def jasonGenerator(path,results,photo_name):\n",
    "    \"\"\" Generates a .jason file in the path given folder from the a dictionary \"\"\"\n",
    "    with open(path + '/analysis_result_' + photo_name + '.json',\"w\") as miarch:\n",
    "        miarch.write(json.dumps(results, cls=NumpyEncoder))"
   ]
  },
  {
   "cell_type": "code",
   "execution_count": 85,
   "metadata": {},
   "outputs": [],
   "source": [
    "def jasonReader(path):\n",
    "    \"\"\" Reads the .jason generated with jasonGenartor the given path\"\"\"\n",
    "    with open(path,'r') as miarch:\n",
    "        loaded_dict = json.loads(miarch.read())\n",
    "    return loaded_dict"
   ]
  },
  {
   "cell_type": "code",
   "execution_count": 106,
   "metadata": {},
   "outputs": [],
   "source": [
    "def slicesParser_max_peaksI(dictres):\n",
    "#extract all the slices data\n",
    "    allSlices = dictres['slices']\n",
    "    #seting columns names\n",
    "    column_names = ['transient' + str(x) for x in range(0,len(allSlices[0]['max_peaks_intensities']))]    \n",
    "    #define a dataframe\n",
    "    df_sum = pd.DataFrame(columns=column_names)\n",
    "    for i in range(0,len(allSlices)):\n",
    "        df_sum.loc[i] = allSlices[i]['max_peaks_intensities'][0:] \n",
    "    return df_sum"
   ]
  },
  {
   "cell_type": "code",
   "execution_count": 91,
   "metadata": {},
   "outputs": [],
   "source": [
    "def slicesParser_halfpeakstime(dictres):\n",
    "    #extract all the slices data\n",
    "    allSlices = dictres['slices']\n",
    "    \n",
    "    #seting columns names\n",
    "    column_names = ['transient' + str(x+1) for x in range(0,len(allSlices[0]['times_to_half_peaks']))]\n",
    "    #define a dataframe\n",
    "    df_sum = pd.DataFrame(columns=column_names)\n",
    "    #populating the dataframe\n",
    "    for i in range(0,len(allSlices)):\n",
    "        df_sum.loc[i+1] = allSlices[i]['times_to_half_peaks']\n",
    "    return df_sum"
   ]
  },
  {
   "cell_type": "code",
   "execution_count": 110,
   "metadata": {},
   "outputs": [],
   "source": [
    "def slicesParser_amplitudes(dictres):\n",
    "    #extract all the slices data\n",
    "    allSlices = dictres['slices']\n",
    "    #seting columns names\n",
    "    column_names = ['transient' + str(x+1) for x in range(0,len(allSlices[0]['amplitudes']))]\n",
    "    #define a dataframe\n",
    "    df_sum = pd.DataFrame(columns=column_names)\n",
    "    #populating the dataframe\n",
    "    for i in range(0,len(allSlices)):\n",
    "        df_sum.loc[i+1] = allSlices[i]['amplitudes']\n",
    "\n",
    "    return df_sum"
   ]
  },
  {
   "cell_type": "code",
   "execution_count": 93,
   "metadata": {},
   "outputs": [],
   "source": [
    "def slicesParser_min_peaksI(dictres):\n",
    "    #extract all the slices data\n",
    "    allSlices = dictres['slices']\n",
    "    #seting columns names\n",
    "    column_names = ['transient' + str(x+1) for x in range(0,len(allSlices[0]['min_peaks_intensities']))]\n",
    "    #define a dataframe\n",
    "    df_sum = pd.DataFrame(columns=column_names)\n",
    "    #populating the dataframe\n",
    "    for i in range(0,len(allSlices)):\n",
    "        df_sum.loc[i+1] = allSlices[i]['min_peaks_intensities']\n",
    "\n",
    "    return df_sum"
   ]
  },
  {
   "cell_type": "code",
   "execution_count": 111,
   "metadata": {},
   "outputs": [],
   "source": [
    "def slicesParser_peaktime(dictres):\n",
    "    #extract all the slices data\n",
    "    allSlices = dictres['slices']\n",
    "\n",
    "    #seting columns names\n",
    "    column_names = ['transient' + str(x+1) for x in range(0,len(allSlices[0]['times_to_peaks']))]\n",
    "    #define a dataframe\n",
    "    df_sum = pd.DataFrame(columns=column_names)\n",
    "    #populating the dataframe\n",
    "    for i in range(0,len(allSlices)):\n",
    "        df_sum.loc[i+1] = allSlices[i]['times_to_peaks']\n",
    "\n",
    "    return df_sum"
   ]
  },
  {
   "cell_type": "code",
   "execution_count": 112,
   "metadata": {},
   "outputs": [],
   "source": [
    "def slicesParser_tau(dictres):\n",
    "    #extract all the slices data\n",
    "    allSlices = dictres['slices']\n",
    "    #seting columns names\n",
    "    column_names = ['transient' + str(x+1) for x in range(0,len(allSlices[0]['tau_s']))]\n",
    "    #define a dataframe\n",
    "    df_sum = pd.DataFrame(columns=column_names)\n",
    "    #populating the dataframe\n",
    "    for i in range(0,len(allSlices)):\n",
    "        df_sum.loc[i+1] = allSlices[i]['tau_s']\n",
    "\n",
    "    return df_sum"
   ]
  },
  {
   "cell_type": "code",
   "execution_count": 96,
   "metadata": {},
   "outputs": [],
   "source": [
    "def BasicStasts(df):\n",
    "    if df.empty == False:\n",
    "        return df.astype('int').describe()"
   ]
  },
  {
   "cell_type": "code",
   "execution_count": 97,
   "metadata": {},
   "outputs": [],
   "source": [
    "def amplitudes_ratio(df):\n",
    "    df_alt = pd.DataFrame()\n",
    "    for i in range(0,len(list(df))-1):\n",
    "        name = 'ratio' + str(i+1) +'-' + str(i)\n",
    "        df_alt[name] = df[list(df)[i+1]]/df[list(df)[i]]\n",
    "    return df_alt"
   ]
  },
  {
   "cell_type": "code",
   "execution_count": 74,
   "metadata": {},
   "outputs": [],
   "source": [
    "# path = '/home/leandro/Documentos/Analisis_de_imagenes/CardiAP/DesktopApp/photos_examples/'\n",
    "photo_name = 'c1d000'\n",
    "photo = photo_name + '.tif'"
   ]
  },
  {
   "cell_type": "code",
   "execution_count": null,
   "metadata": {},
   "outputs": [],
   "source": [
    "loaded_dict = jasonReader(path)"
   ]
  },
  {
   "cell_type": "code",
   "execution_count": null,
   "metadata": {},
   "outputs": [],
   "source": [
    "BasicStasts(slicesParser_max_peaksI(path))"
   ]
  },
  {
   "cell_type": "code",
   "execution_count": null,
   "metadata": {},
   "outputs": [],
   "source": [
    "amplitudes_ratio(slicesParser_amplitudes(path)).std()"
   ]
  },
  {
   "cell_type": "code",
   "execution_count": null,
   "metadata": {},
   "outputs": [],
   "source": [
    "amp_mean = slicesParser_amplitudes(path).mean()\n",
    "for i in range(0,len(amp_mean)-1):\n",
    "    AR_ind = (1- (amp_mean[i+1])/amp_mean[i])\n",
    "    print (AR_ind)"
   ]
  },
  {
   "cell_type": "code",
   "execution_count": 72,
   "metadata": {},
   "outputs": [
    {
     "name": "stdout",
     "output_type": "stream",
     "text": [
      "no possible callculation\n"
     ]
    }
   ],
   "source": [
    "slicesParser_min_peaksI(path).head(2)"
   ]
  },
  {
   "cell_type": "code",
   "execution_count": null,
   "metadata": {},
   "outputs": [],
   "source": [
    "slicesParser_tau(path).head()"
   ]
  },
  {
   "cell_type": "code",
   "execution_count": 12,
   "metadata": {},
   "outputs": [],
   "source": [
    "def discordance_index(path):\n",
    "    DIs = pd.DataFrame()\n",
    "    for j in range (1, len(slicesParser_amplitudes(path).columns)):\n",
    "        rel_diff = []\n",
    "        for i in range (0, len (slicesParser_amplitudes(path))):\n",
    "            T1 = list(slicesParser_amplitudes(path)['transient'+str(j)])[i]\n",
    "            T2 = list(slicesParser_amplitudes(path)['transient'+str(j+1)])[i]\n",
    "            rel_diff.append((T1-T2)/max(T1,T2))\n",
    "        DIs[j] = rel_diff\n",
    "    return DIs\n",
    "def alternance_ratio(path):\n",
    "    ARs = []\n",
    "    for j in range (1, len(slicesParser_amplitudes(path).columns)):\n",
    "        T1_mean = float(slicesParser_amplitudes(path)['transient'+str(j)].mean())\n",
    "        T2_mean = float(slicesParser_amplitudes(path)['transient'+str(j+1)].mean())\n",
    "        ARs.append((T1_mean-T2_mean)/T1_mean)\n",
    "    return ARs"
   ]
  },
  {
   "cell_type": "code",
   "execution_count": null,
   "metadata": {},
   "outputs": [],
   "source": [
    "AR_mean = sum(AR)/len(AR) "
   ]
  },
  {
   "cell_type": "code",
   "execution_count": 264,
   "metadata": {
    "collapsed": true,
    "jupyter": {
     "outputs_hidden": true
    }
   },
   "outputs": [
    {
     "name": "stdout",
     "output_type": "stream",
     "text": [
      "010719ctrol1_analysis_result_ctrol1a0.json\n",
      "010719ctrol1_analysis_result_ctrol1b0.json\n",
      "010719ctrol8_analysis_result_ctrol8a0.json\n",
      "010719ctrol8_analysis_result_ctrol8b0.json\n",
      "010719Dan2_analysis_result_dan2a000.json\n",
      "010719Dan2_analysis_result_dan2b000.json\n",
      "010719Dan6_analysis_result_dan6b000.json\n",
      "010719VK3_analysis_result_vk3a000.json\n",
      "010719VK3_analysis_result_vk3b002.json\n",
      "010719VK7_analysis_result_vk7b000.json\n",
      "010819c1_analysis_result_c1a000.json\n",
      "010819c1_analysis_result_c1b000.json\n",
      "010819c2_analysis_result_c2a000.json\n",
      "010819c2_analysis_result_c2b000.json\n",
      "010819c3_analysis_result_c3a000.json\n",
      "010819c3_analysis_result_c3b001.json\n",
      "010819c3_analysis_result_c3c000.json\n",
      "031019c1_analysis_result_c1b000.json\n",
      "031019c1_analysis_result_c1e000.json\n",
      "031019c2_analysis_result_c2b000.json\n",
      "031019c2_analysis_result_c2e000.json\n",
      "031019c2_analysis_result_c2f000.json\n",
      "031019c3_analysis_result_c3b000.json\n",
      "031019c3_analysis_result_c3e000.json\n",
      "031019c3_analysis_result_c3f000.json\n",
      "031019c4_analysis_result_c4b000.json\n",
      "031019c4_analysis_result_c4e000.json\n",
      "031019c5_analysis_result_c5B000.json\n",
      "031019c5_analysis_result_c5E000.json\n",
      "031019c5_analysis_result_c5f000.json\n",
      "050320c1_analysis_result.json\n",
      "050320c1_analysis_result_1a000.json\n",
      "050320c1_analysis_result_1d000.json\n",
      "050320c2_analysis_result.json\n",
      "050320c2_analysis_result_2a000.json\n",
      "050320c2_analysis_result_2d000.json\n",
      "050320c3_analysis_result_3a001.json\n",
      "050320c3_analysis_result_3d001.json\n",
      "050320c4_analysis_result_4a001.json\n",
      "050320c4_analysis_result_4d001.json\n",
      "050320c5_analysis_result_5a001.json\n",
      "050320c5_analysis_result_5d001.json\n",
      "050320c6_analysis_result_6a001.json\n",
      "050320c6_analysis_result_6d001.json\n",
      "050320c7_analysis_result_7a001.json\n",
      "050320c7_analysis_result_7d001.json\n",
      "050320c8_analysis_result_8b000.json\n",
      "050320c8_analysis_result_8e000.json\n",
      "060320c1_analysis_result_1a000.json\n",
      "060320c1_analysis_result_1d000.json\n",
      "060320dan4_analysis_result_d4a000.json\n",
      "060320dan4_analysis_result_d4d000.json\n",
      "060320dan6_analysis_result_d6a001.json\n",
      "060320dan6_analysis_result_d6d001.json\n",
      "060320dan7_analysis_result_d7a001.json\n",
      "060320dan7_analysis_result_d7d001.json\n",
      "060320vk2_analysis_result_vk2a001.json\n",
      "060320vk2_analysis_result_vk2d001.json\n",
      "060320vk3_analysis_result_vk3a001.json\n",
      "060320vk3_analysis_result_vk3d001.json\n",
      "060320vk5_analysis_result_vk5a000.json\n",
      "060320vk5_analysis_result_vk5d000.json\n",
      "070119Ctrol3_analysis_result_c3a001.json\n",
      "070119Ctrol3_analysis_result_c3b000.json\n",
      "070119Ctrol4_analysis_result_c4a000.json\n",
      "070119Ctrol4_analysis_result_c4b000.json\n",
      "070119Ctrol5_analysis_result_c5a001.json\n",
      "070119Ctrol5_analysis_result_c5b000.json\n",
      "070119Ctrol6_analysis_result_c6a000.json\n",
      "070119Ctrol6_analysis_result_c6b000.json\n",
      "070119Ctrol7_analysis_result_c7a000.json\n",
      "070119Ctrol7_analysis_result_c7b000.json\n",
      "121218SEL_analysis_result_1b000.json\n",
      "121218SEL_analysis_result_c1a000.json\n",
      "170719c1_analysis_result_c1a000.json\n",
      "170719c1_analysis_result_c1b000.json\n",
      "170719c5_analysis_result_c5a000.json\n",
      "170719c5_analysis_result_c5b000.json\n",
      "170719Dan3_analysis_result_dan3a000.json\n",
      "170719Dan3_analysis_result_dan3b000.json\n",
      "170719Dan6_analysis_result_dan6a000.json\n",
      "170719Dan6_analysis_result_dan6b000.json\n",
      "170719Dan8_analysis_result_dan8a000.json\n",
      "170719Dan8_analysis_result_dan8b000.json\n",
      "170719VK4_analysis_result_vk4a000.json\n",
      "170719VK4_analysis_result_vk4b000.json\n",
      "170719VK7_analysis_result_vk7a000.json\n",
      "170719VK7_analysis_result_vk7b000.json\n",
      "171019c1sel_analysis_result_c1a000.json\n",
      "171019c6sel_analysis_result_c6a000.json\n",
      "171019c6sel_analysis_result_c6d000.json\n",
      "171019dan4_analysis_result_dan4a000.json\n",
      "171019dan4_analysis_result_dan4d000.json\n",
      "171019dan7_analysis_result_dan7a000.json\n",
      "171019dan7_analysis_result_dan7d000.json\n",
      "171019vk3_analysis_result_vk3a000.json\n",
      "171019vk3_analysis_result_vk3e000.json\n",
      "220119c1_analysis_result_ctrol1a0.json\n",
      "220119c1_analysis_result_ctrol1b0.json\n",
      "220119VK1uM_analysis_result_vk2a000.json\n",
      "220119VK1uM_analysis_result_vk2b003.json\n",
      "230819c1_analysis_result_c1otra01.json\n",
      "230819c1_analysis_result_otra1hz1.json\n",
      "230819c2_analysis_result_ctrol2a0.json\n",
      "230819c2_analysis_result_ctrol2d0.json\n",
      "230819Dan1_analysis_result_D1a001.json\n",
      "230819Dan1_analysis_result_D1d001.json\n",
      "230819Dan2_analysis_result_D2a000.json\n",
      "230819Dan2_analysis_result_D2d000.json\n",
      "230819VK1_analysis_result_vk1a000.json\n",
      "230819VK1_analysis_result_vk1d000.json\n",
      "230819VK2_analysis_result_vk2a000.json\n",
      "230819VK2_analysis_result_vk2d000.json\n",
      "311019c1sel_analysis_result_c1a000.json\n",
      "311019c1sel_analysis_result_c1d000.json\n",
      "311019c6sel_analysis_result_c6a000.json\n",
      "311019c6sel_analysis_result_c6d000.json\n",
      "311019dan3_analysis_result_dan3a000.json\n",
      "311019dan3_analysis_result_dan3d000.json\n",
      "311019dan5_analysis_result_dan5a000.json\n",
      "311019dan5_analysis_result_dan5d000.json\n",
      "311019vk2_analysis_result_vk2a000.json\n",
      "311019vk2_analysis_result_vk2d000.json\n",
      "311019vk4_analysis_result_vk4a000.json\n",
      "311019vk4_analysis_result_vk4d000.json\n",
      "Done\n"
     ]
    }
   ],
   "source": [
    "DI_list = []\n",
    "import os\n",
    "import shutil\n",
    "path = 'C:/Users/Leand/OneDrive/Documentos/Lean/Analizador_imagenes_calcio/Luis/jsons/'\n",
    "jsons_list = os.listdir(path)\n",
    "for file in jsons_list:\n",
    "    path_file = path + file\n",
    "    dic = jasonReader(path_file)\n",
    "    print (file)\n",
    "    DI_list.append(discordance_index(dic))\n",
    "print('Done')"
   ]
  },
  {
   "cell_type": "code",
   "execution_count": 276,
   "metadata": {},
   "outputs": [],
   "source": [
    "file = []\n",
    "for index in range(0,len(DI_list)):\n",
    "    file.append([jsons_list[index], DI_list[index].std().mean()])"
   ]
  },
  {
   "cell_type": "code",
   "execution_count": 288,
   "metadata": {},
   "outputs": [],
   "source": [
    "import csv\n",
    "import pandas as pd    \n",
    "\n",
    "df = pd.DataFrame(file, columns= ['photo_name','DI'])\n",
    "df.to_csv(path + 'discordances_indexes.csv', sep='\\t')"
   ]
  },
  {
   "cell_type": "code",
   "execution_count": 81,
   "metadata": {},
   "outputs": [],
   "source": [
    "import os, glob\n",
    "import shutil\n",
    "path = 'C:/Users/Leand/OneDrive/Documentos/Lean/Analizador_imagenes_calcio/Luis/jsons/'"
   ]
  },
  {
   "cell_type": "code",
   "execution_count": 83,
   "metadata": {
    "collapsed": true,
    "jupyter": {
     "outputs_hidden": true
    }
   },
   "outputs": [
    {
     "data": {
      "text/plain": [
       "['C:/Users/Leand/OneDrive/Documentos/Lean/Analizador_imagenes_calcio/Luis/jsons\\\\010719ctrol1_analysis_result_ctrol1a0.json',\n",
       " 'C:/Users/Leand/OneDrive/Documentos/Lean/Analizador_imagenes_calcio/Luis/jsons\\\\010719ctrol1_analysis_result_ctrol1b0.json',\n",
       " 'C:/Users/Leand/OneDrive/Documentos/Lean/Analizador_imagenes_calcio/Luis/jsons\\\\010719ctrol8_analysis_result_ctrol8a0.json',\n",
       " 'C:/Users/Leand/OneDrive/Documentos/Lean/Analizador_imagenes_calcio/Luis/jsons\\\\010719ctrol8_analysis_result_ctrol8b0.json',\n",
       " 'C:/Users/Leand/OneDrive/Documentos/Lean/Analizador_imagenes_calcio/Luis/jsons\\\\010719Dan2_analysis_result_dan2a000.json',\n",
       " 'C:/Users/Leand/OneDrive/Documentos/Lean/Analizador_imagenes_calcio/Luis/jsons\\\\010719Dan2_analysis_result_dan2b000.json',\n",
       " 'C:/Users/Leand/OneDrive/Documentos/Lean/Analizador_imagenes_calcio/Luis/jsons\\\\010719Dan6_analysis_result_dan6b000.json',\n",
       " 'C:/Users/Leand/OneDrive/Documentos/Lean/Analizador_imagenes_calcio/Luis/jsons\\\\010719VK3_analysis_result_vk3a000.json',\n",
       " 'C:/Users/Leand/OneDrive/Documentos/Lean/Analizador_imagenes_calcio/Luis/jsons\\\\010719VK3_analysis_result_vk3b002.json',\n",
       " 'C:/Users/Leand/OneDrive/Documentos/Lean/Analizador_imagenes_calcio/Luis/jsons\\\\010719VK7_analysis_result_vk7b000.json',\n",
       " 'C:/Users/Leand/OneDrive/Documentos/Lean/Analizador_imagenes_calcio/Luis/jsons\\\\010819c1_analysis_result_c1a000.json',\n",
       " 'C:/Users/Leand/OneDrive/Documentos/Lean/Analizador_imagenes_calcio/Luis/jsons\\\\010819c1_analysis_result_c1b000.json',\n",
       " 'C:/Users/Leand/OneDrive/Documentos/Lean/Analizador_imagenes_calcio/Luis/jsons\\\\010819c2_analysis_result_c2a000.json',\n",
       " 'C:/Users/Leand/OneDrive/Documentos/Lean/Analizador_imagenes_calcio/Luis/jsons\\\\010819c2_analysis_result_c2b000.json',\n",
       " 'C:/Users/Leand/OneDrive/Documentos/Lean/Analizador_imagenes_calcio/Luis/jsons\\\\010819c3_analysis_result_c3a000.json',\n",
       " 'C:/Users/Leand/OneDrive/Documentos/Lean/Analizador_imagenes_calcio/Luis/jsons\\\\010819c3_analysis_result_c3b001.json',\n",
       " 'C:/Users/Leand/OneDrive/Documentos/Lean/Analizador_imagenes_calcio/Luis/jsons\\\\010819c3_analysis_result_c3c000.json',\n",
       " 'C:/Users/Leand/OneDrive/Documentos/Lean/Analizador_imagenes_calcio/Luis/jsons\\\\031019c1_analysis_result_c1b000.json',\n",
       " 'C:/Users/Leand/OneDrive/Documentos/Lean/Analizador_imagenes_calcio/Luis/jsons\\\\031019c1_analysis_result_c1e000.json',\n",
       " 'C:/Users/Leand/OneDrive/Documentos/Lean/Analizador_imagenes_calcio/Luis/jsons\\\\031019c2_analysis_result_c2b000.json',\n",
       " 'C:/Users/Leand/OneDrive/Documentos/Lean/Analizador_imagenes_calcio/Luis/jsons\\\\031019c2_analysis_result_c2e000.json',\n",
       " 'C:/Users/Leand/OneDrive/Documentos/Lean/Analizador_imagenes_calcio/Luis/jsons\\\\031019c2_analysis_result_c2f000.json',\n",
       " 'C:/Users/Leand/OneDrive/Documentos/Lean/Analizador_imagenes_calcio/Luis/jsons\\\\031019c3_analysis_result_c3b000.json',\n",
       " 'C:/Users/Leand/OneDrive/Documentos/Lean/Analizador_imagenes_calcio/Luis/jsons\\\\031019c3_analysis_result_c3e000.json',\n",
       " 'C:/Users/Leand/OneDrive/Documentos/Lean/Analizador_imagenes_calcio/Luis/jsons\\\\031019c3_analysis_result_c3f000.json',\n",
       " 'C:/Users/Leand/OneDrive/Documentos/Lean/Analizador_imagenes_calcio/Luis/jsons\\\\031019c4_analysis_result_c4b000.json',\n",
       " 'C:/Users/Leand/OneDrive/Documentos/Lean/Analizador_imagenes_calcio/Luis/jsons\\\\031019c4_analysis_result_c4e000.json',\n",
       " 'C:/Users/Leand/OneDrive/Documentos/Lean/Analizador_imagenes_calcio/Luis/jsons\\\\031019c5_analysis_result_c5B000.json',\n",
       " 'C:/Users/Leand/OneDrive/Documentos/Lean/Analizador_imagenes_calcio/Luis/jsons\\\\031019c5_analysis_result_c5E000.json',\n",
       " 'C:/Users/Leand/OneDrive/Documentos/Lean/Analizador_imagenes_calcio/Luis/jsons\\\\031019c5_analysis_result_c5f000.json',\n",
       " 'C:/Users/Leand/OneDrive/Documentos/Lean/Analizador_imagenes_calcio/Luis/jsons\\\\050320c1_analysis_result.json',\n",
       " 'C:/Users/Leand/OneDrive/Documentos/Lean/Analizador_imagenes_calcio/Luis/jsons\\\\050320c1_analysis_result_1a000.json',\n",
       " 'C:/Users/Leand/OneDrive/Documentos/Lean/Analizador_imagenes_calcio/Luis/jsons\\\\050320c1_analysis_result_1d000.json',\n",
       " 'C:/Users/Leand/OneDrive/Documentos/Lean/Analizador_imagenes_calcio/Luis/jsons\\\\050320c2_analysis_result.json',\n",
       " 'C:/Users/Leand/OneDrive/Documentos/Lean/Analizador_imagenes_calcio/Luis/jsons\\\\050320c2_analysis_result_2a000.json',\n",
       " 'C:/Users/Leand/OneDrive/Documentos/Lean/Analizador_imagenes_calcio/Luis/jsons\\\\050320c2_analysis_result_2d000.json',\n",
       " 'C:/Users/Leand/OneDrive/Documentos/Lean/Analizador_imagenes_calcio/Luis/jsons\\\\050320c3_analysis_result_3a001.json',\n",
       " 'C:/Users/Leand/OneDrive/Documentos/Lean/Analizador_imagenes_calcio/Luis/jsons\\\\050320c3_analysis_result_3d001.json',\n",
       " 'C:/Users/Leand/OneDrive/Documentos/Lean/Analizador_imagenes_calcio/Luis/jsons\\\\050320c4_analysis_result_4a001.json',\n",
       " 'C:/Users/Leand/OneDrive/Documentos/Lean/Analizador_imagenes_calcio/Luis/jsons\\\\050320c4_analysis_result_4d001.json',\n",
       " 'C:/Users/Leand/OneDrive/Documentos/Lean/Analizador_imagenes_calcio/Luis/jsons\\\\050320c5_analysis_result_5a001.json',\n",
       " 'C:/Users/Leand/OneDrive/Documentos/Lean/Analizador_imagenes_calcio/Luis/jsons\\\\050320c5_analysis_result_5d001.json',\n",
       " 'C:/Users/Leand/OneDrive/Documentos/Lean/Analizador_imagenes_calcio/Luis/jsons\\\\050320c6_analysis_result_6a001.json',\n",
       " 'C:/Users/Leand/OneDrive/Documentos/Lean/Analizador_imagenes_calcio/Luis/jsons\\\\050320c6_analysis_result_6d001.json',\n",
       " 'C:/Users/Leand/OneDrive/Documentos/Lean/Analizador_imagenes_calcio/Luis/jsons\\\\050320c7_analysis_result_7a001.json',\n",
       " 'C:/Users/Leand/OneDrive/Documentos/Lean/Analizador_imagenes_calcio/Luis/jsons\\\\050320c7_analysis_result_7d001.json',\n",
       " 'C:/Users/Leand/OneDrive/Documentos/Lean/Analizador_imagenes_calcio/Luis/jsons\\\\050320c8_analysis_result_8b000.json',\n",
       " 'C:/Users/Leand/OneDrive/Documentos/Lean/Analizador_imagenes_calcio/Luis/jsons\\\\050320c8_analysis_result_8e000.json',\n",
       " 'C:/Users/Leand/OneDrive/Documentos/Lean/Analizador_imagenes_calcio/Luis/jsons\\\\060320c1_analysis_result_1a000.json',\n",
       " 'C:/Users/Leand/OneDrive/Documentos/Lean/Analizador_imagenes_calcio/Luis/jsons\\\\060320c1_analysis_result_1d000.json',\n",
       " 'C:/Users/Leand/OneDrive/Documentos/Lean/Analizador_imagenes_calcio/Luis/jsons\\\\060320dan4_analysis_result_d4a000.json',\n",
       " 'C:/Users/Leand/OneDrive/Documentos/Lean/Analizador_imagenes_calcio/Luis/jsons\\\\060320dan4_analysis_result_d4d000.json',\n",
       " 'C:/Users/Leand/OneDrive/Documentos/Lean/Analizador_imagenes_calcio/Luis/jsons\\\\060320dan6_analysis_result_d6a001.json',\n",
       " 'C:/Users/Leand/OneDrive/Documentos/Lean/Analizador_imagenes_calcio/Luis/jsons\\\\060320dan6_analysis_result_d6d001.json',\n",
       " 'C:/Users/Leand/OneDrive/Documentos/Lean/Analizador_imagenes_calcio/Luis/jsons\\\\060320dan7_analysis_result_d7a001.json',\n",
       " 'C:/Users/Leand/OneDrive/Documentos/Lean/Analizador_imagenes_calcio/Luis/jsons\\\\060320dan7_analysis_result_d7d001.json',\n",
       " 'C:/Users/Leand/OneDrive/Documentos/Lean/Analizador_imagenes_calcio/Luis/jsons\\\\060320vk2_analysis_result_vk2a001.json',\n",
       " 'C:/Users/Leand/OneDrive/Documentos/Lean/Analizador_imagenes_calcio/Luis/jsons\\\\060320vk2_analysis_result_vk2d001.json',\n",
       " 'C:/Users/Leand/OneDrive/Documentos/Lean/Analizador_imagenes_calcio/Luis/jsons\\\\060320vk3_analysis_result_vk3a001.json',\n",
       " 'C:/Users/Leand/OneDrive/Documentos/Lean/Analizador_imagenes_calcio/Luis/jsons\\\\060320vk3_analysis_result_vk3d001.json',\n",
       " 'C:/Users/Leand/OneDrive/Documentos/Lean/Analizador_imagenes_calcio/Luis/jsons\\\\060320vk5_analysis_result_vk5a000.json',\n",
       " 'C:/Users/Leand/OneDrive/Documentos/Lean/Analizador_imagenes_calcio/Luis/jsons\\\\060320vk5_analysis_result_vk5d000.json',\n",
       " 'C:/Users/Leand/OneDrive/Documentos/Lean/Analizador_imagenes_calcio/Luis/jsons\\\\070119Ctrol3_analysis_result_c3a001.json',\n",
       " 'C:/Users/Leand/OneDrive/Documentos/Lean/Analizador_imagenes_calcio/Luis/jsons\\\\070119Ctrol3_analysis_result_c3b000.json',\n",
       " 'C:/Users/Leand/OneDrive/Documentos/Lean/Analizador_imagenes_calcio/Luis/jsons\\\\070119Ctrol4_analysis_result_c4a000.json',\n",
       " 'C:/Users/Leand/OneDrive/Documentos/Lean/Analizador_imagenes_calcio/Luis/jsons\\\\070119Ctrol4_analysis_result_c4b000.json',\n",
       " 'C:/Users/Leand/OneDrive/Documentos/Lean/Analizador_imagenes_calcio/Luis/jsons\\\\070119Ctrol5_analysis_result_c5a001.json',\n",
       " 'C:/Users/Leand/OneDrive/Documentos/Lean/Analizador_imagenes_calcio/Luis/jsons\\\\070119Ctrol5_analysis_result_c5b000.json',\n",
       " 'C:/Users/Leand/OneDrive/Documentos/Lean/Analizador_imagenes_calcio/Luis/jsons\\\\070119Ctrol6_analysis_result_c6a000.json',\n",
       " 'C:/Users/Leand/OneDrive/Documentos/Lean/Analizador_imagenes_calcio/Luis/jsons\\\\070119Ctrol6_analysis_result_c6b000.json',\n",
       " 'C:/Users/Leand/OneDrive/Documentos/Lean/Analizador_imagenes_calcio/Luis/jsons\\\\070119Ctrol7_analysis_result_c7a000.json',\n",
       " 'C:/Users/Leand/OneDrive/Documentos/Lean/Analizador_imagenes_calcio/Luis/jsons\\\\070119Ctrol7_analysis_result_c7b000.json',\n",
       " 'C:/Users/Leand/OneDrive/Documentos/Lean/Analizador_imagenes_calcio/Luis/jsons\\\\121218SEL_analysis_result_1b000.json',\n",
       " 'C:/Users/Leand/OneDrive/Documentos/Lean/Analizador_imagenes_calcio/Luis/jsons\\\\121218SEL_analysis_result_c1a000.json',\n",
       " 'C:/Users/Leand/OneDrive/Documentos/Lean/Analizador_imagenes_calcio/Luis/jsons\\\\170719c1_analysis_result_c1a000.json',\n",
       " 'C:/Users/Leand/OneDrive/Documentos/Lean/Analizador_imagenes_calcio/Luis/jsons\\\\170719c1_analysis_result_c1b000.json',\n",
       " 'C:/Users/Leand/OneDrive/Documentos/Lean/Analizador_imagenes_calcio/Luis/jsons\\\\170719c5_analysis_result_c5a000.json',\n",
       " 'C:/Users/Leand/OneDrive/Documentos/Lean/Analizador_imagenes_calcio/Luis/jsons\\\\170719c5_analysis_result_c5b000.json',\n",
       " 'C:/Users/Leand/OneDrive/Documentos/Lean/Analizador_imagenes_calcio/Luis/jsons\\\\170719Dan3_analysis_result_dan3a000.json',\n",
       " 'C:/Users/Leand/OneDrive/Documentos/Lean/Analizador_imagenes_calcio/Luis/jsons\\\\170719Dan3_analysis_result_dan3b000.json',\n",
       " 'C:/Users/Leand/OneDrive/Documentos/Lean/Analizador_imagenes_calcio/Luis/jsons\\\\170719Dan6_analysis_result_dan6a000.json',\n",
       " 'C:/Users/Leand/OneDrive/Documentos/Lean/Analizador_imagenes_calcio/Luis/jsons\\\\170719Dan6_analysis_result_dan6b000.json',\n",
       " 'C:/Users/Leand/OneDrive/Documentos/Lean/Analizador_imagenes_calcio/Luis/jsons\\\\170719Dan8_analysis_result_dan8a000.json',\n",
       " 'C:/Users/Leand/OneDrive/Documentos/Lean/Analizador_imagenes_calcio/Luis/jsons\\\\170719Dan8_analysis_result_dan8b000.json',\n",
       " 'C:/Users/Leand/OneDrive/Documentos/Lean/Analizador_imagenes_calcio/Luis/jsons\\\\170719VK4_analysis_result_vk4a000.json',\n",
       " 'C:/Users/Leand/OneDrive/Documentos/Lean/Analizador_imagenes_calcio/Luis/jsons\\\\170719VK4_analysis_result_vk4b000.json',\n",
       " 'C:/Users/Leand/OneDrive/Documentos/Lean/Analizador_imagenes_calcio/Luis/jsons\\\\170719VK7_analysis_result_vk7a000.json',\n",
       " 'C:/Users/Leand/OneDrive/Documentos/Lean/Analizador_imagenes_calcio/Luis/jsons\\\\170719VK7_analysis_result_vk7b000.json',\n",
       " 'C:/Users/Leand/OneDrive/Documentos/Lean/Analizador_imagenes_calcio/Luis/jsons\\\\171019c1sel_analysis_result_c1a000.json',\n",
       " 'C:/Users/Leand/OneDrive/Documentos/Lean/Analizador_imagenes_calcio/Luis/jsons\\\\171019c6sel_analysis_result_c6a000.json',\n",
       " 'C:/Users/Leand/OneDrive/Documentos/Lean/Analizador_imagenes_calcio/Luis/jsons\\\\171019c6sel_analysis_result_c6d000.json',\n",
       " 'C:/Users/Leand/OneDrive/Documentos/Lean/Analizador_imagenes_calcio/Luis/jsons\\\\171019dan4_analysis_result_dan4a000.json',\n",
       " 'C:/Users/Leand/OneDrive/Documentos/Lean/Analizador_imagenes_calcio/Luis/jsons\\\\171019dan4_analysis_result_dan4d000.json',\n",
       " 'C:/Users/Leand/OneDrive/Documentos/Lean/Analizador_imagenes_calcio/Luis/jsons\\\\171019dan7_analysis_result_dan7a000.json',\n",
       " 'C:/Users/Leand/OneDrive/Documentos/Lean/Analizador_imagenes_calcio/Luis/jsons\\\\171019dan7_analysis_result_dan7d000.json',\n",
       " 'C:/Users/Leand/OneDrive/Documentos/Lean/Analizador_imagenes_calcio/Luis/jsons\\\\171019vk3_analysis_result_vk3a000.json',\n",
       " 'C:/Users/Leand/OneDrive/Documentos/Lean/Analizador_imagenes_calcio/Luis/jsons\\\\171019vk3_analysis_result_vk3e000.json',\n",
       " 'C:/Users/Leand/OneDrive/Documentos/Lean/Analizador_imagenes_calcio/Luis/jsons\\\\220119c1_analysis_result_ctrol1a0.json',\n",
       " 'C:/Users/Leand/OneDrive/Documentos/Lean/Analizador_imagenes_calcio/Luis/jsons\\\\220119c1_analysis_result_ctrol1b0.json',\n",
       " 'C:/Users/Leand/OneDrive/Documentos/Lean/Analizador_imagenes_calcio/Luis/jsons\\\\220119VK1uM_analysis_result_vk2a000.json',\n",
       " 'C:/Users/Leand/OneDrive/Documentos/Lean/Analizador_imagenes_calcio/Luis/jsons\\\\220119VK1uM_analysis_result_vk2b003.json',\n",
       " 'C:/Users/Leand/OneDrive/Documentos/Lean/Analizador_imagenes_calcio/Luis/jsons\\\\230819c1_analysis_result_c1otra01.json',\n",
       " 'C:/Users/Leand/OneDrive/Documentos/Lean/Analizador_imagenes_calcio/Luis/jsons\\\\230819c1_analysis_result_otra1hz1.json',\n",
       " 'C:/Users/Leand/OneDrive/Documentos/Lean/Analizador_imagenes_calcio/Luis/jsons\\\\230819c2_analysis_result_ctrol2a0.json',\n",
       " 'C:/Users/Leand/OneDrive/Documentos/Lean/Analizador_imagenes_calcio/Luis/jsons\\\\230819c2_analysis_result_ctrol2d0.json',\n",
       " 'C:/Users/Leand/OneDrive/Documentos/Lean/Analizador_imagenes_calcio/Luis/jsons\\\\230819Dan1_analysis_result_D1a001.json',\n",
       " 'C:/Users/Leand/OneDrive/Documentos/Lean/Analizador_imagenes_calcio/Luis/jsons\\\\230819Dan1_analysis_result_D1d001.json',\n",
       " 'C:/Users/Leand/OneDrive/Documentos/Lean/Analizador_imagenes_calcio/Luis/jsons\\\\230819Dan2_analysis_result_D2a000.json',\n",
       " 'C:/Users/Leand/OneDrive/Documentos/Lean/Analizador_imagenes_calcio/Luis/jsons\\\\230819Dan2_analysis_result_D2d000.json',\n",
       " 'C:/Users/Leand/OneDrive/Documentos/Lean/Analizador_imagenes_calcio/Luis/jsons\\\\230819VK1_analysis_result_vk1a000.json',\n",
       " 'C:/Users/Leand/OneDrive/Documentos/Lean/Analizador_imagenes_calcio/Luis/jsons\\\\230819VK1_analysis_result_vk1d000.json',\n",
       " 'C:/Users/Leand/OneDrive/Documentos/Lean/Analizador_imagenes_calcio/Luis/jsons\\\\230819VK2_analysis_result_vk2a000.json',\n",
       " 'C:/Users/Leand/OneDrive/Documentos/Lean/Analizador_imagenes_calcio/Luis/jsons\\\\230819VK2_analysis_result_vk2d000.json',\n",
       " 'C:/Users/Leand/OneDrive/Documentos/Lean/Analizador_imagenes_calcio/Luis/jsons\\\\311019c1sel_analysis_result_c1a000.json',\n",
       " 'C:/Users/Leand/OneDrive/Documentos/Lean/Analizador_imagenes_calcio/Luis/jsons\\\\311019c1sel_analysis_result_c1d000.json',\n",
       " 'C:/Users/Leand/OneDrive/Documentos/Lean/Analizador_imagenes_calcio/Luis/jsons\\\\311019c6sel_analysis_result_c6a000.json',\n",
       " 'C:/Users/Leand/OneDrive/Documentos/Lean/Analizador_imagenes_calcio/Luis/jsons\\\\311019c6sel_analysis_result_c6d000.json',\n",
       " 'C:/Users/Leand/OneDrive/Documentos/Lean/Analizador_imagenes_calcio/Luis/jsons\\\\311019dan3_analysis_result_dan3a000.json',\n",
       " 'C:/Users/Leand/OneDrive/Documentos/Lean/Analizador_imagenes_calcio/Luis/jsons\\\\311019dan3_analysis_result_dan3d000.json',\n",
       " 'C:/Users/Leand/OneDrive/Documentos/Lean/Analizador_imagenes_calcio/Luis/jsons\\\\311019dan5_analysis_result_dan5a000.json',\n",
       " 'C:/Users/Leand/OneDrive/Documentos/Lean/Analizador_imagenes_calcio/Luis/jsons\\\\311019dan5_analysis_result_dan5d000.json',\n",
       " 'C:/Users/Leand/OneDrive/Documentos/Lean/Analizador_imagenes_calcio/Luis/jsons\\\\311019vk2_analysis_result_vk2a000.json',\n",
       " 'C:/Users/Leand/OneDrive/Documentos/Lean/Analizador_imagenes_calcio/Luis/jsons\\\\311019vk2_analysis_result_vk2d000.json',\n",
       " 'C:/Users/Leand/OneDrive/Documentos/Lean/Analizador_imagenes_calcio/Luis/jsons\\\\311019vk4_analysis_result_vk4a000.json',\n",
       " 'C:/Users/Leand/OneDrive/Documentos/Lean/Analizador_imagenes_calcio/Luis/jsons\\\\311019vk4_analysis_result_vk4d000.json']"
      ]
     },
     "execution_count": 83,
     "metadata": {},
     "output_type": "execute_result"
    }
   ],
   "source": [
    "list_archs = glob.glob(path + '*.json')\n",
    "list_archs"
   ]
  },
  {
   "cell_type": "code",
   "execution_count": 259,
   "metadata": {},
   "outputs": [],
   "source": [
    "arch_defectuosos = []\n",
    "for i in list_archs:\n",
    "    dic = jasonReader(i)\n",
    "    try:\n",
    "        slicesParser_max_peaksI(dic)\n",
    "    except:\n",
    "        arch_defectuosos.append(i)"
   ]
  },
  {
   "cell_type": "code",
   "execution_count": 260,
   "metadata": {},
   "outputs": [
    {
     "data": {
      "text/plain": [
       "[]"
      ]
     },
     "execution_count": 260,
     "metadata": {},
     "output_type": "execute_result"
    }
   ],
   "source": [
    "arch_defectuosos"
   ]
  },
  {
   "cell_type": "code",
   "execution_count": 80,
   "metadata": {},
   "outputs": [
    {
     "name": "stdout",
     "output_type": "stream",
     "text": [
      "no possible calculation\n"
     ]
    }
   ],
   "source": [
    "dictres = jasonReader(path_file)\n",
    "\n",
    "#extract all the slices data\n",
    "allSlices = dictres['slices']\n",
    "try:\n",
    "    #seting columns names\n",
    "    column_names = ['transient' + str(x) for x in range(0,len(allSlices[0]['max_peaks_intensities']))]    \n",
    "    #define a dataframe\n",
    "    df_sum = pd.DataFrame(columns=column_names)\n",
    "    for i in range(0,len(allSlices)):\n",
    "        df_sum.loc[i] = allSlices[i]['max_peaks_intensities'][0:] \n",
    "\n",
    "except:\n",
    "    print('no possible calculation')"
   ]
  },
  {
   "cell_type": "code",
   "execution_count": null,
   "metadata": {},
   "outputs": [],
   "source": []
  }
 ],
 "metadata": {
  "kernelspec": {
   "display_name": "Python 3",
   "language": "python",
   "name": "python3"
  },
  "language_info": {
   "codemirror_mode": {
    "name": "ipython",
    "version": 3
   },
   "file_extension": ".py",
   "mimetype": "text/x-python",
   "name": "python",
   "nbconvert_exporter": "python",
   "pygments_lexer": "ipython3",
   "version": "3.7.3"
  }
 },
 "nbformat": 4,
 "nbformat_minor": 4
}
