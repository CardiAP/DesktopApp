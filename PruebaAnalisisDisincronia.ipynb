{
 "cells": [
  {
   "cell_type": "code",
   "execution_count": 18,
   "metadata": {
    "collapsed": true,
    "jupyter": {
     "outputs_hidden": true
    }
   },
   "outputs": [
    {
     "name": "stdout",
     "output_type": "stream",
     "text": [
      "[ 4.06611645 -0.00536533]\n",
      "[ 4.20518934e+00 -3.96295315e-03]\n",
      "[ 4.35546303e+00 -3.90580540e-03]\n",
      "[ 4.74254023 -0.0049127 ]\n",
      "[ 4.99688114e+00 -4.89368030e-03]\n",
      "[ 5.07871319e+00 -4.44370801e-03]\n",
      "[ 4.00003127 -0.00722187]\n",
      "[ 4.04113611e+00 -3.23472697e-03]\n",
      "[ 4.00617943e+00 -2.85731219e-03]\n",
      "[ 4.85253511 -0.00618162]\n",
      "[ 5.518792   -0.00777055]\n",
      "[ 6.28118633 -0.00920406]\n",
      "[ 3.97902521 -0.00642245]\n",
      "[ 4.41031403 -0.00677925]\n",
      "[ 3.96223789e+00 -2.37423917e-03]\n",
      "[ 4.91977434 -0.00638604]\n",
      "[ 5.33269091 -0.00710476]\n",
      "[ 6.39308217 -0.00943686]\n",
      "[ 3.9222119 -0.0051993]\n",
      "[ 4.00757868e+00 -2.89621794e-03]\n",
      "[ 3.80760753e+00 -1.18070393e-03]\n",
      "[ 5.06377525 -0.0071782 ]\n",
      "[ 4.66221828e+00 -4.37032970e-03]\n",
      "[ 6.05118448 -0.00816055]\n",
      "[ 3.94520585 -0.00555423]\n",
      "[ 4.2754934  -0.00583046]\n",
      "[0.00022514 0.02881761]\n",
      "[ 5.10878393 -0.00741752]\n",
      "[ 4.28554277e+00 -2.69373956e-03]\n",
      "[ 5.5398786  -0.00628992]\n",
      "[ 3.99838043 -0.00584549]\n",
      "[ 4.3116646 -0.005848 ]\n",
      "[0.00025362 0.03068858]\n",
      "[ 4.90294854 -0.00611284]\n",
      "[ 3.76120012e+00 -1.77137272e-18]\n",
      "[ 5.03736994e+00 -4.40091927e-03]\n",
      "[ 4.12190894 -0.00777699]\n",
      "[ 4.42112665 -0.00650804]\n",
      "[3.76120012e+00 6.32676936e-16]\n",
      "[ 4.61464605e+00 -4.28929021e-03]\n",
      "[ 4.16652778e+00 -1.43374701e-03]\n",
      "[ 4.91532260e+00 -3.83966514e-03]\n",
      "[ 4.1569949  -0.00687612]\n",
      "[ 4.32841211 -0.00454692]\n",
      "[ 3.85014760e+00 -1.53791484e-16]\n",
      "[ 4.68163975e+00 -4.31578350e-03]\n",
      "[ 5.35630084 -0.00625117]\n",
      "[ 4.93322782e+00 -3.71940421e-03]\n",
      "[ 4.19426562 -0.00632427]\n",
      "[ 4.17631175e+00 -2.16511039e-03]\n",
      "[ 4.25304455e+00 -2.67919043e-03]\n",
      "[ 4.59588214e+00 -3.60170423e-03]\n",
      "[ 5.93758542 -0.00851167]\n",
      "[ 4.79640677e+00 -3.01245182e-03]\n",
      "[ 4.20783239 -0.00572039]\n",
      "[ 4.38710835e+00 -3.47827846e-03]\n",
      "[ 4.54884507e+00 -3.16012755e-03]\n",
      "[ 5.90596486 -0.00819631]\n",
      "[ 4.66590834e+00 -2.38101250e-03]\n",
      "[ 4.20504844 -0.00541028]\n",
      "[ 4.31691779e+00 -2.79736481e-03]\n",
      "[ 4.55224184e+00 -3.03362495e-03]\n",
      "[ 5.58991319 -0.00673636]\n",
      "[ 4.61776469e+00 -2.10497333e-03]\n",
      "[ 4.18031976 -0.00539873]\n",
      "[ 4.09975272e+00 -8.22737274e-04]\n",
      "[ 4.68267782 -0.00559516]\n",
      "[ 4.85776436e+00 -4.63525057e-03]\n",
      "[ 5.11613242e+00 -4.76469071e-03]\n",
      "[ 4.82908332e+00 -2.91545301e-03]\n",
      "[ 4.24581688 -0.00702891]\n",
      "[ 4.13714821e+00 -1.63438849e-03]\n",
      "[ 4.78555231 -0.00635761]\n",
      "[ 5.06642781 -0.00584053]\n",
      "[ 4.55159361e+00 -2.46355512e-03]\n",
      "[ 5.09871940e+00 -4.00997379e-03]\n",
      "[ 4.18736387 -0.00584366]\n",
      "[ 4.33807413 -0.00436238]\n",
      "[ 4.40637578e+00 -3.43848801e-03]\n",
      "[ 5.11241791 -0.00624995]\n",
      "[ 4.50656069e+00 -2.41311590e-03]\n",
      "[ 5.55457115 -0.00586506]\n",
      "[ 4.15178024 -0.0052039 ]\n",
      "[ 4.14878965e+00 -2.54929658e-03]\n",
      "[ 4.50805485e+00 -4.40768670e-03]\n",
      "[ 5.19119268 -0.00695312]\n",
      "[ 4.67198187e+00 -3.20897907e-03]\n",
      "[ 5.62983984 -0.00629226]\n",
      "[ 4.11733577 -0.00474671]\n",
      "[ 4.10313592e+00 -2.39534432e-03]\n",
      "[ 4.31646342e+00 -3.22312737e-03]\n",
      "[ 4.98158458 -0.0061867 ]\n",
      "[ 5.02385152e+00 -4.80422090e-03]\n",
      "[ 5.53022624 -0.00600479]\n",
      "[ 4.08927254e+00 -3.95890355e-03]\n",
      "[ 4.23544608e+00 -3.97475241e-03]\n",
      "[ 4.30991095e+00 -3.24811815e-03]\n",
      "[ 5.05024393 -0.00680749]\n",
      "[ 5.49020315 -0.00687972]\n",
      "[ 5.94209715 -0.00754456]\n",
      "[ 4.17210569 -0.00586843]\n",
      "[ 4.18672035e+00 -3.65480689e-03]\n",
      "[ 4.54732622 -0.00479562]\n",
      "[ 4.69415406 -0.00491255]\n",
      "[ 5.76447747 -0.00812014]\n",
      "[ 5.62320148 -0.00629312]\n",
      "[ 4.12640777 -0.0047887 ]\n",
      "[ 4.22731336 -0.0044236 ]\n",
      "[ 4.85727917 -0.00691439]\n",
      "[ 5.14031519 -0.00733341]\n",
      "[ 5.82043966 -0.00846279]\n",
      "[ 5.56390232 -0.00606656]\n",
      "[ 4.0805431  -0.00421828]\n",
      "[ 4.189995   -0.00437668]\n",
      "[ 5.00564215 -0.00810252]\n",
      "[ 4.53745308e+00 -4.10142189e-03]\n",
      "[ 6.05814918 -0.00961416]\n",
      "[ 4.93593873e+00 -3.81228264e-03]\n",
      "[ 4.02582536e+00 -3.54606630e-03]\n",
      "[ 4.16247968e+00 -4.06161957e-03]\n",
      "[ 4.88583494 -0.00750668]\n",
      "[ 4.81136543 -0.00557074]\n",
      "[ 5.86109071 -0.00881404]\n",
      "[ 4.83518283e+00 -3.52788246e-03]\n",
      "[ 4.03429622 -0.00427373]\n",
      "[ 4.20766683 -0.004216  ]\n",
      "[ 4.58897581 -0.00560612]\n",
      "[ 5.03095888 -0.00664033]\n",
      "[ 5.54149669 -0.00736666]\n",
      "[ 4.67479522e+00 -3.07168641e-03]\n",
      "[ 4.07616055 -0.0060963 ]\n",
      "[ 4.17786227e+00 -3.75499386e-03]\n",
      "[ 4.43982867 -0.00467551]\n",
      "[ 4.95918847 -0.00616403]\n",
      "[ 5.31424569 -0.0062624 ]\n",
      "[ 4.43859501e+00 -2.43045273e-03]\n",
      "[ 4.07770532 -0.00729197]\n",
      "[ 4.27254741 -0.00521645]\n",
      "[ 4.28295463e+00 -3.64300733e-03]\n",
      "[ 4.90952651 -0.0061008 ]\n",
      "[ 5.7295475  -0.00797395]\n",
      "[ 4.31541976e+00 -2.24109872e-03]\n",
      "[ 3.93481434 -0.00497118]\n",
      "[ 4.29767705 -0.00590014]\n",
      "[ 3.97515206e+00 -1.40376813e-03]\n",
      "[ 5.05103053 -0.00516243]\n",
      "[ 4.41586223e+00 -2.71262228e-03]\n",
      "[ 3.90132955 -0.00410142]\n",
      "[ 4.16089346e+00 -4.07373969e-03]\n",
      "[ 4.49843892 -0.00503628]\n",
      "[ 4.72919115 -0.0055038 ]\n",
      "[ 5.71692416 -0.00793255]\n",
      "[ 5.24542209 -0.00550281]\n",
      "[ 3.98237126 -0.00488996]\n",
      "[ 4.17497626e+00 -3.31324786e-03]\n",
      "[ 4.65946675 -0.00594437]\n",
      "[ 4.66342002 -0.00492984]\n",
      "[ 5.20246858 -0.00562651]\n",
      "[ 5.40886607 -0.00573362]\n",
      "[ 4.0532602  -0.00541482]\n",
      "[ 4.33067534e+00 -4.25657438e-03]\n",
      "[ 4.92524145 -0.0077621 ]\n",
      "[ 4.72447607 -0.00494464]\n",
      "[ 5.55508487 -0.0070699 ]\n",
      "[ 5.07485497e+00 -4.31202331e-03]\n",
      "[ 4.12935527 -0.00666281]\n",
      "[ 4.23300531e+00 -3.09070736e-03]\n",
      "[ 4.77395943 -0.00668786]\n",
      "[ 4.56968656e+00 -3.87926771e-03]\n",
      "[ 5.26904026 -0.00586162]\n",
      "[ 5.14590746e+00 -4.49489133e-03]\n"
     ]
    },
    {
     "name": "stderr",
     "output_type": "stream",
     "text": [
      "/home/leandro/.local/lib/python3.8/site-packages/numpy/core/_asarray.py:83: VisibleDeprecationWarning: Creating an ndarray from ragged nested sequences (which is a list-or-tuple of lists-or-tuples-or ndarrays with different lengths or shapes) is deprecated. If you meant to do this, you must specify 'dtype=object' when creating the ndarray\n",
      "  return array(a, dtype, copy=False, order=order)\n"
     ]
    },
    {
     "name": "stdout",
     "output_type": "stream",
     "text": [
      "[ 4.17061214 -0.00766027]\n",
      "[ 4.34621522 -0.00473447]\n",
      "[ 4.73967202 -0.00654306]\n",
      "[ 4.45128592e+00 -3.07532269e-03]\n",
      "[ 5.17809333 -0.00555742]\n",
      "[ 5.43802499 -0.00554734]\n",
      "[ 4.2173664  -0.00887222]\n",
      "[ 4.567912  -0.0076414]\n",
      "[ 4.79144782 -0.00694554]\n",
      "[ 4.74228832e+00 -4.37264354e-03]\n",
      "[ 4.94356733e+00 -4.59619594e-03]\n",
      "[ 6.04949242 -0.0076935 ]\n",
      "[ 4.11331105 -0.00596974]\n",
      "[ 4.54807607 -0.0080737 ]\n",
      "[ 4.56289518 -0.005275  ]\n",
      "[ 4.23897666e+00 -1.54372419e-03]\n",
      "[ 5.7505553  -0.00660535]\n",
      "[ 4.06715195 -0.00493902]\n",
      "[ 4.49906656 -0.00802832]\n",
      "[ 4.31922706e+00 -3.53040653e-03]\n",
      "[ 5.44950788 -0.00793264]\n",
      "[ 4.78487491e+00 -3.84208727e-03]\n",
      "[ 5.32527975e+00 -5.17365503e-03]\n",
      "[ 4.05559388 -0.00490669]\n",
      "[ 4.3559349  -0.00678595]\n",
      "[ 4.21137337e+00 -2.66496997e-03]\n",
      "[ 5.03015019 -0.00601527]\n",
      "[ 4.1569760e+00 -1.1354221e-03]\n",
      "[ 4.05375775 -0.00501271]\n",
      "[ 4.23074532 -0.00554433]\n",
      "[ 4.30072000e+00 -3.27089075e-03]\n",
      "[ 4.98307424 -0.00604521]\n",
      "[ 4.06887660e+00 -8.70518948e-04]\n",
      "[ 4.90371914e+00 -3.95758420e-03]\n",
      "[ 4.11535186 -0.00671316]\n",
      "[ 4.02007024e+00 -3.11764723e-03]\n",
      "[ 4.31259492e+00 -3.55302188e-03]\n",
      "[ 4.83516298 -0.00546069]\n",
      "[ 5.00706025e+00 -4.98700201e-03]\n",
      "[ 5.21529486 -0.00523327]\n",
      "[ 4.08854792 -0.00697789]\n",
      "[ 4.14972567 -0.0046256 ]\n",
      "[ 4.50542375 -0.00544348]\n",
      "[ 4.55284692e+00 -4.16213094e-03]\n",
      "[ 5.0210249  -0.00526399]\n",
      "[ 5.52339671 -0.00654777]\n",
      "[ 4.04077416 -0.0068875 ]\n",
      "[ 4.24210059 -0.0056709 ]\n",
      "[ 4.88169996 -0.00874544]\n",
      "[ 4.34514266e+00 -3.19943875e-03]\n",
      "[ 5.36708026 -0.00687097]\n",
      "[ 5.76904093 -0.0076341 ]\n",
      "[ 3.97391842 -0.00622116]\n",
      "[ 4.34246267 -0.00685145]\n",
      "[ 5.02940377 -0.00991078]\n",
      "[ 4.64197212 -0.00500389]\n",
      "[ 5.82664594 -0.00892601]\n",
      "[ 5.70259783 -0.0074457 ]\n",
      "[ 3.95212069 -0.00568942]\n",
      "[ 4.42221476 -0.00759054]\n",
      "[ 4.96135293 -0.00929816]\n",
      "[ 4.84836172 -0.00613971]\n",
      "[ 5.62445297 -0.00802863]\n",
      "[ 5.7549932  -0.00757066]\n"
     ]
    }
   ],
   "source": [
    "# En esta celda se puede probar la funcion de analisis de una imagen\n",
    "\n",
    "from lib.image import image_data\n",
    "from lib.analysis import dyssynchrony_analysis\n",
    "import cv2\n",
    "\n",
    "# Path completo donde esta la imagen (incluyendo nombre y extencion)\n",
    "path = './photos_examples/'\n",
    "photo_name = 'c3f000'\n",
    "photo = photo_name + '.tif'\n",
    "# Ancho de la feta a analisar (es un parametro opcional)\n",
    "slice_width = 5\n",
    "\n",
    "# Distancia minima en pixeles entre picos\n",
    "min_dist_between_maxs = 35\n",
    "# Calibracion del tiempo de cada pixel\n",
    "calibration = 1\n",
    "\n",
    "image = cv2.imread(path + photo_name + '.tif')\n",
    "# Select ROI\n",
    "fromCenter = False\n",
    "showCrosshair = False\n",
    "seleted_parameters = cv2.selectROI(image, fromCenter, showCrosshair)\n",
    "\n",
    "# Crop image\n",
    "x_start = int(seleted_parameters[1])\n",
    "x_end = x_start + int(seleted_parameters[3])\n",
    "y_start = int(seleted_parameters[0])\n",
    "y_end = y_start + int(seleted_parameters[2])\n",
    "\n",
    "cv2.destroyAllWindows()\n",
    "\n",
    "image = image_data.get_image_data(image)\n",
    "image = image_data.crop_vertical(image, x_start, x_end)\n",
    "image = image_data.crop_horizontal(image, y_start, y_end)\n",
    "\n",
    "results = dyssynchrony_analysis.analyze_image(image, min_dist_between_maxs, calibration, slice_width=slice_width)"
   ]
  },
  {
   "cell_type": "code",
   "execution_count": 19,
   "metadata": {},
   "outputs": [],
   "source": [
    "jasonGenerator(path,results,photo_name)"
   ]
  },
  {
   "cell_type": "code",
   "execution_count": null,
   "metadata": {},
   "outputs": [],
   "source": [
    "dic = jasonReader(path + 'analysis_result_' + photo_name + '.json')\n",
    "slicesParser_amplitudes(dic)"
   ]
  },
  {
   "cell_type": "code",
   "execution_count": null,
   "metadata": {},
   "outputs": [],
   "source": [
    "print(results['image']['max_peaks_positions'])\n",
    "for i in range(0,len(results['slices'])):\n",
    "    array = results['slices'][i]['max_peaks_positions']\n",
    "    print(i,array)"
   ]
  },
  {
   "cell_type": "code",
   "execution_count": null,
   "metadata": {},
   "outputs": [],
   "source": [
    "import matplotlib.pyplot as plt\n",
    "\n",
    "for i in range(0,len(results['slices'])):\n",
    "    array = results['slices'][i]['intensities']\n",
    "    plt.plot(array) # plotting by columns\n",
    "    plt.show()"
   ]
  },
  {
   "cell_type": "markdown",
   "metadata": {},
   "source": [
    "# PRUEBA ANALISIS "
   ]
  },
  {
   "cell_type": "code",
   "execution_count": null,
   "metadata": {},
   "outputs": [],
   "source": [
    "# En esta celda se puede probar la funcion de analisis todas las imagenes .tif en un directorio\n",
    "import os\n",
    "from lib.image import image_data\n",
    "from lib.analysis import dyssynchrony_analysis\n",
    "import cv2\n",
    "\n",
    "# Ancho de la feta a analisar (es un parametro opcional)\n",
    "slice_width = 5\n",
    "\n",
    "# Distancia minima en pixeles entre picos\n",
    "min_dist_between_maxs = 200\n",
    "\n",
    "# Calibracion del tiempo de cada pixel\n",
    "calibration = 3.1\n",
    "\n",
    "# Path donde estan las imagenes\n",
    "path = \"C:/Users/Leand/OneDrive/Documentos/Lean/Analizador_imagenes_calcio/1 Hz/\"\n",
    "\n",
    "images_paths = [ f'{path}/{file}' for file in os.listdir(path) if file.endswith(\".tif\") ]\n",
    "images = [ cv2.imread(image_path) for image_path in images_paths ]"
   ]
  },
  {
   "cell_type": "code",
   "execution_count": null,
   "metadata": {},
   "outputs": [],
   "source": [
    "fromCenter = False\n",
    "showCrosshair = False\n",
    "\n",
    "#Tomamos la primer imagen para seleccionar el recorte elegido el resto de las imagenes se van a recortar igual\n",
    "seleted_parameters = cv2.selectROI(images[0], fromCenter, showCrosshair)\n",
    "\n",
    "# Crop image\n",
    "x_start = int(seleted_parameters[1])\n",
    "x_end = x_start + int(seleted_parameters[3])\n",
    "y_start = int(seleted_parameters[0])\n",
    "y_end = y_start + int(seleted_parameters[2])\n",
    "\n",
    "cv2.destroyAllWindows()"
   ]
  },
  {
   "cell_type": "code",
   "execution_count": null,
   "metadata": {},
   "outputs": [],
   "source": [
    "images = [ image_data.get_image_data(image) for image in images ]\n",
    "images = [ image_data.crop_vertical(image, x_start, x_end) for image in images ]\n",
    "images = [ image_data.crop_horizontal(image, y_start, y_end) for image in images ]"
   ]
  },
  {
   "cell_type": "code",
   "execution_count": null,
   "metadata": {},
   "outputs": [],
   "source": [
    "results = [(dyssynchrony_analysis.analyze_image(image, min_dist_between_maxs, calibration, slice_width=5), print ('Done')) for image in images]"
   ]
  },
  {
   "cell_type": "markdown",
   "metadata": {},
   "source": [
    "# Analisis de datos\n",
    "Notas: \n",
    "- Image corresponde al análisis de toda la célula y slices corresponde a fetas de esa imagen\n",
    "- intensidades es el valor que resulta de comprimir (sumando) la matriz con las coordenadas de x,y,z de los pixeles \n",
    "- max_peaks_pos es la index de en la lista de intensidades \n",
    "- max_peaks_intensities el valor de intensidad que se corresponde con el pico en la posicion analoga de max_peaks_pos"
   ]
  },
  {
   "cell_type": "code",
   "execution_count": 6,
   "metadata": {},
   "outputs": [],
   "source": [
    "#Imports\n",
    "import json\n",
    "import numpy as np\n",
    "import pandas as pd"
   ]
  },
  {
   "cell_type": "code",
   "execution_count": 7,
   "metadata": {},
   "outputs": [],
   "source": [
    "#encodes a dictionary into a jason\n",
    "class NumpyEncoder(json.JSONEncoder):\n",
    "    \"\"\" Special json encoder for numpy types \"\"\"\n",
    "    def default(self, obj):\n",
    "        if isinstance(obj, np.integer):\n",
    "            return int(obj)\n",
    "        elif isinstance(obj, np.floating):\n",
    "            return float(obj)\n",
    "        elif isinstance(obj, np.ndarray):\n",
    "            return obj.tolist()\n",
    "        return json.JSONEncoder.default(self, obj)\n",
    "\n",
    "\n",
    "def jasonGenerator(path,results,photo_name):\n",
    "    \"\"\" Generates a .jason file in the path given folder from the a dictionary \"\"\"\n",
    "    with open(path + '/analysis_result_' + photo_name + '.json',\"w\") as miarch:\n",
    "        miarch.write(json.dumps(results, cls=NumpyEncoder))"
   ]
  },
  {
   "cell_type": "code",
   "execution_count": 8,
   "metadata": {},
   "outputs": [],
   "source": [
    "def jasonReader(path):\n",
    "    \"\"\" Reads the .jason generated with jasonGenartor the given path\"\"\"\n",
    "    with open(path,'r') as miarch:\n",
    "        loaded_dict = json.loads(miarch.read())\n",
    "    return loaded_dict"
   ]
  },
  {
   "cell_type": "code",
   "execution_count": 9,
   "metadata": {},
   "outputs": [],
   "source": [
    "def slicesParser_max_peaksI(dictres):\n",
    "#extract all the slices data\n",
    "    allSlices = dictres['slices']\n",
    "    #seting columns names\n",
    "    column_names = ['transient' + str(x) for x in range(0,len(allSlices[0]['max_peaks_intensities']))]    \n",
    "    #define a dataframe\n",
    "    df_sum = pd.DataFrame(columns=column_names)\n",
    "    for i in range(0,len(allSlices)):\n",
    "        df_sum.loc[i] = allSlices[i]['max_peaks_intensities'][0:] \n",
    "    return df_sum"
   ]
  },
  {
   "cell_type": "code",
   "execution_count": 10,
   "metadata": {},
   "outputs": [],
   "source": [
    "def slicesParser_halfpeakstime(dictres):\n",
    "    #extract all the slices data\n",
    "    allSlices = dictres['slices']\n",
    "    \n",
    "    #seting columns names\n",
    "    column_names = ['transient' + str(x+1) for x in range(0,len(allSlices[0]['times_to_half_peaks']))]\n",
    "    #define a dataframe\n",
    "    df_sum = pd.DataFrame(columns=column_names)\n",
    "    #populating the dataframe\n",
    "    for i in range(0,len(allSlices)):\n",
    "        df_sum.loc[i+1] = allSlices[i]['times_to_half_peaks']\n",
    "    return df_sum"
   ]
  },
  {
   "cell_type": "code",
   "execution_count": 11,
   "metadata": {},
   "outputs": [],
   "source": [
    "def slicesParser_amplitudes(dictres):\n",
    "    #extract all the slices data\n",
    "    allSlices = dictres['slices']\n",
    "    #seting columns names\n",
    "    column_names = ['transient' + str(x+1) for x in range(0,len(allSlices[0]['amplitudes']))]\n",
    "    #define a dataframe\n",
    "    df_sum = pd.DataFrame(columns=column_names)\n",
    "    #populating the dataframe\n",
    "    for i in range(0,len(allSlices)):\n",
    "        df_sum.loc[i+1] = allSlices[i]['amplitudes']\n",
    "\n",
    "    return df_sum"
   ]
  },
  {
   "cell_type": "code",
   "execution_count": 12,
   "metadata": {},
   "outputs": [],
   "source": [
    "def slicesParser_min_peaksI(dictres):\n",
    "    #extract all the slices data\n",
    "    allSlices = dictres['slices']\n",
    "    #seting columns names\n",
    "    column_names = ['transient' + str(x+1) for x in range(0,len(allSlices[0]['min_peaks_intensities']))]\n",
    "    #define a dataframe\n",
    "    df_sum = pd.DataFrame(columns=column_names)\n",
    "    #populating the dataframe\n",
    "    for i in range(0,len(allSlices)):\n",
    "        df_sum.loc[i+1] = allSlices[i]['min_peaks_intensities']\n",
    "\n",
    "    return df_sum"
   ]
  },
  {
   "cell_type": "code",
   "execution_count": 13,
   "metadata": {},
   "outputs": [],
   "source": [
    "def slicesParser_peaktime(dictres):\n",
    "    #extract all the slices data\n",
    "    allSlices = dictres['slices']\n",
    "\n",
    "    #seting columns names\n",
    "    column_names = ['transient' + str(x+1) for x in range(0,len(allSlices[0]['times_to_peaks']))]\n",
    "    #define a dataframe\n",
    "    df_sum = pd.DataFrame(columns=column_names)\n",
    "    #populating the dataframe\n",
    "    for i in range(0,len(allSlices)):\n",
    "        df_sum.loc[i+1] = allSlices[i]['times_to_peaks']\n",
    "\n",
    "    return df_sum"
   ]
  },
  {
   "cell_type": "code",
   "execution_count": 14,
   "metadata": {},
   "outputs": [],
   "source": [
    "def slicesParser_tau(dictres):\n",
    "    #extract all the slices data\n",
    "    allSlices = dictres['slices']\n",
    "    #seting columns names\n",
    "    column_names = ['transient' + str(x+1) for x in range(0,len(allSlices[0]['tau_s']))]\n",
    "    #define a dataframe\n",
    "    df_sum = pd.DataFrame(columns=column_names)\n",
    "    #populating the dataframe\n",
    "    for i in range(0,len(allSlices)):\n",
    "        df_sum.loc[i+1] = allSlices[i]['tau_s']\n",
    "\n",
    "    return df_sum"
   ]
  },
  {
   "cell_type": "code",
   "execution_count": 15,
   "metadata": {},
   "outputs": [],
   "source": [
    "def BasicStasts(df):\n",
    "    if df.empty == False:\n",
    "        return df.astype('int').describe()"
   ]
  },
  {
   "cell_type": "code",
   "execution_count": 16,
   "metadata": {},
   "outputs": [],
   "source": [
    "def amplitudes_ratio(df):\n",
    "    df_alt = pd.DataFrame()\n",
    "    for i in range(0,len(list(df))-1):\n",
    "        name = 'ratio' + str(i+1) +'-' + str(i)\n",
    "        df_alt[name] = df[list(df)[i+1]]/df[list(df)[i]]\n",
    "    return df_alt"
   ]
  },
  {
   "cell_type": "code",
   "execution_count": null,
   "metadata": {},
   "outputs": [],
   "source": [
    "# path = '/home/leandro/Documentos/Analisis_de_imagenes/CardiAP/DesktopApp/photos_examples/'\n",
    "photo_name = 'c1d000'\n",
    "photo = photo_name + '.tif'"
   ]
  },
  {
   "cell_type": "code",
   "execution_count": null,
   "metadata": {},
   "outputs": [],
   "source": [
    "loaded_dict = jasonReader(path)"
   ]
  },
  {
   "cell_type": "code",
   "execution_count": null,
   "metadata": {},
   "outputs": [],
   "source": [
    "BasicStasts(slicesParser_max_peaksI(path))"
   ]
  },
  {
   "cell_type": "code",
   "execution_count": null,
   "metadata": {},
   "outputs": [],
   "source": [
    "amplitudes_ratio(slicesParser_amplitudes(path)).std()"
   ]
  },
  {
   "cell_type": "code",
   "execution_count": null,
   "metadata": {},
   "outputs": [],
   "source": [
    "amp_mean = slicesParser_amplitudes(path).mean()\n",
    "for i in range(0,len(amp_mean)-1):\n",
    "    AR_ind = (1- (amp_mean[i+1])/amp_mean[i])\n",
    "    print (AR_ind)"
   ]
  },
  {
   "cell_type": "code",
   "execution_count": null,
   "metadata": {},
   "outputs": [],
   "source": [
    "slicesParser_min_peaksI(path).head(2)"
   ]
  },
  {
   "cell_type": "code",
   "execution_count": null,
   "metadata": {},
   "outputs": [],
   "source": [
    "slicesParser_tau(path).head()"
   ]
  },
  {
   "cell_type": "code",
   "execution_count": null,
   "metadata": {},
   "outputs": [],
   "source": [
    "def discordance_index(path):\n",
    "    DIs = pd.DataFrame()\n",
    "    for j in range (1, len(slicesParser_amplitudes(path).columns)):\n",
    "        rel_diff = []\n",
    "        for i in range (0, len (slicesParser_amplitudes(path))):\n",
    "            T1 = list(slicesParser_amplitudes(path)['transient'+str(j)])[i]\n",
    "            T2 = list(slicesParser_amplitudes(path)['transient'+str(j+1)])[i]\n",
    "            rel_diff.append((T1-T2)/max(T1,T2))\n",
    "        DIs[j] = rel_diff\n",
    "    return DIs\n",
    "def alternance_ratio(path):\n",
    "    T1_mean = float(slicesParser_amplitudes(path)['transient1'].mean())\n",
    "    T2_mean = float(slicesParser_amplitudes(path)['transient2'].mean())\n",
    "    AR = (abs(T1_mean-T2_mean))/max(T1_mean, T2_mean)\n",
    "    return AR"
   ]
  },
  {
   "cell_type": "code",
   "execution_count": null,
   "metadata": {},
   "outputs": [],
   "source": [
    "import os\n",
    "\n",
    "DI_list = []\n",
    "path = 'C:/Users/Leand/OneDrive/Documentos/Lean/Analizador_imagenes_calcio/Luis/jsons/'\n",
    "jsons_list = os.listdir(path)\n",
    "for file in jsons_list:\n",
    "    path_file = path + file\n",
    "    dic = jasonReader(path_file)\n",
    "    print (file)\n",
    "    DI_list.append(discordance_index(dic))\n",
    "print('Done')"
   ]
  },
  {
   "cell_type": "code",
   "execution_count": null,
   "metadata": {},
   "outputs": [],
   "source": [
    "file = []\n",
    "for index in range(0,len(DI_list)):\n",
    "    file.append([jsons_list[index], (DI_list[index]).std().mean()])"
   ]
  },
  {
   "cell_type": "code",
   "execution_count": null,
   "metadata": {},
   "outputs": [],
   "source": [
    "import csv\n",
    "import pandas as pd    \n",
    "\n",
    "df = pd.DataFrame(file, columns= ['photo_name','DI'])\n",
    "df.to_csv(path + 'discordances_indexes.csv', sep='\\t')"
   ]
  },
  {
   "cell_type": "code",
   "execution_count": null,
   "metadata": {},
   "outputs": [],
   "source": [
    "arch_defectuosos = []\n",
    "for i in list_archs:\n",
    "    dic = jasonReader(i)\n",
    "    try:\n",
    "        slicesParser_max_peaksI(dic)\n",
    "    except:\n",
    "        arch_defectuosos.append(i)"
   ]
  },
  {
   "cell_type": "code",
   "execution_count": null,
   "metadata": {},
   "outputs": [],
   "source": [
    "arch_defectuosos"
   ]
  },
  {
   "cell_type": "code",
   "execution_count": null,
   "metadata": {},
   "outputs": [],
   "source": [
    "import os\n",
    "\n",
    "AR_list = []\n",
    "path = 'C:/Users/Leand/OneDrive/Documentos/Lean/Analizador_imagenes_calcio/Luis/jsons/'\n",
    "jsons_list = os.listdir(path)\n",
    "for file in jsons_list:\n",
    "    path_file = path + file\n",
    "    dic = jasonReader(path_file)\n",
    "    T1_mean = dic['image']['amplitudes'][0]\n",
    "    T2_mean = dic['image']['amplitudes'][1]\n",
    "    AR_list.append([file, (abs(T1_mean-T2_mean))/max(T1_mean, T2_mean)])\n",
    "print('Done')"
   ]
  },
  {
   "cell_type": "code",
   "execution_count": null,
   "metadata": {},
   "outputs": [],
   "source": [
    "import csv\n",
    "import pandas as pd    \n",
    "\n",
    "df = pd.DataFrame(AR_list, columns= ['photo_name','AR'])\n",
    "df.to_csv(path + 'alternance_ratio.csv', sep='\\t')"
   ]
  },
  {
   "cell_type": "code",
   "execution_count": null,
   "metadata": {},
   "outputs": [],
   "source": [
    "disc_index = pd.read_csv('C:/Users/Leand/OneDrive/Documentos/Lean/Analizador_imagenes_calcio/Luis/discordances_indexes.csv', encoding='utf-8', sep='\\t')"
   ]
  },
  {
   "cell_type": "code",
   "execution_count": null,
   "metadata": {},
   "outputs": [],
   "source": [
    "from scipy.stats import ttest_ind, ttest_ind_from_stats\n",
    "t, p = ttest_ind(DI_5hz_C['DI'], DI_5hz_D['DI'], equal_var=False)\n",
    "p"
   ]
  },
  {
   "cell_type": "code",
   "execution_count": null,
   "metadata": {},
   "outputs": [],
   "source": [
    "import os\n",
    "\n",
    "tau_list = []\n",
    "path = 'C:/Users/Leand/OneDrive/Documentos/Lean/Analizador_imagenes_calcio/Luis/jsons/'\n",
    "jsons_list = os.listdir(path)\n",
    "for file in jsons_list:\n",
    "    path_file = path + file\n",
    "    dic = jasonReader(path_file)\n",
    "    taus = slicesParser_tau(dic)\n",
    "    tau_list.append(taus)\n",
    "print('Done')"
   ]
  },
  {
   "cell_type": "code",
   "execution_count": null,
   "metadata": {},
   "outputs": [],
   "source": [
    "tau_list[-1].mean().mean()"
   ]
  },
  {
   "cell_type": "code",
   "execution_count": null,
   "metadata": {},
   "outputs": [],
   "source": [
    "tau_list = []\n",
    "path = 'C:/Users/Leand/OneDrive/Documentos/Lean/Analizador_imagenes_calcio/Luis/jsons/'\n",
    "jsons_list = os.listdir(path)\n",
    "for file in jsons_list:\n",
    "    path_file = path + file\n",
    "    dic = jasonReader(path_file)\n",
    "    taus = dic['image']['tau_s']\n",
    "    tau_list.append([file,sum(taus)/len(taus),slicesParser_tau(dic).mean().mean()])"
   ]
  },
  {
   "cell_type": "code",
   "execution_count": null,
   "metadata": {},
   "outputs": [],
   "source": [
    "import csv\n",
    "import pandas as pd    \n",
    "\n",
    "df = pd.DataFrame(tau_list, columns= ['photo_name','tau_wc', 'tau_slices'])\n",
    "df.to_csv(path + 'tau.csv', sep='\\t')"
   ]
  },
  {
   "cell_type": "code",
   "execution_count": 30,
   "metadata": {},
   "outputs": [
    {
     "name": "stdout",
     "output_type": "stream",
     "text": [
      "{'N': 140.28018054265752, 'tau': 214.94389392143512}\n",
      "[[Variables]]\n",
      "    N:    10.0000000 (init = 10)\n",
      "    tau:  1.00000000 (init = 1)\n"
     ]
    },
    {
     "data": {
      "image/png": "[encoded data removed]",
      "text/plain": [
       "<Figure size 432x432 with 2 Axes>"
      ]
     },
     "metadata": {
      "needs_background": "light"
     },
     "output_type": "display_data"
    }
   ],
   "source": [
    "import numpy as np\n",
    "from pandas import Series\n",
    "\n",
    "from lmfit import Model, Parameter, report_fit\n",
    "\n",
    "def decay(t, N, tau):\n",
    "    return N*np.exp(-t/tau)\n",
    "\n",
    "t = np.linspace(218, 244, num=26)\n",
    "data = [50, 50, 50, 50, 50, 50, 50, 49, 49, 49, 49, 49, 48, 48, 48, 48, 47, 47, 47, 46, 46, 46, 45, 45, 45, 45]\n",
    "\n",
    "model = Model(decay, independent_vars=['t'])\n",
    "result = model.fit(data, t=t, N=10, tau=150)\n",
    "result.plot()\n",
    "print(result.values)\n",
    "\n",
    "result = model.fit(data, t=t,\n",
    "                   N=Parameter('N', value=10),\n",
    "                   tau=Parameter('tau', value=1))\n",
    "report_fit(result.params)"
   ]
  },
  {
   "cell_type": "code",
   "execution_count": null,
   "metadata": {},
   "outputs": [],
   "source": []
  }
 ],
 "metadata": {
  "kernelspec": {
   "display_name": "Python 3",
   "language": "python",
   "name": "python3"
  },
  "language_info": {
   "codemirror_mode": {
    "name": "ipython",
    "version": 3
   },
   "file_extension": ".py",
   "mimetype": "text/x-python",
   "name": "python",
   "nbconvert_exporter": "python",
   "pygments_lexer": "ipython3",
   "version": "3.7.3"
  }
 },
 "nbformat": 4,
 "nbformat_minor": 4
}
