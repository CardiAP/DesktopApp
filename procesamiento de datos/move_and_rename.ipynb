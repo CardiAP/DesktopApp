{
 "cells": [
  {
   "cell_type": "code",
   "execution_count": 39,
   "metadata": {},
   "outputs": [],
   "source": [
    "import os\n",
    "import shutil\n",
    "\n",
    "path = '/media/leandro/Volumen1TB/Lean/Analizador_imagenes_calcio/Luis/analisis/json_nuevos/'\n",
    "dirlist = [ item for item in os.listdir(path) if os.path.isdir(os.path.join(path, item)) ]\n",
    "for folders in dirlist:\n",
    "    print(folders)\n",
    "    folder_list = os.listdir(path + folders + '/')\n",
    "    for folder in folder_list:\n",
    "        if 'json' in folder:\n",
    "            shutil.move(path + folders + '/' + folder, path + folders+ '_' + folder)\n",
    "        else:\n",
    "            json_list = os.listdir(path + folders + '/' + folder + '/')\n",
    "            json_list = [x.split('.')[0] for x in json_list if 'json' in x]\n",
    "            for item in json_list:\n",
    "                shutil.move(path + folders + '/' + folder + '/' + item + '.json', path + folder + '_'+ item + '.json')"
   ]
  },
  {
   "cell_type": "code",
   "execution_count": 40,
   "metadata": {},
   "outputs": [],
   "source": [
    "import os\n",
    "import shutil\n",
    "\n",
    "path = '/media/leandro/Volumen1TB/Lean/Analizador_imagenes_calcio/Luis/analisis/json_nuevos/'\n",
    "dirlist = [ item for item in os.listdir(path) if os.path.isdir(os.path.join(path, item)) ]\n",
    "for folders in dirlist:\n",
    "    folder_list = os.listdir(path + folders + '/')\n",
    "    for folder in folder_list:\n",
    "        subfolder_list = os.listdir(path + folders + '/' + folder + '/')\n",
    "        for subfolder in subfolder_list:\n",
    "            if '.' not in subfolder:\n",
    "                json_list = os.listdir(path + folders + '/' + folder + '/' + subfolder + '/')\n",
    "                json_list = [x.split('.')[0] for x in json_list if 'json' in x]\n",
    "                for item in json_list:\n",
    "                    shutil.move(path + folders + '/' + folder + '/' + subfolder + '/' + item + '.json', path + folder + '_'+ subfolder + '_'+ item + '.json')"
   ]
  },
  {
   "cell_type": "code",
   "execution_count": 43,
   "metadata": {},
   "outputs": [
    {
     "name": "stdout",
     "output_type": "stream",
     "text": [
      "031019Sel\n",
      "180221\n",
      "120121\n",
      "121218SEL\n",
      "071119SEL\n",
      "todas\n",
      "170221\n",
      "170719SEL\n",
      "050320sel\n",
      "010719SEL\n",
      "060320sel\n",
      "060121\n",
      "311019sel\n",
      "200121\n",
      "220119sel\n",
      "060320\n",
      "230819sel\n",
      "010819Sel\n",
      "171019sel\n",
      "070119Sel\n"
     ]
    }
   ],
   "source": [
    "import os\n",
    "import shutil\n",
    "\n",
    "path2 = '/media/leandro/Volumen1TB/Lean/Analizador_imagenes_calcio/Luis/analisis/json_nuevos/'\n",
    "path = '/media/leandro/Volumen1TB/Lean/Analizador_imagenes_calcio/Luis/imagenes/'\n",
    "dirlist = [ item for item in os.listdir(path) if os.path.isdir(os.path.join(path, item)) ]\n",
    "for folders in dirlist:\n",
    "    try:\n",
    "        print(folders)\n",
    "        folder_list = os.listdir(path + folders + '/')\n",
    "        for folder in folder_list:\n",
    "            if 'json' in folder:\n",
    "                shutil.move(path + folders + '/' + folder, path + folders+ '_' + folder)\n",
    "            else:\n",
    "                json_list = os.listdir(path + folders + '/' + folder + '/')\n",
    "                json_list = [x.split('.')[0] for x in json_list if 'json' in x]\n",
    "                for item in json_list:\n",
    "                    shutil.move(path + folders + '/' + folder + '/' + item + '.json', path2 + folder + '_'+ item + '.json')\n",
    "    except NotADirectoryError:\n",
    "        pass"
   ]
  },
  {
   "cell_type": "code",
   "execution_count": null,
   "metadata": {},
   "outputs": [],
   "source": []
  }
 ],
 "metadata": {
  "kernelspec": {
   "display_name": "Python 3",
   "language": "python",
   "name": "python3"
  },
  "language_info": {
   "codemirror_mode": {
    "name": "ipython",
    "version": 3
   },
   "file_extension": ".py",
   "mimetype": "text/x-python",
   "name": "python",
   "nbconvert_exporter": "python",
   "pygments_lexer": "ipython3",
   "version": "3.8.5"
  }
 },
 "nbformat": 4,
 "nbformat_minor": 4
}
