{
 "cells": [
  {
   "cell_type": "code",
   "execution_count": 1,
   "metadata": {},
   "outputs": [],
   "source": [
    "#Imports\n",
    "import json\n",
    "import numpy as np\n",
    "import pandas as pd\n",
    "import csv\n",
    "import scipy.stats\n",
    "import matplotlib.pyplot as plt\n",
    "import seaborn as sns\n",
    "import os\n",
    "from peakutils import indexes"
   ]
  },
  {
   "cell_type": "code",
   "execution_count": 2,
   "metadata": {},
   "outputs": [],
   "source": [
    "def jasonReader(path):\n",
    "    \"\"\" Reads the .jason generated with jasonGenartor the given path\"\"\"\n",
    "    with open(path,'r') as miarch:\n",
    "        loaded_dict = json.loads(miarch.read())\n",
    "    return loaded_dict"
   ]
  },
  {
   "cell_type": "code",
   "execution_count": 3,
   "metadata": {},
   "outputs": [],
   "source": [
    "def slicesParser_tau(dictres):\n",
    "    #extract all the slices data\n",
    "    allSlices = dictres['slices']\n",
    "    #seting columns names\n",
    "    column_names = ['transient' + str(x+1) for x in range(0,len(allSlices[0]['tau_s']))]\n",
    "    #define a dataframe\n",
    "    df_sum = pd.DataFrame(columns=column_names)\n",
    "    #populating the dataframe\n",
    "    for i in range(0,len(allSlices)):\n",
    "        df_sum.loc[i+1] = allSlices[i]['tau_s']\n",
    "\n",
    "    return df_sum"
   ]
  },
  {
   "cell_type": "code",
   "execution_count": 7,
   "metadata": {},
   "outputs": [],
   "source": [
    "def jasonReader(path):\n",
    "    \"\"\" Reads the .jason generated with jasonGenartor the given path\"\"\"\n",
    "    with open(path,'r') as miarch:\n",
    "        loaded_dict = json.loads(miarch.read())\n",
    "    return loaded_dict"
   ]
  },
  {
   "cell_type": "code",
   "execution_count": 20,
   "metadata": {},
   "outputs": [],
   "source": [
    "def wholecellParser(dictres):\n",
    "    #extract all the slices data\n",
    "    allSlices = dictres['image']\n",
    "    #seting columns names\n",
    "    column_names = ['max_peaks_positions','max_peaks_intensities','min_peaks_positions','min_peaks_intensities','amplitudes','times_to_peaks','tau_s']\n",
    "    #define a dataframe\n",
    "    df_sum = pd.DataFrame(columns=column_names)\n",
    "    #populating the dataframe\n",
    "    for i in column_names:\n",
    "        df_sum.loc[:,i] = allSlices[i][:2]\n",
    "\n",
    "    return df_sum"
   ]
  },
  {
   "cell_type": "code",
   "execution_count": 30,
   "metadata": {},
   "outputs": [],
   "source": [
    "tau_list = []\n",
    "path = '/media/leandro/Volumen1TB/Lean/Analizador_imagenes_calcio/Luis/analisis/jsons/'\n",
    "jsons_list = os.listdir(path)\n",
    "for file in jsons_list:\n",
    "    jason = jasonReader(path + file)\n",
    "    wc_data = wholecellParser(jason)\n",
    "    tau_data = wc_data['min_peaks_intensities']\n",
    "    tau_list.append([file,tau_data.mean()])\n",
    "tau_df = pd.DataFrame(tau_list,columns = ['file','basal'])\n",
    "tau_df.to_csv('/media/leandro/Volumen1TB/Lean/Analizador_imagenes_calcio/Luis/analisis/whole_cell/basal_wc.csv', sep='\\t',decimal=',')"
   ]
  },
  {
   "cell_type": "code",
   "execution_count": 92,
   "metadata": {},
   "outputs": [],
   "source": [
    "DI_gradient_selected = pd.read_csv('/media/leandro/Volumen1TB/Lean/Analizador_imagenes_calcio/Luis/analisis/DI_gradient_selected.csv',index_col='Unnamed: 0')"
   ]
  },
  {
   "cell_type": "code",
   "execution_count": 159,
   "metadata": {},
   "outputs": [],
   "source": [
    "tau_list = []\n",
    "path = '/media/leandro/Volumen1TB/Lean/Analizador_imagenes_calcio/Luis/analisis/jsons/'\n",
    "jsons_list = os.listdir(path)\n",
    "for file in jsons_list:\n",
    "    for i in DI_gradient_selected.index:\n",
    "        if str(file[:6]) in i:\n",
    "            path_file = path + file\n",
    "            dic = jasonReader(path_file)\n",
    "            taus = wholecellParser(dic)['tau_s'][0]\n",
    "            tau_list.append((file,taus))"
   ]
  },
  {
   "cell_type": "code",
   "execution_count": 213,
   "metadata": {},
   "outputs": [],
   "source": [
    "DI_gradient = pd.read_csv('/media/leandro/Volumen1TB/Lean/Analizador_imagenes_calcio/Luis/analisis/DI_gradient.csv',index_col='Unnamed: 0')"
   ]
  },
  {
   "cell_type": "code",
   "execution_count": 160,
   "metadata": {},
   "outputs": [],
   "source": [
    "taus_df = pd.DataFrame(set(tau_list),columns=['file','tau'])"
   ]
  },
  {
   "cell_type": "code",
   "execution_count": 214,
   "metadata": {},
   "outputs": [],
   "source": [
    "for file in DI_gradient.index:\n",
    "    if not taus_df[taus_df['file'].str.contains(file) == True].empty:\n",
    "        DI_gradient.loc[file,'tau'] = taus_df[taus_df['file'].str.contains(file) == True].reset_index()['tau'][0]\n",
    "    else:\n",
    "        DI_gradient.loc[file,'tau'] = None"
   ]
  },
  {
   "cell_type": "code",
   "execution_count": 215,
   "metadata": {},
   "outputs": [],
   "source": [
    "DI_gradient = DI_gradient.dropna()\n",
    "DI_gradient = DI_gradient[DI_gradient['tau']>0]"
   ]
  },
  {
   "cell_type": "code",
   "execution_count": 217,
   "metadata": {},
   "outputs": [
    {
     "data": {
      "image/png": "[encoded data removed]",
      "text/plain": [
       "<Figure size 432x288 with 1 Axes>"
      ]
     },
     "metadata": {
      "needs_background": "light"
     },
     "output_type": "display_data"
    }
   ],
   "source": [
    "x= list(DI_gradient['1'])\n",
    "y= list(DI_gradient['tau'])\n",
    "plt.scatter(x,y)\n",
    "\n",
    "plt.savefig('/media/leandro/Volumen1TB/Lean/Analizador_imagenes_calcio/Luis/analisis/DIgrad_vs_tau')"
   ]
  },
  {
   "cell_type": "code",
   "execution_count": 218,
   "metadata": {},
   "outputs": [
    {
     "name": "stdout",
     "output_type": "stream",
     "text": [
      "                                                       1                    2  \\\n",
      "311019_analysis_result_vk2b000.     0,054991225825834385  0,04969826116468117   \n",
      "171019_analysis_result_c1c000.       0,07880791966603275  0,09323399062654668   \n",
      "230819VK1_analysis_result_vk1c000.   0,27150860527563747  0,27117155573794205   \n",
      "050320c7_analysis_result_7d001.      0,11962706150418316  0,14356428396070525   \n",
      "240221_analysis_result_V2b000.       0,06175914815841569  0,07019806145780762   \n",
      "...                                                  ...                  ...   \n",
      "311019_analysis_result_vk4c000.      0,26139166523217156  0,21117857890146194   \n",
      "071119vk5_analysis_result_vk5b000.   0,09709947880733441  0,10268610669974222   \n",
      "200121_analysis_result_vk3d000.       0,2696122915852843  0,26171929168678104   \n",
      "200121_analysis_result_d4c000.       0,11502701652884018  0,12257277889767969   \n",
      "240221_analysis_result_C2b000.      0,044463470687717284   0,0408305332178973   \n",
      "\n",
      "                                                       3  \\\n",
      "311019_analysis_result_vk2b000.      0,07352248165170203   \n",
      "171019_analysis_result_c1c000.       0,08410481215497219   \n",
      "230819VK1_analysis_result_vk1c000.    0,2582508418562452   \n",
      "050320c7_analysis_result_7d001.      0,20344569817903108   \n",
      "240221_analysis_result_V2b000.      0,058908940494888005   \n",
      "...                                                  ...   \n",
      "311019_analysis_result_vk4c000.      0,15567276140566766   \n",
      "071119vk5_analysis_result_vk5b000.   0,10714892912891971   \n",
      "200121_analysis_result_vk3d000.      0,21175289603679176   \n",
      "200121_analysis_result_d4c000.       0,13382333609446795   \n",
      "240221_analysis_result_C2b000.        0,0422564724646822   \n",
      "\n",
      "                                                       4  \\\n",
      "311019_analysis_result_vk2b000.     0,061594312675669685   \n",
      "171019_analysis_result_c1c000.       0,10544025521872862   \n",
      "230819VK1_analysis_result_vk1c000.    0,2562767927947911   \n",
      "050320c7_analysis_result_7d001.      0,19500319028875968   \n",
      "240221_analysis_result_V2b000.      0,057106968471327194   \n",
      "...                                                  ...   \n",
      "311019_analysis_result_vk4c000.      0,23235041429740716   \n",
      "071119vk5_analysis_result_vk5b000.   0,08114129692089321   \n",
      "200121_analysis_result_vk3d000.      0,20772443849511296   \n",
      "200121_analysis_result_d4c000.       0,12315039638227396   \n",
      "240221_analysis_result_C2b000.      0,035912482460587127   \n",
      "\n",
      "                                                       5         tau  \n",
      "311019_analysis_result_vk2b000.      0,07143262624881778   42.142795  \n",
      "171019_analysis_result_c1c000.       0,09902592509566656   35.945037  \n",
      "230819VK1_analysis_result_vk1c000.   0,25186160793641593  169.977564  \n",
      "050320c7_analysis_result_7d001.      0,25531990536731586   79.519716  \n",
      "240221_analysis_result_V2b000.      0,058036045737195084   38.709787  \n",
      "...                                                  ...         ...  \n",
      "311019_analysis_result_vk4c000.      0,17486518791850045   85.390558  \n",
      "071119vk5_analysis_result_vk5b000.   0,08251847918714163   88.935514  \n",
      "200121_analysis_result_vk3d000.       0,2733975313874468  304.385875  \n",
      "200121_analysis_result_d4c000.       0,08771050810147848  106.724009  \n",
      "240221_analysis_result_C2b000.       0,02758268921040789   36.827131  \n",
      "\n",
      "[210 rows x 6 columns]\n"
     ]
    }
   ],
   "source": [
    "print(DI_gradient)"
   ]
  },
  {
   "cell_type": "code",
   "execution_count": 193,
   "metadata": {},
   "outputs": [
    {
     "name": "stdout",
     "output_type": "stream",
     "text": [
      "{'N': 140.28018054265752, 'tau': 214.94389392143512}\n",
      "[[Variables]]\n",
      "    N:    10.0000000 (init = 10)\n",
      "    tau:  1.00000000 (init = 1)\n"
     ]
    },
    {
     "data": {
      "image/png": "[encoded data removed]",
      "text/plain": [
       "<Figure size 432x432 with 2 Axes>"
      ]
     },
     "metadata": {
      "needs_background": "light"
     },
     "output_type": "display_data"
    }
   ],
   "source": [
    "'''Fit tau manually'''\n",
    "\n",
    "\n",
    "import numpy as np\n",
    "from pandas import Series\n",
    "\n",
    "from lmfit import Model, Parameter, report_fit\n",
    "\n",
    "def decay(t, N, tau):\n",
    "    return N*np.exp(-t/tau)\n",
    "\n",
    "t = np.linspace(218, 244, num=26)\n",
    "data = [50, 50, 50, 50, 50, 50, 50, 49, 49, 49, 49, 49, 48, 48, 48, 48, 47, 47, 47, 46, 46, 46, 45, 45, 45, 45]\n",
    "\n",
    "model = Model(decay, independent_vars=['t'])\n",
    "result = model.fit(data, t=t, N=10, tau=150)\n",
    "result.plot()\n",
    "print(result.values)\n",
    "\n",
    "result = model.fit(data, t=t,\n",
    "                   N=Parameter('N', value=10),\n",
    "                   tau=Parameter('tau', value=1))\n",
    "report_fit(result.params)"
   ]
  },
  {
   "cell_type": "code",
   "execution_count": null,
   "metadata": {},
   "outputs": [],
   "source": []
  }
 ],
 "metadata": {
  "kernelspec": {
   "display_name": "Python 3",
   "language": "python",
   "name": "python3"
  },
  "language_info": {
   "codemirror_mode": {
    "name": "ipython",
    "version": 3
   },
   "file_extension": ".py",
   "mimetype": "text/x-python",
   "name": "python",
   "nbconvert_exporter": "python",
   "pygments_lexer": "ipython3",
   "version": "3.8.10"
  }
 },
 "nbformat": 4,
 "nbformat_minor": 4
}
