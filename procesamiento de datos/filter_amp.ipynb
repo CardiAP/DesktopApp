{
 "cells": [
  {
   "cell_type": "code",
   "execution_count": 1,
   "metadata": {},
   "outputs": [],
   "source": [
    "#Imports\n",
    "import json\n",
    "import numpy as np\n",
    "import pandas as pd\n",
    "import csv\n",
    "import scipy.stats\n",
    "import matplotlib.pyplot as plt\n",
    "import seaborn as sns\n",
    "import os\n",
    "from peakutils import indexes\n",
    "import cv2"
   ]
  },
  {
   "cell_type": "code",
   "execution_count": 2,
   "metadata": {},
   "outputs": [],
   "source": [
    "def jasonReader(path):\n",
    "    \"\"\" Reads the .jason generated with jasonGenartor the given path\"\"\"\n",
    "    with open(path,'r') as miarch:\n",
    "        loaded_dict = json.loads(miarch.read())\n",
    "    return loaded_dict"
   ]
  },
  {
   "cell_type": "code",
   "execution_count": 3,
   "metadata": {},
   "outputs": [],
   "source": [
    "def wholecellParser(dictres):\n",
    "    #extract all the slices data\n",
    "    allSlices = dictres['image']\n",
    "    #seting columns names\n",
    "    column_names = ['max_peaks_positions','max_peaks_intensities','min_peaks_positions','min_peaks_intensities','amplitudes','times_to_peaks','tau_s']\n",
    "    #define a dataframe\n",
    "    df_sum = pd.DataFrame(columns=column_names)\n",
    "    #populating the dataframe\n",
    "    for i in column_names:\n",
    "        df_sum.loc[:,i] = allSlices[i][:2]\n",
    "\n",
    "    return df_sum"
   ]
  },
  {
   "cell_type": "code",
   "execution_count": 4,
   "metadata": {},
   "outputs": [],
   "source": [
    "def derivate_date(array,edge_order=1):\n",
    "    return np.gradient(array, axis=None, edge_order=edge_order)\n",
    "\n",
    "def _apply_billateral_filter(image_data, diameter, sigma_color, sigma_space):\n",
    "    return cv2.bilateralFilter(image_data, diameter, sigma_color, sigma_space)"
   ]
  },
  {
   "cell_type": "code",
   "execution_count": 5,
   "metadata": {},
   "outputs": [],
   "source": [
    "def savitzky_golay(y, window_size, order, deriv=0, rate=1):\n",
    "    r\"\"\"Smooth (and optionally differentiate) data with a Savitzky-Golay filter.\n",
    "    The Savitzky-Golay filter removes high frequency noise from data.\n",
    "    It has the advantage of preserving the original shape and\n",
    "    features of the signal better than other types of filtering\n",
    "    approaches, such as moving averages techniques.\n",
    "    Parameters\n",
    "    ----------\n",
    "    y : array_like, shape (N,)\n",
    "        the values of the time history of the signal.\n",
    "    window_size : int\n",
    "  12         the length of the window. Must be an odd integer number.\n",
    "  13     order : int\n",
    "  14         the order of the polynomial used in the filtering.\n",
    "  15         Must be less then `window_size` - 1.\n",
    "  16     deriv: int\n",
    "  17         the order of the derivative to compute (default = 0 means only smoothing)\n",
    "  18     Returns\n",
    "  19     -------\n",
    "  20     ys : ndarray, shape (N)\n",
    "  21         the smoothed signal (or it's n-th derivative).\n",
    "  22     Notes\n",
    "  23     -----\n",
    "  24     The Savitzky-Golay is a type of low-pass filter, particularly\n",
    "  25     suited for smoothing noisy data. The main idea behind this\n",
    "  26     approach is to make for each point a least-square fit with a\n",
    "  27     polynomial of high order over a odd-sized window centered at\n",
    "  28     the point.\n",
    "  40     References\n",
    "  41     ----------\n",
    "  42     .. [1] A. Savitzky, M. J. E. Golay, Smoothing and Differentiation of\n",
    "  43        Data by Simplified Least Squares Procedures. Analytical\n",
    "  44        Chemistry, 1964, 36 (8), pp 1627-1639.\n",
    "  45     .. [2] Numerical Recipes 3rd Edition: The Art of Scientific Computing\n",
    "  46        W.H. Press, S.A. Teukolsky, W.T. Vetterling, B.P. Flannery\n",
    "  47        Cambridge University Press ISBN-13: 9780521880688\n",
    "  48     \"\"\"\n",
    "    import numpy as np\n",
    "    from math import factorial\n",
    "    \n",
    "    try:\n",
    "        window_size = np.abs(int(window_size))\n",
    "        order = np.abs(int(order))\n",
    "    except ValueError as msg:\n",
    "        raise ValueError(\"window_size and order have to be of type int\")\n",
    "    if window_size % 2 != 1 or window_size < 1:\n",
    "        raise TypeError(\"window_size size must be a positive odd number\")\n",
    "    if window_size < order + 2:\n",
    "        raise TypeError(\"window_size is too small for the polynomials order\")\n",
    "    order_range = range(order+1)\n",
    "    half_window = (window_size -1) // 2\n",
    "    # precompute coefficients\n",
    "    b = np.mat([[k**i for i in order_range] for k in range(-half_window, half_window+1)])\n",
    "    m = np.linalg.pinv(b).A[deriv] * rate**deriv * factorial(deriv)\n",
    "    # pad the signal at the extremes with\n",
    "    # values taken from the signal itself\n",
    "    firstvals = y[0] - abs( y[1:half_window+1][::-1] - y[0] )\n",
    "    lastvals = y[-1] + abs(y[-half_window-1:-1][::-1] - y[-1])\n",
    "    y = np.concatenate((firstvals, y, lastvals))\n",
    "    return np.convolve( m[::-1], y, mode='valid')"
   ]
  },
  {
   "cell_type": "code",
   "execution_count": 6,
   "metadata": {},
   "outputs": [],
   "source": [
    "def slicesParser_gradient(dictres,min_dist_between_max_peak):\n",
    "    #extract all the slices data\n",
    "    allSlices = dictres['slices']\n",
    "    #seting columns names\n",
    "    column_names = ['transient' + str(x+1) for x in range(0,len(dictres['image']['max_peaks_positions']))]\n",
    "    #define a dataframe\n",
    "    df_sum = pd.DataFrame(columns=column_names)\n",
    "    for _slice in range(len(allSlices)):\n",
    "        slice_intensities = allSlices[_slice]['intensities']\n",
    "        #calculate gradient\n",
    "        yhat = derivate_date(np.array(slice_intensities))\n",
    "#         yhat = savitzky_golay(np.array(slice_intensities), 25, int(len(allSlices[_slice]['intensities'])/min_dist_between_max_peak),1)\n",
    "        #Maximun gradient\n",
    "        amp_list = _max_peaks_positions(yhat, min_dist_between_max_peak)\n",
    "        gradient_list = _intensities_in_positions(yhat, amp_list)[:len(dictres['image']['max_peaks_positions'])]\n",
    "        if len(gradient_list)==len(dictres['image']['max_peaks_positions']):\n",
    "            #populating the dataframe\n",
    "            df_sum.loc[_slice] = gradient_list\n",
    "        else:\n",
    "            pass\n",
    "    return df_sum"
   ]
  },
  {
   "cell_type": "code",
   "execution_count": 7,
   "metadata": {},
   "outputs": [],
   "source": [
    "def _max_peaks_positions(vector, min_dist_between_max_peaks):\n",
    "    threshold = 0.2\n",
    "    possible_max_peaks = indexes(np.array(vector), thres=threshold, min_dist=min_dist_between_max_peaks)\n",
    "    intensity_avg = sum(vector) / len(vector)\n",
    "    max_peaks = [max_peak for max_peak in possible_max_peaks if vector[max_peak] > intensity_avg/8]\n",
    "\n",
    "    if len(max_peaks) == 0: raise ValueError(\"Peaks not found\")\n",
    "\n",
    "    return max_peaks\n",
    "\n",
    "def _analyze_matrix_slice(matrix, max_peaks_positions):\n",
    "    intensities = np.asarray(_mean_columns(matrix), dtype=np.float16)\n",
    "    max_peaks_intensities = _intensities_in_positions(intensities, max_peaks_positions)\n",
    "\n",
    "    return ({\n",
    "        \"max_peaks_intensities\": max_peaks_intensities,\n",
    "\n",
    "    })\n",
    "def _intensities_in_positions(intensities, positions):\n",
    "    return [intensities[position] for position in positions]\n",
    "\n",
    "def _mean_columns(slice):\n",
    "    return np.asarray([float(np.mean(row)) for row in slice])\n",
    "\n",
    "def _min_peaks_positions(intensities, max_peaks):\n",
    "    minimums = []\n",
    "    last_max = 0\n",
    "    for max_index in max_peaks:\n",
    "        minimums.append(minimo_bl(intensities[last_max:max_index]) + last_max)\n",
    "        last_max = max_index\n",
    "\n",
    "    minimums.append(minimo_bl(intensities[last_max:len(intensities)]) + last_max)\n",
    "\n",
    "    return minimums\n",
    "\n",
    "def minimo_bl (vector):\n",
    "    b = -min((x, -i) for i, x in enumerate(vector))[1]\n",
    "    return b"
   ]
  },
  {
   "cell_type": "code",
   "execution_count": 8,
   "metadata": {},
   "outputs": [],
   "source": [
    "def discordance_index(path,min_dist_between_max_peaks):\n",
    "    DIs = pd.DataFrame()\n",
    "    for j in range (1,len(slicesParser_gradient(path,min_dist_between_max_peaks).columns)):\n",
    "        rel_diff = []\n",
    "        for i in range (1, len (slicesParser_gradient(path,min_dist_between_max_peaks))):\n",
    "            T1 = list(slicesParser_gradient(path,min_dist_between_max_peaks)['transient'+str(j)])[i]\n",
    "            T2 = list(slicesParser_gradient(path,min_dist_between_max_peaks)['transient'+str(j+1)])[i]\n",
    "            rel_diff.append((T1-T2)/max(T1,T2))\n",
    "        DIs[j] = rel_diff\n",
    "    return DIs"
   ]
  },
  {
   "cell_type": "code",
   "execution_count": null,
   "metadata": {},
   "outputs": [],
   "source": [
    "path_imagenes = '/media/leandro/Volumen1TB/Lean/Analizador_imagenes_calcio/Luis/seleccion/'\n",
    "df_tabulado = pd.read_csv(path_imagenes + 'tabulado_imagenes.csv', index_col= 'Unnamed: 0')\n",
    "\n",
    "dict_min_dist = {1:200,3:70,4:50,5:40,6:20} "
   ]
  },
  {
   "cell_type": "code",
   "execution_count": null,
   "metadata": {},
   "outputs": [],
   "source": [
    "df_tabulado[(df_tabulado['experimento']==160712) &  (df_tabulado['foto'].isin(['5b000']))]['frecuencia'].reset_index(drop=True)"
   ]
  },
  {
   "cell_type": "code",
   "execution_count": null,
   "metadata": {},
   "outputs": [],
   "source": [
    "import warnings\n",
    "warnings.simplefilter(action='ignore', category=FutureWarning)\n",
    "\n",
    "path = '/media/leandro/Volumen1TB/Lean/Analizador_imagenes_calcio/Luis/imagenes/37°/'\n",
    "df = pd.DataFrame()\n",
    "for foto in os.listdir(path):\n",
    "    if 'json' in foto:\n",
    "        print(foto)\n",
    "        experiment = foto.split('_')[1][:6]\n",
    "        photo = foto.split('_')[-1].split('.')[0]\n",
    "        frec = df_tabulado[(df_tabulado['experimento'].isin([experiment])) &  (df_tabulado['foto'].isin([photo]))]['frecuencia'].reset_index(drop=True)[0]\n",
    "        min_dist_between_max_peaks = dict_min_dist[frec]\n",
    "        array = jasonReader(path + foto)\n",
    "        discordance_list = discordance_index(array,min_dist_between_max_peaks).std()\n",
    "        df[foto[:-4]] = discordance_list"
   ]
  },
  {
   "cell_type": "code",
   "execution_count": null,
   "metadata": {},
   "outputs": [],
   "source": [
    "dictres = jasonReader('/media/leandro/Volumen1TB/Lean/Analizador_imagenes_calcio/Luis/analisis/jsons/220119c1_analysis_result_ctrol1a0.json')\n",
    "array = dictres['image']['intensities']\n",
    "dist_between_peaks = 200"
   ]
  },
  {
   "cell_type": "raw",
   "metadata": {},
   "source": [
    "yhat = derivate_date(array)\n",
    "yhat1 = savitzky_golay(np.array(array), 25, 8 ,1)\n",
    "yhat = derivate_date(yhat)\n",
    "\n",
    "# plt.plot(yhat)\n",
    "# plt.plot(yhat1)\n",
    "# print(_analyze_matrix_slice(yhat, _max_peaks_positions(yhat, dist_between_peaks)))\n",
    "# print(_analyze_matrix_slice(yhat1, _max_peaks_positions(yhat1, dist_between_peaks)))"
   ]
  },
  {
   "cell_type": "code",
   "execution_count": null,
   "metadata": {
    "scrolled": true
   },
   "outputs": [],
   "source": [
    "values = pd.read_csv(\"/home/leandro/Escritorio/Values.csv\", sep=\",\")\n",
    "values.head(2)"
   ]
  },
  {
   "cell_type": "code",
   "execution_count": null,
   "metadata": {},
   "outputs": [],
   "source": [
    "print(_max_peaks_positions(values['Gray_Value'], 200))\n",
    "print(_min_peaks_positions(values['Gray_Value'], _max_peaks_positions(values['Gray_Value'], 200)))"
   ]
  },
  {
   "cell_type": "code",
   "execution_count": null,
   "metadata": {},
   "outputs": [],
   "source": [
    "# deriv = derivate_date(array)\n",
    "deriv = savitzky_golay(np.array(array), 25, 8 ,1)\n",
    "deriv = deriv.astype(np.float32, copy=False)\n",
    "deriv = cv2.bilateralFilter(deriv, 7, 150, 150)\n",
    "# yhat1 = derivate_date(deriv[:,0]*2)\n",
    "yhat1 = savitzky_golay(np.array(deriv[:,0]), 25, 8 ,1)\n",
    "\n",
    "t = range(len(array))\n",
    "fig, ax1 = plt.subplots()\n",
    "\n",
    "color = 'tab:blue'\n",
    "ax1.set_xlabel('Time (pixels)')\n",
    "ax1.set_ylabel('Intensity (AU)', color=color)\n",
    "ax1.plot(t, array, color=color)\n",
    "ax1.tick_params(axis='y', labelcolor=color)\n",
    "\n",
    "ax2 = ax1.twinx()  # instantiate a second axes that shares the same x-axis\n",
    "\n",
    "color = 'tab:red'\n",
    "ax2.set_ylabel('Gradient (AU)', color=color)  # we already handled the x-label with ax1\n",
    "ax2.plot(t, deriv, color=color)\n",
    "ax2.tick_params(axis='y', labelcolor=color)\n",
    "\n",
    "color = 'tab:green'\n",
    "ax2.set_ylabel('Gradient (AU)', color=color)  # we already handled the x-label with ax1\n",
    "ax2.plot(t, yhat1, color=color)\n",
    "ax2.tick_params(axis='y', labelcolor=color)\n",
    "fig.tight_layout()  # otherwise the right y-label is slightly clipped\n",
    "plt.savefig('/media/leandro/Volumen1TB/Lean/Analizador_imagenes_calcio/Luis/gradient',dpi=300)\n",
    "plt.show()\n",
    "\n",
    "print(_min_peaks_positions(array, _max_peaks_positions(array, dist_between_peaks)))\n",
    "print(_max_peaks_positions(yhat1, dist_between_peaks))\n",
    "print(_max_peaks_positions(array, dist_between_peaks))\n",
    "\n",
    "# #TTP\n",
    "# TTP = list(map(operator.sub, max_peaks_positions,min_peaks_positions))\n",
    "# TTP_deriv = list(map(operator.sub, max_peaks_positions,min_peaks_positions_deriv))\n",
    "# TTPs.append(TTP_deriv)\n",
    "# print(experiment,photo,freq,max_peaks_positions,min_peaks_positions_deriv,TTP_deriv)"
   ]
  },
  {
   "cell_type": "markdown",
   "metadata": {},
   "source": [
    "### Precisión y exactitud amplitud"
   ]
  },
  {
   "cell_type": "code",
   "execution_count": 9,
   "metadata": {},
   "outputs": [],
   "source": [
    "path = '/media/leandro/Volumen1TB1/Lean/Analizador_imagenes_calcio/Luis/analisis/'\n",
    "file_tabulado = pd.read_excel(path + 'tab_prueba2.xlsx')\n",
    "del file_tabulado['Unnamed: 0']"
   ]
  },
  {
   "cell_type": "code",
   "execution_count": 10,
   "metadata": {},
   "outputs": [
    {
     "data": {
      "text/html": [
       "<div>\n",
       "<style scoped>\n",
       "    .dataframe tbody tr th:only-of-type {\n",
       "        vertical-align: middle;\n",
       "    }\n",
       "\n",
       "    .dataframe tbody tr th {\n",
       "        vertical-align: top;\n",
       "    }\n",
       "\n",
       "    .dataframe thead th {\n",
       "        text-align: right;\n",
       "    }\n",
       "</style>\n",
       "<table border=\"1\" class=\"dataframe\">\n",
       "  <thead>\n",
       "    <tr style=\"text-align: right;\">\n",
       "      <th></th>\n",
       "      <th>experimento</th>\n",
       "      <th>foto</th>\n",
       "      <th>pico</th>\n",
       "      <th>Intensidad_max</th>\n",
       "      <th>tiempo_max</th>\n",
       "      <th>Intensidad_min</th>\n",
       "      <th>tiempo_min</th>\n",
       "      <th>Amplitud</th>\n",
       "      <th>TTP</th>\n",
       "      <th>TTP_manual</th>\n",
       "      <th>TTP_deriv</th>\n",
       "    </tr>\n",
       "  </thead>\n",
       "  <tbody>\n",
       "    <tr>\n",
       "      <th>0</th>\n",
       "      <td>10719</td>\n",
       "      <td>ctrol8b0</td>\n",
       "      <td>1</td>\n",
       "      <td>94.95</td>\n",
       "      <td>67</td>\n",
       "      <td>62.44</td>\n",
       "      <td>49</td>\n",
       "      <td>0.520660</td>\n",
       "      <td>18</td>\n",
       "      <td>35.748092</td>\n",
       "      <td>18</td>\n",
       "    </tr>\n",
       "    <tr>\n",
       "      <th>1</th>\n",
       "      <td>10719</td>\n",
       "      <td>ctrol8b0</td>\n",
       "      <td>2</td>\n",
       "      <td>95.01</td>\n",
       "      <td>309</td>\n",
       "      <td>62.74</td>\n",
       "      <td>283</td>\n",
       "      <td>0.514345</td>\n",
       "      <td>26</td>\n",
       "      <td>53.343362</td>\n",
       "      <td>23</td>\n",
       "    </tr>\n",
       "  </tbody>\n",
       "</table>\n",
       "</div>"
      ],
      "text/plain": [
       "   experimento      foto  pico  Intensidad_max  tiempo_max  Intensidad_min  \\\n",
       "0        10719  ctrol8b0     1           94.95          67           62.44   \n",
       "1        10719  ctrol8b0     2           95.01         309           62.74   \n",
       "\n",
       "   tiempo_min  Amplitud  TTP  TTP_manual  TTP_deriv  \n",
       "0          49  0.520660   18   35.748092         18  \n",
       "1         283  0.514345   26   53.343362         23  "
      ]
     },
     "execution_count": 10,
     "metadata": {},
     "output_type": "execute_result"
    }
   ],
   "source": [
    "df_manual = pd.read_csv(\"/media/leandro/Volumen1TB1/Lean/Analizador_imagenes_calcio/Luis/DI_manual_1hz.csv\", sep=\",\")[:-2]\n",
    "df_manual.head(2)"
   ]
  },
  {
   "cell_type": "code",
   "execution_count": 11,
   "metadata": {},
   "outputs": [
    {
     "ename": "PermissionError",
     "evalue": "[Errno 13] Permission denied: '/media/leandro/Volumen1TB/Lean/Analizador_imagenes_calcio/Luis/analisis/jsons/'",
     "output_type": "error",
     "traceback": [
      "\u001b[0;31m---------------------------------------------------------------------------\u001b[0m",
      "\u001b[0;31mPermissionError\u001b[0m                           Traceback (most recent call last)",
      "\u001b[0;32m<ipython-input-11-ad2b2e47fe93>\u001b[0m in \u001b[0;36m<module>\u001b[0;34m\u001b[0m\n\u001b[1;32m      1\u001b[0m \u001b[0mpath\u001b[0m \u001b[0;34m=\u001b[0m \u001b[0;34m'/media/leandro/Volumen1TB/Lean/Analizador_imagenes_calcio/Luis/analisis/'\u001b[0m\u001b[0;34m\u001b[0m\u001b[0;34m\u001b[0m\u001b[0m\n\u001b[0;32m----> 2\u001b[0;31m \u001b[0mexperiments\u001b[0m \u001b[0;34m=\u001b[0m \u001b[0mos\u001b[0m\u001b[0;34m.\u001b[0m\u001b[0mlistdir\u001b[0m\u001b[0;34m(\u001b[0m\u001b[0mpath\u001b[0m \u001b[0;34m+\u001b[0m \u001b[0;34m'jsons/'\u001b[0m\u001b[0;34m)\u001b[0m\u001b[0;34m\u001b[0m\u001b[0;34m\u001b[0m\u001b[0m\n\u001b[0m\u001b[1;32m      3\u001b[0m \u001b[0mdif_amp\u001b[0m \u001b[0;34m=\u001b[0m \u001b[0mpd\u001b[0m\u001b[0;34m.\u001b[0m\u001b[0mDataFrame\u001b[0m\u001b[0;34m(\u001b[0m\u001b[0;34m)\u001b[0m\u001b[0;34m\u001b[0m\u001b[0;34m\u001b[0m\u001b[0m\n\u001b[1;32m      4\u001b[0m \u001b[0mdias\u001b[0m \u001b[0;34m=\u001b[0m \u001b[0mdf_manual\u001b[0m\u001b[0;34m[\u001b[0m\u001b[0;34m'experimento'\u001b[0m\u001b[0;34m]\u001b[0m\u001b[0;34m.\u001b[0m\u001b[0mdrop_duplicates\u001b[0m\u001b[0;34m(\u001b[0m\u001b[0;34m)\u001b[0m\u001b[0;34m\u001b[0m\u001b[0;34m\u001b[0m\u001b[0m\n\u001b[1;32m      5\u001b[0m \u001b[0mfoto\u001b[0m \u001b[0;34m=\u001b[0m \u001b[0mdf_manual\u001b[0m\u001b[0;34m[\u001b[0m\u001b[0;34m'foto'\u001b[0m\u001b[0;34m]\u001b[0m\u001b[0;34m.\u001b[0m\u001b[0mdrop_duplicates\u001b[0m\u001b[0;34m(\u001b[0m\u001b[0;34m)\u001b[0m\u001b[0;34m\u001b[0m\u001b[0;34m\u001b[0m\u001b[0m\n",
      "\u001b[0;31mPermissionError\u001b[0m: [Errno 13] Permission denied: '/media/leandro/Volumen1TB/Lean/Analizador_imagenes_calcio/Luis/analisis/jsons/'"
     ]
    }
   ],
   "source": [
    "path = '/media/leandro/Volumen1TB/Lean/Analizador_imagenes_calcio/Luis/analisis/'\n",
    "experiments = os.listdir(path + 'jsons/')\n",
    "dif_amp = pd.DataFrame()\n",
    "dias = df_manual['experimento'].drop_duplicates()\n",
    "foto = df_manual['foto'].drop_duplicates()\n",
    "for j in dias:\n",
    "    for k in foto:\n",
    "        for i in range(0,len (experiments)):\n",
    "            if (str(j) in experiments[i]) & (k in experiments[i]):\n",
    "                try:\n",
    "                    experiment = jasonReader(path + 'jsons/' + experiments[i])\n",
    "                    df_file = wholecellParser(experiment)\n",
    "                    df_file['file'] = experiments[i]\n",
    "                    dif_amp = dif_amp.append(df_file, ignore_index=True)\n",
    "                except:\n",
    "                    print(experiments[i])"
   ]
  },
  {
   "cell_type": "code",
   "execution_count": 12,
   "metadata": {
    "jupyter": {
     "outputs_hidden": true
    }
   },
   "outputs": [
    {
     "ename": "NameError",
     "evalue": "name 'amp_cardiap' is not defined",
     "output_type": "error",
     "traceback": [
      "\u001b[0;31m---------------------------------------------------------------------------\u001b[0m",
      "\u001b[0;31mNameError\u001b[0m                                 Traceback (most recent call last)",
      "\u001b[0;32m<ipython-input-12-cd9bc65eaa1a>\u001b[0m in \u001b[0;36m<module>\u001b[0;34m\u001b[0m\n\u001b[0;32m----> 1\u001b[0;31m \u001b[0mamp_cardiap\u001b[0m\u001b[0;34m.\u001b[0m\u001b[0mhead\u001b[0m\u001b[0;34m(\u001b[0m\u001b[0;36m2\u001b[0m\u001b[0;34m)\u001b[0m\u001b[0;34m\u001b[0m\u001b[0;34m\u001b[0m\u001b[0m\n\u001b[0m",
      "\u001b[0;31mNameError\u001b[0m: name 'amp_cardiap' is not defined"
     ]
    }
   ],
   "source": [
    "amp_cardiap.head(2)"
   ]
  },
  {
   "cell_type": "code",
   "execution_count": null,
   "metadata": {},
   "outputs": [],
   "source": [
    "dif_amp.to_csv('/media/leandro/Volumen1TB/Lean/Analizador_imagenes_calcio/Luis/analisis/todos_wc.csv')"
   ]
  },
  {
   "cell_type": "code",
   "execution_count": 13,
   "metadata": {},
   "outputs": [
    {
     "data": {
      "text/html": [
       "<div>\n",
       "<style scoped>\n",
       "    .dataframe tbody tr th:only-of-type {\n",
       "        vertical-align: middle;\n",
       "    }\n",
       "\n",
       "    .dataframe tbody tr th {\n",
       "        vertical-align: top;\n",
       "    }\n",
       "\n",
       "    .dataframe thead th {\n",
       "        text-align: right;\n",
       "    }\n",
       "</style>\n",
       "<table border=\"1\" class=\"dataframe\">\n",
       "  <thead>\n",
       "    <tr style=\"text-align: right;\">\n",
       "      <th></th>\n",
       "      <th>Unnamed: 0</th>\n",
       "      <th>amplitudes</th>\n",
       "      <th>max_peaks_positions</th>\n",
       "      <th>max_peaks_intensities</th>\n",
       "      <th>times_to_peaks</th>\n",
       "      <th>times_to_half_peaks</th>\n",
       "      <th>tau_s</th>\n",
       "      <th>file</th>\n",
       "      <th>TTP_norm</th>\n",
       "    </tr>\n",
       "  </thead>\n",
       "  <tbody>\n",
       "    <tr>\n",
       "      <th>0</th>\n",
       "      <td>48</td>\n",
       "      <td>0.529412</td>\n",
       "      <td>27</td>\n",
       "      <td>78</td>\n",
       "      <td>19</td>\n",
       "      <td>6</td>\n",
       "      <td>479.240210</td>\n",
       "      <td>010719_ctrol8b0_wc.csv</td>\n",
       "      <td>35.888887</td>\n",
       "    </tr>\n",
       "    <tr>\n",
       "      <th>1</th>\n",
       "      <td>49</td>\n",
       "      <td>0.509804</td>\n",
       "      <td>265</td>\n",
       "      <td>77</td>\n",
       "      <td>26</td>\n",
       "      <td>10</td>\n",
       "      <td>467.957169</td>\n",
       "      <td>NaN</td>\n",
       "      <td>50.999997</td>\n",
       "    </tr>\n",
       "  </tbody>\n",
       "</table>\n",
       "</div>"
      ],
      "text/plain": [
       "   Unnamed: 0  amplitudes  max_peaks_positions  max_peaks_intensities  \\\n",
       "0          48    0.529412                   27                     78   \n",
       "1          49    0.509804                  265                     77   \n",
       "\n",
       "   times_to_peaks  times_to_half_peaks       tau_s                    file  \\\n",
       "0              19                    6  479.240210  010719_ctrol8b0_wc.csv   \n",
       "1              26                   10  467.957169                     NaN   \n",
       "\n",
       "    TTP_norm  \n",
       "0  35.888887  \n",
       "1  50.999997  "
      ]
     },
     "execution_count": 13,
     "metadata": {},
     "output_type": "execute_result"
    }
   ],
   "source": [
    "amp_cardiap = pd.read_csv('/media/leandro/Volumen1TB1/Lean/Analizador_imagenes_calcio/Luis/analisis/csvs/todos_wc.csv',sep=',')\n",
    "\n",
    "amp_cardiap['TTP_norm'] = amp_cardiap['times_to_peaks']/amp_cardiap['amplitudes']\n",
    "amp_cardiap.head(2)"
   ]
  },
  {
   "cell_type": "code",
   "execution_count": null,
   "metadata": {},
   "outputs": [],
   "source": [
    "amp_cardiap['TTP_deriv_norm'] = df_manual ['TTP_deriv']/amp_cardiap['amplitudes']"
   ]
  },
  {
   "cell_type": "code",
   "execution_count": 55,
   "metadata": {},
   "outputs": [
    {
     "name": "stdout",
     "output_type": "stream",
     "text": [
      "0.014594895413487411 0.042448343567294045\n"
     ]
    }
   ],
   "source": [
    "x = amp_cardiap['amplitudes']\n",
    "y = df_manual['Amplitud']\n",
    "z = x-y\n",
    "w = (x+y)/2\n",
    "v = x/y\n",
    "print(z.mean(),z.std())"
   ]
  },
  {
   "cell_type": "code",
   "execution_count": 15,
   "metadata": {},
   "outputs": [
    {
     "name": "stdout",
     "output_type": "stream",
     "text": [
      "16 -4.867960736217507 0.8541224871212514 0.8749116607773849\n"
     ]
    }
   ],
   "source": [
    "for i in range(len(z)):\n",
    "    if abs(z[i]*100/w[i]) > 4:\n",
    "        print(i,z[i]*100/w[i],w[i],y[i])"
   ]
  },
  {
   "cell_type": "code",
   "execution_count": null,
   "metadata": {},
   "outputs": [],
   "source": [
    "df = pd.DataFrame((x,y)).T\n",
    "def outliers(df,column,percentiles):\n",
    "    Q1 = df[column].quantile(percentiles[0])\n",
    "    Q3 = df[column].quantile(percentiles[1])\n",
    "    IQR = Q3 - Q1\n",
    "    idx = ~((df[column] < (Q1 - 1.5 * IQR)) | (df[column] > (Q3 + 1.5 * IQR)))\n",
    "    df = df[idx.values]\n",
    "    return df\n",
    "\n",
    "df = outliers(df,'amplitudes',[0.02,0.98])\n",
    "df = outliers(df,'Amplitud',[0.02,0.98])"
   ]
  },
  {
   "cell_type": "code",
   "execution_count": 8,
   "metadata": {},
   "outputs": [
    {
     "name": "stdout",
     "output_type": "stream",
     "text": [
      "                            OLS Regression Results                            \n",
      "==============================================================================\n",
      "Dep. Variable:               Amplitud   R-squared:                       0.999\n",
      "Model:                            OLS   Adj. R-squared:                  0.999\n",
      "Method:                 Least Squares   F-statistic:                 8.460e+04\n",
      "Date:                Fri, 26 Aug 2022   Prob (F-statistic):          2.35e-125\n",
      "Time:                        19:12:06   Log-Likelihood:                 147.80\n",
      "No. Observations:                  84   AIC:                            -291.6\n",
      "Df Residuals:                      82   BIC:                            -286.7\n",
      "Df Model:                           1                                         \n",
      "Covariance Type:            nonrobust                                         \n",
      "==============================================================================\n",
      "                 coef    std err          t      P>|t|      [0.025      0.975]\n",
      "------------------------------------------------------------------------------\n",
      "const         -0.0026      0.009     -0.274      0.785      -0.021       0.016\n",
      "amplitudes     0.9950      0.003    290.866      0.000       0.988       1.002\n",
      "==============================================================================\n",
      "Omnibus:                        1.307   Durbin-Watson:                   1.549\n",
      "Prob(Omnibus):                  0.520   Jarque-Bera (JB):                0.741\n",
      "Skew:                          -0.023   Prob(JB):                        0.690\n",
      "Kurtosis:                       3.458   Cond. No.                         6.17\n",
      "==============================================================================\n",
      "\n",
      "Notes:\n",
      "[1] Standard Errors assume that the covariance matrix of the errors is correctly specified.\n"
     ]
    }
   ],
   "source": [
    "import statsmodels.api as sm\n",
    "\n",
    "# adding the constant term\n",
    "x1 = sm.add_constant(x)\n",
    " \n",
    "# performing the regression\n",
    "# and fitting the model\n",
    "result = sm.OLS(y, x1).fit()\n",
    " \n",
    "# printing the summary table\n",
    "print(result.summary())"
   ]
  },
  {
   "cell_type": "code",
   "execution_count": 16,
   "metadata": {},
   "outputs": [
    {
     "data": {
      "text/plain": [
       "Text(0, 0.5, 'amp-manual')"
      ]
     },
     "execution_count": 16,
     "metadata": {},
     "output_type": "execute_result"
    },
    {
     "data": {
      "image/png": "[encoded data removed]",
      "text/plain": [
       "<Figure size 432x288 with 1 Axes>"
      ]
     },
     "metadata": {
      "needs_background": "light"
     },
     "output_type": "display_data"
    }
   ],
   "source": [
    "import matplotlib.pyplot as pp\n",
    "\n",
    "# plot\n",
    "# pp.scatter(df_manual['TTP_deriv'],df_manual['TTP'])\n",
    "pp.scatter(x,y)\n",
    "pp.xlabel('amps-CardIAP')\n",
    "pp.ylabel('amp-manual')\n",
    "\n",
    "# pp.savefig('/media/leandro/Volumen1TB/Lean/Analizador_imagenes_calcio/Luis/analisis/TTP_cadiap_1hz.png')"
   ]
  },
  {
   "cell_type": "code",
   "execution_count": 21,
   "metadata": {},
   "outputs": [
    {
     "data": {
      "image/png": "[encoded data removed]",
      "text/plain": [
       "<Figure size 432x288 with 1 Axes>"
      ]
     },
     "metadata": {
      "needs_background": "light"
     },
     "output_type": "display_data"
    }
   ],
   "source": [
    "from scipy import stats\n",
    "from sklearn.metrics import r2_score\n",
    "#regression part\n",
    "slope, intercept, r_value, p_value, std_err = stats.linregress(m1,m2)\n",
    "\n",
    "line = slope*m1+intercept\n",
    "lines = plt.plot(m1, line, 'cornflowerblue', label='y={:.2f}x+{:.2f}'.format(slope,intercept))\n",
    "#end\n",
    "plt.setp(lines, color='cornflowerblue', linewidth=2.0,linestyle = ':')\n",
    "plt.scatter(m1,m2, color=\"k\", s=3.5)\n",
    "plt.xlabel('CardIAP Time to peak')\n",
    "plt.ylabel('Manual Time to peak')\n",
    "plt.legend(fontsize=9)\n",
    "plt.annotate(\"r-squared = {:.3f}\".format(r2_score(m1,m2)), (0, 1))\n",
    "pp.savefig('/media/leandro/Volumen1TB1/Lean/Analizador_imagenes_calcio/Luis/analisis/ttp_1hz.png')"
   ]
  },
  {
   "cell_type": "code",
   "execution_count": 22,
   "metadata": {},
   "outputs": [
    {
     "data": {
      "image/png": "[encoded data removed]",
      "text/plain": [
       "<Figure size 432x288 with 1 Axes>"
      ]
     },
     "metadata": {
      "needs_background": "light"
     },
     "output_type": "display_data"
    }
   ],
   "source": [
    "data=m1\n",
    "d = np.diff(np.unique(data)).min()\n",
    "left_of_first_bin = data.min() - float(d)/2\n",
    "right_of_last_bin = data.max() + float(d)/2\n",
    "plt.hist(data, np.arange(left_of_first_bin, right_of_last_bin + d, d))\n",
    "plt.hist(m2, np.arange(left_of_first_bin, right_of_last_bin + d, d),alpha = 0.7)\n",
    "plt.show()"
   ]
  },
  {
   "cell_type": "code",
   "execution_count": 26,
   "metadata": {},
   "outputs": [
    {
     "data": {
      "text/plain": [
       "SpearmanrResult(correlation=0.9985367229681695, pvalue=1.1269797892168808e-105)"
      ]
     },
     "execution_count": 26,
     "metadata": {},
     "output_type": "execute_result"
    }
   ],
   "source": [
    "scipy.stats.spearmanr(x,y)"
   ]
  },
  {
   "cell_type": "code",
   "execution_count": 27,
   "metadata": {},
   "outputs": [
    {
     "data": {
      "text/plain": [
       "SpearmanrResult(correlation=0.7068195224947321, pvalue=5.775544049378761e-14)"
      ]
     },
     "execution_count": 27,
     "metadata": {},
     "output_type": "execute_result"
    }
   ],
   "source": [
    "scipy.stats.spearmanr(m1,m2)"
   ]
  },
  {
   "cell_type": "code",
   "execution_count": 64,
   "metadata": {},
   "outputs": [
    {
     "data": {
      "text/plain": [
       "Ttest_1sampResult(statistic=3.1512284047663917, pvalue=0.002261834995472902)"
      ]
     },
     "execution_count": 64,
     "metadata": {},
     "output_type": "execute_result"
    }
   ],
   "source": [
    "stats.ttest_1samp(z, 0.0)"
   ]
  },
  {
   "cell_type": "code",
   "execution_count": 63,
   "metadata": {},
   "outputs": [
    {
     "data": {
      "text/plain": [
       "LeveneResult(statistic=0.01600597750379994, pvalue=0.8994939145618239)"
      ]
     },
     "execution_count": 63,
     "metadata": {},
     "output_type": "execute_result"
    }
   ],
   "source": [
    "scipy.stats.levene(x,y,center='trimmed', proportiontocut=0.05)"
   ]
  },
  {
   "cell_type": "code",
   "execution_count": 65,
   "metadata": {},
   "outputs": [
    {
     "data": {
      "text/plain": [
       "LeveneResult(statistic=0.5355784232277303, pvalue=0.4654128048016518)"
      ]
     },
     "execution_count": 65,
     "metadata": {},
     "output_type": "execute_result"
    }
   ],
   "source": [
    "scipy.stats.levene(m1,m2,center='trimmed', proportiontocut=0.05)"
   ]
  },
  {
   "cell_type": "code",
   "execution_count": 62,
   "metadata": {},
   "outputs": [
    {
     "data": {
      "image/png": "[encoded data removed]",
      "text/plain": [
       "<Figure size 720x504 with 1 Axes>"
      ]
     },
     "metadata": {
      "needs_background": "light"
     },
     "output_type": "display_data"
    }
   ],
   "source": [
    "import pyCompare\n",
    "\n",
    "m1 = amp_cardiap['times_to_peaks']\n",
    "m2 = df_manual['TTP']\n",
    "\n",
    "pyCompare.blandAltman(m1, m2,\n",
    "            limitOfAgreement=2,\n",
    "            confidenceInterval=99,\n",
    "            confidenceIntervalMethod='approximate',\n",
    "            detrend=None,\n",
    "            percentage=True)#,savePath='/media/leandro/Volumen1TB1/Lean/Analizador_imagenes_calcio/CardIAP/TTP_BA.png')"
   ]
  },
  {
   "cell_type": "code",
   "execution_count": 20,
   "metadata": {},
   "outputs": [
    {
     "data": {
      "text/plain": [
       "(-0.3732018527945552, 0.7065351861278885)"
      ]
     },
     "execution_count": 20,
     "metadata": {},
     "output_type": "execute_result"
    }
   ],
   "source": [
    "import numpy as np, scipy.stats as st\n",
    "\n",
    "st.t.interval(0.95, len(m1-m2)-1, loc=np.mean(m1-m2), scale=st.sem(m1-m2))"
   ]
  },
  {
   "cell_type": "code",
   "execution_count": 61,
   "metadata": {},
   "outputs": [
    {
     "data": {
      "image/png": "[encoded data removed]",
      "text/plain": [
       "<Figure size 720x504 with 1 Axes>"
      ]
     },
     "metadata": {
      "needs_background": "light"
     },
     "output_type": "display_data"
    }
   ],
   "source": [
    "import pyCompare\n",
    "\n",
    "x = amp_cardiap['amplitudes']\n",
    "y = df_manual['Amplitud']\n",
    "pyCompare.blandAltman(x, y,\n",
    "            limitOfAgreement=1.96,\n",
    "            confidenceInterval=95,\n",
    "            confidenceIntervalMethod='approximate',\n",
    "            detrend=None,\n",
    "            percentage=True)#,savePath='/media/leandro/Volumen1TB1/Lean/Analizador_imagenes_calcio/CardIAP/amplitud_BA.png')"
   ]
  },
  {
   "cell_type": "code",
   "execution_count": 53,
   "metadata": {},
   "outputs": [
    {
     "data": {
      "text/plain": [
       "(0.005383040148842524, 0.0238067506781323)"
      ]
     },
     "execution_count": 53,
     "metadata": {},
     "output_type": "execute_result"
    }
   ],
   "source": [
    "import numpy as np, scipy.stats as st\n",
    "\n",
    "st.t.interval(0.95, len(x-y)-1, loc=np.mean(x-y), scale=st.sem(x-y))"
   ]
  },
  {
   "cell_type": "markdown",
   "metadata": {},
   "source": [
    "### Precisión y exactitud TTP"
   ]
  },
  {
   "cell_type": "code",
   "execution_count": null,
   "metadata": {},
   "outputs": [],
   "source": [
    "path = '/media/leandro/Volumen1TB/Lean/Analizador_imagenes_calcio/Luis/analisis/'\n",
    "file_tabulado = pd.read_excel(path + 'tab_prueba3.xlsx')\n",
    "del file_tabulado['Unnamed: 0']"
   ]
  },
  {
   "cell_type": "code",
   "execution_count": null,
   "metadata": {},
   "outputs": [],
   "source": [
    "file_tabulado = file_tabulado[(file_tabulado['frecuencia']==1) & (file_tabulado['tratamiento']=='c')]"
   ]
  },
  {
   "cell_type": "code",
   "execution_count": null,
   "metadata": {},
   "outputs": [],
   "source": [
    "experimentos = list(df_manual['experimento'].drop_duplicates())\n",
    "filter_tabulado = pd.DataFrame()\n",
    "for i in experimentos:\n",
    "    filter_tabulado = filter_tabulado.append(file_tabulado[file_tabulado['experimento'] == i])"
   ]
  },
  {
   "cell_type": "code",
   "execution_count": null,
   "metadata": {},
   "outputs": [],
   "source": [
    "import operator\n",
    "\n",
    "path = '/media/leandro/Volumen1TB/Lean/Analizador_imagenes_calcio/Luis/analisis/'\n",
    "json_files = os.listdir(path + 'jsons/')\n",
    "dict_min_dist = {1:200,3:70,4:50,5:35,6:20} \n",
    "TTPs = []\n",
    "for file in json_files:\n",
    "    try:\n",
    "        # read json file\n",
    "        dictres = jasonReader(path + 'jsons/' + file)\n",
    "        #extract intensities values\n",
    "        array = np.array(dictres['image']['intensities'], dtype=float)\n",
    "        #filter frequency for minimun distance\n",
    "        experiment = file.split('_')[0][:6]\n",
    "        photo = file.split('_')[-1].split('.')[0]\n",
    "        freq = filter_tabulado[(filter_tabulado['experimento'].isin([experiment])) &  (filter_tabulado['foto'].isin([photo]))]['frecuencia'].reset_index(drop=True)[0]\n",
    "        dist_between_peaks = dict_min_dist[freq]\n",
    "        # Dobble Derivate values\n",
    "        deriv = savitzky_golay(np.array(array), 25, 8 ,1)\n",
    "        deriv = deriv.astype(np.float32, copy=False)\n",
    "        deriv = cv2.bilateralFilter(deriv, 11, 150, 150)\n",
    "        # yhat1 = derivate_date(deriv[:,0]*2)\n",
    "        yhat1 = savitzky_golay(np.array(deriv[:,0]), 25, 8 ,1)\n",
    "        #Find minimum values for data\n",
    "        min_peaks_positions = _min_peaks_positions(array, _max_peaks_positions(array, dist_between_peaks))\n",
    "        min_peaks_positions_deriv = _max_peaks_positions(yhat1, dist_between_peaks)\n",
    "        max_peaks_positions = _max_peaks_positions(array, dist_between_peaks)\n",
    "        #TTP\n",
    "        TTP = list(map(operator.sub, max_peaks_positions,min_peaks_positions))\n",
    "        TTP_deriv = list(map(operator.sub, max_peaks_positions,min_peaks_positions_deriv))\n",
    "        TTPs.append(TTP_deriv)\n",
    "        print(experiment,photo,freq,max_peaks_positions,min_peaks_positions_deriv,TTP_deriv)\n",
    "    except KeyError:\n",
    "        pass"
   ]
  },
  {
   "cell_type": "code",
   "execution_count": null,
   "metadata": {},
   "outputs": [],
   "source": [
    "out = []\n",
    "for sublist in TTPs:\n",
    "    out.extend(sublist)"
   ]
  },
  {
   "cell_type": "code",
   "execution_count": null,
   "metadata": {},
   "outputs": [],
   "source": [
    "print(min(out),max(out))"
   ]
  },
  {
   "cell_type": "code",
   "execution_count": null,
   "metadata": {},
   "outputs": [],
   "source": [
    "# Creating plot\n",
    "fig = plt.figure(figsize =(10, 7))\n",
    " \n",
    "plt.hist(y, bins = range(0,100))\n",
    "plt.hist(x, bins = range(100))\n",
    "plt.hist(out, bins = range(100))\n",
    "plt.title(\"Numpy Histogram\")\n",
    " \n",
    "# show plot\n",
    "plt.show()"
   ]
  },
  {
   "cell_type": "markdown",
   "metadata": {},
   "source": [
    "## Análisis de AR"
   ]
  },
  {
   "cell_type": "code",
   "execution_count": null,
   "metadata": {},
   "outputs": [],
   "source": [
    "path_ar = '/media/leandro/Volumen1TB/Lean/Analizador_imagenes_calcio/Luis/analisis/ARs/'"
   ]
  },
  {
   "cell_type": "code",
   "execution_count": null,
   "metadata": {},
   "outputs": [],
   "source": [
    "path_tabulado = '/media/leandro/Volumen1TB/Lean/Analizador_imagenes_calcio/Luis/seleccion/'\n",
    "file_tabulado = pd.read_csv(path_tabulado + 'tabulado_imagenes.csv')\n",
    "del file_tabulado['Unnamed: 0']"
   ]
  },
  {
   "cell_type": "code",
   "execution_count": null,
   "metadata": {},
   "outputs": [],
   "source": [
    "experiments = os.listdir(path_ar)\n",
    "dif_amp = []\n",
    "dias = file_tabulado['experimento'].drop_duplicates()\n",
    "foto = file_tabulado['foto'].drop_duplicates()\n",
    "for j in dias:\n",
    "    for k in foto:\n",
    "        for i in range(0,len (experiments)):\n",
    "            if (str(j) in experiments[i]) & (k in experiments[i]):\n",
    "                file_tabulado['experimento']\n",
    "                ar = pd.read_csv(path_ar + experiments[i],sep='\\t',decimal=',')\n",
    "                dif_amp.append([experiments[i],ar['local AR'].mean()])\n",
    "                index = file_tabulado.index[(file_tabulado['experimento'] == j) & (file_tabulado['foto'] == k)].tolist()\n",
    "                file_tabulado.loc[index,'AR'] = ar['local AR'].mean()"
   ]
  },
  {
   "cell_type": "code",
   "execution_count": null,
   "metadata": {},
   "outputs": [],
   "source": [
    "file_tabulado[(file_tabulado['tratamiento']=='vk') & (file_tabulado['AR']<0.3) & (file_tabulado['frecuencia']==5)]"
   ]
  },
  {
   "cell_type": "code",
   "execution_count": null,
   "metadata": {},
   "outputs": [],
   "source": [
    "file_tabulado[(file_tabulado['tratamiento']=='c') & (file_tabulado['frecuencia']==1)]['AR'].plot.hist(bins=20, alpha=0.5)\n",
    "file_tabulado[(file_tabulado['tratamiento']=='vk') & (file_tabulado['frecuencia']==5)]['AR'].plot.hist(bins=20, alpha=0.5)"
   ]
  },
  {
   "cell_type": "code",
   "execution_count": null,
   "metadata": {},
   "outputs": [],
   "source": [
    "print(file_tabulado[(file_tabulado['tratamiento']=='c') & (file_tabulado['frecuencia']==1)]['AR'].median())\n",
    "print(file_tabulado[(file_tabulado['tratamiento']=='c') & (file_tabulado['frecuencia']==1)]['AR'].std())\n",
    "print(file_tabulado[(file_tabulado['tratamiento']=='vk') & (file_tabulado['frecuencia']==5)]['AR'].median())\n",
    "print(file_tabulado[(file_tabulado['tratamiento']=='vk') & (file_tabulado['frecuencia']==5)]['AR'].std())"
   ]
  },
  {
   "cell_type": "code",
   "execution_count": null,
   "metadata": {},
   "outputs": [],
   "source": [
    "from scipy import stats\n",
    "\n",
    "stats.ks_2samp(file_tabulado[(file_tabulado['tratamiento']=='c') & (file_tabulado['frecuencia']==5)]['AR'], file_tabulado[(file_tabulado['tratamiento']=='vk') & (file_tabulado['frecuencia']==5)]['AR'])"
   ]
  },
  {
   "cell_type": "markdown",
   "metadata": {},
   "source": [
    "### DICRI"
   ]
  },
  {
   "cell_type": "code",
   "execution_count": null,
   "metadata": {},
   "outputs": [],
   "source": [
    "tab = pd.read_csv('/media/leandro/Volumen1TB/Lean/Analizador_imagenes_calcio/Luis/seleccion/tabulado_imagenes.csv', encoding='utf-8')\n",
    "del tab['Unnamed: 0']\n",
    "pd.set_option('display.max_rows', None)\n",
    "controles = tab[tab['tratamiento'] == 'c']\n",
    "controles = controles.reset_index(drop=True)"
   ]
  },
  {
   "cell_type": "code",
   "execution_count": null,
   "metadata": {},
   "outputs": [],
   "source": [
    "exps = os.listdir(path + 'jsons/')\n",
    "experiments = []\n",
    "for j in range(0,len(exps)):\n",
    "    for i in range(0,len(controles)):\n",
    "        if str(controles['experimento'][i]) in exps[j]:\n",
    "            if str(controles['foto'][i]) in exps[j]:\n",
    "                experiments.append(exps[j])"
   ]
  },
  {
   "cell_type": "code",
   "execution_count": null,
   "metadata": {},
   "outputs": [],
   "source": [
    "path = '/media/leandro/Volumen1TB/Lean/Analizador_imagenes_calcio/Luis/analisis/'\n",
    "# experiments = os.listdir(path + 'jsons/')\n",
    "complete_file = pd.DataFrame()\n",
    "for i in range(0,len (experiments)):\n",
    "    try:\n",
    "        experiment = jasonReader(path + 'jsons/' + experiments[i])\n",
    "        amp_files = slicesParser_amplitudes(experiment).filter(['transient1','transient2'])\n",
    "        amp_files = amp_files[:][0:33]\n",
    "        transient_max = []\n",
    "        for j in range(1,len(amp_files)+1):\n",
    "            transient_max.append(max(amp_files['transient1'][j],amp_files['transient2'][j]))\n",
    "        amp_files['transient_max'] = transient_max\n",
    "        amp_files.loc[len(amp_files)+1] = (amp_files.mean())\n",
    "        amp_files.loc[len(amp_files)+1] = [amp_files['transient1'][len(amp_files)]*100/amp_files['transient_max'][len(amp_files)],amp_files['transient2'][len(amp_files)]*100/amp_files['transient_max'][len(amp_files)],'']\n",
    "        amp_files[str(experiments[i])] = list(range(1,len(amp_files)-1))+['promedios']+['porcentaje_max']\n",
    "        complete_file = pd.concat([complete_file,amp_files], axis=1)\n",
    "    except ValueError:\n",
    "        print(experiments[i])"
   ]
  },
  {
   "cell_type": "code",
   "execution_count": null,
   "metadata": {},
   "outputs": [],
   "source": [
    "complete_file.to_excel(path + 'DICRI_controles.xlsx', engine='xlsxwriter')  "
   ]
  },
  {
   "cell_type": "markdown",
   "metadata": {},
   "source": [
    "### Amplitud de transitorio global vs DI"
   ]
  },
  {
   "cell_type": "code",
   "execution_count": null,
   "metadata": {},
   "outputs": [],
   "source": [
    "path = '/media/leandro/Volumen1TB/Lean/Analizador_imagenes_calcio/Luis/analisis/json_nuevos/'\n",
    "file_tabulado = pd.read_csv(path + 'tabulado_parceado.csv')\n",
    "file_tabulado.head() "
   ]
  },
  {
   "cell_type": "code",
   "execution_count": null,
   "metadata": {},
   "outputs": [],
   "source": [
    "experiment = jasonReader(path + 'jsons/050320c8_analysis_result_8b000.json')\n",
    "allSlices = experiment['slices']\n",
    "for i in range(0,len(allSlices)):\n",
    "    print(allSlices[i]['amplitudes'])"
   ]
  },
  {
   "cell_type": "code",
   "execution_count": null,
   "metadata": {},
   "outputs": [],
   "source": [
    "path = '/media/leandro/Volumen1TB/Lean/Analizador_imagenes_calcio/Luis/analisis/json_nuevos/whole_cell/'\n",
    "experiments = os.listdir(path)\n",
    "df = pd.DataFrame()\n",
    "for experiment in experiments:\n",
    "    df = pd.read_csv(path + experiment, sep = '\\t', index_col=0).loc['amplitudes']\n",
    "    for imagen in range(0,len(file_tabulado)):\n",
    "        cel = file_tabulado['célula'].loc[imagen]\n",
    "        foto = file_tabulado['foto'].loc[imagen]\n",
    "        if (cel in experiment) & (foto in experiment):\n",
    "            print(experiment,df)\n",
    "\n",
    "#     print (experiment, df)"
   ]
  },
  {
   "cell_type": "markdown",
   "metadata": {},
   "source": [
    "## Waves"
   ]
  },
  {
   "cell_type": "code",
   "execution_count": null,
   "metadata": {},
   "outputs": [],
   "source": [
    "path = '/media/leandro/Volumen1TB/Lean/Analizador_imagenes_calcio/CardIAP/'\n",
    "slices = pd.read_csv(path + 'slices.csv',sep='\\t',index_col='Unnamed: 0')"
   ]
  },
  {
   "cell_type": "code",
   "execution_count": null,
   "metadata": {
    "scrolled": true
   },
   "outputs": [],
   "source": [
    "max_positions_df = pd.DataFrame()\n",
    "for slice_number in range(len(slices['slice_number'].drop_duplicates())):\n",
    "    slices_filtered = slices[slices['slice_number']==slice_number]['max_peaks_positions'].reset_index(drop=True)\n",
    "    max_positions_df = pd.concat([max_positions_df, slices_filtered], axis=1)"
   ]
  },
  {
   "cell_type": "code",
   "execution_count": null,
   "metadata": {},
   "outputs": [],
   "source": [
    "max_positions_df"
   ]
  },
  {
   "cell_type": "code",
   "execution_count": null,
   "metadata": {},
   "outputs": [],
   "source": []
  }
 ],
 "metadata": {
  "kernelspec": {
   "display_name": "Python 3",
   "language": "python",
   "name": "python3"
  },
  "language_info": {
   "codemirror_mode": {
    "name": "ipython",
    "version": 3
   },
   "file_extension": ".py",
   "mimetype": "text/x-python",
   "name": "python",
   "nbconvert_exporter": "python",
   "pygments_lexer": "ipython3",
   "version": "3.8.3"
  }
 },
 "nbformat": 4,
 "nbformat_minor": 4
}
