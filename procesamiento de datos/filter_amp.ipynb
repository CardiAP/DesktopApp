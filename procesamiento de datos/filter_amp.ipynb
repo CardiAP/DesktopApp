{
 "cells": [
  {
   "cell_type": "code",
   "execution_count": 1,
   "metadata": {},
   "outputs": [],
   "source": [
    "#Imports\n",
    "import json\n",
    "import numpy as np\n",
    "import pandas as pd\n",
    "import csv\n",
    "import scipy.stats\n",
    "import matplotlib.pyplot as plt\n",
    "import seaborn as sns\n",
    "import os\n",
    "from peakutils import indexes"
   ]
  },
  {
   "cell_type": "code",
   "execution_count": 2,
   "metadata": {},
   "outputs": [],
   "source": [
    "def jasonReader(path):\n",
    "    \"\"\" Reads the .jason generated with jasonGenartor the given path\"\"\"\n",
    "    with open(path,'r') as miarch:\n",
    "        loaded_dict = json.loads(miarch.read())\n",
    "    return loaded_dict"
   ]
  },
  {
   "cell_type": "code",
   "execution_count": 3,
   "metadata": {},
   "outputs": [],
   "source": [
    "def wholecellParser(dictres):\n",
    "    #extract all the slices data\n",
    "    allSlices = dictres['image']\n",
    "    #seting columns names\n",
    "    column_names = ['max_peaks_positions','max_peaks_intensities','min_peaks_positions','min_peaks_intensities','amplitudes','times_to_peaks','tau_s']\n",
    "    #define a dataframe\n",
    "    df_sum = pd.DataFrame(columns=column_names)\n",
    "    #populating the dataframe\n",
    "    for i in column_names:\n",
    "        df_sum.loc[:,i] = allSlices[i][:2]\n",
    "\n",
    "    return df_sum"
   ]
  },
  {
   "cell_type": "code",
   "execution_count": 4,
   "metadata": {},
   "outputs": [],
   "source": [
    "def derivate_date(array):\n",
    "    return np.gradient(array, axis=None, edge_order=1)"
   ]
  },
  {
   "cell_type": "code",
   "execution_count": 5,
   "metadata": {},
   "outputs": [],
   "source": [
    " def savitzky_golay(y, window_size, order, deriv=0, rate=1):\n",
    "    r\"\"\"Smooth (and optionally differentiate) data with a Savitzky-Golay filter.\n",
    "    The Savitzky-Golay filter removes high frequency noise from data.\n",
    "    It has the advantage of preserving the original shape and\n",
    "    features of the signal better than other types of filtering\n",
    "    approaches, such as moving averages techniques.\n",
    "    Parameters\n",
    "    ----------\n",
    "    y : array_like, shape (N,)\n",
    "        the values of the time history of the signal.\n",
    "    window_size : int\n",
    "  12         the length of the window. Must be an odd integer number.\n",
    "  13     order : int\n",
    "  14         the order of the polynomial used in the filtering.\n",
    "  15         Must be less then `window_size` - 1.\n",
    "  16     deriv: int\n",
    "  17         the order of the derivative to compute (default = 0 means only smoothing)\n",
    "  18     Returns\n",
    "  19     -------\n",
    "  20     ys : ndarray, shape (N)\n",
    "  21         the smoothed signal (or it's n-th derivative).\n",
    "  22     Notes\n",
    "  23     -----\n",
    "  24     The Savitzky-Golay is a type of low-pass filter, particularly\n",
    "  25     suited for smoothing noisy data. The main idea behind this\n",
    "  26     approach is to make for each point a least-square fit with a\n",
    "  27     polynomial of high order over a odd-sized window centered at\n",
    "  28     the point.\n",
    "  29     Examples\n",
    "  30     --------\n",
    "  31     t = np.linspace(-4, 4, 500)\n",
    "  32     y = np.exp( -t**2 ) + np.random.normal(0, 0.05, t.shape)\n",
    "  33     ysg = savitzky_golay(y, window_size=31, order=4)\n",
    "  34     import matplotlib.pyplot as plt\n",
    "  35     plt.plot(t, y, label='Noisy signal')\n",
    "  36     plt.plot(t, np.exp(-t**2), 'k', lw=1.5, label='Original signal')\n",
    "  37     plt.plot(t, ysg, 'r', label='Filtered signal')\n",
    "  38     plt.legend()\n",
    "  39     plt.show()\n",
    "  40     References\n",
    "  41     ----------\n",
    "  42     .. [1] A. Savitzky, M. J. E. Golay, Smoothing and Differentiation of\n",
    "  43        Data by Simplified Least Squares Procedures. Analytical\n",
    "  44        Chemistry, 1964, 36 (8), pp 1627-1639.\n",
    "  45     .. [2] Numerical Recipes 3rd Edition: The Art of Scientific Computing\n",
    "  46        W.H. Press, S.A. Teukolsky, W.T. Vetterling, B.P. Flannery\n",
    "  47        Cambridge University Press ISBN-13: 9780521880688\n",
    "  48     \"\"\"\n",
    "    import numpy as np\n",
    "    from math import factorial\n",
    "    \n",
    "    try:\n",
    "        window_size = np.abs(int(window_size))\n",
    "        order = np.abs(int(order))\n",
    "    except ValueError as msg:\n",
    "        raise ValueError(\"window_size and order have to be of type int\")\n",
    "    if window_size % 2 != 1 or window_size < 1:\n",
    "        raise TypeError(\"window_size size must be a positive odd number\")\n",
    "    if window_size < order + 2:\n",
    "        raise TypeError(\"window_size is too small for the polynomials order\")\n",
    "    order_range = range(order+1)\n",
    "    half_window = (window_size -1) // 2\n",
    "    # precompute coefficients\n",
    "    b = np.mat([[k**i for i in order_range] for k in range(-half_window, half_window+1)])\n",
    "    m = np.linalg.pinv(b).A[deriv] * rate**deriv * factorial(deriv)\n",
    "    # pad the signal at the extremes with\n",
    "    # values taken from the signal itself\n",
    "    firstvals = y[0] - abs( y[1:half_window+1][::-1] - y[0] )\n",
    "    lastvals = y[-1] + abs(y[-half_window-1:-1][::-1] - y[-1])\n",
    "    y = np.concatenate((firstvals, y, lastvals))\n",
    "    return np.convolve( m[::-1], y, mode='valid')"
   ]
  },
  {
   "cell_type": "code",
   "execution_count": 9,
   "metadata": {},
   "outputs": [],
   "source": [
    "def slicesParser_gradient(dictres,min_dist_between_max_peak):\n",
    "    #extract all the slices data\n",
    "    allSlices = dictres['slices']\n",
    "    #seting columns names\n",
    "    column_names = ['transient' + str(x+1) for x in range(0,len(allSlices[0]['amplitudes']))]\n",
    "    #define a dataframe\n",
    "    df_sum = pd.DataFrame(columns=column_names)\n",
    "    for _slice in range(len(allSlices)):\n",
    "        slice_intensities = allSlices[_slice]['intensities']\n",
    "        #calculate gradient\n",
    "        yhat = savitzky_golay(np.array(slice_intensities), 25, int(len(allSlices[_slice]['intensities'])/min_dist_between_max_peak),1)\n",
    "        #Maximun gradient\n",
    "        amp_list = _max_peaks_positions(yhat, min_dist_between_max_peak)\n",
    "        gradient_list = _intensities_in_positions(yhat, amp_list)\n",
    "        #populating the dataframe\n",
    "        df_sum.loc[_slice] = gradient_list\n",
    "    return df_sum"
   ]
  },
  {
   "cell_type": "code",
   "execution_count": 7,
   "metadata": {},
   "outputs": [],
   "source": [
    "def _max_peaks_positions(vector, min_dist_between_max_peaks):\n",
    "    threshold = 0.2\n",
    "    possible_max_peaks = indexes(np.array(vector), thres=threshold, min_dist=min_dist_between_max_peaks)\n",
    "    intensity_avg = sum(vector) / len(vector)\n",
    "    max_peaks = [max_peak for max_peak in possible_max_peaks if vector[max_peak] > intensity_avg/8]\n",
    "\n",
    "    if len(max_peaks) == 0: raise ValueError(\"Peaks not found\")\n",
    "\n",
    "    return max_peaks\n",
    "\n",
    "def _analyze_matrix_slice(matrix, max_peaks_positions):\n",
    "    intensities = np.asarray(_mean_columns(matrix), dtype=np.int16)\n",
    "    max_peaks_intensities = _intensities_in_positions(intensities, max_peaks_positions)\n",
    "\n",
    "    return ({\n",
    "        \"max_peaks_intensities\": max_peaks_intensities,\n",
    "\n",
    "    })\n",
    "def _intensities_in_positions(intensities, positions):\n",
    "    return [intensities[position] for position in positions]"
   ]
  },
  {
   "cell_type": "code",
   "execution_count": 8,
   "metadata": {},
   "outputs": [],
   "source": [
    "def discordance_index(path,min_dist_between_max_peaks):\n",
    "    DIs = pd.DataFrame()\n",
    "    for j in range (1,len(slicesParser_gradient(path,min_dist_between_max_peaks).columns)):\n",
    "        rel_diff = []\n",
    "        for i in range (1, len (slicesParser_gradient(path,min_dist_between_max_peaks))):\n",
    "            T1 = list(slicesParser_gradient(path,min_dist_between_max_peaks)['transient'+str(j)])[i]\n",
    "            T2 = list(slicesParser_gradient(path,min_dist_between_max_peaks)['transient'+str(j+1)])[i]\n",
    "            rel_diff.append((T1-T2)/max(T1,T2))\n",
    "        DIs[j] = rel_diff\n",
    "    return DIs"
   ]
  },
  {
   "cell_type": "code",
   "execution_count": 13,
   "metadata": {},
   "outputs": [],
   "source": [
    "path_imagenes = '/media/leandro/Volumen1TB/Lean/Analizador_imagenes_calcio/Luis/seleccion/'\n",
    "df_tabulado = pd.read_csv(path_imagenes + 'tabulado_imagenes.csv', index_col= 'Unnamed: 0')\n",
    "\n",
    "dict_min_dist = {1:200,3:70,4:50,5:40} "
   ]
  },
  {
   "cell_type": "code",
   "execution_count": 14,
   "metadata": {},
   "outputs": [],
   "source": [
    "import warnings\n",
    "warnings.simplefilter(action='ignore', category=FutureWarning)\n",
    "\n",
    "path = '/media/leandro/Volumen1TB/Lean/Analizador_imagenes_calcio/Luis/analisis/jsons/'\n",
    "df = pd.DataFrame()\n",
    "for foto in os.listdir(path):\n",
    "    try:\n",
    "        experiment = foto.split('_')[0][:6]\n",
    "        photo = foto.split('_')[-1].split('.')[0]\n",
    "        frec = df_tabulado[(df_tabulado['experimento'].isin([experiment])) &  (df_tabulado['foto'].isin([photo]))]['frecuencia'].reset_index(drop=True)[0]\n",
    "        min_dist_between_max_peaks = dict_min_dist[frec]\n",
    "        array = jasonReader(path + foto)\n",
    "        discordance_list = discordance_index(array,min_dist_between_max_peaks).std()\n",
    "        df[foto[:-4]] = discordance_list\n",
    "    except:\n",
    "        pass"
   ]
  },
  {
   "cell_type": "code",
   "execution_count": 18,
   "metadata": {},
   "outputs": [],
   "source": [
    "df.T.to_csv('/media/leandro/Volumen1TB/Lean/Analizador_imagenes_calcio/Luis/analisis/DI_gradient.csv',decimal = ',')"
   ]
  },
  {
   "cell_type": "markdown",
   "metadata": {},
   "source": [
    "### Precisión y exactitud amplitud"
   ]
  },
  {
   "cell_type": "code",
   "execution_count": 4,
   "metadata": {},
   "outputs": [],
   "source": [
    "path = '/media/leandro/Volumen1TB/Lean/Analizador_imagenes_calcio/Luis/jsons/'\n",
    "file_tabulado = pd.read_excel(path + 'tab_prueba2.xlsx')\n",
    "del file_tabulado['Unnamed: 0']"
   ]
  },
  {
   "cell_type": "code",
   "execution_count": 94,
   "metadata": {},
   "outputs": [
    {
     "data": {
      "text/html": [
       "<div>\n",
       "<style scoped>\n",
       "    .dataframe tbody tr th:only-of-type {\n",
       "        vertical-align: middle;\n",
       "    }\n",
       "\n",
       "    .dataframe tbody tr th {\n",
       "        vertical-align: top;\n",
       "    }\n",
       "\n",
       "    .dataframe thead th {\n",
       "        text-align: right;\n",
       "    }\n",
       "</style>\n",
       "<table border=\"1\" class=\"dataframe\">\n",
       "  <thead>\n",
       "    <tr style=\"text-align: right;\">\n",
       "      <th></th>\n",
       "      <th>experimento</th>\n",
       "      <th>foto</th>\n",
       "      <th>pico</th>\n",
       "      <th>Intensidad_max</th>\n",
       "      <th>tiempo_max</th>\n",
       "      <th>Intensidad_min</th>\n",
       "      <th>tiempo_min</th>\n",
       "      <th>Amplitud</th>\n",
       "      <th>TTP</th>\n",
       "      <th>TTP_manual</th>\n",
       "    </tr>\n",
       "  </thead>\n",
       "  <tbody>\n",
       "    <tr>\n",
       "      <th>0</th>\n",
       "      <td>200121</td>\n",
       "      <td>C1a000</td>\n",
       "      <td>1</td>\n",
       "      <td>43.19</td>\n",
       "      <td>125</td>\n",
       "      <td>17.89</td>\n",
       "      <td>118</td>\n",
       "      <td>1.414198</td>\n",
       "      <td>7</td>\n",
       "      <td>4.949802</td>\n",
       "    </tr>\n",
       "    <tr>\n",
       "      <th>1</th>\n",
       "      <td>200121</td>\n",
       "      <td>C1a000</td>\n",
       "      <td>2</td>\n",
       "      <td>42.64</td>\n",
       "      <td>360</td>\n",
       "      <td>16.80</td>\n",
       "      <td>354</td>\n",
       "      <td>1.538095</td>\n",
       "      <td>6</td>\n",
       "      <td>3.900929</td>\n",
       "    </tr>\n",
       "  </tbody>\n",
       "</table>\n",
       "</div>"
      ],
      "text/plain": [
       "   experimento    foto  pico  Intensidad_max  tiempo_max  Intensidad_min  \\\n",
       "0       200121  C1a000     1           43.19         125           17.89   \n",
       "1       200121  C1a000     2           42.64         360           16.80   \n",
       "\n",
       "   tiempo_min  Amplitud  TTP  TTP_manual  \n",
       "0         118  1.414198    7    4.949802  \n",
       "1         354  1.538095    6    3.900929  "
      ]
     },
     "execution_count": 94,
     "metadata": {},
     "output_type": "execute_result"
    }
   ],
   "source": [
    "df_manual = pd.read_csv(\"/media/leandro/Volumen1TB/Lean/Analizador_imagenes_calcio/Luis/DI_manual_1hz.csv\", sep=\",\")\n",
    "df_manual.head(2)"
   ]
  },
  {
   "cell_type": "code",
   "execution_count": 6,
   "metadata": {},
   "outputs": [],
   "source": [
    "path = '/media/leandro/Volumen1TB/Lean/Analizador_imagenes_calcio/Luis/analisis/'\n",
    "experiments = os.listdir(path + 'jsons/')\n",
    "dif_amp = pd.DataFrame()\n",
    "dias = df_manual['experimento'].drop_duplicates()\n",
    "foto = df_manual['foto'].drop_duplicates()\n",
    "for j in dias:\n",
    "    for k in foto:\n",
    "        for i in range(0,len (experiments)):\n",
    "            if (str(j) in experiments[i]) & (k in experiments[i]):\n",
    "                try:\n",
    "                    experiment = jasonReader(path + 'jsons/' + experiments[i])\n",
    "                    df_file = wholecellParser(experiment)\n",
    "                    df_file['file'] = experiments[i]\n",
    "                    dif_amp = dif_amp.append(df_file, ignore_index=True)\n",
    "                except:\n",
    "                    print(experiments[i])"
   ]
  },
  {
   "cell_type": "code",
   "execution_count": 7,
   "metadata": {},
   "outputs": [],
   "source": [
    "dif_amp.to_csv('/media/leandro/Volumen1TB/Lean/Analizador_imagenes_calcio/Luis/analisis/amp_cadiap_5hz.csv')"
   ]
  },
  {
   "cell_type": "code",
   "execution_count": 95,
   "metadata": {},
   "outputs": [
    {
     "data": {
      "text/html": [
       "<div>\n",
       "<style scoped>\n",
       "    .dataframe tbody tr th:only-of-type {\n",
       "        vertical-align: middle;\n",
       "    }\n",
       "\n",
       "    .dataframe tbody tr th {\n",
       "        vertical-align: top;\n",
       "    }\n",
       "\n",
       "    .dataframe thead th {\n",
       "        text-align: right;\n",
       "    }\n",
       "</style>\n",
       "<table border=\"1\" class=\"dataframe\">\n",
       "  <thead>\n",
       "    <tr style=\"text-align: right;\">\n",
       "      <th></th>\n",
       "      <th>Unnamed: 0</th>\n",
       "      <th>max_peaks_positions</th>\n",
       "      <th>max_peaks_intensities</th>\n",
       "      <th>min_peaks_positions</th>\n",
       "      <th>min_peaks_intensities</th>\n",
       "      <th>amplitudes</th>\n",
       "      <th>times_to_peaks</th>\n",
       "      <th>file</th>\n",
       "      <th>TTP_norm</th>\n",
       "    </tr>\n",
       "  </thead>\n",
       "  <tbody>\n",
       "    <tr>\n",
       "      <th>0</th>\n",
       "      <td>0</td>\n",
       "      <td>37.0</td>\n",
       "      <td>30</td>\n",
       "      <td>18.0</td>\n",
       "      <td>13</td>\n",
       "      <td>1.307692</td>\n",
       "      <td>19</td>\n",
       "      <td>200121_analysis_result_c1a000.json</td>\n",
       "      <td>14.529412</td>\n",
       "    </tr>\n",
       "    <tr>\n",
       "      <th>1</th>\n",
       "      <td>1</td>\n",
       "      <td>272.0</td>\n",
       "      <td>29</td>\n",
       "      <td>253.0</td>\n",
       "      <td>13</td>\n",
       "      <td>1.230769</td>\n",
       "      <td>19</td>\n",
       "      <td>200121_analysis_result_c1a000.json</td>\n",
       "      <td>15.437499</td>\n",
       "    </tr>\n",
       "  </tbody>\n",
       "</table>\n",
       "</div>"
      ],
      "text/plain": [
       "   Unnamed: 0  max_peaks_positions  max_peaks_intensities  \\\n",
       "0           0                 37.0                     30   \n",
       "1           1                272.0                     29   \n",
       "\n",
       "   min_peaks_positions  min_peaks_intensities  amplitudes  times_to_peaks  \\\n",
       "0                 18.0                     13    1.307692              19   \n",
       "1                253.0                     13    1.230769              19   \n",
       "\n",
       "                                 file   TTP_norm  \n",
       "0  200121_analysis_result_c1a000.json  14.529412  \n",
       "1  200121_analysis_result_c1a000.json  15.437499  "
      ]
     },
     "execution_count": 95,
     "metadata": {},
     "output_type": "execute_result"
    }
   ],
   "source": [
    "amp_cardiap = pd.read_csv('/media/leandro/Volumen1TB/Lean/Analizador_imagenes_calcio/Luis/analisis/amp_cadiap.csv')\n",
    "amp_cardiap.head(2)"
   ]
  },
  {
   "cell_type": "code",
   "execution_count": 96,
   "metadata": {},
   "outputs": [
    {
     "data": {
      "text/plain": [
       "(0.8935940962854456, 2.5574915153991222e-18)"
      ]
     },
     "execution_count": 96,
     "metadata": {},
     "output_type": "execute_result"
    }
   ],
   "source": [
    "import scipy.stats\n",
    "\n",
    "x = amp_cardiap['TTP_norm'].dropna()\n",
    "y = df_manual ['TTP_manual'].dropna()\n",
    "scipy.stats.pearsonr(x, y)"
   ]
  },
  {
   "cell_type": "code",
   "execution_count": 97,
   "metadata": {},
   "outputs": [],
   "source": [
    "df = pd.DataFrame((x,y)).T\n",
    "def outliers(df,column,percentiles):\n",
    "    Q1 = df[column].quantile(percentiles[0])\n",
    "    Q3 = df[column].quantile(percentiles[1])\n",
    "    IQR = Q3 - Q1\n",
    "    idx = ~((df[column] < (Q1 - 1.5 * IQR)) | (df[column] > (Q3 + 1.5 * IQR)))\n",
    "    df = df[idx.values]\n",
    "    return df\n",
    "\n",
    "df = outliers(df,'TTP_norm',[0.02,0.98])\n",
    "df = outliers(df,'TTP_manual',[0.02,0.98])"
   ]
  },
  {
   "cell_type": "code",
   "execution_count": 98,
   "metadata": {},
   "outputs": [
    {
     "data": {
      "text/plain": [
       "Text(0, 0.5, 'TTP-manual')"
      ]
     },
     "execution_count": 98,
     "metadata": {},
     "output_type": "execute_result"
    },
    {
     "data": {
      "image/png": "[encoded data removed]",
      "text/plain": [
       "<Figure size 432x288 with 1 Axes>"
      ]
     },
     "metadata": {
      "needs_background": "light"
     },
     "output_type": "display_data"
    }
   ],
   "source": [
    "import matplotlib.pyplot as pp\n",
    "\n",
    "# plot\n",
    "pp.scatter(df['TTP_norm'],df['TTP_manual'])\n",
    "pp.xlabel('times_to_peaks-CardIAP')\n",
    "pp.ylabel('TTP-manual')\n",
    "\n",
    "# pp.savefig('/media/leandro/Volumen1TB/Lean/Analizador_imagenes_calcio/Luis/analisis/TTP_cadiap_1hz.png')"
   ]
  },
  {
   "cell_type": "code",
   "execution_count": 99,
   "metadata": {},
   "outputs": [
    {
     "data": {
      "text/plain": [
       "Text(0, 1, 'r-squared = 0.291')"
      ]
     },
     "execution_count": 99,
     "metadata": {},
     "output_type": "execute_result"
    },
    {
     "data": {
      "image/png": "[encoded data removed]",
      "text/plain": [
       "<Figure size 432x288 with 1 Axes>"
      ]
     },
     "metadata": {
      "needs_background": "light"
     },
     "output_type": "display_data"
    }
   ],
   "source": [
    "from scipy import stats\n",
    "from sklearn.metrics import r2_score\n",
    "#regression part\n",
    "slope, intercept, r_value, p_value, std_err = stats.linregress(x,y)\n",
    "\n",
    "line = slope*x+intercept\n",
    "lines = plt.plot(x, line, 'cornflowerblue', label='y={:.2f}x+{:.2f}'.format(slope,intercept))\n",
    "#end\n",
    "plt.setp(lines, color='cornflowerblue', linewidth=2.0,linestyle = ':')\n",
    "plt.scatter(x,y, color=\"k\", s=3.5)\n",
    "plt.legend(fontsize=9)\n",
    "plt.annotate(\"r-squared = {:.3f}\".format(r2_score(x, y)), (0, 1))\n",
    "# pp.savefig('/media/leandro/Volumen1TB/Lean/Analizador_imagenes_calcio/Luis/analisis/TTP_cadiap_1hz.png')"
   ]
  },
  {
   "cell_type": "code",
   "execution_count": 22,
   "metadata": {},
   "outputs": [
    {
     "name": "stdout",
     "output_type": "stream",
     "text": [
      "10.791666666666666\n",
      "2.79024389487869\n",
      "20.791666666666668 2.041675712818286 4.168439716312057 10.0 2.820894682279124 7.957446808510638\n"
     ]
    }
   ],
   "source": [
    "from statistics import variance\n",
    "\n",
    "diff = x[:48]-y[:48]\n",
    "print(diff.mean())\n",
    "print(diff.std())\n",
    "print(x[:48].mean(),x[:48].std(),variance(x[:48]),y[:48].mean(),y[:48].std(),variance(y[:48]))"
   ]
  },
  {
   "cell_type": "code",
   "execution_count": 23,
   "metadata": {},
   "outputs": [
    {
     "data": {
      "text/plain": [
       "Ttest_1sampResult(statistic=26.79581523224053, pvalue=4.025477459164595e-30)"
      ]
     },
     "execution_count": 23,
     "metadata": {},
     "output_type": "execute_result"
    }
   ],
   "source": [
    "stats.ttest_1samp(diff, 0.0)"
   ]
  },
  {
   "cell_type": "code",
   "execution_count": 24,
   "metadata": {},
   "outputs": [
    {
     "data": {
      "text/plain": [
       "LeveneResult(statistic=12.230116266580618, pvalue=0.0007466054493280572)"
      ]
     },
     "execution_count": 24,
     "metadata": {},
     "output_type": "execute_result"
    }
   ],
   "source": [
    "scipy.stats.levene(x[:48],y[:48],center='trimmed', proportiontocut=0.05)"
   ]
  },
  {
   "cell_type": "markdown",
   "metadata": {},
   "source": [
    "## Análisis de AR"
   ]
  },
  {
   "cell_type": "code",
   "execution_count": 1,
   "metadata": {},
   "outputs": [],
   "source": [
    "path_ar = '/media/leandro/Volumen1TB/Lean/Analizador_imagenes_calcio/Luis/analisis/ARs/'"
   ]
  },
  {
   "cell_type": "code",
   "execution_count": 4,
   "metadata": {},
   "outputs": [],
   "source": [
    "path_tabulado = '/media/leandro/Volumen1TB/Lean/Analizador_imagenes_calcio/Luis/seleccion/'\n",
    "file_tabulado = pd.read_csv(path_tabulado + 'tabulado_imagenes.csv')\n",
    "del file_tabulado['Unnamed: 0']"
   ]
  },
  {
   "cell_type": "code",
   "execution_count": 8,
   "metadata": {},
   "outputs": [],
   "source": [
    "experiments = os.listdir(path_ar)\n",
    "dif_amp = []\n",
    "dias = file_tabulado['experimento'].drop_duplicates()\n",
    "foto = file_tabulado['foto'].drop_duplicates()\n",
    "for j in dias:\n",
    "    for k in foto:\n",
    "        for i in range(0,len (experiments)):\n",
    "            if (str(j) in experiments[i]) & (k in experiments[i]):\n",
    "                file_tabulado['experimento']\n",
    "                ar = pd.read_csv(path_ar + experiments[i],sep='\\t',decimal=',')\n",
    "                dif_amp.append([experiments[i],ar['local AR'].mean()])\n",
    "                index = file_tabulado.index[(file_tabulado['experimento'] == j) & (file_tabulado['foto'] == k)].tolist()\n",
    "                file_tabulado.loc[index,'AR'] = ar['local AR'].mean()"
   ]
  },
  {
   "cell_type": "code",
   "execution_count": 24,
   "metadata": {},
   "outputs": [
    {
     "data": {
      "text/html": [
       "<div>\n",
       "<style scoped>\n",
       "    .dataframe tbody tr th:only-of-type {\n",
       "        vertical-align: middle;\n",
       "    }\n",
       "\n",
       "    .dataframe tbody tr th {\n",
       "        vertical-align: top;\n",
       "    }\n",
       "\n",
       "    .dataframe thead th {\n",
       "        text-align: right;\n",
       "    }\n",
       "</style>\n",
       "<table border=\"1\" class=\"dataframe\">\n",
       "  <thead>\n",
       "    <tr style=\"text-align: right;\">\n",
       "      <th></th>\n",
       "      <th>experimento</th>\n",
       "      <th>carpeta</th>\n",
       "      <th>foto</th>\n",
       "      <th>tratamiento</th>\n",
       "      <th>frecuencia</th>\n",
       "      <th>dosis</th>\n",
       "      <th>AR</th>\n",
       "    </tr>\n",
       "  </thead>\n",
       "  <tbody>\n",
       "    <tr>\n",
       "      <th>30</th>\n",
       "      <td>180221</td>\n",
       "      <td>180221</td>\n",
       "      <td>vk2d000</td>\n",
       "      <td>vk</td>\n",
       "      <td>5</td>\n",
       "      <td>5</td>\n",
       "      <td>0.129002</td>\n",
       "    </tr>\n",
       "    <tr>\n",
       "      <th>65</th>\n",
       "      <td>120121</td>\n",
       "      <td>120121</td>\n",
       "      <td>vk11d000</td>\n",
       "      <td>vk</td>\n",
       "      <td>5</td>\n",
       "      <td>1</td>\n",
       "      <td>0.098995</td>\n",
       "    </tr>\n",
       "    <tr>\n",
       "      <th>69</th>\n",
       "      <td>120121</td>\n",
       "      <td>120121</td>\n",
       "      <td>vk9d000</td>\n",
       "      <td>vk</td>\n",
       "      <td>5</td>\n",
       "      <td>1</td>\n",
       "      <td>0.180099</td>\n",
       "    </tr>\n",
       "    <tr>\n",
       "      <th>195</th>\n",
       "      <td>60320</td>\n",
       "      <td>060320vk2</td>\n",
       "      <td>vk2d001</td>\n",
       "      <td>vk</td>\n",
       "      <td>5</td>\n",
       "      <td>5</td>\n",
       "      <td>0.223304</td>\n",
       "    </tr>\n",
       "    <tr>\n",
       "      <th>207</th>\n",
       "      <td>60320</td>\n",
       "      <td>060320vk3</td>\n",
       "      <td>vk3d001</td>\n",
       "      <td>vk</td>\n",
       "      <td>5</td>\n",
       "      <td>5</td>\n",
       "      <td>0.130519</td>\n",
       "    </tr>\n",
       "    <tr>\n",
       "      <th>210</th>\n",
       "      <td>60320</td>\n",
       "      <td>060320vk5</td>\n",
       "      <td>vk5d000</td>\n",
       "      <td>vk</td>\n",
       "      <td>5</td>\n",
       "      <td>5</td>\n",
       "      <td>0.060227</td>\n",
       "    </tr>\n",
       "    <tr>\n",
       "      <th>226</th>\n",
       "      <td>60121</td>\n",
       "      <td>60121</td>\n",
       "      <td>vk12d000</td>\n",
       "      <td>vk</td>\n",
       "      <td>5</td>\n",
       "      <td>10</td>\n",
       "      <td>0.234596</td>\n",
       "    </tr>\n",
       "    <tr>\n",
       "      <th>231</th>\n",
       "      <td>60121</td>\n",
       "      <td>60121</td>\n",
       "      <td>vk11d000</td>\n",
       "      <td>vk</td>\n",
       "      <td>5</td>\n",
       "      <td>10</td>\n",
       "      <td>0.124235</td>\n",
       "    </tr>\n",
       "    <tr>\n",
       "      <th>233</th>\n",
       "      <td>60121</td>\n",
       "      <td>60121</td>\n",
       "      <td>vk10d000</td>\n",
       "      <td>vk</td>\n",
       "      <td>5</td>\n",
       "      <td>10</td>\n",
       "      <td>0.158316</td>\n",
       "    </tr>\n",
       "    <tr>\n",
       "      <th>234</th>\n",
       "      <td>60121</td>\n",
       "      <td>60121</td>\n",
       "      <td>vk6d000</td>\n",
       "      <td>vk</td>\n",
       "      <td>5</td>\n",
       "      <td>10</td>\n",
       "      <td>0.175478</td>\n",
       "    </tr>\n",
       "    <tr>\n",
       "      <th>274</th>\n",
       "      <td>311019</td>\n",
       "      <td>311019vk2</td>\n",
       "      <td>vk2d000</td>\n",
       "      <td>vk</td>\n",
       "      <td>5</td>\n",
       "      <td>5</td>\n",
       "      <td>0.248787</td>\n",
       "    </tr>\n",
       "    <tr>\n",
       "      <th>292</th>\n",
       "      <td>200121</td>\n",
       "      <td>200121</td>\n",
       "      <td>vk3d000</td>\n",
       "      <td>vk</td>\n",
       "      <td>5</td>\n",
       "      <td>10</td>\n",
       "      <td>0.235010</td>\n",
       "    </tr>\n",
       "    <tr>\n",
       "      <th>423</th>\n",
       "      <td>240221</td>\n",
       "      <td>240221</td>\n",
       "      <td>V3d000</td>\n",
       "      <td>vk</td>\n",
       "      <td>5</td>\n",
       "      <td>1</td>\n",
       "      <td>0.079008</td>\n",
       "    </tr>\n",
       "    <tr>\n",
       "      <th>427</th>\n",
       "      <td>240221</td>\n",
       "      <td>240221</td>\n",
       "      <td>V4d000</td>\n",
       "      <td>vk</td>\n",
       "      <td>5</td>\n",
       "      <td>1</td>\n",
       "      <td>0.111408</td>\n",
       "    </tr>\n",
       "    <tr>\n",
       "      <th>479</th>\n",
       "      <td>30321</td>\n",
       "      <td>30321</td>\n",
       "      <td>V2d000</td>\n",
       "      <td>vk</td>\n",
       "      <td>5</td>\n",
       "      <td>5</td>\n",
       "      <td>0.101870</td>\n",
       "    </tr>\n",
       "    <tr>\n",
       "      <th>483</th>\n",
       "      <td>30321</td>\n",
       "      <td>30321</td>\n",
       "      <td>V3d000</td>\n",
       "      <td>vk</td>\n",
       "      <td>5</td>\n",
       "      <td>1</td>\n",
       "      <td>0.238371</td>\n",
       "    </tr>\n",
       "    <tr>\n",
       "      <th>503</th>\n",
       "      <td>170221</td>\n",
       "      <td>170221</td>\n",
       "      <td>V3d000</td>\n",
       "      <td>vk</td>\n",
       "      <td>5</td>\n",
       "      <td>1</td>\n",
       "      <td>0.274435</td>\n",
       "    </tr>\n",
       "  </tbody>\n",
       "</table>\n",
       "</div>"
      ],
      "text/plain": [
       "     experimento    carpeta      foto tratamiento  frecuencia  dosis        AR\n",
       "30        180221     180221   vk2d000          vk           5      5  0.129002\n",
       "65        120121     120121  vk11d000          vk           5      1  0.098995\n",
       "69        120121     120121   vk9d000          vk           5      1  0.180099\n",
       "195        60320  060320vk2   vk2d001          vk           5      5  0.223304\n",
       "207        60320  060320vk3   vk3d001          vk           5      5  0.130519\n",
       "210        60320  060320vk5   vk5d000          vk           5      5  0.060227\n",
       "226        60121      60121  vk12d000          vk           5     10  0.234596\n",
       "231        60121      60121  vk11d000          vk           5     10  0.124235\n",
       "233        60121      60121  vk10d000          vk           5     10  0.158316\n",
       "234        60121      60121   vk6d000          vk           5     10  0.175478\n",
       "274       311019  311019vk2   vk2d000          vk           5      5  0.248787\n",
       "292       200121     200121   vk3d000          vk           5     10  0.235010\n",
       "423       240221     240221    V3d000          vk           5      1  0.079008\n",
       "427       240221     240221    V4d000          vk           5      1  0.111408\n",
       "479        30321      30321    V2d000          vk           5      5  0.101870\n",
       "483        30321      30321    V3d000          vk           5      1  0.238371\n",
       "503       170221     170221    V3d000          vk           5      1  0.274435"
      ]
     },
     "execution_count": 24,
     "metadata": {},
     "output_type": "execute_result"
    }
   ],
   "source": [
    "file_tabulado[(file_tabulado['tratamiento']=='vk') & (file_tabulado['AR']<0.3) & (file_tabulado['frecuencia']==5)]"
   ]
  },
  {
   "cell_type": "code",
   "execution_count": 15,
   "metadata": {},
   "outputs": [
    {
     "data": {
      "text/plain": [
       "<AxesSubplot:ylabel='Frequency'>"
      ]
     },
     "execution_count": 15,
     "metadata": {},
     "output_type": "execute_result"
    },
    {
     "data": {
      "image/png": "[encoded data removed]",
      "text/plain": [
       "<Figure size 432x288 with 1 Axes>"
      ]
     },
     "metadata": {
      "needs_background": "light"
     },
     "output_type": "display_data"
    }
   ],
   "source": [
    "file_tabulado[(file_tabulado['tratamiento']=='c') & (file_tabulado['frecuencia']==1)]['AR'].plot.hist(bins=20, alpha=0.5)\n",
    "file_tabulado[(file_tabulado['tratamiento']=='vk') & (file_tabulado['frecuencia']==5)]['AR'].plot.hist(bins=20, alpha=0.5)"
   ]
  },
  {
   "cell_type": "code",
   "execution_count": 16,
   "metadata": {},
   "outputs": [
    {
     "name": "stdout",
     "output_type": "stream",
     "text": [
      "0.07840713934730559\n",
      "0.10390351243053031\n",
      "0.37644497439433366\n",
      "0.22750096965418562\n"
     ]
    }
   ],
   "source": [
    "print(file_tabulado[(file_tabulado['tratamiento']=='c') & (file_tabulado['frecuencia']==1)]['AR'].median())\n",
    "print(file_tabulado[(file_tabulado['tratamiento']=='c') & (file_tabulado['frecuencia']==1)]['AR'].std())\n",
    "print(file_tabulado[(file_tabulado['tratamiento']=='vk') & (file_tabulado['frecuencia']==5)]['AR'].median())\n",
    "print(file_tabulado[(file_tabulado['tratamiento']=='vk') & (file_tabulado['frecuencia']==5)]['AR'].std())"
   ]
  },
  {
   "cell_type": "code",
   "execution_count": 20,
   "metadata": {},
   "outputs": [
    {
     "data": {
      "text/plain": [
       "KstestResult(statistic=0.3580712788259958, pvalue=0.002663068323053297)"
      ]
     },
     "execution_count": 20,
     "metadata": {},
     "output_type": "execute_result"
    }
   ],
   "source": [
    "from scipy import stats\n",
    "\n",
    "stats.ks_2samp(file_tabulado[(file_tabulado['tratamiento']=='c') & (file_tabulado['frecuencia']==5)]['AR'], file_tabulado[(file_tabulado['tratamiento']=='vk') & (file_tabulado['frecuencia']==5)]['AR'])"
   ]
  },
  {
   "cell_type": "markdown",
   "metadata": {},
   "source": [
    "### DICRI"
   ]
  },
  {
   "cell_type": "code",
   "execution_count": null,
   "metadata": {},
   "outputs": [],
   "source": [
    "tab = pd.read_csv('/media/leandro/Volumen1TB/Lean/Analizador_imagenes_calcio/Luis/seleccion/tabulado_imagenes.csv', encoding='utf-8')\n",
    "del tab['Unnamed: 0']\n",
    "pd.set_option('display.max_rows', None)\n",
    "controles = tab[tab['tratamiento'] == 'c']\n",
    "controles = controles.reset_index(drop=True)"
   ]
  },
  {
   "cell_type": "code",
   "execution_count": null,
   "metadata": {},
   "outputs": [],
   "source": [
    "exps = os.listdir(path + 'jsons/')\n",
    "experiments = []\n",
    "for j in range(0,len(exps)):\n",
    "    for i in range(0,len(controles)):\n",
    "        if str(controles['experimento'][i]) in exps[j]:\n",
    "            if str(controles['foto'][i]) in exps[j]:\n",
    "                experiments.append(exps[j])"
   ]
  },
  {
   "cell_type": "code",
   "execution_count": null,
   "metadata": {},
   "outputs": [],
   "source": [
    "path = '/media/leandro/Volumen1TB/Lean/Analizador_imagenes_calcio/Luis/analisis/'\n",
    "# experiments = os.listdir(path + 'jsons/')\n",
    "complete_file = pd.DataFrame()\n",
    "for i in range(0,len (experiments)):\n",
    "    try:\n",
    "        experiment = jasonReader(path + 'jsons/' + experiments[i])\n",
    "        amp_files = slicesParser_amplitudes(experiment).filter(['transient1','transient2'])\n",
    "        amp_files = amp_files[:][0:33]\n",
    "        transient_max = []\n",
    "        for j in range(1,len(amp_files)+1):\n",
    "            transient_max.append(max(amp_files['transient1'][j],amp_files['transient2'][j]))\n",
    "        amp_files['transient_max'] = transient_max\n",
    "        amp_files.loc[len(amp_files)+1] = (amp_files.mean())\n",
    "        amp_files.loc[len(amp_files)+1] = [amp_files['transient1'][len(amp_files)]*100/amp_files['transient_max'][len(amp_files)],amp_files['transient2'][len(amp_files)]*100/amp_files['transient_max'][len(amp_files)],'']\n",
    "        amp_files[str(experiments[i])] = list(range(1,len(amp_files)-1))+['promedios']+['porcentaje_max']\n",
    "        complete_file = pd.concat([complete_file,amp_files], axis=1)\n",
    "    except ValueError:\n",
    "        print(experiments[i])"
   ]
  },
  {
   "cell_type": "code",
   "execution_count": null,
   "metadata": {},
   "outputs": [],
   "source": [
    "complete_file.to_excel(path + 'DICRI_controles.xlsx', engine='xlsxwriter')  "
   ]
  },
  {
   "cell_type": "markdown",
   "metadata": {},
   "source": [
    "### Amplitud de transitorio global vs DI"
   ]
  },
  {
   "cell_type": "code",
   "execution_count": null,
   "metadata": {},
   "outputs": [],
   "source": [
    "path = '/media/leandro/Volumen1TB/Lean/Analizador_imagenes_calcio/Luis/analisis/json_nuevos/'\n",
    "file_tabulado = pd.read_csv(path + 'tabulado_parceado.csv')\n",
    "file_tabulado.head() "
   ]
  },
  {
   "cell_type": "code",
   "execution_count": null,
   "metadata": {},
   "outputs": [],
   "source": [
    "experiment = jasonReader(path + 'jsons/050320c8_analysis_result_8b000.json')\n",
    "allSlices = experiment['slices']\n",
    "for i in range(0,len(allSlices)):\n",
    "    print(allSlices[i]['amplitudes'])"
   ]
  },
  {
   "cell_type": "code",
   "execution_count": null,
   "metadata": {},
   "outputs": [],
   "source": [
    "path = '/media/leandro/Volumen1TB/Lean/Analizador_imagenes_calcio/Luis/analisis/json_nuevos/whole_cell/'\n",
    "experiments = os.listdir(path)\n",
    "df = pd.DataFrame()\n",
    "for experiment in experiments:\n",
    "    df = pd.read_csv(path + experiment, sep = '\\t', index_col=0).loc['amplitudes']\n",
    "    for imagen in range(0,len(file_tabulado)):\n",
    "        cel = file_tabulado['célula'].loc[imagen]\n",
    "        foto = file_tabulado['foto'].loc[imagen]\n",
    "        if (cel in experiment) & (foto in experiment):\n",
    "            print(experiment,df)\n",
    "\n",
    "#     print (experiment, df)"
   ]
  },
  {
   "cell_type": "code",
   "execution_count": null,
   "metadata": {},
   "outputs": [],
   "source": []
  }
 ],
 "metadata": {
  "kernelspec": {
   "display_name": "Python 3",
   "language": "python",
   "name": "python3"
  },
  "language_info": {
   "codemirror_mode": {
    "name": "ipython",
    "version": 3
   },
   "file_extension": ".py",
   "mimetype": "text/x-python",
   "name": "python",
   "nbconvert_exporter": "python",
   "pygments_lexer": "ipython3",
   "version": "3.8.10"
  }
 },
 "nbformat": 4,
 "nbformat_minor": 4
}
