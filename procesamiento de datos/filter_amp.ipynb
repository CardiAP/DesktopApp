{
 "cells": [
  {
   "cell_type": "code",
   "execution_count": 1,
   "metadata": {},
   "outputs": [],
   "source": [
    "#Imports\n",
    "import json\n",
    "import numpy as np\n",
    "import pandas as pd\n",
    "import csv\n",
    "import scipy.stats\n",
    "import matplotlib.pyplot as plt\n",
    "import seaborn as sns\n",
    "import os"
   ]
  },
  {
   "cell_type": "code",
   "execution_count": 2,
   "metadata": {},
   "outputs": [],
   "source": [
    "def jasonReader(path):\n",
    "    \"\"\" Reads the .jason generated with jasonGenartor the given path\"\"\"\n",
    "    with open(path,'r') as miarch:\n",
    "        loaded_dict = json.loads(miarch.read())\n",
    "    return loaded_dict"
   ]
  },
  {
   "cell_type": "code",
   "execution_count": 3,
   "metadata": {},
   "outputs": [],
   "source": [
    "def slicesParser_amplitudes(dictres):\n",
    "    #extract all the slices data\n",
    "    allSlices = dictres['slices']\n",
    "    #seting columns names\n",
    "    column_names = ['transient' + str(x+1) for x in range(0,len(allSlices[0]['amplitudes']))]\n",
    "    #define a dataframe\n",
    "    df_sum = pd.DataFrame(columns=column_names)\n",
    "    #populating the dataframe\n",
    "    for i in range(0,len(allSlices)):\n",
    "        df_sum.loc[i+1] = allSlices[i]['amplitudes']\n",
    "\n",
    "    return df_sum"
   ]
  },
  {
   "cell_type": "code",
   "execution_count": null,
   "metadata": {},
   "outputs": [],
   "source": [
    "path = '/media/leandro/Volumen1TB/Lean/Analizador_imagenes_calcio/Luis/analisis/'\n",
    "experiments = os.listdir(path + 'jsons/')\n",
    "dif_amp = pd.DataFrame()\n",
    "for i in range(0,len (experiments)):\n",
    "    experiment = jasonReader(path + 'jsons/' + experiments[i]) \n",
    "    try:\n",
    "        amp_file = slicesParser_amplitudes(experiment)\n",
    "    except:\n",
    "        print(experiments[i])\n",
    "    try:\n",
    "        dif_amp [i]= experiments[i],(amp_file['transient1'] - amp_file['transient2']).mean()\n",
    "    except:\n",
    "        pass\n",
    "dif_amp = pd.DataFrame (dif_amp.T)\n",
    "dif_amp.columns = ['file','dif_amp_mean']"
   ]
  },
  {
   "cell_type": "markdown",
   "metadata": {},
   "source": [
    "### DICRI"
   ]
  },
  {
   "cell_type": "code",
   "execution_count": 70,
   "metadata": {},
   "outputs": [],
   "source": [
    "tab = pd.read_csv('/media/leandro/Volumen1TB/Lean/Analizador_imagenes_calcio/Luis/seleccion/tabulado_imagenes.csv', encoding='utf-8')\n",
    "del tab['Unnamed: 0']\n",
    "pd.set_option('display.max_rows', None)\n",
    "controles = tab[tab['tratamiento'] == 'c']\n",
    "controles = controles.reset_index(drop=True)"
   ]
  },
  {
   "cell_type": "code",
   "execution_count": 73,
   "metadata": {},
   "outputs": [],
   "source": [
    "exps = os.listdir(path + 'jsons/')\n",
    "experiments = []\n",
    "for j in range(0,len(exps)):\n",
    "    for i in range(0,len(controles)):\n",
    "        if str(controles['experimento'][i]) in exps[j]:\n",
    "            if str(controles['foto'][i]) in exps[j]:\n",
    "                experiments.append(exps[j])"
   ]
  },
  {
   "cell_type": "code",
   "execution_count": 76,
   "metadata": {},
   "outputs": [
    {
     "name": "stderr",
     "output_type": "stream",
     "text": [
      "<ipython-input-76-6d31658230a6>:14: RuntimeWarning: invalid value encountered in double_scalars\n",
      "  amp_files.loc[len(amp_files)+1] = [amp_files['transient1'][len(amp_files)]*100/amp_files['transient_max'][len(amp_files)],amp_files['transient2'][len(amp_files)]*100/amp_files['transient_max'][len(amp_files)],'']\n"
     ]
    },
    {
     "name": "stdout",
     "output_type": "stream",
     "text": [
      "060121_analysis_result_c9d000.json\n"
     ]
    }
   ],
   "source": [
    "path = '/media/leandro/Volumen1TB/Lean/Analizador_imagenes_calcio/Luis/analisis/'\n",
    "# experiments = os.listdir(path + 'jsons/')\n",
    "complete_file = pd.DataFrame()\n",
    "for i in range(0,len (experiments)):\n",
    "    try:\n",
    "        experiment = jasonReader(path + 'jsons/' + experiments[i])\n",
    "        amp_files = slicesParser_amplitudes(experiment).filter(['transient1','transient2'])\n",
    "        amp_files = amp_files[:][0:33]\n",
    "        transient_max = []\n",
    "        for j in range(1,len(amp_files)+1):\n",
    "            transient_max.append(max(amp_files['transient1'][j],amp_files['transient2'][j]))\n",
    "        amp_files['transient_max'] = transient_max\n",
    "        amp_files.loc[len(amp_files)+1] = (amp_files.mean())\n",
    "        amp_files.loc[len(amp_files)+1] = [amp_files['transient1'][len(amp_files)]*100/amp_files['transient_max'][len(amp_files)],amp_files['transient2'][len(amp_files)]*100/amp_files['transient_max'][len(amp_files)],'']\n",
    "        amp_files[str(experiments[i])] = list(range(1,len(amp_files)-1))+['promedios']+['porcentaje_max']\n",
    "        complete_file = pd.concat([complete_file,amp_files], axis=1)\n",
    "    except ValueError:\n",
    "        print(experiments[i])"
   ]
  },
  {
   "cell_type": "code",
   "execution_count": 77,
   "metadata": {},
   "outputs": [],
   "source": [
    "complete_file.to_excel(path + 'DICRI_controles.xlsx', engine='xlsxwriter')  "
   ]
  },
  {
   "cell_type": "markdown",
   "metadata": {},
   "source": [
    "### Amplitud de transitorio global vs DI"
   ]
  },
  {
   "cell_type": "code",
   "execution_count": null,
   "metadata": {},
   "outputs": [],
   "source": [
    "path = '/media/leandro/Volumen1TB/Lean/Analizador_imagenes_calcio/Luis/analisis/json_nuevos/'\n",
    "file_tabulado = pd.read_csv(path + 'tabulado_parceado.csv')\n",
    "file_tabulado.head() "
   ]
  },
  {
   "cell_type": "code",
   "execution_count": null,
   "metadata": {},
   "outputs": [],
   "source": [
    "experiment = jasonReader(path + 'jsons/050320c8_analysis_result_8b000.json')\n",
    "allSlices = experiment['slices']\n",
    "for i in range(0,len(allSlices)):\n",
    "    print(allSlices[i]['amplitudes'])"
   ]
  },
  {
   "cell_type": "code",
   "execution_count": null,
   "metadata": {},
   "outputs": [],
   "source": [
    "path = '/media/leandro/Volumen1TB/Lean/Analizador_imagenes_calcio/Luis/analisis/json_nuevos/whole_cell/'\n",
    "experiments = os.listdir(path)\n",
    "df = pd.DataFrame()\n",
    "for experiment in experiments:\n",
    "    df = pd.read_csv(path + experiment, sep = '\\t', index_col=0).loc['amplitudes']\n",
    "    for imagen in range(0,len(file_tabulado)):\n",
    "        cel = file_tabulado['célula'].loc[imagen]\n",
    "        foto = file_tabulado['foto'].loc[imagen]\n",
    "        if (cel in experiment) & (foto in experiment):\n",
    "            print(experiment,df)\n",
    "\n",
    "#     print (experiment, df)"
   ]
  },
  {
   "cell_type": "markdown",
   "metadata": {},
   "source": [
    "### Precisión y exactitud amplitud"
   ]
  },
  {
   "cell_type": "code",
   "execution_count": 4,
   "metadata": {},
   "outputs": [],
   "source": [
    "path = '/media/leandro/Volumen1TB/Lean/Analizador_imagenes_calcio/Luis/analisis/jsons/'\n",
    "file_tabulado = pd.read_excel(path + 'tab_prueba2.xlsx')\n",
    "del file_tabulado['Unnamed: 0']"
   ]
  },
  {
   "cell_type": "code",
   "execution_count": 5,
   "metadata": {},
   "outputs": [],
   "source": [
    "df_manual = pd.read_csv(\"/media/leandro/Volumen1TB/Lean/Analizador_imagenes_calcio/Luis/DI_manual.csv\", sep=\",\")"
   ]
  },
  {
   "cell_type": "code",
   "execution_count": 9,
   "metadata": {},
   "outputs": [
    {
     "data": {
      "text/html": [
       "<div>\n",
       "<style scoped>\n",
       "    .dataframe tbody tr th:only-of-type {\n",
       "        vertical-align: middle;\n",
       "    }\n",
       "\n",
       "    .dataframe tbody tr th {\n",
       "        vertical-align: top;\n",
       "    }\n",
       "\n",
       "    .dataframe thead th {\n",
       "        text-align: right;\n",
       "    }\n",
       "</style>\n",
       "<table border=\"1\" class=\"dataframe\">\n",
       "  <thead>\n",
       "    <tr style=\"text-align: right;\">\n",
       "      <th></th>\n",
       "      <th>experimento</th>\n",
       "      <th>foto</th>\n",
       "      <th>pico</th>\n",
       "      <th>Intensidad_max</th>\n",
       "      <th>tiempo_max</th>\n",
       "      <th>Intensidad_min</th>\n",
       "      <th>tiempo_min</th>\n",
       "      <th>Amplitud</th>\n",
       "      <th>TTP</th>\n",
       "    </tr>\n",
       "  </thead>\n",
       "  <tbody>\n",
       "    <tr>\n",
       "      <th>0</th>\n",
       "      <td>200121</td>\n",
       "      <td>C1a000</td>\n",
       "      <td>1</td>\n",
       "      <td>43.19</td>\n",
       "      <td>125</td>\n",
       "      <td>17.89</td>\n",
       "      <td>118</td>\n",
       "      <td>1.414198</td>\n",
       "      <td>7</td>\n",
       "    </tr>\n",
       "    <tr>\n",
       "      <th>1</th>\n",
       "      <td>200121</td>\n",
       "      <td>C1a000</td>\n",
       "      <td>2</td>\n",
       "      <td>42.64</td>\n",
       "      <td>360</td>\n",
       "      <td>16.80</td>\n",
       "      <td>354</td>\n",
       "      <td>1.538095</td>\n",
       "      <td>6</td>\n",
       "    </tr>\n",
       "  </tbody>\n",
       "</table>\n",
       "</div>"
      ],
      "text/plain": [
       "   experimento    foto  pico  Intensidad_max  tiempo_max  Intensidad_min  \\\n",
       "0       200121  C1a000     1           43.19         125           17.89   \n",
       "1       200121  C1a000     2           42.64         360           16.80   \n",
       "\n",
       "   tiempo_min  Amplitud  TTP  \n",
       "0         118  1.414198    7  \n",
       "1         354  1.538095    6  "
      ]
     },
     "execution_count": 9,
     "metadata": {},
     "output_type": "execute_result"
    }
   ],
   "source": [
    "df_manual.head(2)"
   ]
  },
  {
   "cell_type": "code",
   "execution_count": 10,
   "metadata": {},
   "outputs": [
    {
     "data": {
      "text/html": [
       "<div>\n",
       "<style scoped>\n",
       "    .dataframe tbody tr th:only-of-type {\n",
       "        vertical-align: middle;\n",
       "    }\n",
       "\n",
       "    .dataframe tbody tr th {\n",
       "        vertical-align: top;\n",
       "    }\n",
       "\n",
       "    .dataframe thead th {\n",
       "        text-align: right;\n",
       "    }\n",
       "</style>\n",
       "<table border=\"1\" class=\"dataframe\">\n",
       "  <thead>\n",
       "    <tr style=\"text-align: right;\">\n",
       "      <th></th>\n",
       "      <th>experimento</th>\n",
       "      <th>carpeta</th>\n",
       "      <th>foto</th>\n",
       "      <th>tratamiento</th>\n",
       "      <th>frecuencia</th>\n",
       "      <th>dosis</th>\n",
       "      <th>DI</th>\n",
       "    </tr>\n",
       "  </thead>\n",
       "  <tbody>\n",
       "    <tr>\n",
       "      <th>0</th>\n",
       "      <td>31019</td>\n",
       "      <td>031019c2</td>\n",
       "      <td>c2c000</td>\n",
       "      <td>vk</td>\n",
       "      <td>3</td>\n",
       "      <td>5</td>\n",
       "      <td>0.246228</td>\n",
       "    </tr>\n",
       "    <tr>\n",
       "      <th>1</th>\n",
       "      <td>31019</td>\n",
       "      <td>031019c2</td>\n",
       "      <td>c2d000</td>\n",
       "      <td>vk</td>\n",
       "      <td>4</td>\n",
       "      <td>5</td>\n",
       "      <td>NaN</td>\n",
       "    </tr>\n",
       "  </tbody>\n",
       "</table>\n",
       "</div>"
      ],
      "text/plain": [
       "   experimento   carpeta    foto tratamiento  frecuencia  dosis        DI\n",
       "0        31019  031019c2  c2c000          vk           3      5  0.246228\n",
       "1        31019  031019c2  c2d000          vk           4      5       NaN"
      ]
     },
     "execution_count": 10,
     "metadata": {},
     "output_type": "execute_result"
    }
   ],
   "source": [
    "file_tabulado.head(2)"
   ]
  },
  {
   "cell_type": "code",
   "execution_count": 15,
   "metadata": {},
   "outputs": [
    {
     "name": "stdout",
     "output_type": "stream",
     "text": [
      "    transient1  transient2  transient3  transient4  transient5  transient6\n",
      "1     1.692308    1.500000    1.500000    1.615385    1.538462    1.692308\n",
      "2     1.833333    1.615385    1.615385    1.833333    1.666667    1.615385\n",
      "3     1.750000    1.833333    1.538462    1.750000    1.583333    1.750000\n",
      "4     1.750000    1.750000    1.461538    1.666667    1.583333    1.750000\n",
      "5     1.538462    1.833333    1.538462    1.461538    1.750000    1.750000\n",
      "6     1.500000    1.692308    1.500000    1.357143    1.428571    1.615385\n",
      "7     1.400000    1.642857    1.400000    1.333333    1.571429    1.333333\n",
      "8     1.250000    1.466667    1.400000    1.250000    1.466667    1.187500\n",
      "9     1.250000    1.466667    1.400000    1.250000    1.250000    1.187500\n",
      "10    1.250000    1.466667    1.250000    1.250000    1.250000    1.187500\n",
      "11    1.375000    1.250000    1.312500    1.250000    1.312500    1.250000\n",
      "12    1.294118    1.312500    1.176471    1.312500    1.312500    1.312500\n",
      "13    1.600000    1.466667    1.312500    1.642857    1.400000    1.466667\n",
      "14    1.642857    1.642857    1.571429    1.769231    1.500000    1.692308\n",
      "15    2.000000    1.916667    1.916667    1.916667    1.750000    2.000000\n",
      "16    2.090909    2.300000    2.000000    2.000000    2.100000    2.100000\n",
      "17    2.000000    2.100000    2.100000    2.100000    2.000000    2.000000\n",
      "18    2.200000    1.900000    2.000000    2.000000    1.900000    2.000000\n",
      "19    2.100000    2.000000    2.000000    2.000000    1.900000    2.000000\n",
      "20    2.100000    2.100000    2.000000    2.000000    2.000000    2.100000\n",
      "21    2.100000    2.200000    2.100000    2.100000    2.000000    2.100000\n",
      "22    2.200000    2.300000    2.100000    2.200000    2.100000    2.100000\n",
      "23    2.200000    2.200000    2.444444    2.200000    2.100000    2.200000\n",
      "24    2.100000    2.200000    2.444444    2.100000    2.100000    2.100000\n",
      "25    2.100000    2.200000    2.444444    2.444444    2.000000    2.100000\n",
      "26    2.100000    2.100000    2.555556    2.444444    2.100000    2.200000\n",
      "27    2.100000    2.200000    2.555556    2.444444    2.100000    2.200000\n",
      "28    2.555556    2.200000    2.666667    2.200000    2.200000    2.666667\n",
      "29    2.666667    2.300000    2.500000    2.300000    2.300000    2.666667\n",
      "30    2.400000    2.400000    2.400000    2.300000    2.400000    2.666667\n",
      "31    2.500000    2.400000    2.181818    2.400000    2.500000    2.400000\n",
      "32    2.600000    2.400000    2.181818    2.181818    2.500000    2.400000\n",
      "33    2.272727    2.181818    2.272727    2.181818    2.500000    2.400000\n",
      "34    2.272727    2.090909    2.272727    2.181818    2.500000    2.181818\n",
      "35    2.272727    2.090909    2.272727    2.181818    2.400000    2.500000\n",
      "36    2.181818    2.181818    2.600000    2.181818    2.181818    2.600000\n",
      "37    2.181818    2.181818    2.500000    2.272727    2.500000    2.500000\n",
      "38    2.181818    2.272727    2.090909    2.500000    2.600000    2.500000\n",
      "39    2.181818    2.181818    2.181818    2.500000    2.500000    2.600000\n",
      "40    2.181818    2.181818    2.181818    2.500000    2.500000    2.500000\n",
      "41    2.500000    2.181818    1.916667    2.090909    2.181818    2.500000\n",
      "42    2.181818    2.400000    2.090909    2.181818    2.181818    2.090909\n",
      "43    2.181818    2.500000    2.000000    2.181818    2.181818    2.090909\n",
      "44    2.181818    2.500000    2.000000    2.272727    2.272727    2.090909\n",
      "45    1.833333    2.181818    2.000000    2.272727    2.181818    2.000000\n",
      "46    1.750000    1.916667    1.750000    1.916667    2.090909    1.750000\n",
      "47    1.615385    1.615385    1.538462    1.916667    2.000000    1.750000\n",
      "48    1.769231    1.615385    1.615385    1.692308    1.538462    1.750000\n",
      "    transient1  transient2  transient3  transient4  transient5  transient6  \\\n",
      "1     1.357143    1.133333    1.200000    1.142857    1.692308    1.000000   \n",
      "2     1.266667    1.266667    1.333333    1.133333    1.500000    1.133333   \n",
      "3     1.266667    1.357143    1.428571    1.214286    1.428571    1.285714   \n",
      "4     1.285714    1.357143    1.357143    1.214286    1.615385    1.285714   \n",
      "5     1.285714    1.538462    1.357143    1.285714    1.615385    1.285714   \n",
      "6     1.538462    1.538462    1.615385    1.357143    1.916667    1.357143   \n",
      "7     1.615385    1.357143    1.615385    1.500000    2.000000    1.357143   \n",
      "8     1.769231    1.357143    1.916667    1.769231    2.000000    1.615385   \n",
      "9     1.916667    1.538462    1.916667    1.769231    1.833333    1.916667   \n",
      "10    1.833333    1.833333    2.181818    1.916667    1.750000    1.916667   \n",
      "11    1.750000    2.090909    2.000000    1.833333    2.000000    2.090909   \n",
      "12    2.000000    2.090909    2.000000    1.833333    2.000000    2.000000   \n",
      "13    2.000000    2.090909    2.000000    1.833333    2.000000    2.000000   \n",
      "14    1.833333    2.090909    1.750000    1.833333    2.000000    1.909091   \n",
      "15    1.833333    2.090909    1.750000    1.833333    1.833333    1.909091   \n",
      "16    1.615385    1.833333    1.750000    1.916667    1.833333    1.750000   \n",
      "17    1.692308    1.615385    1.750000    2.000000    1.692308    1.750000   \n",
      "18    1.571429    1.615385    1.538462    1.769231    1.769231    1.538462   \n",
      "19    1.846154    1.692308    1.615385    1.769231    1.692308    1.615385   \n",
      "20    1.769231    1.692308    1.428571    1.769231    1.769231    1.538462   \n",
      "21    1.769231    1.692308    1.500000    1.769231    1.692308    1.615385   \n",
      "22    1.615385    1.692308    1.500000    1.769231    1.692308    1.615385   \n",
      "23    1.615385    1.692308    1.500000    1.769231    1.692308    1.615385   \n",
      "24    1.615385    1.692308    1.571429    1.769231    1.692308    1.615385   \n",
      "25    1.615385    1.769231    1.642857    1.769231    1.692308    1.692308   \n",
      "26    1.571429    1.642857    1.714286    1.571429    1.692308    1.769231   \n",
      "27    1.400000    1.714286    1.785714    1.642857    1.769231    1.846154   \n",
      "28    1.466667    1.785714    1.785714    1.642857    1.571429    1.642857   \n",
      "29    1.466667    1.714286    1.785714    1.846154    1.642857    1.642857   \n",
      "30    1.714286    1.533333    1.714286    1.769231    1.466667    1.466667   \n",
      "31    1.600000    1.466667    1.533333    1.571429    1.533333    1.466667   \n",
      "32    1.375000    1.250000    1.312500    1.466667    1.533333    1.466667   \n",
      "33    1.375000    1.466667    1.375000    1.375000    1.533333    1.466667   \n",
      "34    1.294118    1.466667    1.600000    1.437500    1.400000    1.642857   \n",
      "35    1.294118    1.312500    1.437500    1.437500    1.400000    1.642857   \n",
      "36    1.375000    1.250000    1.437500    1.600000    1.187500    1.642857   \n",
      "37    1.375000    1.176471    1.500000    1.600000    1.250000    1.714286   \n",
      "\n",
      "    transient7  transient8  \n",
      "1     1.769231    0.933333  \n",
      "2     1.642857    1.133333  \n",
      "3     1.571429    1.357143  \n",
      "4     1.692308    1.357143  \n",
      "5     1.615385    1.357143  \n",
      "6     1.615385    1.357143  \n",
      "7     1.428571    1.428571  \n",
      "8     1.615385    1.692308  \n",
      "9     1.615385    1.692308  \n",
      "10    1.750000    1.615385  \n",
      "11    2.000000    1.615385  \n",
      "12    1.909091    1.615385  \n",
      "13    2.000000    1.615385  \n",
      "14    2.000000    1.833333  \n",
      "15    2.000000    1.833333  \n",
      "16    2.090909    1.833333  \n",
      "17    1.750000    1.615385  \n",
      "18    1.833333    1.692308  \n",
      "19    1.833333    1.692308  \n",
      "20    1.750000    2.000000  \n",
      "21    1.538462    2.000000  \n",
      "22    1.750000    1.916667  \n",
      "23    1.750000    1.916667  \n",
      "24    1.750000    1.615385  \n",
      "25    1.833333    1.500000  \n",
      "26    1.692308    1.571429  \n",
      "27    1.571429    1.642857  \n",
      "28    1.642857    1.642857  \n",
      "29    1.642857    1.642857  \n",
      "30    1.846154    1.642857  \n",
      "31    1.642857    1.466667  \n",
      "32    1.250000    1.250000  \n",
      "33    1.250000    1.250000  \n",
      "34    1.312500    1.250000  \n",
      "35    1.312500    1.250000  \n",
      "36    1.400000    1.250000  \n",
      "37    1.400000    1.250000  \n"
     ]
    }
   ],
   "source": [
    "path = '/media/leandro/Volumen1TB/Lean/Analizador_imagenes_calcio/Luis/analisis/'\n",
    "experiments = os.listdir(path + 'jsons/')\n",
    "dif_amp = pd.DataFrame()\n",
    "for i in range(0,len (experiments)):\n",
    "    \n",
    "#     try:\n",
    "#         experiment = jasonReader(path + 'jsons/' + experiments[i]) \n",
    "#         amplitud = slicesParser_amplitudes(experiment)\n",
    "#         print(amplitud)\n",
    "#     except:\n",
    "#         print(experiments[i])"
   ]
  },
  {
   "cell_type": "code",
   "execution_count": null,
   "metadata": {},
   "outputs": [],
   "source": []
  },
  {
   "cell_type": "code",
   "execution_count": 58,
   "metadata": {},
   "outputs": [],
   "source": [
    "for i in range(0,len(file_tabulado['carpeta'])):\n",
    "    cel1 = file_tabulado['carpeta'][i]\n",
    "    for j in range(0,len(df_manual['cel'])):\n",
    "        cel2 = df_manual['cel'][j]\n",
    "        try:\n",
    "            if cel2 in cel1:\n",
    "                 file_tabulado.loc[i,'DI_manual'] = df_manual['DI_manual'][j]\n",
    "        except TypeError:\n",
    "            pass"
   ]
  },
  {
   "cell_type": "code",
   "execution_count": 59,
   "metadata": {},
   "outputs": [
    {
     "data": {
      "text/html": [
       "<div>\n",
       "<style scoped>\n",
       "    .dataframe tbody tr th:only-of-type {\n",
       "        vertical-align: middle;\n",
       "    }\n",
       "\n",
       "    .dataframe tbody tr th {\n",
       "        vertical-align: top;\n",
       "    }\n",
       "\n",
       "    .dataframe thead th {\n",
       "        text-align: right;\n",
       "    }\n",
       "</style>\n",
       "<table border=\"1\" class=\"dataframe\">\n",
       "  <thead>\n",
       "    <tr style=\"text-align: right;\">\n",
       "      <th></th>\n",
       "      <th>experimento</th>\n",
       "      <th>carpeta</th>\n",
       "      <th>foto</th>\n",
       "      <th>tratamiento</th>\n",
       "      <th>frecuencia</th>\n",
       "      <th>dosis</th>\n",
       "      <th>DI</th>\n",
       "      <th>DI_manual</th>\n",
       "    </tr>\n",
       "  </thead>\n",
       "  <tbody>\n",
       "    <tr>\n",
       "      <th>16</th>\n",
       "      <td>31019</td>\n",
       "      <td>031019c1</td>\n",
       "      <td>c1b000</td>\n",
       "      <td>c</td>\n",
       "      <td>1</td>\n",
       "      <td>0</td>\n",
       "      <td>0.120523</td>\n",
       "      <td>0.465901</td>\n",
       "    </tr>\n",
       "    <tr>\n",
       "      <th>99</th>\n",
       "      <td>121218</td>\n",
       "      <td>121218</td>\n",
       "      <td>c1a000</td>\n",
       "      <td>c</td>\n",
       "      <td>1</td>\n",
       "      <td>0</td>\n",
       "      <td>0.130269</td>\n",
       "      <td>0.116015</td>\n",
       "    </tr>\n",
       "    <tr>\n",
       "      <th>176</th>\n",
       "      <td>10719</td>\n",
       "      <td>010719ctrol1</td>\n",
       "      <td>ctrol1b0</td>\n",
       "      <td>c</td>\n",
       "      <td>1</td>\n",
       "      <td>0</td>\n",
       "      <td>0.683346</td>\n",
       "      <td>0.523415</td>\n",
       "    </tr>\n",
       "    <tr>\n",
       "      <th>186</th>\n",
       "      <td>10719</td>\n",
       "      <td>010719ctrol8</td>\n",
       "      <td>ctrol8b0</td>\n",
       "      <td>c</td>\n",
       "      <td>1</td>\n",
       "      <td>0</td>\n",
       "      <td>0.100734</td>\n",
       "      <td>0.182409</td>\n",
       "    </tr>\n",
       "    <tr>\n",
       "      <th>337</th>\n",
       "      <td>230819</td>\n",
       "      <td>230819c1</td>\n",
       "      <td>otra1hz1</td>\n",
       "      <td>c</td>\n",
       "      <td>1</td>\n",
       "      <td>0</td>\n",
       "      <td>0.050558</td>\n",
       "      <td>0.135194</td>\n",
       "    </tr>\n",
       "    <tr>\n",
       "      <th>354</th>\n",
       "      <td>10819</td>\n",
       "      <td>010819c1</td>\n",
       "      <td>c1a000</td>\n",
       "      <td>c</td>\n",
       "      <td>1</td>\n",
       "      <td>0</td>\n",
       "      <td>0.260349</td>\n",
       "      <td>0.300057</td>\n",
       "    </tr>\n",
       "    <tr>\n",
       "      <th>366</th>\n",
       "      <td>171019</td>\n",
       "      <td>171019c1sel</td>\n",
       "      <td>c1a000</td>\n",
       "      <td>c</td>\n",
       "      <td>1</td>\n",
       "      <td>0</td>\n",
       "      <td>0.124389</td>\n",
       "      <td>0.134509</td>\n",
       "    </tr>\n",
       "    <tr>\n",
       "      <th>377</th>\n",
       "      <td>171019</td>\n",
       "      <td>171019c6sel</td>\n",
       "      <td>c6a000</td>\n",
       "      <td>c</td>\n",
       "      <td>1</td>\n",
       "      <td>0</td>\n",
       "      <td>0.048430</td>\n",
       "      <td>0.154635</td>\n",
       "    </tr>\n",
       "  </tbody>\n",
       "</table>\n",
       "</div>"
      ],
      "text/plain": [
       "     experimento       carpeta      foto tratamiento  frecuencia  dosis  \\\n",
       "16         31019      031019c1    c1b000           c           1      0   \n",
       "99        121218        121218    c1a000           c           1      0   \n",
       "176        10719  010719ctrol1  ctrol1b0           c           1      0   \n",
       "186        10719  010719ctrol8  ctrol8b0           c           1      0   \n",
       "337       230819      230819c1  otra1hz1           c           1      0   \n",
       "354        10819      010819c1    c1a000           c           1      0   \n",
       "366       171019   171019c1sel    c1a000           c           1      0   \n",
       "377       171019   171019c6sel    c6a000           c           1      0   \n",
       "\n",
       "           DI  DI_manual  \n",
       "16   0.120523   0.465901  \n",
       "99   0.130269   0.116015  \n",
       "176  0.683346   0.523415  \n",
       "186  0.100734   0.182409  \n",
       "337  0.050558   0.135194  \n",
       "354  0.260349   0.300057  \n",
       "366  0.124389   0.134509  \n",
       "377  0.048430   0.154635  "
      ]
     },
     "execution_count": 59,
     "metadata": {},
     "output_type": "execute_result"
    }
   ],
   "source": [
    "file_DIs = file_tabulado.dropna()\n",
    "file_DIs[(file_DIs['frecuencia']==1) & (file_DIs['tratamiento']=='c')]"
   ]
  },
  {
   "cell_type": "markdown",
   "metadata": {},
   "source": [
    "### ALBUMINA"
   ]
  },
  {
   "cell_type": "code",
   "execution_count": null,
   "metadata": {},
   "outputs": [],
   "source": [
    "# Python code demonstrate creating  \n",
    "# DataFrame from dict narray / lists  \n",
    "# By default addresses. \n",
    "  \n",
    "import pandas as pd \n",
    "  \n",
    "# intialise data of lists. \n",
    "data = {'BSA':[102, 97, 79], \n",
    "        'HSA':[65, 74, 69.5],\n",
    "        'RabSA':[57, 63.3, 70],\n",
    "        'RSA':[50, 51, 52],\n",
    "        'PSA':[45, 48, 55]} \n",
    "  \n",
    "# Create DataFrame \n",
    "df = pd.DataFrame(data)\n",
    "df_mean = df.mean()\n",
    "df_std = df.std()\n",
    "# Print the output. \n",
    "df_std"
   ]
  },
  {
   "cell_type": "code",
   "execution_count": null,
   "metadata": {},
   "outputs": [],
   "source": [
    "import matplotlib.pyplot as plt\n",
    "\n",
    "plt.errorbar(df_mean.index, df_mean, yerr=df_std, xerr=None, fmt='o')\n",
    "plt.ylabel('% convertion', fontdict=None, labelpad=None,loc=None)\n",
    "plt.savefig('/media/leandro/Volumen1TB/Lean/Albumina/%alb_convertion.png')"
   ]
  },
  {
   "cell_type": "code",
   "execution_count": null,
   "metadata": {},
   "outputs": [],
   "source": [
    "cambios_fq = pd.read_csv('/media/leandro/Volumen1TB/Lean/Albumina/cambios_fq_completos.csv', sep= ' ')"
   ]
  },
  {
   "cell_type": "code",
   "execution_count": null,
   "metadata": {},
   "outputs": [],
   "source": [
    "cambios_fq.loc()"
   ]
  },
  {
   "cell_type": "code",
   "execution_count": null,
   "metadata": {},
   "outputs": [],
   "source": []
  }
 ],
 "metadata": {
  "kernelspec": {
   "display_name": "Python 3",
   "language": "python",
   "name": "python3"
  },
  "language_info": {
   "codemirror_mode": {
    "name": "ipython",
    "version": 3
   },
   "file_extension": ".py",
   "mimetype": "text/x-python",
   "name": "python",
   "nbconvert_exporter": "python",
   "pygments_lexer": "ipython3",
   "version": "3.8.10"
  }
 },
 "nbformat": 4,
 "nbformat_minor": 4
}
