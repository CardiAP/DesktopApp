{
 "cells": [
  {
   "cell_type": "code",
   "execution_count": 1,
   "metadata": {},
   "outputs": [],
   "source": [
    "#Imports\n",
    "import json\n",
    "import numpy as np\n",
    "import pandas as pd\n",
    "import csv\n",
    "import scipy.stats\n",
    "import matplotlib.pyplot as plt\n",
    "import seaborn as sns\n",
    "import os"
   ]
  },
  {
   "cell_type": "code",
   "execution_count": 2,
   "metadata": {},
   "outputs": [],
   "source": [
    "def jasonReader(path):\n",
    "    \"\"\" Reads the .jason generated with jasonGenartor the given path\"\"\"\n",
    "    with open(path,'r') as miarch:\n",
    "        loaded_dict = json.loads(miarch.read())\n",
    "    return loaded_dict"
   ]
  },
  {
   "cell_type": "code",
   "execution_count": 3,
   "metadata": {},
   "outputs": [],
   "source": [
    "def wholecellParser(dictres):\n",
    "    #extract all the slices data\n",
    "    allSlices = dictres['image']\n",
    "    #seting columns names\n",
    "    column_names = ['max_peaks_positions','max_peaks_intensities','min_peaks_positions','min_peaks_intensities','amplitudes','times_to_peaks']\n",
    "    #define a dataframe\n",
    "    df_sum = pd.DataFrame(columns=column_names)\n",
    "    #populating the dataframe\n",
    "    for i in column_names:\n",
    "        df_sum.loc[:,i] = allSlices[i][:2]\n",
    "\n",
    "    return df_sum"
   ]
  },
  {
   "cell_type": "markdown",
   "metadata": {},
   "source": [
    "### Precisión y exactitud amplitud"
   ]
  },
  {
   "cell_type": "code",
   "execution_count": 5,
   "metadata": {},
   "outputs": [],
   "source": [
    "path = '/media/leandro/Volumen1TB/Lean/Analizador_imagenes_calcio/Luis/analisis/jsons/'\n",
    "file_tabulado = pd.read_excel(path + 'tab_prueba2.xlsx')\n",
    "del file_tabulado['Unnamed: 0']"
   ]
  },
  {
   "cell_type": "code",
   "execution_count": 42,
   "metadata": {},
   "outputs": [
    {
     "data": {
      "text/html": [
       "<div>\n",
       "<style scoped>\n",
       "    .dataframe tbody tr th:only-of-type {\n",
       "        vertical-align: middle;\n",
       "    }\n",
       "\n",
       "    .dataframe tbody tr th {\n",
       "        vertical-align: top;\n",
       "    }\n",
       "\n",
       "    .dataframe thead th {\n",
       "        text-align: right;\n",
       "    }\n",
       "</style>\n",
       "<table border=\"1\" class=\"dataframe\">\n",
       "  <thead>\n",
       "    <tr style=\"text-align: right;\">\n",
       "      <th></th>\n",
       "      <th>experimento</th>\n",
       "      <th>foto</th>\n",
       "      <th>pico</th>\n",
       "      <th>Intensidad_max</th>\n",
       "      <th>tiempo_max</th>\n",
       "      <th>Intensidad_min</th>\n",
       "      <th>tiempo_min</th>\n",
       "      <th>Amplitud</th>\n",
       "      <th>TTP</th>\n",
       "      <th>TTP_norm</th>\n",
       "    </tr>\n",
       "  </thead>\n",
       "  <tbody>\n",
       "    <tr>\n",
       "      <th>0</th>\n",
       "      <td>200121</td>\n",
       "      <td>C1a000</td>\n",
       "      <td>1</td>\n",
       "      <td>43.19</td>\n",
       "      <td>125</td>\n",
       "      <td>17.89</td>\n",
       "      <td>118</td>\n",
       "      <td>1.414198</td>\n",
       "      <td>7</td>\n",
       "      <td>0.056000</td>\n",
       "    </tr>\n",
       "    <tr>\n",
       "      <th>1</th>\n",
       "      <td>200121</td>\n",
       "      <td>C1a000</td>\n",
       "      <td>2</td>\n",
       "      <td>42.64</td>\n",
       "      <td>360</td>\n",
       "      <td>16.80</td>\n",
       "      <td>354</td>\n",
       "      <td>1.538095</td>\n",
       "      <td>6</td>\n",
       "      <td>0.016667</td>\n",
       "    </tr>\n",
       "  </tbody>\n",
       "</table>\n",
       "</div>"
      ],
      "text/plain": [
       "   experimento    foto  pico  Intensidad_max  tiempo_max  Intensidad_min  \\\n",
       "0       200121  C1a000     1           43.19         125           17.89   \n",
       "1       200121  C1a000     2           42.64         360           16.80   \n",
       "\n",
       "   tiempo_min  Amplitud  TTP  TTP_norm  \n",
       "0         118  1.414198    7  0.056000  \n",
       "1         354  1.538095    6  0.016667  "
      ]
     },
     "execution_count": 42,
     "metadata": {},
     "output_type": "execute_result"
    }
   ],
   "source": [
    "df_manual = pd.read_csv(\"/media/leandro/Volumen1TB/Lean/Analizador_imagenes_calcio/Luis/DI_manual.csv\", sep=\",\")\n",
    "df_manual.head(2)"
   ]
  },
  {
   "cell_type": "code",
   "execution_count": 13,
   "metadata": {},
   "outputs": [],
   "source": [
    "path = '/media/leandro/Volumen1TB/Lean/Analizador_imagenes_calcio/Luis/analisis/'\n",
    "experiments = os.listdir(path + 'jsons/')\n",
    "dif_amp = pd.DataFrame()\n",
    "dias = df_manual['experimento'].drop_duplicates()\n",
    "foto = df_manual['foto'].drop_duplicates()\n",
    "for j in dias:\n",
    "    for k in foto:\n",
    "        for i in range(0,len (experiments)):\n",
    "            if (str(j) in experiments[i]) & (k in experiments[i]):\n",
    "                try:\n",
    "                    experiment = jasonReader(path + 'jsons/' + experiments[i])\n",
    "                    df_file = wholecellParser(experiment)\n",
    "                    df_file['file'] = experiments[i]\n",
    "                    dif_amp = dif_amp.append(df_file, ignore_index=True)\n",
    "                except:\n",
    "                    print(experiments[i])"
   ]
  },
  {
   "cell_type": "markdown",
   "metadata": {},
   "source": []
  },
  {
   "cell_type": "code",
   "execution_count": 41,
   "metadata": {},
   "outputs": [
    {
     "data": {
      "text/html": [
       "<div>\n",
       "<style scoped>\n",
       "    .dataframe tbody tr th:only-of-type {\n",
       "        vertical-align: middle;\n",
       "    }\n",
       "\n",
       "    .dataframe tbody tr th {\n",
       "        vertical-align: top;\n",
       "    }\n",
       "\n",
       "    .dataframe thead th {\n",
       "        text-align: right;\n",
       "    }\n",
       "</style>\n",
       "<table border=\"1\" class=\"dataframe\">\n",
       "  <thead>\n",
       "    <tr style=\"text-align: right;\">\n",
       "      <th></th>\n",
       "      <th>max_peaks_positions</th>\n",
       "      <th>max_peaks_intensities</th>\n",
       "      <th>min_peaks_positions</th>\n",
       "      <th>min_peaks_intensities</th>\n",
       "      <th>amplitudes</th>\n",
       "      <th>times_to_peaks</th>\n",
       "      <th>file</th>\n",
       "      <th>TTP_norm</th>\n",
       "    </tr>\n",
       "  </thead>\n",
       "  <tbody>\n",
       "    <tr>\n",
       "      <th>0</th>\n",
       "      <td>124</td>\n",
       "      <td>29</td>\n",
       "      <td>63</td>\n",
       "      <td>13</td>\n",
       "      <td>1.230769</td>\n",
       "      <td>61.0</td>\n",
       "      <td>200121_analysis_result_c1a000.json</td>\n",
       "      <td>2.103448</td>\n",
       "    </tr>\n",
       "    <tr>\n",
       "      <th>1</th>\n",
       "      <td>358</td>\n",
       "      <td>29</td>\n",
       "      <td>302</td>\n",
       "      <td>13</td>\n",
       "      <td>1.230769</td>\n",
       "      <td>56.0</td>\n",
       "      <td>200121_analysis_result_c1a000.json</td>\n",
       "      <td>1.931034</td>\n",
       "    </tr>\n",
       "  </tbody>\n",
       "</table>\n",
       "</div>"
      ],
      "text/plain": [
       "   max_peaks_positions  max_peaks_intensities  min_peaks_positions  \\\n",
       "0                  124                     29                   63   \n",
       "1                  358                     29                  302   \n",
       "\n",
       "   min_peaks_intensities  amplitudes  times_to_peaks  \\\n",
       "0                     13    1.230769            61.0   \n",
       "1                     13    1.230769            56.0   \n",
       "\n",
       "                                 file  TTP_norm  \n",
       "0  200121_analysis_result_c1a000.json  2.103448  \n",
       "1  200121_analysis_result_c1a000.json  1.931034  "
      ]
     },
     "execution_count": 41,
     "metadata": {},
     "output_type": "execute_result"
    }
   ],
   "source": [
    "amp_cardiap = pd.read_csv('/media/leandro/Volumen1TB/Lean/Analizador_imagenes_calcio/Luis/analisis/amp_cadiap.csv') \n",
    "del amp_cardiap['Unnamed: 0']\n",
    "amp_cardiap.head(2)"
   ]
  },
  {
   "cell_type": "code",
   "execution_count": 43,
   "metadata": {},
   "outputs": [
    {
     "data": {
      "text/plain": [
       "(-0.14919614223959626, 0.3713207611237724)"
      ]
     },
     "execution_count": 43,
     "metadata": {},
     "output_type": "execute_result"
    }
   ],
   "source": [
    "import scipy.stats\n",
    "\n",
    "x = amp_cardiap['TTP_norm'][0:38]\n",
    "y = df_manual ['TTP_norm'][0:38]\n",
    "scipy.stats.pearsonr(x, y)"
   ]
  },
  {
   "cell_type": "code",
   "execution_count": 44,
   "metadata": {},
   "outputs": [
    {
     "data": {
      "image/png": "[encoded data removed]",
      "text/plain": [
       "<Figure size 432x288 with 1 Axes>"
      ]
     },
     "metadata": {
      "needs_background": "light"
     },
     "output_type": "display_data"
    }
   ],
   "source": [
    "import matplotlib\n",
    "\n",
    "# plot\n",
    "matplotlib.pyplot.scatter(x,y)\n",
    "\n",
    "matplotlib.pyplot.show()"
   ]
  },
  {
   "cell_type": "code",
   "execution_count": 45,
   "metadata": {},
   "outputs": [
    {
     "name": "stdout",
     "output_type": "stream",
     "text": [
      "3.325548572970394\n",
      "4.374638127404863\n"
     ]
    }
   ],
   "source": [
    "diff = x-y\n",
    "print(diff.mean())\n",
    "print(diff.std())"
   ]
  },
  {
   "cell_type": "markdown",
   "metadata": {},
   "source": [
    "### DICRI"
   ]
  },
  {
   "cell_type": "code",
   "execution_count": null,
   "metadata": {},
   "outputs": [],
   "source": [
    "tab = pd.read_csv('/media/leandro/Volumen1TB/Lean/Analizador_imagenes_calcio/Luis/seleccion/tabulado_imagenes.csv', encoding='utf-8')\n",
    "del tab['Unnamed: 0']\n",
    "pd.set_option('display.max_rows', None)\n",
    "controles = tab[tab['tratamiento'] == 'c']\n",
    "controles = controles.reset_index(drop=True)"
   ]
  },
  {
   "cell_type": "code",
   "execution_count": null,
   "metadata": {},
   "outputs": [],
   "source": [
    "exps = os.listdir(path + 'jsons/')\n",
    "experiments = []\n",
    "for j in range(0,len(exps)):\n",
    "    for i in range(0,len(controles)):\n",
    "        if str(controles['experimento'][i]) in exps[j]:\n",
    "            if str(controles['foto'][i]) in exps[j]:\n",
    "                experiments.append(exps[j])"
   ]
  },
  {
   "cell_type": "code",
   "execution_count": null,
   "metadata": {},
   "outputs": [],
   "source": [
    "path = '/media/leandro/Volumen1TB/Lean/Analizador_imagenes_calcio/Luis/analisis/'\n",
    "# experiments = os.listdir(path + 'jsons/')\n",
    "complete_file = pd.DataFrame()\n",
    "for i in range(0,len (experiments)):\n",
    "    try:\n",
    "        experiment = jasonReader(path + 'jsons/' + experiments[i])\n",
    "        amp_files = slicesParser_amplitudes(experiment).filter(['transient1','transient2'])\n",
    "        amp_files = amp_files[:][0:33]\n",
    "        transient_max = []\n",
    "        for j in range(1,len(amp_files)+1):\n",
    "            transient_max.append(max(amp_files['transient1'][j],amp_files['transient2'][j]))\n",
    "        amp_files['transient_max'] = transient_max\n",
    "        amp_files.loc[len(amp_files)+1] = (amp_files.mean())\n",
    "        amp_files.loc[len(amp_files)+1] = [amp_files['transient1'][len(amp_files)]*100/amp_files['transient_max'][len(amp_files)],amp_files['transient2'][len(amp_files)]*100/amp_files['transient_max'][len(amp_files)],'']\n",
    "        amp_files[str(experiments[i])] = list(range(1,len(amp_files)-1))+['promedios']+['porcentaje_max']\n",
    "        complete_file = pd.concat([complete_file,amp_files], axis=1)\n",
    "    except ValueError:\n",
    "        print(experiments[i])"
   ]
  },
  {
   "cell_type": "code",
   "execution_count": null,
   "metadata": {},
   "outputs": [],
   "source": [
    "complete_file.to_excel(path + 'DICRI_controles.xlsx', engine='xlsxwriter')  "
   ]
  },
  {
   "cell_type": "markdown",
   "metadata": {},
   "source": [
    "### Amplitud de transitorio global vs DI"
   ]
  },
  {
   "cell_type": "code",
   "execution_count": null,
   "metadata": {},
   "outputs": [],
   "source": [
    "path = '/media/leandro/Volumen1TB/Lean/Analizador_imagenes_calcio/Luis/analisis/json_nuevos/'\n",
    "file_tabulado = pd.read_csv(path + 'tabulado_parceado.csv')\n",
    "file_tabulado.head() "
   ]
  },
  {
   "cell_type": "code",
   "execution_count": null,
   "metadata": {},
   "outputs": [],
   "source": [
    "experiment = jasonReader(path + 'jsons/050320c8_analysis_result_8b000.json')\n",
    "allSlices = experiment['slices']\n",
    "for i in range(0,len(allSlices)):\n",
    "    print(allSlices[i]['amplitudes'])"
   ]
  },
  {
   "cell_type": "code",
   "execution_count": null,
   "metadata": {},
   "outputs": [],
   "source": [
    "path = '/media/leandro/Volumen1TB/Lean/Analizador_imagenes_calcio/Luis/analisis/json_nuevos/whole_cell/'\n",
    "experiments = os.listdir(path)\n",
    "df = pd.DataFrame()\n",
    "for experiment in experiments:\n",
    "    df = pd.read_csv(path + experiment, sep = '\\t', index_col=0).loc['amplitudes']\n",
    "    for imagen in range(0,len(file_tabulado)):\n",
    "        cel = file_tabulado['célula'].loc[imagen]\n",
    "        foto = file_tabulado['foto'].loc[imagen]\n",
    "        if (cel in experiment) & (foto in experiment):\n",
    "            print(experiment,df)\n",
    "\n",
    "#     print (experiment, df)"
   ]
  },
  {
   "cell_type": "markdown",
   "metadata": {},
   "source": [
    "### ALBUMINA"
   ]
  },
  {
   "cell_type": "code",
   "execution_count": null,
   "metadata": {},
   "outputs": [],
   "source": [
    "# Python code demonstrate creating  \n",
    "# DataFrame from dict narray / lists  \n",
    "# By default addresses. \n",
    "  \n",
    "import pandas as pd \n",
    "  \n",
    "# intialise data of lists. \n",
    "data = {'BSA':[102, 97, 79], \n",
    "        'HSA':[65, 74, 69.5],\n",
    "        'RabSA':[57, 63.3, 70],\n",
    "        'RSA':[50, 51, 52],\n",
    "        'PSA':[45, 48, 55]} \n",
    "  \n",
    "# Create DataFrame \n",
    "df = pd.DataFrame(data)\n",
    "df_mean = df.mean()\n",
    "df_std = df.std()\n",
    "# Print the output. \n",
    "df_std"
   ]
  },
  {
   "cell_type": "code",
   "execution_count": null,
   "metadata": {},
   "outputs": [],
   "source": [
    "import matplotlib.pyplot as plt\n",
    "\n",
    "plt.errorbar(df_mean.index, df_mean, yerr=df_std, xerr=None, fmt='o')\n",
    "plt.ylabel('% convertion', fontdict=None, labelpad=None,loc=None)\n",
    "plt.savefig('/media/leandro/Volumen1TB/Lean/Albumina/%alb_convertion.png')"
   ]
  },
  {
   "cell_type": "code",
   "execution_count": null,
   "metadata": {},
   "outputs": [],
   "source": [
    "cambios_fq = pd.read_csv('/media/leandro/Volumen1TB/Lean/Albumina/cambios_fq_completos.csv', sep= ' ')"
   ]
  },
  {
   "cell_type": "code",
   "execution_count": null,
   "metadata": {},
   "outputs": [],
   "source": [
    "cambios_fq.loc()"
   ]
  },
  {
   "cell_type": "code",
   "execution_count": null,
   "metadata": {},
   "outputs": [],
   "source": []
  }
 ],
 "metadata": {
  "kernelspec": {
   "display_name": "Python 3",
   "language": "python",
   "name": "python3"
  },
  "language_info": {
   "codemirror_mode": {
    "name": "ipython",
    "version": 3
   },
   "file_extension": ".py",
   "mimetype": "text/x-python",
   "name": "python",
   "nbconvert_exporter": "python",
   "pygments_lexer": "ipython3",
   "version": "3.8.10"
  }
 },
 "nbformat": 4,
 "nbformat_minor": 4
}
