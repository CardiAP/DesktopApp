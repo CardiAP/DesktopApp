{
 "cells": [
  {
   "cell_type": "code",
   "execution_count": 4,
   "id": "wrong-antenna",
   "metadata": {},
   "outputs": [],
   "source": [
    "import methcomp as mcp\n",
    "import matplotlib.pyplot as plt \n",
    "import numpy as np"
   ]
  },
  {
   "cell_type": "code",
   "execution_count": 9,
   "id": "damaged-species",
   "metadata": {},
   "outputs": [
    {
     "ename": "NameError",
     "evalue": "name 'library' is not defined",
     "output_type": "error",
     "traceback": [
      "\u001b[0;31m---------------------------------------------------------------------------\u001b[0m",
      "\u001b[0;31mNameError\u001b[0m                                 Traceback (most recent call last)",
      "\u001b[0;32m/tmp/ipykernel_6583/2067289595.py\u001b[0m in \u001b[0;36m<module>\u001b[0;34m\u001b[0m\n\u001b[1;32m     18\u001b[0m \u001b[0;34m\u001b[0m\u001b[0m\n\u001b[1;32m     19\u001b[0m \u001b[0mplt\u001b[0m\u001b[0;34m.\u001b[0m\u001b[0mscatter\u001b[0m\u001b[0;34m(\u001b[0m\u001b[0mx1\u001b[0m\u001b[0;34m,\u001b[0m\u001b[0my1\u001b[0m\u001b[0;34m)\u001b[0m\u001b[0;31m#,xlim=c(0,35),ylim=c(0,100))\u001b[0m\u001b[0;34m\u001b[0m\u001b[0;34m\u001b[0m\u001b[0m\n\u001b[0;32m---> 20\u001b[0;31m \u001b[0mlibrary\u001b[0m\u001b[0;34m(\u001b[0m\u001b[0mMethComp\u001b[0m\u001b[0;34m)\u001b[0m\u001b[0;34m\u001b[0m\u001b[0;34m\u001b[0m\u001b[0m\n\u001b[0m\u001b[1;32m     21\u001b[0m \u001b[0mdem_reg\u001b[0m \u001b[0;34m<\u001b[0m\u001b[0;34m-\u001b[0m \u001b[0mDeming\u001b[0m\u001b[0;34m(\u001b[0m\u001b[0mx1\u001b[0m\u001b[0;34m,\u001b[0m \u001b[0my1\u001b[0m\u001b[0;34m)\u001b[0m\u001b[0;34m\u001b[0m\u001b[0;34m\u001b[0m\u001b[0m\n\u001b[1;32m     22\u001b[0m \u001b[0mabline\u001b[0m\u001b[0;34m(\u001b[0m\u001b[0mdem_reg\u001b[0m\u001b[0;34m[\u001b[0m\u001b[0;36m1\u001b[0m\u001b[0;34m:\u001b[0m\u001b[0;36m2\u001b[0m\u001b[0;34m]\u001b[0m\u001b[0;34m,\u001b[0m \u001b[0mcol\u001b[0m \u001b[0;34m=\u001b[0m \u001b[0;34m\"green\"\u001b[0m\u001b[0;34m)\u001b[0m\u001b[0;34m\u001b[0m\u001b[0;34m\u001b[0m\u001b[0m\n",
      "\u001b[0;31mNameError\u001b[0m: name 'library' is not defined"
     ]
    },
    {
     "data": {
      "image/png": "[encoded data removed]",
      "text/plain": [
       "<Figure size 432x288 with 1 Axes>"
      ]
     },
     "metadata": {
      "needs_background": "light"
     },
     "output_type": "display_data"
    }
   ],
   "source": [
    "x1=[24.0,23.9,23.6,21.6,21.0,20.8,22.4,22.6,\n",
    " 21.6,21.2,19.0,19.4,21.1,21.5,21.5,20.1,20.1,\n",
    " 20.1,17.2,18.6,21.5,18.2,23.2,20.4,19.2,22.4,\n",
    " 18.8,17.9,19.1,17.9,19.6,18.1,17.6,17.4,17.5,\n",
    " 17.5,25.2,24.4,25.6,24.3,24.6,24.3,29.4,29.4,\n",
    " 29.1,28.5,27.2,27.9,31.5,31.5,31.5,27.8,31.2,\n",
    " 27.4,28.8,27.9,27.6,26.9,28.0,28.0,33.0,32.0,\n",
    " 34.2,34.0,32.6,30.8]\n",
    "\n",
    "y1=[100.0,95.5,93.5,100.0,98.5,99.5,34.8,\n",
    " 45.8,47.5,17.4,42.6,63.0,6.9,12.1,30.5,\n",
    " 10.5,14.3,41.1, 2.2,20.0,9.8,3.5,0.5,3.5,5.7,\n",
    " 3.1,19.2,6.4, 1.2, 4.5, 5.7, 3.1,19.2, 6.4,\n",
    " 1.2,4.5,81.5,70.5,91.5,75.0,59.5,73.3,66.5,\n",
    " 47.0,60.5,47.5,33.0,62.5,87.0,86.0,77.0,\n",
    " 86.0,83.0,78.5,83.0,83.5,73.0,69.5,82.5,78.5,\n",
    " 84.0,93.5,83.5,96.5,96.0,97.5]\n",
    "\n",
    "plt.scatter(x1,y1)#,xlim=c(0,35),ylim=c(0,100))\n",
    "library(MethComp)\n",
    "dem_reg <- Deming(x1, y1)\n",
    "abline(dem_reg[1:2], col = \"green\")"
   ]
  },
  {
   "cell_type": "code",
   "execution_count": null,
   "id": "vietnamese-startup",
   "metadata": {},
   "outputs": [],
   "source": []
  }
 ],
 "metadata": {
  "kernelspec": {
   "display_name": "Python 3",
   "language": "python",
   "name": "python3"
  },
  "language_info": {
   "codemirror_mode": {
    "name": "ipython",
    "version": 3
   },
   "file_extension": ".py",
   "mimetype": "text/x-python",
   "name": "python",
   "nbconvert_exporter": "python",
   "pygments_lexer": "ipython3",
   "version": "3.9.7"
  }
 },
 "nbformat": 4,
 "nbformat_minor": 5
}
