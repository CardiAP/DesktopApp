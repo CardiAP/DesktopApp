{
 "cells": [
  {
   "cell_type": "code",
   "execution_count": null,
   "metadata": {},
   "outputs": [],
   "source": [
    "import backgroundremover\n",
    "\n",
    "backgroundremover -i '/home/leandro/Vídeos/CardIAP-PyCon.mp4' -tv -o \"/home/leandro/Vídeos/output.mov\""
   ]
  },
  {
   "cell_type": "code",
   "execution_count": null,
   "metadata": {},
   "outputs": [],
   "source": [
    "import ffmpeg\n",
    "\n",
    "input = ffmpeg.input('/home/leandro/Vídeos/VID-20210908-WA0074.mp4')\n",
    "output = ffmpeg.output(input, '/home/leandro/Vídeos/output.mov', vcodec='libx264', vf='pad=w=iw+50:h=ih:x=25:y=0:color=white')\n",
    "\n",
    "output.run()"
   ]
  },
  {
   "cell_type": "code",
   "execution_count": null,
   "metadata": {},
   "outputs": [],
   "source": [
    "ffmpeg -y -r 10 -f lavfi -i mandelbrot=rate=10:size=250x300 -t 5 -c:v rawvideo -pix_fmt bgr24 /home/leandro/Vídeos/CardIAP-PyCon.mp4"
   ]
  },
  {
   "cell_type": "code",
   "execution_count": null,
   "metadata": {},
   "outputs": [],
   "source": [
    "import cv2\n",
    "from cvzone.SelfiSegmentationModule import SelfiSegmentation\n",
    "import cvzone\n",
    "import numpy\n",
    "import os\n",
    "\n",
    "cap = cv2.VideoCapture('/home/leandro/Vídeos/VID-20210908-WA0074.mp4')\n",
    "cap.set(cv2.CAP_PROP_FRAME_WIDTH,64)\n",
    "cap.set(cv2.CAP_PROP_FRAME_HEIGHT,48)\n",
    "segmentor = SelfiSegmentation()\n",
    "\n",
    "while True:\n",
    "    success, img = cap.read()\n",
    "    imgOut = segmentor.removeBG(img,(255,0,255),threshold=0.8)\n",
    "    imgStacked = cvzone.stackImages([img,imgOut],2,1)\n",
    "    cv2.imshow('Image', imgStacked)\n",
    "    cv2.waitKey(0)\n",
    "    cv2.destroyAllWindows()"
   ]
  },
  {
   "cell_type": "code",
   "execution_count": null,
   "metadata": {},
   "outputs": [],
   "source": []
  }
 ],
 "metadata": {
  "kernelspec": {
   "display_name": "Python 3",
   "language": "python",
   "name": "python3"
  },
  "language_info": {
   "codemirror_mode": {
    "name": "ipython",
    "version": 3
   },
   "file_extension": ".py",
   "mimetype": "text/x-python",
   "name": "python",
   "nbconvert_exporter": "python",
   "pygments_lexer": "ipython3",
   "version": "3.8.10"
  }
 },
 "nbformat": 4,
 "nbformat_minor": 4
}
