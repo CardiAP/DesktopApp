{
 "cells": [
  {
   "cell_type": "code",
   "execution_count": 1,
   "metadata": {},
   "outputs": [],
   "source": [
    "path = 'C:/Users/Leand/OneDrive/Documentos/Lean/Analizador_imagenes_calcio/Imagenes_confocal/Rata/C071112/'\n",
    "nombre_foto = 'c3ack000'\n",
    "x_calibracion = 4.5\n",
    "ancho_corte = 3"
   ]
  },
  {
   "cell_type": "code",
   "execution_count": 2,
   "metadata": {},
   "outputs": [
    {
     "name": "stdin",
     "output_type": "stream",
     "text": [
      "How many peaks do you want to analyse? 1\n"
     ]
    },
    {
     "data": {
      "image/png": "[encoded data removed]",
      "text/plain": [
       "<Figure size 432x288 with 1 Axes>"
      ]
     },
     "metadata": {
      "needs_background": "light"
     },
     "output_type": "display_data"
    }
   ],
   "source": [
    "from PIL import Image             # funciones para cargar y manipular imágenes\n",
    "import numpy as np                # funciones numéricas (arrays, matrices, etc.)\n",
    "import matplotlib.pyplot as plt   # funciones para representación gráfica\n",
    "%matplotlib inline\n",
    "import cv2\n",
    "from matplotlib.pyplot import subplots\n",
    "from numpy import linspace\n",
    "from scipy import interpolate\n",
    "from scipy.signal import argrelextrema\n",
    "import pandas as pd\n",
    "from pylab import lstsq\n",
    "from pylab import matrix\n",
    "from pylab import exp\n",
    "from math import log\n",
    "import random\n",
    "import  csv\n",
    "\n",
    "\n",
    "if __name__ == '__main__' :\n",
    "# Read image\n",
    "    imag = cv2.imread(path + nombre_foto + \".tif\")\n",
    "\n",
    "    if imag is None:\n",
    "        print(\"Check file path\")\n",
    "    else:\n",
    "        cv2.imshow ('image', imag)\n",
    "        cv2.waitKey(0)\n",
    "        cv2.destroyAllWindows()\n",
    "        cantidad_picos = int(input ('How many peaks do you want to analyse?'))\n",
    "\n",
    "    if cantidad_picos == 0:\n",
    "        pass\n",
    "    else:\n",
    "        # Select ROI\n",
    "        fromCenter = False\n",
    "        showCrosshair = False\n",
    "        r = cv2.selectROI(imag, fromCenter, showCrosshair)\n",
    "\n",
    "        # Crop image\n",
    "        imCrop = imag[int(r[1]):int(r[1]+r[3]), int(r[0]):int(r[0]+r[2])]\n",
    "        up = int(r[1])\n",
    "        down = int(r[1]+r[3])\n",
    "        left = int(r[0])\n",
    "        right = int(r[0]+r[2])\n",
    "\n",
    "#########################\n",
    "#- Creating a log file -#\n",
    "log_path = path + 'logfile.txt'\n",
    "\n",
    "with open(log_path, 'a') as my_file:\n",
    "    my_file.write('selected area pict: '+ nombre_foto + '\\n' +'up: ' + str(up) + '\\n'+'down: ' + str(down) + '\\n'+'left: ' + str(left) + '\\n'+'right: ' + str(right) + '\\n')\n",
    "\n",
    "# Display cropped image\n",
    "cv2.imshow(\"Image\", imCrop)\n",
    "cv2.waitKey(0)\n",
    "cv2.destroyAllWindows()\n",
    "\n",
    "\n",
    "################################\n",
    "### PREPARACIÓN DE LA IMAGEN ###\n",
    "################################\n",
    "\n",
    "I = Image.open(path + nombre_foto + \".tif\")\n",
    "a=np.asarray(I,dtype=np.float32)  # convierte el objeto I en una matriz de tipo float32\n",
    "Image.fromarray(a.astype(np.uint8)).save(\"prueba.jpg\")  # primero convierte \"a\" a uint8, y luego a un objeto \"imagen\"\n",
    "\n",
    "\n",
    "######################################################################################################\n",
    "###HACE CORTES DE LA IMAGEN CADA INTERVALOS DE PIXELES Y LUEGO HACE UN HISTOGRAMA DE CADA INTERVALO###\n",
    "######################################################################################################\n",
    "\n",
    "## Genera una imagen en escala de grises con la que se trabaja\n",
    "\n",
    "#             plt.figure()\n",
    "#             plt.subplot(121)\n",
    "#             plt.imshow(a,cmap='gray',interpolation='nearest')\n",
    "#             plt.title('Imagen') \n",
    "a = cv2.bilateralFilter(a,20,300,300)\n",
    "\n",
    "## Corta en porciones la imagen haciendo un histograma de cada una\n",
    "x_data = np.asarray(range(up,down),dtype=np.float64)\n",
    "list_img_row = []\n",
    "\n",
    "whole_cell_SI = Image.fromarray(a[up:down, left:right].astype(np.uint8))\n",
    "whole_cell_data = np.sum(whole_cell_SI,axis=1).tolist()\n",
    "for i in range (left, right, ancho_corte):\n",
    "    #recorte de la imagen en los límites del objeto\n",
    "    seleccion=a[up:down,i:i + ancho_corte]\n",
    "    #análisis de cada franja\n",
    "    SI = Image.fromarray(seleccion.astype(np.uint8))\n",
    "    img_row_sum = np.sum(SI,axis=1).tolist() #lista de datos del histograma\n",
    "    list_img_row.append (img_row_sum)\n",
    "#gráfico de cada franja\n",
    "#             plt.subplot(122)\n",
    "#             plt.imshow(seleccion,cmap='gray',interpolation='nearest')\n",
    "#             plt.title('Subframe') \n",
    "#             plt.show()\n",
    "#gráfico de histograma\n",
    "plt.plot(img_row_sum)\n",
    "plt.title(nombre_foto)\n",
    "plt.xlabel(\"time\")\n",
    "plt.ylabel(\"Intensity\")\n",
    "plt.savefig('img_row_sum')\n",
    "plt.show()"
   ]
  },
  {
   "cell_type": "code",
   "execution_count": 3,
   "metadata": {},
   "outputs": [
    {
     "name": "stdin",
     "output_type": "stream",
     "text": [
      "Time between peaks? 400\n"
     ]
    }
   ],
   "source": [
    "# Función que da la posición de los picos máximos\n",
    "\n",
    "min_distancia = input ('Time between peaks?')\n",
    "def maximo_peak (vector):\n",
    "    import numpy as np\n",
    "    from peakutils.peak import indexes\n",
    "    import peakutils\n",
    "    indexes = indexes(np.array(vector), thres=1.0/max(vector), min_dist=min_distancia)\n",
    "    kk = list(indexes)\n",
    "    tiempos = []\n",
    "    intensidades = []\n",
    "    for j in kk:\n",
    "        if vector[j]> (sum(vector) / len(vector)):\n",
    "            tiempos.append (j)\n",
    "            intensidades.append (vector[j])\n",
    "    return tiempos,intensidades\n",
    "\n",
    "# Aplico la función sobre los datos de la célula entera, y devuelve valores de tiempos e intensidades de los máximos\n",
    "\n",
    "\n",
    "whole_cell_picos = maximo_peak (whole_cell_data)\n",
    "whole_cell_tiempos_maximos = whole_cell_picos [0]\n",
    "whole_cell_intensidades_maximos = whole_cell_picos [1]\n",
    "\n",
    "cantidad_total_picos = int (len(whole_cell_picos[0]))                             \n",
    "Columns = ['Transient_'+ str(x) for x in range(0, cantidad_total_picos)]\n",
    "wc = pd.DataFrame([whole_cell_tiempos_maximos,whole_cell_intensidades_maximos], columns = Columns)\n",
    "\n",
    "# Aplico la función sobre los datos, y devuelve valores de tiempos e intensidades de los máximos\n",
    "\n",
    "datos_tiempos = {}\n",
    "datos_intensidades = {}  \n",
    "\n",
    "for i in range (0,len(list_img_row)):\n",
    "\n",
    "    picos = maximo_peak (list_img_row[i])\n",
    "    datos_tiempos [i] = picos [0]\n",
    "    datos_intensidades [i] = picos [1]\n",
    "\n",
    "df_tiempos = pd.DataFrame(list(datos_tiempos.items()),columns = ['Rows','Picos'])\n",
    "df_intensidades = pd.DataFrame(list(datos_intensidades.items()),columns = ['Rows','Picos'])\n",
    "Columns = ['Pico_'+ str(x) for x in range(0, cantidad_total_picos)]\n",
    "tiempos_maximos = pd.DataFrame(df_tiempos.Picos.tolist(), columns=Columns)\n",
    "intensidades_maximas = pd.DataFrame(df_intensidades.Picos.tolist(), columns=Columns)"
   ]
  },
  {
   "cell_type": "markdown",
   "metadata": {},
   "source": [
    "### MEDIDA DE LA VELOCIDAD DE PROPAGACIÓN DE WAVES"
   ]
  },
  {
   "cell_type": "code",
   "execution_count": 4,
   "metadata": {},
   "outputs": [
    {
     "name": "stdout",
     "output_type": "stream",
     "text": [
      "-1.5188123768787893 430.9747281810168\n"
     ]
    },
    {
     "data": {
      "text/plain": [
       "<matplotlib.collections.PathCollection at 0x1f10664f7b8>"
      ]
     },
     "execution_count": 4,
     "metadata": {},
     "output_type": "execute_result"
    },
    {
     "data": {
      "image/png": "[encoded data removed]",
      "text/plain": [
       "<Figure size 432x288 with 1 Axes>"
      ]
     },
     "metadata": {
      "needs_background": "light"
     },
     "output_type": "display_data"
    }
   ],
   "source": [
    "import numpy as np\n",
    "import matplotlib.pyplot as plt\n",
    "\n",
    "wp = pd.DataFrame()\n",
    "wp ['tiempo']= tiempos_maximos ['Pico_0']\n",
    "wp ['distancia'] = range (0,ancho_corte*len (tiempos_maximos ['Pico_0']),ancho_corte)\n",
    "\n",
    "x = list(wp ['distancia'])\n",
    "y = list(wp ['tiempo'])\n",
    "\n",
    "(m, b) = np.polyfit(x, y, 1)\n",
    "print(m, b)\n",
    "\n",
    "yp = np.polyval([m, b], x)\n",
    "plt.plot(x, yp)\n",
    "plt.grid(True)\n",
    "plt.scatter(x,y)"
   ]
  },
  {
   "cell_type": "code",
   "execution_count": null,
   "metadata": {},
   "outputs": [],
   "source": []
  }
 ],
 "metadata": {
  "kernelspec": {
   "display_name": "Python 3",
   "language": "python",
   "name": "python3"
  },
  "language_info": {
   "codemirror_mode": {
    "name": "ipython",
    "version": 3
   },
   "file_extension": ".py",
   "mimetype": "text/x-python",
   "name": "python",
   "nbconvert_exporter": "python",
   "pygments_lexer": "ipython3",
   "version": "3.7.3"
  }
 },
 "nbformat": 4,
 "nbformat_minor": 4
}
