{
 "cells": [
  {
   "cell_type": "code",
   "execution_count": 1,
   "metadata": {},
   "outputs": [],
   "source": [
    "path = '/home/lean/Documentos/Lean/Analizador_imagenes_calcio/Imagenes_confocal/Rata/F051212/'\n",
    "nombre_foto = 'c4af000'\n",
    "x_calibracion = 1\n",
    "slice_width = 5"
   ]
  },
  {
   "cell_type": "code",
   "execution_count": 3,
   "metadata": {
    "tags": []
   },
   "outputs": [
    {
     "name": "stdout",
     "output_type": "stream",
     "text": [
      "    slope_at_point  y_value_at_point\n",
      "0        -1.986884        141.456759\n",
      "0        -1.721897        139.606442\n",
      "0        -1.503390        137.997475\n",
      "0        -1.326740        136.585712\n",
      "0        -1.187603        135.331493\n",
      "..             ...               ...\n",
      "0        -0.730588        109.393327\n",
      "0        -0.983374        108.538327\n",
      "0        -1.260968        107.418311\n",
      "0        -1.565533        106.007403\n",
      "0        -1.899401        104.277480\n",
      "\n",
      "[110 rows x 2 columns]\n",
      "    slope_at_point  y_value_at_point\n",
      "0        -7.097245        117.007814\n",
      "0        -5.710198        110.619351\n",
      "0        -4.498591        105.528947\n",
      "0        -3.447614        101.568635\n",
      "0        -2.543256         98.584855\n",
      "..             ...               ...\n",
      "0         9.917187         51.839369\n",
      "0        10.976429         62.286166\n",
      "0        12.032406         73.791145\n",
      "0        13.077978         86.347517\n",
      "0        14.105421         99.941065\n",
      "\n",
      "[140 rows x 2 columns]\n"
     ]
    }
   ],
   "source": [
    "# from PIL import Image             # funciones para cargar y manipular imágenes\n",
    "import numpy as np                # funciones numéricas (arrays, matrices, etc.)\n",
    "import matplotlib.pyplot as plt   # funciones para representación gráfica\n",
    "%matplotlib inline\n",
    "import cv2\n",
    "from matplotlib.pyplot import subplots\n",
    "import pandas as pd\n",
    "from lib.image import image_data\n",
    "from lib.analysis import wave_peaks_analysis\n",
    "# https://en.wikipedia.org/wiki/Stepwise_regression\n",
    "import lib.analysis.waves_analysis as wa\n",
    "# Read image\n",
    "imag = cv2.imread(path + nombre_foto + \".tif\")\n",
    "\n",
    "if imag is None:\n",
    "    print(\"Check file path\")\n",
    "else:\n",
    "    # Select ROI\n",
    "    fromCenter = False\n",
    "    showCrosshair = False\n",
    "    SelectedRegions = image_data.multiroi(imag)\n",
    "for imCrop in SelectedRegions:\n",
    "    ######################################################################################################\n",
    "    ###HACE CORTES DE LA IMAGEN CADA INTERVALOS DE PIXELES Y LUEGO HACE UN HISTOGRAMA DE CADA INTERVALO###\n",
    "    ######################################################################################################\n",
    "    ## Genera una imagen en escala de grises con la que se trabaja\n",
    "    a = cv2.bilateralFilter(imCrop,5,150,150)\n",
    "    ## Corta en porciones la imagen haciendo un histograma de cada una\n",
    "    min_dist_between_max_peaks = 200\n",
    "    list_img_row = wave_peaks_analysis.analyze_image(a,min_dist_between_max_peaks,x_calibracion,slice_width)\n",
    "    print(wa.wave_propagation(list_img_row))"
   ]
  },
  {
   "cell_type": "markdown",
   "metadata": {},
   "source": [
    "### MEDIDA DE LA VELOCIDAD DE PROPAGACIÓN DE WAVES"
   ]
  },
  {
   "cell_type": "code",
   "execution_count": 8,
   "metadata": {},
   "outputs": [
    {
     "data": {
      "image/png": "[encoded data removed]",
      "text/plain": [
       "<Figure size 700x500 with 1 Axes>"
      ]
     },
     "metadata": {
      "needs_background": "light"
     },
     "output_type": "display_data"
    }
   ],
   "source": [
    "graphWidth = 700\n",
    "graphHeight = 500\n",
    "wa.ModelAndScatterPlot(xData, yData,fittedParameters,graphWidth, graphHeight,pointVal)"
   ]
  },
  {
   "cell_type": "code",
   "execution_count": null,
   "metadata": {},
   "outputs": [
    {
     "data": {
      "text/html": [
       "<div>\n",
       "<style scoped>\n",
       "    .dataframe tbody tr th:only-of-type {\n",
       "        vertical-align: middle;\n",
       "    }\n",
       "\n",
       "    .dataframe tbody tr th {\n",
       "        vertical-align: top;\n",
       "    }\n",
       "\n",
       "    .dataframe thead th {\n",
       "        text-align: right;\n",
       "    }\n",
       "</style>\n",
       "<table border=\"1\" class=\"dataframe\">\n",
       "  <thead>\n",
       "    <tr style=\"text-align: right;\">\n",
       "      <th></th>\n",
       "      <th>0</th>\n",
       "      <th>1</th>\n",
       "    </tr>\n",
       "  </thead>\n",
       "  <tbody>\n",
       "    <tr>\n",
       "      <th>0</th>\n",
       "      <td>2</td>\n",
       "      <td>1</td>\n",
       "    </tr>\n",
       "  </tbody>\n",
       "</table>\n",
       "</div>"
      ],
      "text/plain": [
       "   0  1\n",
       "0  2  1"
      ]
     },
     "execution_count": 10,
     "metadata": {},
     "output_type": "execute_result"
    }
   ],
   "source": [
    "pd.concat([pd.DataFrame(),pd.DataFrame([[2,1]])])"
   ]
  },
  {
   "cell_type": "code",
   "execution_count": null,
   "metadata": {},
   "outputs": [],
   "source": []
  }
 ],
 "metadata": {
  "kernelspec": {
   "display_name": "cardiap",
   "language": "python",
   "name": "cardiap"
  },
  "language_info": {
   "codemirror_mode": {
    "name": "ipython",
    "version": 3
   },
   "file_extension": ".py",
   "mimetype": "text/x-python",
   "name": "python",
   "nbconvert_exporter": "python",
   "pygments_lexer": "ipython3",
   "version": "3.8.10"
  }
 },
 "nbformat": 4,
 "nbformat_minor": 4
}
