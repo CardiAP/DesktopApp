{
 "cells": [
  {
   "cell_type": "code",
   "execution_count": 1,
   "metadata": {},
   "outputs": [],
   "source": [
    "#Imports\n",
    "import json\n",
    "import numpy as np\n",
    "import pandas as pd"
   ]
  },
  {
   "cell_type": "code",
   "execution_count": 2,
   "metadata": {},
   "outputs": [],
   "source": [
    "#encodes a dictionary into a jason\n",
    "class NumpyEncoder(json.JSONEncoder):\n",
    "    \"\"\" Special json encoder for numpy types \"\"\"\n",
    "    def default(self, obj):\n",
    "        if isinstance(obj, np.integer):\n",
    "            return int(obj)\n",
    "        elif isinstance(obj, np.floating):\n",
    "            return float(obj)\n",
    "        elif isinstance(obj, np.ndarray):\n",
    "            return obj.tolist()\n",
    "        return json.JSONEncoder.default(self, obj)\n",
    "\n",
    "\n",
    "def jasonGenerator(path,results,photo_name):\n",
    "    \"\"\" Generates a .jason file in the path given folder from the a dictionary \"\"\"\n",
    "    with open(path + '/analysis_result_' + photo_name + '.json',\"w\") as miarch:\n",
    "        miarch.write(json.dumps(results, cls=NumpyEncoder))"
   ]
  },
  {
   "cell_type": "code",
   "execution_count": 3,
   "metadata": {},
   "outputs": [],
   "source": [
    "def jasonReader(path):\n",
    "    \"\"\" Reads the .jason generated with jasonGenartor the given path\"\"\"\n",
    "    with open(path,'r') as miarch:\n",
    "        loaded_dict = json.loads(miarch.read())\n",
    "    return loaded_dict"
   ]
  },
  {
   "cell_type": "code",
   "execution_count": 13,
   "metadata": {},
   "outputs": [
    {
     "name": "stdout",
     "output_type": "stream",
     "text": [
      "0 [2.3529412746429443, 2.3529412746429443]\n",
      "1 [2.1111111640930176, 2.2352941036224365]\n",
      "2 [2.0, 2.117647171020508]\n",
      "3 [1.8888888359069824, 1.941176414489746]\n",
      "4 [1.8333333730697632, 1.8235293626785278]\n",
      "5 [1.8235293626785278, 1.7058823108673096]\n",
      "6 [1.7058823108673096, 1.8125]\n",
      "7 [1.75, 1.8666666746139526]\n",
      "8 [1.8666666746139526, 2.0]\n",
      "9 [1.9285714626312256, 2.076923131942749]\n",
      "10 [1.923076868057251, 1.923076868057251]\n",
      "11 [2.0, 2.0]\n",
      "12 [2.0, 2.0]\n",
      "13 [1.7272727489471436, 1.7272727489471436]\n",
      "14 [1.7999999523162842, 1.7999999523162842]\n",
      "15 [1.7000000476837158, 1.7000000476837158]\n",
      "16 [1.7000000476837158, 1.7000000476837158]\n",
      "17 [1.7999999523162842, 1.7000000476837158]\n",
      "18 [1.6363636255264282, 1.7999999523162842]\n",
      "19 [1.5, 1.6363636255264282]\n",
      "20 [1.5833333730697632, 1.5]\n",
      "21 [1.5384615659713745, 1.6666666269302368]\n",
      "22 [1.615384578704834, 1.5384615659713745]\n",
      "23 [1.5, 1.615384578704834]\n",
      "24 [1.6428571939468384, 1.5714285373687744]\n",
      "25 [1.5333333015441895, 1.4666666984558105]\n",
      "26 [1.4375, 1.5333333015441895]\n",
      "27 [1.5, 1.375]\n",
      "28 [1.5, 1.375]\n",
      "29 [1.5625, 1.375]\n",
      "30 [1.4117647409439087, 1.375]\n",
      "31 [1.470588207244873, 1.4375]\n",
      "32 [1.470588207244873, 1.5]\n",
      "33 [1.529411792755127, 1.5625]\n",
      "34 [1.529411792755127, 1.470588207244873]\n",
      "35 [1.529411792755127, 1.470588207244873]\n",
      "36 [1.529411792755127, 1.470588207244873]\n",
      "37 [1.4444444179534912, 1.529411792755127]\n",
      "38 [1.5, 1.3888888359069824]\n",
      "39 [1.5, 1.4444444179534912]\n",
      "40 [1.6111111640930176, 1.5]\n",
      "41 [1.6666666269302368, 1.5]\n"
     ]
    }
   ],
   "source": [
    "import os\n",
    "\n",
    "AR_list = []\n",
    "path = '/media/leandro/Volumen1TB/Lean/Analizador_imagenes_calcio/Luis/jsons/'\n",
    "jsons_list = os.listdir(path)\n",
    "for file in jsons_list[:1]:\n",
    "    path_file = path + file\n",
    "    dic = jasonReader(path_file)\n",
    "    slices = dic['slices']\n",
    "    for i in range(0,len(slices)):\n",
    "        print (i,slices[i]['amplitudes'])\n",
    "# print('Done')"
   ]
  },
  {
   "cell_type": "code",
   "execution_count": null,
   "metadata": {},
   "outputs": [],
   "source": []
  }
 ],
 "metadata": {
  "kernelspec": {
   "display_name": "Python 3",
   "language": "python",
   "name": "python3"
  },
  "language_info": {
   "codemirror_mode": {
    "name": "ipython",
    "version": 3
   },
   "file_extension": ".py",
   "mimetype": "text/x-python",
   "name": "python",
   "nbconvert_exporter": "python",
   "pygments_lexer": "ipython3",
   "version": "3.8.2"
  }
 },
 "nbformat": 4,
 "nbformat_minor": 4
}
