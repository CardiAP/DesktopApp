{
 "cells": [
  {
   "cell_type": "code",
   "execution_count": 1,
   "metadata": {},
   "outputs": [],
   "source": [
    "#Imports\n",
    "import json\n",
    "import numpy as np\n",
    "import pandas as pd\n",
    "import csv\n",
    "import scipy.stats\n",
    "import matplotlib.pyplot as plt\n",
    "import seaborn as sns\n",
    "import os"
   ]
  },
  {
   "cell_type": "code",
   "execution_count": 20,
   "metadata": {},
   "outputs": [
    {
     "name": "stdout",
     "output_type": "stream",
     "text": [
      "010719ctrol1_analysis_result_ctrol1a0.json [30, 29, 63]\n",
      "010719ctrol1_analysis_result_ctrol1b0.json [203, 208, 216, 201]\n",
      "010719ctrol8_analysis_result_ctrol8a0.json [149, 149, 156, 152, 150, 153]\n",
      "010719ctrol8_analysis_result_ctrol8b0.json [46, 45, 47]\n",
      "010719Dan2_analysis_result_dan2a000.json [13, 13, 15]\n",
      "010719Dan2_analysis_result_dan2b000.json [39, 42, 38, 40, 39]\n",
      "010719Dan6_analysis_result_dan6a000.json [70, 70, 70, 70, 70, 70, 70]\n",
      "010719Dan6_analysis_result_dan6b000.json [17, 18, 36]\n",
      "010719VK3_analysis_result_vk3a000.json [29, 28, 33]\n",
      "010719VK3_analysis_result_vk3b002.json [48, 44, 43, 44, 45]\n",
      "010719VK7_analysis_result_vk7a000.json [43, 43, 43, 43, 43, 43, 43, 43, 43, 43, 43]\n",
      "010719VK7_analysis_result_vk7b000.json [17, 18, 20]\n",
      "010819c1_analysis_result_c1a000.json [22, 22, 24]\n",
      "010819c1_analysis_result_c1b000.json [42, 41, 40, 42]\n",
      "010819c2_analysis_result_c2a000.json [25, 25, 28]\n",
      "010819c2_analysis_result_c2b000.json [129, 115, 123, 120, 175]\n",
      "010819c3_analysis_result_c3a000.json [38, 38, 51]\n",
      "010819c3_analysis_result_c3b001.json [89, 92, 90, 102]\n",
      "010819c3_analysis_result_c3c000.json [53, 53, 53, 51, 54, 54, 54]\n",
      "031019c1_analysis_result_c1b000.json [37, 35, 39]\n",
      "031019c1_analysis_result_c1e000.json [111, 117, 109, 113, 112]\n",
      "031019c2_analysis_result_c2b000.json [18, 18, 31]\n",
      "031019c2_analysis_result_c2e000.json [45, 46, 44, 45]\n",
      "031019c2_analysis_result_c2f000.json [112, 113, 112]\n",
      "031019c3_analysis_result_c3b000.json [16, 16, 23]\n",
      "031019c3_analysis_result_c3e000.json [51, 49, 50, 52]\n",
      "031019c3_analysis_result_c3f000.json [43, 44, 44, 43]\n",
      "031019c4_analysis_result_c4b000.json [13, 13, 15]\n",
      "031019c4_analysis_result_c4e000.json [90, 88, 86, 90]\n",
      "031019c5_analysis_result_c5B000.json [19, 20, 21]\n",
      "031019c5_analysis_result_c5E000.json [32, 33, 33, 33, 33]\n",
      "031019c5_analysis_result_c5f000.json [51, 50, 51, 51, 50]\n",
      "050320c1_analysis_result.json [11, 11, 11, 11, 11]\n",
      "050320c1_analysis_result_1c000.json [13, 13, 13, 13, 13, 13, 13, 13, 13]\n",
      "050320c1_analysis_result_1d000.json [14, 14, 14, 14, 14, 14, 14, 14, 14, 14]\n",
      "050320c1_analysis_result_c1d000.json [13, 13, 13, 13, 13, 13, 13, 13, 15]\n",
      "050320c2_analysis_result.json [15, 15, 15, 15, 15]\n",
      "050320c2_analysis_result_2a000.json [11, 11, 14]\n",
      "050320c2_analysis_result_2d000.json [22, 22, 22, 22, 22, 22, 21, 22, 22, 22, 21]\n",
      "050320c3_analysis_result_3a001.json [9, 8, 12]\n",
      "050320c3_analysis_result_3d001.json [14, 14, 13, 13, 14, 13, 13, 13, 13, 13, 15]\n",
      "050320c4_analysis_result_4a001.json [8, 8, 9]\n",
      "050320c4_analysis_result_4d001.json [15, 15, 15, 15, 15, 15, 15, 15, 15, 15, 15]\n",
      "050320c5_analysis_result_5a001.json [9, 9, 11]\n",
      "050320c5_analysis_result_5d001.json [17, 17, 17, 16, 17, 16, 17, 17, 17, 17, 17]\n",
      "050320c6_analysis_result_6a001.json [16, 16, 20]\n",
      "050320c6_analysis_result_6d001.json [38, 36, 38]\n",
      "050320c7_analysis_result_7a001.json [10, 10, 11]\n",
      "050320c7_analysis_result_7d001.json [17, 17, 17, 17, 17, 17, 17, 17, 17, 17]\n",
      "050320c8_analysis_result_8b000.json [15, 14, 16]\n",
      "050320c8_analysis_result_8e000.json [52, 52, 52, 51, 51, 51, 51, 50]\n",
      "060320c1_analysis_result_1a000.json [12, 12, 13]\n",
      "060320c1_analysis_result_1d000.json [21, 21, 21, 21, 21, 21, 21, 21, 21, 21, 26]\n",
      "060320dan4_analysis_result_d4a000.json [4, 4, 4]\n",
      "060320dan4_analysis_result_d4d000.json [6, 6, 6, 7]\n",
      "060320dan6_analysis_result_d6a001.json [27, 27, 27]\n",
      "060320dan6_analysis_result_d6d001.json [29, 29, 29, 29, 29, 29, 29]\n",
      "060320dan7_analysis_result_d7a001.json [32, 31, 34]\n",
      "060320dan7_analysis_result_d7d001.json [40, 39, 39, 39, 39, 39]\n",
      "060320vk2_analysis_result_vk2a001.json [10, 10, 11]\n",
      "060320vk2_analysis_result_vk2d001.json [13, 13, 13, 13]\n",
      "060320vk3_analysis_result_vk3a001.json [4, 4, 4]\n",
      "060320vk3_analysis_result_vk3d001.json [7, 7, 7, 7, 6, 7, 6, 6, 6, 7]\n",
      "060320vk5_analysis_result_vk5a000.json [5, 5, 5]\n",
      "060320vk5_analysis_result_vk5d000.json [7, 7, 7, 7, 7, 7]\n",
      "070119Ctrol3_analysis_result_c3a001.json [16, 16, 16]\n",
      "070119Ctrol3_analysis_result_c3b000.json [33, 33, 32, 33, 38]\n",
      "070119Ctrol4_analysis_result_c4a000.json [25, 24, 24]\n",
      "070119Ctrol4_analysis_result_c4b000.json [91, 90, 92, 92, 92, 92]\n",
      "070119Ctrol5_analysis_result_c5a001.json [43, 46, 50]\n",
      "070119Ctrol5_analysis_result_c5b000.json [114, 113, 112, 114, 117]\n",
      "070119Ctrol6_analysis_result_c6a000.json [34, 34, 35]\n",
      "070119Ctrol6_analysis_result_c6b000.json [58, 60, 59, 58, 59]\n",
      "070119Ctrol7_analysis_result_c7a000.json [22, 22, 23]\n",
      "070119Ctrol7_analysis_result_c7b000.json [34, 35, 35, 34, 35]\n",
      "071119c1sel_analysis_result_c1a002.json [21, 21, 22]\n",
      "071119c1sel_analysis_result_c1d001.json [44, 44, 44, 44, 44, 45, 45]\n",
      "071119dan3_analysis_result_dan3a000.json [10, 10, 16]\n",
      "071119dan3_analysis_result_dan3d000.json [28, 27, 28, 28, 27, 27, 27, 27, 28]\n",
      "071119dan4_analysis_result_dan4a000.json [3, 3, 4]\n",
      "071119dan4_analysis_result_dan4e000.json [14, 18, 13, 18]\n",
      "071119vk2_analysis_result_vk2a000.json [13, 13, 13]\n",
      "071119vk2_analysis_result_vk2e000.json [19, 28, 19, 28, 20, 31]\n",
      "071119vk5_analysis_result_vk5a000.json [10, 10, 11]\n",
      "071119vk5_analysis_result_vk5f000.json [31, 32, 35, 35, 33]\n",
      "121218SEL_analysis_result_1b000.json [102, 105, 102, 102, 102, 102, 104, 104, 105, 103, 101, 116]\n",
      "121218SEL_analysis_result_c1a000.json [56, 56, 74]\n",
      "131218c1_analysis_result_c1a000.json [51, 49, 48]\n",
      "131218c1_analysis_result_c1b000.json [48, 48, 48, 48, 47, 47, 48, 48, 47, 47, 48]\n",
      "170719c1_analysis_result_c1a000.json [15, 15, 23]\n",
      "170719c1_analysis_result_c1b000.json [54, 54, 54, 54, 54, 55, 54, 55, 55, 55, 57]\n",
      "170719c5_analysis_result_c5a000.json [61, 64, 72]\n",
      "170719c5_analysis_result_c5b000.json [115, 116, 115, 117, 116, 118]\n",
      "170719Dan3_analysis_result_dan3a000.json [35, 35, 49]\n",
      "170719Dan3_analysis_result_dan3b000.json [112, 116, 109, 115, 103, 109]\n",
      "170719Dan6_analysis_result_dan6a000.json [24, 23, 38]\n",
      "170719Dan6_analysis_result_dan6b000.json [69, 67, 66, 68, 67, 66, 68, 65, 65, 66, 68]\n",
      "170719Dan8_analysis_result_dan8a000.json [23, 22, 32]\n",
      "170719Dan8_analysis_result_dan8b000.json [38, 40, 39, 41, 39, 41]\n",
      "170719VK4_analysis_result_vk4a000.json [18, 19, 19]\n",
      "170719VK4_analysis_result_vk4b000.json [33, 37, 33, 36, 33, 36]\n",
      "170719VK7_analysis_result_vk7a000.json [29, 30, 47]\n",
      "170719VK7_analysis_result_vk7b000.json [44, 45, 47, 44, 47]\n",
      "171019c1sel_analysis_result_c1a000.json [6, 6, 6]\n",
      "171019c1sel_analysis_result_c1d000.json [12, 12, 12, 12, 12, 12, 12, 12, 12, 12, 12, 12]\n",
      "171019c6sel_analysis_result_c6a000.json [0, 1, 2]\n",
      "171019c6sel_analysis_result_c6d000.json [33, 33, 33, 32, 32, 34]\n",
      "171019dan4_analysis_result_dan4a000.json [1, 1, 1]\n",
      "171019dan4_analysis_result_dan4d000.json [8, 13, 7, 14, 7, 14]\n",
      "171019dan7_analysis_result_dan7a000.json [0, 0, 1]\n",
      "171019dan7_analysis_result_dan7d000.json [20, 23, 22]\n",
      "171019vk3_analysis_result_vk3a000.json [5, 5, 5]\n",
      "171019vk3_analysis_result_vk3e000.json [14, 14, 14, 13, 14, 15]\n",
      "220119c1_analysis_result_ctrol1a0.json [21, 20, 23]\n",
      "220119c1_analysis_result_ctrol1b0.json [35, 38, 35, 38]\n",
      "220119VK1uM_analysis_result_vk2a000.json [26, 25, 25]\n",
      "220119VK1uM_analysis_result_vk2b003.json [27, 27, 28, 31]\n",
      "230819c1_analysis_result_c1otra01.json [43, 62, 44]\n",
      "230819c1_analysis_result_otra1hz1.json [17, 17, 21]\n",
      "230819c2_analysis_result_ctrol2a0.json [8, 8, 24]\n",
      "230819c2_analysis_result_ctrol2d0.json [29, 28, 29]\n",
      "230819Dan1_analysis_result_D1a001.json [13, 13, 18]\n",
      "230819Dan1_analysis_result_D1d001.json [25, 25, 24, 25, 24, 24]\n",
      "230819Dan2_analysis_result_D2a000.json [10, 10, 19]\n",
      "230819Dan2_analysis_result_D2d000.json [19, 23, 19]\n",
      "230819VK1_analysis_result_vk1a000.json [4, 3, 3]\n",
      "230819VK1_analysis_result_vk1d000.json [22, 22, 21, 22]\n",
      "230819VK2_analysis_result_vk2a000.json [11, 11, 31]\n",
      "230819VK2_analysis_result_vk2d000.json [22, 26, 25, 24]\n",
      "311019c1sel_analysis_result_c1a000.json [9, 9, 9]\n",
      "311019c1sel_analysis_result_c1d000.json [18, 18, 17, 17, 18, 17, 17, 17, 17, 18, 17]\n",
      "311019c6sel_analysis_result_c6a000.json [2, 2, 3]\n",
      "311019c6sel_analysis_result_c6d000.json [20, 20, 20, 19]\n",
      "311019dan3_analysis_result_dan3a000.json [19, 18, 18]\n",
      "311019dan3_analysis_result_dan3d000.json [34, 33, 33, 33, 32, 33, 32, 33, 32, 33, 31]\n",
      "311019dan5_analysis_result_dan5a000.json [5, 5, 5]\n",
      "311019dan5_analysis_result_dan5d000.json [15, 14, 14, 14, 14, 14, 14, 14, 13, 14, 16]\n",
      "311019vk2_analysis_result_vk2a000.json [8, 8, 9]\n",
      "311019vk2_analysis_result_vk2d000.json [12, 12, 13, 13, 13, 12, 12, 12, 12, 12]\n",
      "311019vk4_analysis_result_vk4a000.json [12, 12, 14]\n",
      "311019vk4_analysis_result_vk4d000.json [19, 20, 19, 19, 21]\n"
     ]
    }
   ],
   "source": [
    "path = 'C:/Users/Leand/OneDrive/Documentos/Lean/Analizador_imagenes_calcio/Luis/analisis/'\n",
    "# path = '/media/leandro/Volumen1TB/Lean/Analizador_imagenes_calcio/Luis/analisis/'\n",
    "experiments = os.listdir(path + 'jsons/')\n",
    "min_exp = pd.DataFrame()\n",
    "for i in range(0,len (experiments)):\n",
    "    experiment = experiments[i]\n",
    "    with open(path + 'jsons/' + experiment) as f:\n",
    "        min_file = json.load(f)['image']['min_peaks_intensities']\n",
    "        print(experiment,min_file)\n",
    "        min_exp[i] = experiment,np.array(min_file).std()\n",
    "min_exp = pd.DataFrame (min_exp.T)\n",
    "min_exp.columns = ['file','std_min']"
   ]
  },
  {
   "cell_type": "code",
   "execution_count": 21,
   "metadata": {},
   "outputs": [],
   "source": [
    "# Filtrado por tratamiento y frecuencia\n",
    "\n",
    "def tau_filter(tratamiento,frecuencia,df):\n",
    "    tabulado_filter = tabulado[(tabulado['tratamiento']==tratamiento) & (tabulado['frecuencia']== frecuencia)].reset_index(drop=True)\n",
    "    tau = pd.DataFrame(columns = ['file','std_min'])\n",
    "    for j in range(0,len (tabulado_filter)):\n",
    "        celula = tabulado_filter['célula'][j]\n",
    "        foto = tabulado_filter['foto'][j][:-4]\n",
    "        for i in range(0,len (df)):\n",
    "            if (celula in df['file'][i]) & (foto in df['file'][i]):\n",
    "                tau.loc[j] = df.loc[i]\n",
    "    return tau"
   ]
  },
  {
   "cell_type": "code",
   "execution_count": 22,
   "metadata": {},
   "outputs": [],
   "source": [
    "tabulado = pd.read_csv(path + 'tabulado')\n",
    "del tabulado['Unnamed: 0']"
   ]
  },
  {
   "cell_type": "code",
   "execution_count": 23,
   "metadata": {},
   "outputs": [],
   "source": [
    "tabulado_control5 = tau_filter('C', 5, min_exp)\n",
    "tabulado_vk5 = tau_filter('VK', 5, min_exp)\n",
    "tabulado_dan5 = tau_filter('DAN', 5, min_exp)"
   ]
  },
  {
   "cell_type": "code",
   "execution_count": 24,
   "metadata": {},
   "outputs": [],
   "source": [
    "tabulado_control5.drop(3, inplace=True)"
   ]
  },
  {
   "cell_type": "code",
   "execution_count": 25,
   "metadata": {},
   "outputs": [
    {
     "name": "stderr",
     "output_type": "stream",
     "text": [
      "C:\\Users\\Leand\\PyMOL\\lib\\site-packages\\seaborn\\categorical.py:1326: RuntimeWarning: invalid value encountered in less\n",
      "  off_low = points < low_gutter\n",
      "C:\\Users\\Leand\\PyMOL\\lib\\site-packages\\seaborn\\categorical.py:1330: RuntimeWarning: invalid value encountered in greater\n",
      "  off_high = points > high_gutter\n"
     ]
    },
    {
     "data": {
      "text/plain": [
       "<matplotlib.axes._subplots.AxesSubplot at 0x13ec49b0b38>"
      ]
     },
     "execution_count": 25,
     "metadata": {},
     "output_type": "execute_result"
    },
    {
     "data": {
      "image/png": "[encoded data removed]",
      "text/plain": [
       "<Figure size 504x432 with 1 Axes>"
      ]
     },
     "metadata": {},
     "output_type": "display_data"
    }
   ],
   "source": [
    "df = pd.concat ([tabulado_control5,tabulado_vk5,tabulado_dan5], axis=1, sort=False, keys=['C', 'VK','DAN'])\n",
    "df\n",
    "sns.set(style=\"ticks\")\n",
    "\n",
    "# Initialize the figure with a logarithmic x axis\n",
    "f, ax = plt.subplots(figsize=(7, 6))\n",
    "\n",
    "\n",
    "sns.boxplot(data=df)\n",
    "\n",
    "sns.swarmplot(data=df, linewidth=2)"
   ]
  },
  {
   "cell_type": "code",
   "execution_count": 26,
   "metadata": {},
   "outputs": [
    {
     "name": "stdout",
     "output_type": "stream",
     "text": [
      "Ttest_indResult(statistic=0.9308177804379796, pvalue=0.3569148035647336)\n",
      "Ttest_indResult(statistic=1.1411590835009908, pvalue=0.25970991137893074)\n",
      "Ttest_indResult(statistic=-0.5007131003403411, pvalue=0.6197074014789657)\n"
     ]
    }
   ],
   "source": [
    "print(scipy.stats.ttest_ind(tabulado_control5['std_min'],tabulado_dan5['std_min']))\n",
    "print(scipy.stats.ttest_ind(tabulado_control5['std_min'],tabulado_vk5['std_min']))\n",
    "print(scipy.stats.ttest_ind(tabulado_vk5['std_min'],tabulado_dan5['std_min']))\n",
    "# print(scipy.stats.shapiro(tabulado_dan5['std_min']))"
   ]
  },
  {
   "cell_type": "code",
   "execution_count": 27,
   "metadata": {},
   "outputs": [],
   "source": [
    "DI_control = pd.read_csv(path + 'DI_control.csv')"
   ]
  },
  {
   "cell_type": "code",
   "execution_count": 28,
   "metadata": {},
   "outputs": [],
   "source": [
    "min5 = []\n",
    "for i in range(0,len(DI_control['file'])):\n",
    "    cel = DI_control['file'][i]\n",
    "    filtro_wc5 = tabulado_control5[(tabulado_control5['file'].str.contains(cel) == True)]\n",
    "    min5.append (filtro_wc5['std_min'].values)\n",
    "DI_control['min5'] = min5"
   ]
  },
  {
   "cell_type": "code",
   "execution_count": 31,
   "metadata": {},
   "outputs": [],
   "source": [
    "DI_control.drop(4, inplace=True)\n",
    "b = [j for i in DI_control['min5'].tolist() for j in i]\n",
    "a = DI_control['DISCORDANCE 5 Hz']"
   ]
  },
  {
   "cell_type": "code",
   "execution_count": 32,
   "metadata": {},
   "outputs": [
    {
     "ename": "ValueError",
     "evalue": "x and y must have the same length.",
     "output_type": "error",
     "traceback": [
      "\u001b[1;31m---------------------------------------------------------------------------\u001b[0m",
      "\u001b[1;31mValueError\u001b[0m                                Traceback (most recent call last)",
      "\u001b[1;32m<ipython-input-32-dd72ad8b1366>\u001b[0m in \u001b[0;36m<module>\u001b[1;34m\u001b[0m\n\u001b[0;32m      1\u001b[0m \u001b[1;32mfrom\u001b[0m \u001b[0mscipy\u001b[0m\u001b[1;33m.\u001b[0m\u001b[0mstats\u001b[0m\u001b[1;33m.\u001b[0m\u001b[0mstats\u001b[0m \u001b[1;32mimport\u001b[0m \u001b[0mpearsonr\u001b[0m\u001b[1;33m\u001b[0m\u001b[1;33m\u001b[0m\u001b[0m\n\u001b[1;32m----> 2\u001b[1;33m \u001b[0mprint\u001b[0m \u001b[1;33m(\u001b[0m\u001b[0mpearsonr\u001b[0m\u001b[1;33m(\u001b[0m\u001b[0mDI_control\u001b[0m\u001b[1;33m[\u001b[0m\u001b[1;34m'DISCORDANCE 5 Hz'\u001b[0m\u001b[1;33m]\u001b[0m\u001b[1;33m,\u001b[0m\u001b[0mb\u001b[0m\u001b[1;33m)\u001b[0m\u001b[1;33m)\u001b[0m\u001b[1;33m\u001b[0m\u001b[1;33m\u001b[0m\u001b[0m\n\u001b[0m",
      "\u001b[1;32m~\\PyMOL\\lib\\site-packages\\scipy\\stats\\stats.py\u001b[0m in \u001b[0;36mpearsonr\u001b[1;34m(x, y)\u001b[0m\n\u001b[0;32m   3833\u001b[0m     \u001b[0mn\u001b[0m \u001b[1;33m=\u001b[0m \u001b[0mlen\u001b[0m\u001b[1;33m(\u001b[0m\u001b[0mx\u001b[0m\u001b[1;33m)\u001b[0m\u001b[1;33m\u001b[0m\u001b[1;33m\u001b[0m\u001b[0m\n\u001b[0;32m   3834\u001b[0m     \u001b[1;32mif\u001b[0m \u001b[0mn\u001b[0m \u001b[1;33m!=\u001b[0m \u001b[0mlen\u001b[0m\u001b[1;33m(\u001b[0m\u001b[0my\u001b[0m\u001b[1;33m)\u001b[0m\u001b[1;33m:\u001b[0m\u001b[1;33m\u001b[0m\u001b[1;33m\u001b[0m\u001b[0m\n\u001b[1;32m-> 3835\u001b[1;33m         \u001b[1;32mraise\u001b[0m \u001b[0mValueError\u001b[0m\u001b[1;33m(\u001b[0m\u001b[1;34m'x and y must have the same length.'\u001b[0m\u001b[1;33m)\u001b[0m\u001b[1;33m\u001b[0m\u001b[1;33m\u001b[0m\u001b[0m\n\u001b[0m\u001b[0;32m   3836\u001b[0m \u001b[1;33m\u001b[0m\u001b[0m\n\u001b[0;32m   3837\u001b[0m     \u001b[1;32mif\u001b[0m \u001b[0mn\u001b[0m \u001b[1;33m<\u001b[0m \u001b[1;36m2\u001b[0m\u001b[1;33m:\u001b[0m\u001b[1;33m\u001b[0m\u001b[1;33m\u001b[0m\u001b[0m\n",
      "\u001b[1;31mValueError\u001b[0m: x and y must have the same length."
     ]
    }
   ],
   "source": [
    "from scipy.stats.stats import pearsonr \n",
    "print (pearsonr(DI_control['DISCORDANCE 5 Hz'],b))"
   ]
  },
  {
   "cell_type": "code",
   "execution_count": 14,
   "metadata": {},
   "outputs": [
    {
     "data": {
      "text/plain": [
       "<matplotlib.collections.PathCollection at 0x13ec49973c8>"
      ]
     },
     "execution_count": 14,
     "metadata": {},
     "output_type": "execute_result"
    },
    {
     "data": {
      "image/png": "[encoded data removed]",
      "text/plain": [
       "<Figure size 432x288 with 1 Axes>"
      ]
     },
     "metadata": {},
     "output_type": "display_data"
    }
   ],
   "source": [
    "plt.scatter(a,b)"
   ]
  },
  {
   "cell_type": "code",
   "execution_count": 33,
   "metadata": {},
   "outputs": [
    {
     "data": {
      "text/html": [
       "<div>\n",
       "<style scoped>\n",
       "    .dataframe tbody tr th:only-of-type {\n",
       "        vertical-align: middle;\n",
       "    }\n",
       "\n",
       "    .dataframe tbody tr th {\n",
       "        vertical-align: top;\n",
       "    }\n",
       "\n",
       "    .dataframe thead th {\n",
       "        text-align: right;\n",
       "    }\n",
       "</style>\n",
       "<table border=\"1\" class=\"dataframe\">\n",
       "  <thead>\n",
       "    <tr style=\"text-align: right;\">\n",
       "      <th></th>\n",
       "      <th>file</th>\n",
       "      <th>std_min</th>\n",
       "    </tr>\n",
       "  </thead>\n",
       "  <tbody>\n",
       "    <tr>\n",
       "      <th>0</th>\n",
       "      <td>010719ctrol1_analysis_result_ctrol1b0.json</td>\n",
       "      <td>5.787918</td>\n",
       "    </tr>\n",
       "    <tr>\n",
       "      <th>1</th>\n",
       "      <td>010719ctrol8_analysis_result_ctrol8a0.json</td>\n",
       "      <td>2.500000</td>\n",
       "    </tr>\n",
       "    <tr>\n",
       "      <th>2</th>\n",
       "      <td>010819c3_analysis_result_c3b001.json</td>\n",
       "      <td>5.165995</td>\n",
       "    </tr>\n",
       "    <tr>\n",
       "      <th>4</th>\n",
       "      <td>010819c1_analysis_result_c1b000.json</td>\n",
       "      <td>0.829156</td>\n",
       "    </tr>\n",
       "    <tr>\n",
       "      <th>5</th>\n",
       "      <td>010819c2_analysis_result_c2b000.json</td>\n",
       "      <td>21.777052</td>\n",
       "    </tr>\n",
       "    <tr>\n",
       "      <th>6</th>\n",
       "      <td>031019c4_analysis_result_c4e000.json</td>\n",
       "      <td>1.658312</td>\n",
       "    </tr>\n",
       "    <tr>\n",
       "      <th>7</th>\n",
       "      <td>031019c1_analysis_result_c1e000.json</td>\n",
       "      <td>2.653300</td>\n",
       "    </tr>\n",
       "    <tr>\n",
       "      <th>8</th>\n",
       "      <td>050320c1_analysis_result_c1d000.json</td>\n",
       "      <td>0.628539</td>\n",
       "    </tr>\n",
       "    <tr>\n",
       "      <th>9</th>\n",
       "      <td>050320c7_analysis_result_7d001.json</td>\n",
       "      <td>0.000000</td>\n",
       "    </tr>\n",
       "    <tr>\n",
       "      <th>10</th>\n",
       "      <td>050320c2_analysis_result_2d000.json</td>\n",
       "      <td>0.385695</td>\n",
       "    </tr>\n",
       "    <tr>\n",
       "      <th>11</th>\n",
       "      <td>050320c8_analysis_result_8e000.json</td>\n",
       "      <td>0.661438</td>\n",
       "    </tr>\n",
       "    <tr>\n",
       "      <th>12</th>\n",
       "      <td>050320c4_analysis_result_4d001.json</td>\n",
       "      <td>0.000000</td>\n",
       "    </tr>\n",
       "    <tr>\n",
       "      <th>13</th>\n",
       "      <td>050320c3_analysis_result_3d001.json</td>\n",
       "      <td>0.655555</td>\n",
       "    </tr>\n",
       "    <tr>\n",
       "      <th>14</th>\n",
       "      <td>060320c1_analysis_result_1d000.json</td>\n",
       "      <td>1.437399</td>\n",
       "    </tr>\n",
       "    <tr>\n",
       "      <th>15</th>\n",
       "      <td>070119Ctrol3_analysis_result_c3a001.json</td>\n",
       "      <td>0.000000</td>\n",
       "    </tr>\n",
       "    <tr>\n",
       "      <th>16</th>\n",
       "      <td>070119Ctrol4_analysis_result_c4b000.json</td>\n",
       "      <td>0.763763</td>\n",
       "    </tr>\n",
       "    <tr>\n",
       "      <th>17</th>\n",
       "      <td>070119Ctrol7_analysis_result_c7b000.json</td>\n",
       "      <td>0.489898</td>\n",
       "    </tr>\n",
       "    <tr>\n",
       "      <th>18</th>\n",
       "      <td>070119Ctrol6_analysis_result_c6b000.json</td>\n",
       "      <td>0.748331</td>\n",
       "    </tr>\n",
       "    <tr>\n",
       "      <th>19</th>\n",
       "      <td>070119Ctrol5_analysis_result_c5b000.json</td>\n",
       "      <td>1.673320</td>\n",
       "    </tr>\n",
       "    <tr>\n",
       "      <th>20</th>\n",
       "      <td>071119c1sel_analysis_result_c1d001.json</td>\n",
       "      <td>0.451754</td>\n",
       "    </tr>\n",
       "    <tr>\n",
       "      <th>21</th>\n",
       "      <td>170719c1_analysis_result_c1b000.json</td>\n",
       "      <td>0.881396</td>\n",
       "    </tr>\n",
       "    <tr>\n",
       "      <th>22</th>\n",
       "      <td>170719c5_analysis_result_c5b000.json</td>\n",
       "      <td>1.067187</td>\n",
       "    </tr>\n",
       "    <tr>\n",
       "      <th>25</th>\n",
       "      <td>171019c1sel_analysis_result_c1d000.json</td>\n",
       "      <td>0.000000</td>\n",
       "    </tr>\n",
       "    <tr>\n",
       "      <th>26</th>\n",
       "      <td>171019c6sel_analysis_result_c6d000.json</td>\n",
       "      <td>0.687184</td>\n",
       "    </tr>\n",
       "    <tr>\n",
       "      <th>27</th>\n",
       "      <td>220119c1_analysis_result_ctrol1b0.json</td>\n",
       "      <td>1.500000</td>\n",
       "    </tr>\n",
       "    <tr>\n",
       "      <th>28</th>\n",
       "      <td>230819c1_analysis_result_c1otra01.json</td>\n",
       "      <td>8.730534</td>\n",
       "    </tr>\n",
       "    <tr>\n",
       "      <th>29</th>\n",
       "      <td>230819c2_analysis_result_ctrol2d0.json</td>\n",
       "      <td>0.471405</td>\n",
       "    </tr>\n",
       "    <tr>\n",
       "      <th>30</th>\n",
       "      <td>311019c6sel_analysis_result_c6d000.json</td>\n",
       "      <td>0.433013</td>\n",
       "    </tr>\n",
       "    <tr>\n",
       "      <th>31</th>\n",
       "      <td>311019c1sel_analysis_result_c1d000.json</td>\n",
       "      <td>0.481046</td>\n",
       "    </tr>\n",
       "  </tbody>\n",
       "</table>\n",
       "</div>"
      ],
      "text/plain": [
       "                                          file    std_min\n",
       "0   010719ctrol1_analysis_result_ctrol1b0.json   5.787918\n",
       "1   010719ctrol8_analysis_result_ctrol8a0.json   2.500000\n",
       "2         010819c3_analysis_result_c3b001.json   5.165995\n",
       "4         010819c1_analysis_result_c1b000.json   0.829156\n",
       "5         010819c2_analysis_result_c2b000.json  21.777052\n",
       "6         031019c4_analysis_result_c4e000.json   1.658312\n",
       "7         031019c1_analysis_result_c1e000.json   2.653300\n",
       "8         050320c1_analysis_result_c1d000.json   0.628539\n",
       "9          050320c7_analysis_result_7d001.json   0.000000\n",
       "10         050320c2_analysis_result_2d000.json   0.385695\n",
       "11         050320c8_analysis_result_8e000.json   0.661438\n",
       "12         050320c4_analysis_result_4d001.json   0.000000\n",
       "13         050320c3_analysis_result_3d001.json   0.655555\n",
       "14         060320c1_analysis_result_1d000.json   1.437399\n",
       "15    070119Ctrol3_analysis_result_c3a001.json   0.000000\n",
       "16    070119Ctrol4_analysis_result_c4b000.json   0.763763\n",
       "17    070119Ctrol7_analysis_result_c7b000.json   0.489898\n",
       "18    070119Ctrol6_analysis_result_c6b000.json   0.748331\n",
       "19    070119Ctrol5_analysis_result_c5b000.json   1.673320\n",
       "20     071119c1sel_analysis_result_c1d001.json   0.451754\n",
       "21        170719c1_analysis_result_c1b000.json   0.881396\n",
       "22        170719c5_analysis_result_c5b000.json   1.067187\n",
       "25     171019c1sel_analysis_result_c1d000.json   0.000000\n",
       "26     171019c6sel_analysis_result_c6d000.json   0.687184\n",
       "27      220119c1_analysis_result_ctrol1b0.json   1.500000\n",
       "28      230819c1_analysis_result_c1otra01.json   8.730534\n",
       "29      230819c2_analysis_result_ctrol2d0.json   0.471405\n",
       "30     311019c6sel_analysis_result_c6d000.json   0.433013\n",
       "31     311019c1sel_analysis_result_c1d000.json   0.481046"
      ]
     },
     "execution_count": 33,
     "metadata": {},
     "output_type": "execute_result"
    }
   ],
   "source": [
    "tabulado_control5"
   ]
  },
  {
   "cell_type": "code",
   "execution_count": null,
   "metadata": {},
   "outputs": [],
   "source": []
  }
 ],
 "metadata": {
  "kernelspec": {
   "display_name": "Python 3",
   "language": "python",
   "name": "python3"
  },
  "language_info": {
   "codemirror_mode": {
    "name": "ipython",
    "version": 3
   },
   "file_extension": ".py",
   "mimetype": "text/x-python",
   "name": "python",
   "nbconvert_exporter": "python",
   "pygments_lexer": "ipython3",
   "version": "3.7.3"
  }
 },
 "nbformat": 4,
 "nbformat_minor": 4
}
