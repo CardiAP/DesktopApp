{
 "cells": [
  {
   "cell_type": "code",
   "execution_count": 3,
   "metadata": {},
   "outputs": [],
   "source": [
    "#Imports\n",
    "import json\n",
    "import numpy as np\n",
    "import pandas as pd\n",
    "import csv\n",
    "import scipy.stats\n",
    "import matplotlib.pyplot as plt\n",
    "import seaborn as sns\n",
    "import os"
   ]
  },
  {
   "cell_type": "code",
   "execution_count": 4,
   "metadata": {},
   "outputs": [],
   "source": [
    "# path = 'C:/Users/Leand/OneDrive/Documentos/Lean/Analizador_imagenes_calcio/Luis/analisis/'\n",
    "path = '/media/leandro/Volumen1TB/Lean/Analizador_imagenes_calcio/Luis/analisis/'\n",
    "experiments = os.listdir(path + 'jsons/')\n",
    "min_exp = pd.DataFrame()\n",
    "for i in range(0,len (experiments)):\n",
    "    experiment = experiments[i]\n",
    "    with open(path + 'jsons/' + experiment) as f:\n",
    "        min_file = json.load(f)['image']['min_peaks_intensities']\n",
    "        min_exp[i] = experiment,np.array(min_file).std()\n",
    "min_exp = pd.DataFrame (min_exp.T)\n",
    "min_exp.columns = ['file','std_min']"
   ]
  },
  {
   "cell_type": "code",
   "execution_count": 5,
   "metadata": {},
   "outputs": [],
   "source": [
    "# Filtrado por tratamiento y frecuencia\n",
    "\n",
    "def tau_filter(tratamiento,frecuencia,df):\n",
    "    tabulado_filter = tabulado[(tabulado['tratamiento']==tratamiento) & (tabulado['frecuencia']== frecuencia)].reset_index(drop=True)\n",
    "    tau = pd.DataFrame(columns = ['file','std_min'])\n",
    "    for j in range(0,len (tabulado_filter)):\n",
    "        celula = tabulado_filter['célula'][j]\n",
    "        foto = tabulado_filter['foto'][j][:-4]\n",
    "        for i in range(0,len (df)):\n",
    "            if (celula in df['file'][i]) & (foto in df['file'][i]):\n",
    "                tau.loc[j] = df.loc[i]\n",
    "    return tau"
   ]
  },
  {
   "cell_type": "code",
   "execution_count": 7,
   "metadata": {},
   "outputs": [],
   "source": [
    "tabulado = pd.read_csv(path + 'tabulado')\n",
    "del tabulado['Unnamed: 0']"
   ]
  },
  {
   "cell_type": "code",
   "execution_count": 8,
   "metadata": {},
   "outputs": [],
   "source": [
    "tabulado_control5 = tau_filter('C', 5, min_exp)\n",
    "tabulado_vk5 = tau_filter('VK', 5, min_exp)\n",
    "tabulado_dan5 = tau_filter('DAN', 5, min_exp)"
   ]
  },
  {
   "cell_type": "code",
   "execution_count": 9,
   "metadata": {},
   "outputs": [],
   "source": [
    "tabulado_control5.drop(3, inplace=True)"
   ]
  },
  {
   "cell_type": "code",
   "execution_count": 10,
   "metadata": {},
   "outputs": [
    {
     "data": {
      "text/plain": [
       "<AxesSubplot:>"
      ]
     },
     "execution_count": 10,
     "metadata": {},
     "output_type": "execute_result"
    },
    {
     "data": {
      "image/png": "[encoded data removed]",
      "text/plain": [
       "<Figure size 504x432 with 1 Axes>"
      ]
     },
     "metadata": {},
     "output_type": "display_data"
    }
   ],
   "source": [
    "df = pd.concat ([tabulado_control5,tabulado_vk5,tabulado_dan5], axis=1, sort=False, keys=['C', 'VK','DAN'])\n",
    "df\n",
    "sns.set(style=\"ticks\")\n",
    "\n",
    "# Initialize the figure with a logarithmic x axis\n",
    "f, ax = plt.subplots(figsize=(7, 6))\n",
    "\n",
    "\n",
    "sns.boxplot(data=df)\n",
    "\n",
    "sns.swarmplot(data=df, linewidth=2)"
   ]
  },
  {
   "cell_type": "code",
   "execution_count": 18,
   "metadata": {},
   "outputs": [
    {
     "name": "stdout",
     "output_type": "stream",
     "text": [
      "Ttest_indResult(statistic=1.1020852569769626, pvalue=0.27628425065165757)\n",
      "Ttest_indResult(statistic=1.2932379942017034, pvalue=0.2023858532310172)\n",
      "Ttest_indResult(statistic=-0.5007131003403411, pvalue=0.6197074014789657)\n"
     ]
    }
   ],
   "source": [
    "print(scipy.stats.ttest_ind(tabulado_control5['std_min'],tabulado_dan5['std_min']))\n",
    "print(scipy.stats.ttest_ind(tabulado_control5['std_min'],tabulado_vk5['std_min']))\n",
    "print(scipy.stats.ttest_ind(tabulado_vk5['std_min'],tabulado_dan5['std_min']))\n",
    "# print(scipy.stats.shapiro(tabulado_dan5['std_min']))"
   ]
  },
  {
   "cell_type": "code",
   "execution_count": null,
   "metadata": {},
   "outputs": [],
   "source": [
    "DI_control = pd.read_csv(path + 'DI_control.csv')"
   ]
  },
  {
   "cell_type": "code",
   "execution_count": null,
   "metadata": {},
   "outputs": [],
   "source": [
    "DI_control"
   ]
  },
  {
   "cell_type": "code",
   "execution_count": null,
   "metadata": {},
   "outputs": [],
   "source": [
    "min5 = []\n",
    "for i in range(0,len(DI_control['file'])):\n",
    "    cel = DI_control['file'][i]\n",
    "    filtro_wc5 = tabulado_control5[(tabulado_control5['file'].str.contains(cel) == True)]\n",
    "    min5.append (filtro_wc5['std_min'].values)\n",
    "DI_control['min5'] = min5"
   ]
  },
  {
   "cell_type": "code",
   "execution_count": null,
   "metadata": {},
   "outputs": [],
   "source": [
    "# DI_control.drop(4, inplace=True)\n",
    "b = [j for i in DI_control['min5'].tolist() for j in i]\n",
    "a = DI_control['DISCORDANCE 5 Hz']"
   ]
  },
  {
   "cell_type": "code",
   "execution_count": null,
   "metadata": {},
   "outputs": [],
   "source": [
    "from scipy.stats.stats import pearsonr \n",
    "print (pearsonr(DI_control['DISCORDANCE 5 Hz'],b))"
   ]
  },
  {
   "cell_type": "code",
   "execution_count": null,
   "metadata": {},
   "outputs": [],
   "source": [
    "plt.scatter(a,b)"
   ]
  },
  {
   "cell_type": "code",
   "execution_count": 13,
   "metadata": {},
   "outputs": [
    {
     "data": {
      "text/html": [
       "<div>\n",
       "<style scoped>\n",
       "    .dataframe tbody tr th:only-of-type {\n",
       "        vertical-align: middle;\n",
       "    }\n",
       "\n",
       "    .dataframe tbody tr th {\n",
       "        vertical-align: top;\n",
       "    }\n",
       "\n",
       "    .dataframe thead th {\n",
       "        text-align: right;\n",
       "    }\n",
       "</style>\n",
       "<table border=\"1\" class=\"dataframe\">\n",
       "  <thead>\n",
       "    <tr style=\"text-align: right;\">\n",
       "      <th></th>\n",
       "      <th>file</th>\n",
       "      <th>std_min</th>\n",
       "    </tr>\n",
       "  </thead>\n",
       "  <tbody>\n",
       "    <tr>\n",
       "      <th>0</th>\n",
       "      <td>010719ctrol1_analysis_result_ctrol1a0.json</td>\n",
       "      <td>15.797327</td>\n",
       "    </tr>\n",
       "    <tr>\n",
       "      <th>1</th>\n",
       "      <td>010719ctrol8_analysis_result_ctrol8a0.json</td>\n",
       "      <td>2.500000</td>\n",
       "    </tr>\n",
       "    <tr>\n",
       "      <th>2</th>\n",
       "      <td>010819c3_analysis_result_c3b001.json</td>\n",
       "      <td>5.165995</td>\n",
       "    </tr>\n",
       "    <tr>\n",
       "      <th>4</th>\n",
       "      <td>010819c1_analysis_result_c1b000.json</td>\n",
       "      <td>0.829156</td>\n",
       "    </tr>\n",
       "    <tr>\n",
       "      <th>5</th>\n",
       "      <td>010819c2_analysis_result_c2b000.json</td>\n",
       "      <td>21.777052</td>\n",
       "    </tr>\n",
       "    <tr>\n",
       "      <th>6</th>\n",
       "      <td>031019c4_analysis_result_c4e000.json</td>\n",
       "      <td>1.658312</td>\n",
       "    </tr>\n",
       "    <tr>\n",
       "      <th>7</th>\n",
       "      <td>031019c1_analysis_result_c1e000.json</td>\n",
       "      <td>2.653300</td>\n",
       "    </tr>\n",
       "    <tr>\n",
       "      <th>8</th>\n",
       "      <td>050320c1_analysis_result_c1d000.json</td>\n",
       "      <td>0.628539</td>\n",
       "    </tr>\n",
       "    <tr>\n",
       "      <th>9</th>\n",
       "      <td>050320c7_analysis_result_7d001.json</td>\n",
       "      <td>0.000000</td>\n",
       "    </tr>\n",
       "    <tr>\n",
       "      <th>10</th>\n",
       "      <td>050320c2_analysis_result_2d000.json</td>\n",
       "      <td>0.385695</td>\n",
       "    </tr>\n",
       "    <tr>\n",
       "      <th>11</th>\n",
       "      <td>050320c8_analysis_result_8e000.json</td>\n",
       "      <td>0.661438</td>\n",
       "    </tr>\n",
       "    <tr>\n",
       "      <th>12</th>\n",
       "      <td>050320c4_analysis_result_4d001.json</td>\n",
       "      <td>0.000000</td>\n",
       "    </tr>\n",
       "    <tr>\n",
       "      <th>13</th>\n",
       "      <td>050320c3_analysis_result_3d001.json</td>\n",
       "      <td>0.655555</td>\n",
       "    </tr>\n",
       "    <tr>\n",
       "      <th>14</th>\n",
       "      <td>060320c1_analysis_result_1d000.json</td>\n",
       "      <td>1.437399</td>\n",
       "    </tr>\n",
       "    <tr>\n",
       "      <th>15</th>\n",
       "      <td>070119Ctrol3_analysis_result_c3a001.json</td>\n",
       "      <td>0.000000</td>\n",
       "    </tr>\n",
       "    <tr>\n",
       "      <th>16</th>\n",
       "      <td>070119Ctrol4_analysis_result_c4b000.json</td>\n",
       "      <td>0.763763</td>\n",
       "    </tr>\n",
       "    <tr>\n",
       "      <th>17</th>\n",
       "      <td>070119Ctrol7_analysis_result_c7b000.json</td>\n",
       "      <td>0.489898</td>\n",
       "    </tr>\n",
       "    <tr>\n",
       "      <th>18</th>\n",
       "      <td>070119Ctrol6_analysis_result_c6b000.json</td>\n",
       "      <td>0.748331</td>\n",
       "    </tr>\n",
       "    <tr>\n",
       "      <th>19</th>\n",
       "      <td>070119Ctrol5_analysis_result_c5b000.json</td>\n",
       "      <td>1.673320</td>\n",
       "    </tr>\n",
       "    <tr>\n",
       "      <th>20</th>\n",
       "      <td>071119c1sel_analysis_result_c1d001.json</td>\n",
       "      <td>0.451754</td>\n",
       "    </tr>\n",
       "    <tr>\n",
       "      <th>21</th>\n",
       "      <td>170719c1_analysis_result_c1b000.json</td>\n",
       "      <td>0.881396</td>\n",
       "    </tr>\n",
       "    <tr>\n",
       "      <th>22</th>\n",
       "      <td>170719c5_analysis_result_c5b000.json</td>\n",
       "      <td>1.067187</td>\n",
       "    </tr>\n",
       "    <tr>\n",
       "      <th>25</th>\n",
       "      <td>171019c1sel_analysis_result_c1d000.json</td>\n",
       "      <td>0.000000</td>\n",
       "    </tr>\n",
       "    <tr>\n",
       "      <th>26</th>\n",
       "      <td>171019c6sel_analysis_result_c6d000.json</td>\n",
       "      <td>0.687184</td>\n",
       "    </tr>\n",
       "    <tr>\n",
       "      <th>27</th>\n",
       "      <td>220119c1_analysis_result_ctrol1b0.json</td>\n",
       "      <td>1.500000</td>\n",
       "    </tr>\n",
       "    <tr>\n",
       "      <th>28</th>\n",
       "      <td>230819c1_analysis_result_c1otra01.json</td>\n",
       "      <td>8.730534</td>\n",
       "    </tr>\n",
       "    <tr>\n",
       "      <th>29</th>\n",
       "      <td>230819c2_analysis_result_ctrol2d0.json</td>\n",
       "      <td>0.471405</td>\n",
       "    </tr>\n",
       "    <tr>\n",
       "      <th>30</th>\n",
       "      <td>311019c6sel_analysis_result_c6d000.json</td>\n",
       "      <td>0.433013</td>\n",
       "    </tr>\n",
       "    <tr>\n",
       "      <th>31</th>\n",
       "      <td>311019c1sel_analysis_result_c1d000.json</td>\n",
       "      <td>0.481046</td>\n",
       "    </tr>\n",
       "  </tbody>\n",
       "</table>\n",
       "</div>"
      ],
      "text/plain": [
       "                                          file    std_min\n",
       "0   010719ctrol1_analysis_result_ctrol1a0.json  15.797327\n",
       "1   010719ctrol8_analysis_result_ctrol8a0.json   2.500000\n",
       "2         010819c3_analysis_result_c3b001.json   5.165995\n",
       "4         010819c1_analysis_result_c1b000.json   0.829156\n",
       "5         010819c2_analysis_result_c2b000.json  21.777052\n",
       "6         031019c4_analysis_result_c4e000.json   1.658312\n",
       "7         031019c1_analysis_result_c1e000.json   2.653300\n",
       "8         050320c1_analysis_result_c1d000.json   0.628539\n",
       "9          050320c7_analysis_result_7d001.json   0.000000\n",
       "10         050320c2_analysis_result_2d000.json   0.385695\n",
       "11         050320c8_analysis_result_8e000.json   0.661438\n",
       "12         050320c4_analysis_result_4d001.json   0.000000\n",
       "13         050320c3_analysis_result_3d001.json   0.655555\n",
       "14         060320c1_analysis_result_1d000.json   1.437399\n",
       "15    070119Ctrol3_analysis_result_c3a001.json   0.000000\n",
       "16    070119Ctrol4_analysis_result_c4b000.json   0.763763\n",
       "17    070119Ctrol7_analysis_result_c7b000.json   0.489898\n",
       "18    070119Ctrol6_analysis_result_c6b000.json   0.748331\n",
       "19    070119Ctrol5_analysis_result_c5b000.json   1.673320\n",
       "20     071119c1sel_analysis_result_c1d001.json   0.451754\n",
       "21        170719c1_analysis_result_c1b000.json   0.881396\n",
       "22        170719c5_analysis_result_c5b000.json   1.067187\n",
       "25     171019c1sel_analysis_result_c1d000.json   0.000000\n",
       "26     171019c6sel_analysis_result_c6d000.json   0.687184\n",
       "27      220119c1_analysis_result_ctrol1b0.json   1.500000\n",
       "28      230819c1_analysis_result_c1otra01.json   8.730534\n",
       "29      230819c2_analysis_result_ctrol2d0.json   0.471405\n",
       "30     311019c6sel_analysis_result_c6d000.json   0.433013\n",
       "31     311019c1sel_analysis_result_c1d000.json   0.481046"
      ]
     },
     "execution_count": 13,
     "metadata": {},
     "output_type": "execute_result"
    }
   ],
   "source": [
    "tabulado_control5"
   ]
  },
  {
   "cell_type": "code",
   "execution_count": null,
   "metadata": {},
   "outputs": [],
   "source": []
  }
 ],
 "metadata": {
  "kernelspec": {
   "display_name": "Python 3",
   "language": "python",
   "name": "python3"
  },
  "language_info": {
   "codemirror_mode": {
    "name": "ipython",
    "version": 3
   },
   "file_extension": ".py",
   "mimetype": "text/x-python",
   "name": "python",
   "nbconvert_exporter": "python",
   "pygments_lexer": "ipython3",
   "version": "3.8.5"
  }
 },
 "nbformat": 4,
 "nbformat_minor": 4
}
