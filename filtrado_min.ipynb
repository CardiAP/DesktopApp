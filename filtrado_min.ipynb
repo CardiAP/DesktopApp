{
 "cells": [
  {
   "cell_type": "code",
   "execution_count": 1,
   "metadata": {},
   "outputs": [],
   "source": [
    "#Imports\n",
    "import json\n",
    "import numpy as np\n",
    "import pandas as pd\n",
    "import csv\n",
    "import scipy.stats\n",
    "import matplotlib.pyplot as plt\n",
    "import seaborn as sns\n",
    "import os"
   ]
  },
  {
   "cell_type": "code",
   "execution_count": 14,
   "metadata": {},
   "outputs": [
    {
     "name": "stderr",
     "output_type": "stream",
     "text": [
      "C:\\Users\\Leand\\PyMOL\\lib\\site-packages\\ipykernel_launcher.py:9: RuntimeWarning: divide by zero encountered in true_divide\n",
      "  if __name__ == '__main__':\n",
      "C:\\Users\\Leand\\PyMOL\\lib\\site-packages\\ipykernel_launcher.py:9: RuntimeWarning: invalid value encountered in true_divide\n",
      "  if __name__ == '__main__':\n"
     ]
    }
   ],
   "source": [
    "path = 'C:/Users/Leand/OneDrive/Documentos/Lean/Analizador_imagenes_calcio/Luis/analisis/'\n",
    "# path = '/media/leandro/Volumen1TB/Lean/Analizador_imagenes_calcio/Luis/analisis/'\n",
    "experiments = os.listdir(path + 'jsons/')\n",
    "min_exp = pd.DataFrame()\n",
    "for i in range(0,len (experiments)):\n",
    "    experiment = experiments[i]\n",
    "    with open(path + 'jsons/' + experiment) as f:\n",
    "        min_file = json.load(f)['image']['min_peaks_intensities']\n",
    "        min_exp[i] = experiment,(np.array(min_file)*100/min_file[0]).std()\n",
    "min_exp = pd.DataFrame (min_exp.T)\n",
    "min_exp.columns = ['file','std_min']"
   ]
  },
  {
   "cell_type": "code",
   "execution_count": 15,
   "metadata": {},
   "outputs": [],
   "source": [
    "# Filtrado por tratamiento y frecuencia\n",
    "\n",
    "def tau_filter(tratamiento,frecuencia,df):\n",
    "    tabulado_filter = tabulado[(tabulado['tratamiento']==tratamiento) & (tabulado['frecuencia']== frecuencia)].reset_index(drop=True)\n",
    "    tau = pd.DataFrame(columns = ['file','std_min'])\n",
    "    for j in range(0,len (tabulado_filter)):\n",
    "        celula = tabulado_filter['célula'][j]\n",
    "        foto = tabulado_filter['foto'][j][:-4]\n",
    "        for i in range(0,len (df)):\n",
    "            if (celula in df['file'][i]) & (foto in df['file'][i]):\n",
    "                tau.loc[j] = df.loc[i]\n",
    "    return tau"
   ]
  },
  {
   "cell_type": "code",
   "execution_count": 16,
   "metadata": {},
   "outputs": [],
   "source": [
    "tabulado = pd.read_csv(path + 'tabulado')\n",
    "del tabulado['Unnamed: 0']"
   ]
  },
  {
   "cell_type": "code",
   "execution_count": 49,
   "metadata": {},
   "outputs": [],
   "source": [
    "tabulado_control5 = tau_filter('C', 5, min_exp)\n",
    "tabulado_vk5 = tau_filter('VK', 5, min_exp)\n",
    "tabulado_dan5 = tau_filter('DAN', 5, min_exp)"
   ]
  },
  {
   "cell_type": "code",
   "execution_count": 50,
   "metadata": {},
   "outputs": [],
   "source": [
    "tabulado_control5.drop(3, inplace=True)"
   ]
  },
  {
   "cell_type": "code",
   "execution_count": 51,
   "metadata": {},
   "outputs": [],
   "source": [
    "def outliers(column):\n",
    "    Q1 = column.quantile(0.25)\n",
    "    Q3 = column.quantile(0.75)\n",
    "    IQR = Q3 - Q1\n",
    "    idx = ~((column < (Q1 - 1.5 * IQR)) | (column > (Q3 + 1.5 * IQR)))\n",
    "    return idx"
   ]
  },
  {
   "cell_type": "code",
   "execution_count": 52,
   "metadata": {},
   "outputs": [],
   "source": [
    "tabulado_control5 = tabulado_control5[outliers(tabulado_control5['std_min'])]\n",
    "tabulado_vk5 = tabulado_vk5[outliers(tabulado_vk5['std_min'])]\n",
    "tabulado_dan5 = tabulado_dan5[outliers(tabulado_dan5['std_min'])]"
   ]
  },
  {
   "cell_type": "code",
   "execution_count": 57,
   "metadata": {},
   "outputs": [
    {
     "name": "stderr",
     "output_type": "stream",
     "text": [
      "C:\\Users\\Leand\\PyMOL\\lib\\site-packages\\seaborn\\categorical.py:1326: RuntimeWarning: invalid value encountered in less\n",
      "  off_low = points < low_gutter\n",
      "C:\\Users\\Leand\\PyMOL\\lib\\site-packages\\seaborn\\categorical.py:1330: RuntimeWarning: invalid value encountered in greater\n",
      "  off_high = points > high_gutter\n"
     ]
    },
    {
     "data": {
      "image/png": "[encoded data removed]",
      "text/plain": [
       "<Figure size 504x432 with 1 Axes>"
      ]
     },
     "metadata": {},
     "output_type": "display_data"
    }
   ],
   "source": [
    "df = pd.concat ([tabulado_control5,tabulado_vk5,tabulado_dan5], axis=1, sort=False, keys=['C', 'VK','DAN'])\n",
    "df\n",
    "sns.set(style=\"ticks\")\n",
    "\n",
    "# Initialize the figure with a logarithmic x axis\n",
    "f, ax = plt.subplots(figsize=(7, 6))\n",
    "\n",
    "\n",
    "sns.boxplot(data=df)\n",
    "\n",
    "sns.swarmplot(data=df, linewidth=2)\n",
    "f.savefig(\"std_min%.png\")"
   ]
  },
  {
   "cell_type": "code",
   "execution_count": 84,
   "metadata": {},
   "outputs": [],
   "source": [
    "df.to_excel('std_min%.xlsx', engine = 'xlsxwriter')"
   ]
  },
  {
   "cell_type": "code",
   "execution_count": 59,
   "metadata": {},
   "outputs": [
    {
     "name": "stdout",
     "output_type": "stream",
     "text": [
      "KstestResult(statistic=0.35, pvalue=0.14071253883858315)\n",
      "KstestResult(statistic=0.43555555555555553, pvalue=0.02485148697234585)\n",
      "KstestResult(statistic=0.1875, pvalue=0.8718312783722354)\n",
      "ShapiroResult(statistic=0.9040514230728149, pvalue=0.022501647472381592)\n"
     ]
    }
   ],
   "source": [
    "print(scipy.stats.kstest(tabulado_control5['std_min'],tabulado_dan5['std_min']))\n",
    "print(scipy.stats.kstest(tabulado_control5['std_min'],tabulado_vk5['std_min']))\n",
    "print(scipy.stats.kstest(tabulado_vk5['std_min'],tabulado_dan5['std_min']))\n",
    "print(scipy.stats.shapiro(tabulado_control5['std_min']))"
   ]
  },
  {
   "cell_type": "code",
   "execution_count": 69,
   "metadata": {},
   "outputs": [],
   "source": [
    "DI_control = pd.read_csv(path + 'DI_control.csv')"
   ]
  },
  {
   "cell_type": "code",
   "execution_count": 79,
   "metadata": {},
   "outputs": [
    {
     "data": {
      "text/html": [
       "<div>\n",
       "<style scoped>\n",
       "    .dataframe tbody tr th:only-of-type {\n",
       "        vertical-align: middle;\n",
       "    }\n",
       "\n",
       "    .dataframe tbody tr th {\n",
       "        vertical-align: top;\n",
       "    }\n",
       "\n",
       "    .dataframe thead th {\n",
       "        text-align: right;\n",
       "    }\n",
       "</style>\n",
       "<table border=\"1\" class=\"dataframe\">\n",
       "  <thead>\n",
       "    <tr style=\"text-align: right;\">\n",
       "      <th></th>\n",
       "      <th>file</th>\n",
       "      <th>Discordance 1Hz</th>\n",
       "      <th>DISCORDANCE 5 Hz</th>\n",
       "      <th>min5</th>\n",
       "    </tr>\n",
       "  </thead>\n",
       "  <tbody>\n",
       "    <tr>\n",
       "      <th>0</th>\n",
       "      <td>220119</td>\n",
       "      <td>0.13</td>\n",
       "      <td>0.34</td>\n",
       "      <td>[4.285714285714285]</td>\n",
       "    </tr>\n",
       "    <tr>\n",
       "      <th>1</th>\n",
       "      <td>170719c1</td>\n",
       "      <td>0.09</td>\n",
       "      <td>0.02</td>\n",
       "      <td>[1.632215440207518]</td>\n",
       "    </tr>\n",
       "    <tr>\n",
       "      <th>2</th>\n",
       "      <td>170719c5</td>\n",
       "      <td>0.17</td>\n",
       "      <td>0.28</td>\n",
       "      <td>[0.9279890199178028]</td>\n",
       "    </tr>\n",
       "    <tr>\n",
       "      <th>3</th>\n",
       "      <td>010819c1</td>\n",
       "      <td>0.26</td>\n",
       "      <td>0.35</td>\n",
       "      <td>[1.974181422830594]</td>\n",
       "    </tr>\n",
       "    <tr>\n",
       "      <th>7</th>\n",
       "      <td>230819c2</td>\n",
       "      <td>0.08</td>\n",
       "      <td>0.06</td>\n",
       "      <td>[1.6255328303139034]</td>\n",
       "    </tr>\n",
       "    <tr>\n",
       "      <th>8</th>\n",
       "      <td>031019c1</td>\n",
       "      <td>0.12</td>\n",
       "      <td>0.59</td>\n",
       "      <td>[2.390360209265152]</td>\n",
       "    </tr>\n",
       "    <tr>\n",
       "      <th>10</th>\n",
       "      <td>171019c1</td>\n",
       "      <td>0.12</td>\n",
       "      <td>0.13</td>\n",
       "      <td>[0.0]</td>\n",
       "    </tr>\n",
       "    <tr>\n",
       "      <th>11</th>\n",
       "      <td>171019c6</td>\n",
       "      <td>0.05</td>\n",
       "      <td>0.15</td>\n",
       "      <td>[2.0823765785947788]</td>\n",
       "    </tr>\n",
       "    <tr>\n",
       "      <th>12</th>\n",
       "      <td>311019c1</td>\n",
       "      <td>0.08</td>\n",
       "      <td>0.11</td>\n",
       "      <td>[2.6724760717824156]</td>\n",
       "    </tr>\n",
       "    <tr>\n",
       "      <th>13</th>\n",
       "      <td>311019c6</td>\n",
       "      <td>0.01</td>\n",
       "      <td>0.54</td>\n",
       "      <td>[2.165063509461097]</td>\n",
       "    </tr>\n",
       "    <tr>\n",
       "      <th>14</th>\n",
       "      <td>071119c1</td>\n",
       "      <td>0.09</td>\n",
       "      <td>0.02</td>\n",
       "      <td>[1.0267135260286917]</td>\n",
       "    </tr>\n",
       "    <tr>\n",
       "      <th>15</th>\n",
       "      <td>050320c1</td>\n",
       "      <td>0.06</td>\n",
       "      <td>0.12</td>\n",
       "      <td>[4.8349181619593]</td>\n",
       "    </tr>\n",
       "    <tr>\n",
       "      <th>16</th>\n",
       "      <td>050320c2</td>\n",
       "      <td>0.16</td>\n",
       "      <td>0.22</td>\n",
       "      <td>[1.7531573087269776]</td>\n",
       "    </tr>\n",
       "    <tr>\n",
       "      <th>17</th>\n",
       "      <td>050320c3</td>\n",
       "      <td>0.11</td>\n",
       "      <td>0.26</td>\n",
       "      <td>[4.682534123979204]</td>\n",
       "    </tr>\n",
       "    <tr>\n",
       "      <th>18</th>\n",
       "      <td>050320c4</td>\n",
       "      <td>0.01</td>\n",
       "      <td>0.12</td>\n",
       "      <td>[0.0]</td>\n",
       "    </tr>\n",
       "    <tr>\n",
       "      <th>19</th>\n",
       "      <td>050320c7</td>\n",
       "      <td>0.14</td>\n",
       "      <td>0.22</td>\n",
       "      <td>[0.0]</td>\n",
       "    </tr>\n",
       "    <tr>\n",
       "      <th>20</th>\n",
       "      <td>050320c8</td>\n",
       "      <td>0.06</td>\n",
       "      <td>0.17</td>\n",
       "      <td>[1.2719958226272048]</td>\n",
       "    </tr>\n",
       "  </tbody>\n",
       "</table>\n",
       "</div>"
      ],
      "text/plain": [
       "        file  Discordance 1Hz  DISCORDANCE 5 Hz                  min5\n",
       "0     220119             0.13              0.34   [4.285714285714285]\n",
       "1   170719c1             0.09              0.02   [1.632215440207518]\n",
       "2   170719c5             0.17              0.28  [0.9279890199178028]\n",
       "3   010819c1             0.26              0.35   [1.974181422830594]\n",
       "7   230819c2             0.08              0.06  [1.6255328303139034]\n",
       "8   031019c1             0.12              0.59   [2.390360209265152]\n",
       "10  171019c1             0.12              0.13                 [0.0]\n",
       "11  171019c6             0.05              0.15  [2.0823765785947788]\n",
       "12  311019c1             0.08              0.11  [2.6724760717824156]\n",
       "13  311019c6             0.01              0.54   [2.165063509461097]\n",
       "14  071119c1             0.09              0.02  [1.0267135260286917]\n",
       "15  050320c1             0.06              0.12     [4.8349181619593]\n",
       "16  050320c2             0.16              0.22  [1.7531573087269776]\n",
       "17  050320c3             0.11              0.26   [4.682534123979204]\n",
       "18  050320c4             0.01              0.12                 [0.0]\n",
       "19  050320c7             0.14              0.22                 [0.0]\n",
       "20  050320c8             0.06              0.17  [1.2719958226272048]"
      ]
     },
     "execution_count": 79,
     "metadata": {},
     "output_type": "execute_result"
    }
   ],
   "source": [
    "DI_control"
   ]
  },
  {
   "cell_type": "code",
   "execution_count": 70,
   "metadata": {},
   "outputs": [],
   "source": [
    "min5 = []\n",
    "for i in range(0,len(DI_control['file'])):\n",
    "    cel = DI_control['file'][i]\n",
    "    filtro_wc5 = tabulado_control5[(tabulado_control5['file'].str.contains(cel) == True)]\n",
    "    min5.append (filtro_wc5['std_min'].values)\n",
    "DI_control['min5'] = min5"
   ]
  },
  {
   "cell_type": "code",
   "execution_count": 75,
   "metadata": {},
   "outputs": [],
   "source": [
    "DI_control.drop(4, inplace=True)\n",
    "DI_control.drop(5, inplace=True)\n",
    "DI_control.drop(6, inplace=True)\n",
    "DI_control.drop(9, inplace=True)\n",
    "DI_control.drop(21, inplace=True)\n",
    "b = [j for i in DI_control['min5'].tolist() for j in i]\n",
    "a = DI_control['DISCORDANCE 5 Hz']"
   ]
  },
  {
   "cell_type": "code",
   "execution_count": 77,
   "metadata": {},
   "outputs": [
    {
     "name": "stdout",
     "output_type": "stream",
     "text": [
      "(0.22661431232143014, 0.3817672570257249)\n"
     ]
    }
   ],
   "source": [
    "from scipy.stats.stats import pearsonr \n",
    "print (pearsonr(DI_control['DISCORDANCE 5 Hz'],b))"
   ]
  },
  {
   "cell_type": "code",
   "execution_count": 78,
   "metadata": {},
   "outputs": [
    {
     "data": {
      "text/plain": [
       "<matplotlib.collections.PathCollection at 0x262c341c2e8>"
      ]
     },
     "execution_count": 78,
     "metadata": {},
     "output_type": "execute_result"
    },
    {
     "data": {
      "image/png": "[encoded data removed]",
      "text/plain": [
       "<Figure size 432x288 with 1 Axes>"
      ]
     },
     "metadata": {},
     "output_type": "display_data"
    }
   ],
   "source": [
    "plt.scatter(a,b)"
   ]
  },
  {
   "cell_type": "code",
   "execution_count": 26,
   "metadata": {},
   "outputs": [
    {
     "data": {
      "text/html": [
       "<div>\n",
       "<style scoped>\n",
       "    .dataframe tbody tr th:only-of-type {\n",
       "        vertical-align: middle;\n",
       "    }\n",
       "\n",
       "    .dataframe tbody tr th {\n",
       "        vertical-align: top;\n",
       "    }\n",
       "\n",
       "    .dataframe thead th {\n",
       "        text-align: right;\n",
       "    }\n",
       "</style>\n",
       "<table border=\"1\" class=\"dataframe\">\n",
       "  <thead>\n",
       "    <tr style=\"text-align: right;\">\n",
       "      <th></th>\n",
       "      <th>file</th>\n",
       "      <th>std_min</th>\n",
       "    </tr>\n",
       "  </thead>\n",
       "  <tbody>\n",
       "    <tr>\n",
       "      <th>0</th>\n",
       "      <td>010719ctrol1_analysis_result_ctrol1b0.json</td>\n",
       "      <td>2.851191</td>\n",
       "    </tr>\n",
       "    <tr>\n",
       "      <th>1</th>\n",
       "      <td>010719ctrol8_analysis_result_ctrol8a0.json</td>\n",
       "      <td>1.677852</td>\n",
       "    </tr>\n",
       "    <tr>\n",
       "      <th>2</th>\n",
       "      <td>010819c3_analysis_result_c3b001.json</td>\n",
       "      <td>5.804488</td>\n",
       "    </tr>\n",
       "    <tr>\n",
       "      <th>4</th>\n",
       "      <td>010819c1_analysis_result_c1b000.json</td>\n",
       "      <td>1.974181</td>\n",
       "    </tr>\n",
       "    <tr>\n",
       "      <th>5</th>\n",
       "      <td>010819c2_analysis_result_c2b000.json</td>\n",
       "      <td>16.881436</td>\n",
       "    </tr>\n",
       "    <tr>\n",
       "      <th>6</th>\n",
       "      <td>031019c4_analysis_result_c4e000.json</td>\n",
       "      <td>1.842569</td>\n",
       "    </tr>\n",
       "    <tr>\n",
       "      <th>7</th>\n",
       "      <td>031019c1_analysis_result_c1e000.json</td>\n",
       "      <td>2.390360</td>\n",
       "    </tr>\n",
       "    <tr>\n",
       "      <th>8</th>\n",
       "      <td>050320c1_analysis_result_c1d000.json</td>\n",
       "      <td>4.834918</td>\n",
       "    </tr>\n",
       "    <tr>\n",
       "      <th>9</th>\n",
       "      <td>050320c7_analysis_result_7d001.json</td>\n",
       "      <td>0.000000</td>\n",
       "    </tr>\n",
       "    <tr>\n",
       "      <th>10</th>\n",
       "      <td>050320c2_analysis_result_2d000.json</td>\n",
       "      <td>1.753157</td>\n",
       "    </tr>\n",
       "    <tr>\n",
       "      <th>11</th>\n",
       "      <td>050320c8_analysis_result_8e000.json</td>\n",
       "      <td>1.271996</td>\n",
       "    </tr>\n",
       "    <tr>\n",
       "      <th>12</th>\n",
       "      <td>050320c4_analysis_result_4d001.json</td>\n",
       "      <td>0.000000</td>\n",
       "    </tr>\n",
       "    <tr>\n",
       "      <th>13</th>\n",
       "      <td>050320c3_analysis_result_3d001.json</td>\n",
       "      <td>4.682534</td>\n",
       "    </tr>\n",
       "    <tr>\n",
       "      <th>14</th>\n",
       "      <td>060320c1_analysis_result_1d000.json</td>\n",
       "      <td>6.844757</td>\n",
       "    </tr>\n",
       "    <tr>\n",
       "      <th>15</th>\n",
       "      <td>070119Ctrol3_analysis_result_c3a001.json</td>\n",
       "      <td>0.000000</td>\n",
       "    </tr>\n",
       "    <tr>\n",
       "      <th>16</th>\n",
       "      <td>070119Ctrol4_analysis_result_c4b000.json</td>\n",
       "      <td>0.839300</td>\n",
       "    </tr>\n",
       "    <tr>\n",
       "      <th>17</th>\n",
       "      <td>070119Ctrol7_analysis_result_c7b000.json</td>\n",
       "      <td>1.440876</td>\n",
       "    </tr>\n",
       "    <tr>\n",
       "      <th>18</th>\n",
       "      <td>070119Ctrol6_analysis_result_c6b000.json</td>\n",
       "      <td>1.290227</td>\n",
       "    </tr>\n",
       "    <tr>\n",
       "      <th>19</th>\n",
       "      <td>070119Ctrol5_analysis_result_c5b000.json</td>\n",
       "      <td>1.467825</td>\n",
       "    </tr>\n",
       "    <tr>\n",
       "      <th>20</th>\n",
       "      <td>071119c1sel_analysis_result_c1d001.json</td>\n",
       "      <td>1.026714</td>\n",
       "    </tr>\n",
       "    <tr>\n",
       "      <th>21</th>\n",
       "      <td>170719c1_analysis_result_c1b000.json</td>\n",
       "      <td>1.632215</td>\n",
       "    </tr>\n",
       "    <tr>\n",
       "      <th>22</th>\n",
       "      <td>170719c5_analysis_result_c5b000.json</td>\n",
       "      <td>0.927989</td>\n",
       "    </tr>\n",
       "    <tr>\n",
       "      <th>25</th>\n",
       "      <td>171019c1sel_analysis_result_c1d000.json</td>\n",
       "      <td>0.000000</td>\n",
       "    </tr>\n",
       "    <tr>\n",
       "      <th>26</th>\n",
       "      <td>171019c6sel_analysis_result_c6d000.json</td>\n",
       "      <td>2.082377</td>\n",
       "    </tr>\n",
       "    <tr>\n",
       "      <th>27</th>\n",
       "      <td>220119c1_analysis_result_ctrol1b0.json</td>\n",
       "      <td>4.285714</td>\n",
       "    </tr>\n",
       "    <tr>\n",
       "      <th>28</th>\n",
       "      <td>230819c1_analysis_result_c1otra01.json</td>\n",
       "      <td>20.303567</td>\n",
       "    </tr>\n",
       "    <tr>\n",
       "      <th>29</th>\n",
       "      <td>230819c2_analysis_result_ctrol2d0.json</td>\n",
       "      <td>1.625533</td>\n",
       "    </tr>\n",
       "    <tr>\n",
       "      <th>30</th>\n",
       "      <td>311019c6sel_analysis_result_c6d000.json</td>\n",
       "      <td>2.165064</td>\n",
       "    </tr>\n",
       "    <tr>\n",
       "      <th>31</th>\n",
       "      <td>311019c1sel_analysis_result_c1d000.json</td>\n",
       "      <td>2.672476</td>\n",
       "    </tr>\n",
       "  </tbody>\n",
       "</table>\n",
       "</div>"
      ],
      "text/plain": [
       "                                          file    std_min\n",
       "0   010719ctrol1_analysis_result_ctrol1b0.json   2.851191\n",
       "1   010719ctrol8_analysis_result_ctrol8a0.json   1.677852\n",
       "2         010819c3_analysis_result_c3b001.json   5.804488\n",
       "4         010819c1_analysis_result_c1b000.json   1.974181\n",
       "5         010819c2_analysis_result_c2b000.json  16.881436\n",
       "6         031019c4_analysis_result_c4e000.json   1.842569\n",
       "7         031019c1_analysis_result_c1e000.json   2.390360\n",
       "8         050320c1_analysis_result_c1d000.json   4.834918\n",
       "9          050320c7_analysis_result_7d001.json   0.000000\n",
       "10         050320c2_analysis_result_2d000.json   1.753157\n",
       "11         050320c8_analysis_result_8e000.json   1.271996\n",
       "12         050320c4_analysis_result_4d001.json   0.000000\n",
       "13         050320c3_analysis_result_3d001.json   4.682534\n",
       "14         060320c1_analysis_result_1d000.json   6.844757\n",
       "15    070119Ctrol3_analysis_result_c3a001.json   0.000000\n",
       "16    070119Ctrol4_analysis_result_c4b000.json   0.839300\n",
       "17    070119Ctrol7_analysis_result_c7b000.json   1.440876\n",
       "18    070119Ctrol6_analysis_result_c6b000.json   1.290227\n",
       "19    070119Ctrol5_analysis_result_c5b000.json   1.467825\n",
       "20     071119c1sel_analysis_result_c1d001.json   1.026714\n",
       "21        170719c1_analysis_result_c1b000.json   1.632215\n",
       "22        170719c5_analysis_result_c5b000.json   0.927989\n",
       "25     171019c1sel_analysis_result_c1d000.json   0.000000\n",
       "26     171019c6sel_analysis_result_c6d000.json   2.082377\n",
       "27      220119c1_analysis_result_ctrol1b0.json   4.285714\n",
       "28      230819c1_analysis_result_c1otra01.json  20.303567\n",
       "29      230819c2_analysis_result_ctrol2d0.json   1.625533\n",
       "30     311019c6sel_analysis_result_c6d000.json   2.165064\n",
       "31     311019c1sel_analysis_result_c1d000.json   2.672476"
      ]
     },
     "execution_count": 26,
     "metadata": {},
     "output_type": "execute_result"
    }
   ],
   "source": [
    "tabulado_control5"
   ]
  },
  {
   "cell_type": "code",
   "execution_count": null,
   "metadata": {},
   "outputs": [],
   "source": []
  }
 ],
 "metadata": {
  "kernelspec": {
   "display_name": "Python 3",
   "language": "python",
   "name": "python3"
  },
  "language_info": {
   "codemirror_mode": {
    "name": "ipython",
    "version": 3
   },
   "file_extension": ".py",
   "mimetype": "text/x-python",
   "name": "python",
   "nbconvert_exporter": "python",
   "pygments_lexer": "ipython3",
   "version": "3.7.3"
  }
 },
 "nbformat": 4,
 "nbformat_minor": 4
}
