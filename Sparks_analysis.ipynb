{
 "cells": [
  {
   "cell_type": "markdown",
   "metadata": {},
   "source": [
    "## Analysis sparks"
   ]
  },
  {
   "cell_type": "code",
   "execution_count": 1,
   "metadata": {},
   "outputs": [],
   "source": [
    "path = 'C:/Users/Leand/OneDrive/Documentos/Lean/Analizador_imagenes_calcio/Imagenes_confocal/Rata/C071112/'\n",
    "photo_name = 'c3ack009'\n",
    "x_calibracion = 4.5"
   ]
  },
  {
   "cell_type": "code",
   "execution_count": 2,
   "metadata": {},
   "outputs": [],
   "source": [
    "from sparks_image import *\n",
    "\n",
    "image = cv2.imread(path + photo_name + \".tif\")    # Read image\n",
    "\n",
    "list_img_col = image_process (image)"
   ]
  },
  {
   "cell_type": "markdown",
   "metadata": {},
   "source": [
    "## **Aplicación de análisis sobre picos** "
   ]
  },
  {
   "cell_type": "code",
   "execution_count": 3,
   "metadata": {},
   "outputs": [
    {
     "ename": "TypeError",
     "evalue": "unsupported operand type(s) for /: 'float' and 'list'",
     "output_type": "error",
     "traceback": [
      "\u001b[1;31m---------------------------------------------------------------------------\u001b[0m",
      "\u001b[1;31mTypeError\u001b[0m                                 Traceback (most recent call last)",
      "\u001b[1;32m<ipython-input-3-8d1ea3bf321c>\u001b[0m in \u001b[0;36m<module>\u001b[1;34m\u001b[0m\n\u001b[0;32m      1\u001b[0m \u001b[1;32mfrom\u001b[0m \u001b[0msparks_analysis\u001b[0m \u001b[1;32mimport\u001b[0m \u001b[1;33m*\u001b[0m\u001b[1;33m\u001b[0m\u001b[1;33m\u001b[0m\u001b[0m\n\u001b[0;32m      2\u001b[0m \u001b[1;33m\u001b[0m\u001b[0m\n\u001b[1;32m----> 3\u001b[1;33m \u001b[0mcantidad_sparks\u001b[0m \u001b[1;33m=\u001b[0m \u001b[0mmaximo_spark\u001b[0m\u001b[1;33m(\u001b[0m\u001b[0mlist_img_col\u001b[0m\u001b[1;33m)\u001b[0m\u001b[1;33m[\u001b[0m\u001b[1;36m0\u001b[0m\u001b[1;33m]\u001b[0m\u001b[1;33m\u001b[0m\u001b[1;33m\u001b[0m\u001b[0m\n\u001b[0m\u001b[0;32m      4\u001b[0m \u001b[0mdatos_tiempos\u001b[0m \u001b[1;33m=\u001b[0m \u001b[0mmaximo_spark\u001b[0m\u001b[1;33m(\u001b[0m\u001b[0mlist_img_col\u001b[0m\u001b[1;33m)\u001b[0m\u001b[1;33m[\u001b[0m\u001b[1;36m1\u001b[0m\u001b[1;33m]\u001b[0m\u001b[1;33m\u001b[0m\u001b[1;33m\u001b[0m\u001b[0m\n\u001b[0;32m      5\u001b[0m \u001b[0mdatos_intensidades\u001b[0m \u001b[1;33m=\u001b[0m \u001b[0mmaximo_spark\u001b[0m\u001b[1;33m(\u001b[0m\u001b[0mlist_img_col\u001b[0m\u001b[1;33m)\u001b[0m\u001b[1;33m[\u001b[0m\u001b[1;36m2\u001b[0m\u001b[1;33m]\u001b[0m\u001b[1;33m\u001b[0m\u001b[1;33m\u001b[0m\u001b[0m\n",
      "\u001b[1;32m~\\OneDrive\\Documentos\\GitHub\\DesktopApp\\sparks_analysis.py\u001b[0m in \u001b[0;36mmaximo_spark\u001b[1;34m(lista_ydatas)\u001b[0m\n\u001b[0;32m     26\u001b[0m     \u001b[0mdatos_intensidades\u001b[0m \u001b[1;33m=\u001b[0m \u001b[1;33m{\u001b[0m\u001b[1;33m}\u001b[0m\u001b[1;33m\u001b[0m\u001b[1;33m\u001b[0m\u001b[0m\n\u001b[0;32m     27\u001b[0m     \u001b[1;32mfor\u001b[0m \u001b[0mi\u001b[0m \u001b[1;32min\u001b[0m \u001b[0mrange\u001b[0m \u001b[1;33m(\u001b[0m\u001b[1;36m0\u001b[0m\u001b[1;33m,\u001b[0m\u001b[0mcantidad_sparks\u001b[0m\u001b[1;33m)\u001b[0m\u001b[1;33m:\u001b[0m\u001b[1;33m\u001b[0m\u001b[1;33m\u001b[0m\u001b[0m\n\u001b[1;32m---> 28\u001b[1;33m         \u001b[0mpicos\u001b[0m \u001b[1;33m=\u001b[0m \u001b[0mmaximo_peak\u001b[0m \u001b[1;33m(\u001b[0m\u001b[0mlista_ydatas\u001b[0m\u001b[1;33m[\u001b[0m\u001b[0mi\u001b[0m\u001b[1;33m]\u001b[0m\u001b[1;33m)\u001b[0m\u001b[1;33m\u001b[0m\u001b[1;33m\u001b[0m\u001b[0m\n\u001b[0m\u001b[0;32m     29\u001b[0m         \u001b[0mdatos_tiempos\u001b[0m \u001b[1;33m[\u001b[0m\u001b[0mi\u001b[0m\u001b[1;33m]\u001b[0m \u001b[1;33m=\u001b[0m \u001b[0mpicos\u001b[0m \u001b[1;33m[\u001b[0m\u001b[1;36m0\u001b[0m\u001b[1;33m]\u001b[0m\u001b[1;33m\u001b[0m\u001b[1;33m\u001b[0m\u001b[0m\n\u001b[0;32m     30\u001b[0m         \u001b[0mdatos_intensidades\u001b[0m \u001b[1;33m[\u001b[0m\u001b[0mi\u001b[0m\u001b[1;33m]\u001b[0m \u001b[1;33m=\u001b[0m \u001b[0mpicos\u001b[0m \u001b[1;33m[\u001b[0m\u001b[1;36m1\u001b[0m\u001b[1;33m]\u001b[0m\u001b[1;33m\u001b[0m\u001b[1;33m\u001b[0m\u001b[0m\n",
      "\u001b[1;32m~\\OneDrive\\Documentos\\GitHub\\DesktopApp\\sparks_analysis.py\u001b[0m in \u001b[0;36mmaximo_peak\u001b[1;34m(vector)\u001b[0m\n\u001b[0;32m     13\u001b[0m     \u001b[1;32mfrom\u001b[0m \u001b[0mpeakutils\u001b[0m\u001b[1;33m.\u001b[0m\u001b[0mpeak\u001b[0m \u001b[1;32mimport\u001b[0m \u001b[0mindexes\u001b[0m\u001b[1;33m\u001b[0m\u001b[1;33m\u001b[0m\u001b[0m\n\u001b[0;32m     14\u001b[0m     \u001b[1;32mimport\u001b[0m \u001b[0mpeakutils\u001b[0m\u001b[1;33m\u001b[0m\u001b[1;33m\u001b[0m\u001b[0m\n\u001b[1;32m---> 15\u001b[1;33m     \u001b[0mindexes\u001b[0m \u001b[1;33m=\u001b[0m \u001b[0mindexes\u001b[0m\u001b[1;33m(\u001b[0m\u001b[0mnp\u001b[0m\u001b[1;33m.\u001b[0m\u001b[0marray\u001b[0m\u001b[1;33m(\u001b[0m\u001b[0mvector\u001b[0m\u001b[1;33m)\u001b[0m\u001b[1;33m,\u001b[0m \u001b[0mthres\u001b[0m\u001b[1;33m=\u001b[0m\u001b[1;36m1.0\u001b[0m\u001b[1;33m/\u001b[0m\u001b[0mmax\u001b[0m\u001b[1;33m(\u001b[0m\u001b[0mvector\u001b[0m\u001b[1;33m)\u001b[0m\u001b[1;33m,\u001b[0m \u001b[0mmin_dist\u001b[0m\u001b[1;33m=\u001b[0m\u001b[1;36m10\u001b[0m\u001b[1;33m)\u001b[0m\u001b[1;33m\u001b[0m\u001b[1;33m\u001b[0m\u001b[0m\n\u001b[0m\u001b[0;32m     16\u001b[0m     \u001b[0mkk\u001b[0m \u001b[1;33m=\u001b[0m \u001b[0mlist\u001b[0m\u001b[1;33m(\u001b[0m\u001b[0mindexes\u001b[0m\u001b[1;33m)\u001b[0m\u001b[1;33m\u001b[0m\u001b[1;33m\u001b[0m\u001b[0m\n\u001b[0;32m     17\u001b[0m     \u001b[1;32mfor\u001b[0m \u001b[0mj\u001b[0m \u001b[1;32min\u001b[0m \u001b[0mkk\u001b[0m\u001b[1;33m:\u001b[0m\u001b[1;33m\u001b[0m\u001b[1;33m\u001b[0m\u001b[0m\n",
      "\u001b[1;31mTypeError\u001b[0m: unsupported operand type(s) for /: 'float' and 'list'"
     ]
    }
   ],
   "source": [
    "from sparks_analysis import *\n",
    "\n",
    "cantidad_sparks = maximo_spark(list_img_col)[0]\n",
    "datos_tiempos = maximo_spark(list_img_col)[1]\n",
    "datos_intensidades = maximo_spark(list_img_col)[2]\n",
    "\n",
    "Columns = ['Spark_'+ str(x) for x in range(0, cantidad_sparks)]\n",
    "out_sparks = pd.DataFrame([datos_tiempos.values(),datos_intensidades.values()], columns = Columns).T\n",
    "out_sparks = pd.DataFrame(out_sparks.values, columns = ['tiempo_maximo', 'intensidad_maxima'])\n",
    "\n",
    "sparks_tiempo0 = minimo_sparks (cantidad_sparks, list_img_col, out_sparks['tiempo_maximo']) [0]\n",
    "sparks_intensidad0 = minimo_sparks (cantidad_sparks, list_img_col, out_sparks['tiempo_maximo']) [1]\n",
    "sparks_tiempo_n = minimo_sparks (cantidad_sparks, list_img_col, out_sparks['tiempo_maximo']) [2]\n",
    "sparks_intensidad_n = minimo_sparks (cantidad_sparks, list_img_col, out_sparks['tiempo_maximo']) [3]\n",
    "out_sparks['tiempo_minimo'] = sparks_tiempo0\n",
    "out_sparks['intensidad_minima'] = sparks_intensidad0\n",
    "out_sparks['tiempo_valle'] = sparks_tiempo_n\n",
    "out_sparks['intensidad_valle'] = sparks_intensidad_n\n",
    "\n",
    "sparks_amplitud = sparks_amplitude(cantidad_sparks, out_sparks['intensidad_maxima'], out_sparks['intensidad_minima'])\n",
    "out_sparks['amplitud'] = sparks_amplitud\n",
    "\n",
    "sparks_tiempo_pico50 = sparks_ttpeak50 (cantidad_sparks, list_img_col, out_sparks['intensidad_maxima'], out_sparks['intensidad_minima'], out_sparks['tiempo_maximo'], out_sparks['tiempo_minimo'])\n",
    "out_sparks['TTP50'] = sparks_tiempo_pico50 - out_sparks['tiempo_minimo']\n",
    "\n",
    "sparks_tiempo_pico50_2 = sparks_ttpeak50_2 (cantidad_sparks, list_img_col, out_sparks['intensidad_maxima'], out_sparks['intensidad_valle'], out_sparks['tiempo_maximo'], out_sparks['tiempo_valle'])\n",
    "out_sparks['FDHM'] =[A - B for (A, B) in zip(sparks_tiempo_pico50_2, sparks_tiempo_pico50)]\n",
    "\n",
    "sp_tau = tau(cantidad_sparks, list_img_col,  out_sparks['tiempo_maximo'], out_sparks['tiempo_valle'])\n",
    "out_sparks['tau'] = sp_tau\n",
    "\n",
    "##  Calculo de (ΔF/F0)/ΔTmax\n",
    "\n",
    "out_sparks['(ΔF/F0)/ΔTmax'] = out_sparks['amplitud']/out_sparks['TTP']\n",
    "\n",
    "##  Calculo fullDuration\n",
    "\n",
    "out_sparks['fullDuration'] = out_sparks['tiempo_valle'] - out_sparks['tiempo_minimo']"
   ]
  },
  {
   "cell_type": "code",
   "execution_count": 4,
   "metadata": {},
   "outputs": [
    {
     "ename": "NameError",
     "evalue": "name 'list_img_row' is not defined",
     "output_type": "error",
     "traceback": [
      "\u001b[1;31m---------------------------------------------------------------------------\u001b[0m",
      "\u001b[1;31mNameError\u001b[0m                                 Traceback (most recent call last)",
      "\u001b[1;32m<ipython-input-4-bfa14b122b6d>\u001b[0m in \u001b[0;36m<module>\u001b[1;34m\u001b[0m\n\u001b[1;32m----> 1\u001b[1;33m \u001b[0mcantidad_sparks\u001b[0m \u001b[1;33m=\u001b[0m \u001b[0mmaximo_spark\u001b[0m\u001b[1;33m(\u001b[0m\u001b[0mlist_img_row\u001b[0m\u001b[1;33m)\u001b[0m\u001b[1;33m[\u001b[0m\u001b[1;36m0\u001b[0m\u001b[1;33m]\u001b[0m\u001b[1;33m\u001b[0m\u001b[1;33m\u001b[0m\u001b[0m\n\u001b[0m\u001b[0;32m      2\u001b[0m \u001b[0mdatos_tiempos\u001b[0m \u001b[1;33m=\u001b[0m \u001b[0mmaximo_spark\u001b[0m\u001b[1;33m(\u001b[0m\u001b[0mlist_img_row\u001b[0m\u001b[1;33m)\u001b[0m\u001b[1;33m[\u001b[0m\u001b[1;36m1\u001b[0m\u001b[1;33m]\u001b[0m\u001b[1;33m\u001b[0m\u001b[1;33m\u001b[0m\u001b[0m\n\u001b[0;32m      3\u001b[0m \u001b[0mdatos_intensidades\u001b[0m \u001b[1;33m=\u001b[0m \u001b[0mmaximo_spark\u001b[0m\u001b[1;33m(\u001b[0m\u001b[0mlist_img_row\u001b[0m\u001b[1;33m)\u001b[0m\u001b[1;33m[\u001b[0m\u001b[1;36m2\u001b[0m\u001b[1;33m]\u001b[0m\u001b[1;33m\u001b[0m\u001b[1;33m\u001b[0m\u001b[0m\n\u001b[0;32m      4\u001b[0m \u001b[1;33m\u001b[0m\u001b[0m\n\u001b[0;32m      5\u001b[0m \u001b[0mColumns\u001b[0m \u001b[1;33m=\u001b[0m \u001b[1;33m[\u001b[0m\u001b[1;34m'Spark_'\u001b[0m\u001b[1;33m+\u001b[0m \u001b[0mstr\u001b[0m\u001b[1;33m(\u001b[0m\u001b[0mx\u001b[0m\u001b[1;33m)\u001b[0m \u001b[1;32mfor\u001b[0m \u001b[0mx\u001b[0m \u001b[1;32min\u001b[0m \u001b[0mrange\u001b[0m\u001b[1;33m(\u001b[0m\u001b[1;36m0\u001b[0m\u001b[1;33m,\u001b[0m \u001b[0mcantidad_sparks\u001b[0m\u001b[1;33m)\u001b[0m\u001b[1;33m]\u001b[0m\u001b[1;33m\u001b[0m\u001b[1;33m\u001b[0m\u001b[0m\n",
      "\u001b[1;31mNameError\u001b[0m: name 'list_img_row' is not defined"
     ]
    }
   ],
   "source": [
    "cantidad_sparks = maximo_spark(list_img_row)[0]\n",
    "datos_tiempos = maximo_spark(list_img_row)[1]\n",
    "datos_intensidades = maximo_spark(list_img_row)[2]\n",
    "\n",
    "Columns = ['Spark_'+ str(x) for x in range(0, cantidad_sparks)]\n",
    "out_sparks = pd.DataFrame([datos_tiempos_row.values(),datos_intensidades_row.values()], columns = Columns).T\n",
    "out_sparks = pd.DataFrame(out_sparks.values, columns = ['tiempo_maximo', 'intensidad_maxima'])\n",
    "\n",
    "sparks_tiempo0_row = minimo_sparks (cantidad_sparks, list_img_row, out_sparks['tiempo_maximo']) [0]\n",
    "sparks_intensidad0_row = minimo_sparks (cantidad_sparks, list_img_row, out_sparks['tiempo_maximo']) [1]\n",
    "sparks_tiempo_n_row = minimo_sparks (cantidad_sparks, list_img_row, out_sparks['tiempo_maximo']) [2]\n",
    "sparks_intensidad_n_row = minimo_sparks (cantidad_sparks, list_img_row, out_sparks['tiempo_maximo']) [3]\n",
    "out_sparks['tiempo_minimo'] = sparks_tiempo0_row\n",
    "out_sparks['intensidad_minima'] = sparks_intensidad0_row\n",
    "out_sparks['tiempo_valle'] = sparks_tiempo_n_row\n",
    "out_sparks['intensidad_valle'] = sparks_intensidad_n_row"
   ]
  },
  {
   "cell_type": "markdown",
   "metadata": {},
   "source": [
    "from __future__ import print_function\n",
    "import ipywidgets as widgets\n",
    "from ipywidgets import interact, interactive, fixed, interact_manual\n",
    "from IPython.display import display\n",
    "\n",
    "img_bc = interactive(f, brightness=100, contrast=100)   #display brightness and contrast\n",
    "display (img_bc)"
   ]
  },
  {
   "cell_type": "markdown",
   "metadata": {},
   "source": [
    "im = rotation (imCrop, 90)    # rotate image\n",
    "display_image ('Image' , im)    # Display cropped image"
   ]
  },
  {
   "cell_type": "code",
   "execution_count": 20,
   "metadata": {},
   "outputs": [
    {
     "ename": "NameError",
     "evalue": "name 'out_sparks_row' is not defined",
     "output_type": "error",
     "traceback": [
      "\u001b[1;31m---------------------------------------------------------------------------\u001b[0m",
      "\u001b[1;31mNameError\u001b[0m                                 Traceback (most recent call last)",
      "\u001b[1;32m<ipython-input-20-c2ce35304408>\u001b[0m in \u001b[0;36m<module>\u001b[1;34m\u001b[0m\n\u001b[0;32m      1\u001b[0m \u001b[1;31m##  Calculo fullWidth\u001b[0m\u001b[1;33m\u001b[0m\u001b[1;33m\u001b[0m\u001b[1;33m\u001b[0m\u001b[0m\n\u001b[0;32m      2\u001b[0m \u001b[1;33m\u001b[0m\u001b[0m\n\u001b[1;32m----> 3\u001b[1;33m \u001b[0mout_sparks\u001b[0m\u001b[1;33m[\u001b[0m\u001b[1;34m'fullWidth'\u001b[0m\u001b[1;33m]\u001b[0m \u001b[1;33m=\u001b[0m \u001b[0mout_sparks_row\u001b[0m\u001b[1;33m[\u001b[0m\u001b[1;34m'tiempo_valle'\u001b[0m\u001b[1;33m]\u001b[0m \u001b[1;33m-\u001b[0m \u001b[0mout_sparks_row\u001b[0m\u001b[1;33m[\u001b[0m\u001b[1;34m'tiempo_minimo'\u001b[0m\u001b[1;33m]\u001b[0m\u001b[1;33m\u001b[0m\u001b[1;33m\u001b[0m\u001b[0m\n\u001b[0m",
      "\u001b[1;31mNameError\u001b[0m: name 'out_sparks_row' is not defined"
     ]
    }
   ],
   "source": [
    "##  Calculo fullWidth\n",
    "\n",
    "out_sparks['fullWidth'] = out_sparks_row['tiempo_valle'] - out_sparks_row['tiempo_minimo']"
   ]
  },
  {
   "cell_type": "code",
   "execution_count": 30,
   "metadata": {},
   "outputs": [
    {
     "name": "stdout",
     "output_type": "stream",
     "text": [
      "10 10\n",
      "3 3\n",
      "4 4\n",
      "3 3\n",
      "5 5\n",
      "2 2\n",
      "6 6\n",
      "8 8\n",
      "14 14\n",
      "4 4\n",
      "12 12\n",
      "3 3\n"
     ]
    },
    {
     "name": "stderr",
     "output_type": "stream",
     "text": [
      "C:\\Users\\Leand\\PyMOL\\lib\\site-packages\\ipykernel_launcher.py:68: FutureWarning: `rcond` parameter will change to the default of machine precision times ``max(M, N)`` where M and N are the input matrix dimensions.\n",
      "To use the future default and silence this warning we advise to pass `rcond=None`, to keep using the old, explicitly pass `rcond=-1`.\n"
     ]
    }
   ],
   "source": [
    "import scipy.stats\n",
    "\n",
    "# Calculo del FWHM\n",
    "\n",
    "sparks_tiempo_pico50 = []\n",
    "\n",
    "for sp in range  (0, cantidad_sparks):\n",
    "    sp_amp50 = (out_sparks_row['intensidad_maxima'] [sp] + out_sparks_row['intensidad_minima'] [sp])/2   \n",
    "    x1 = np.asarray (range (int(out_sparks_row['tiempo_minimo'] [sp]), int(out_sparks_row['tiempo_maximo'] [sp]+1))) \n",
    "    y1 = np.asarray (list_img_row [sp] [int(out_sparks_row['tiempo_minimo'] [sp]) : int(out_sparks_row['tiempo_maximo'] [sp]+1)])\n",
    "    ySS = 0\n",
    "    (amplitudeEst,tauEst) = sparks_analysis.fitExponent(x1,y1,ySS)\n",
    "    yEst = amplitudeEst*(exp(-x1/tauEst))+ySS\n",
    "    sp_ttp50 = (np.log((sp_amp50 -ySS)/ amplitudeEst))*(-tauEst)\n",
    "    sparks_tiempo_pico50.append (sp_ttp50)\n",
    "out_sparks_row['TTP50'] = sparks_tiempo_pico50 - out_sparks_row['tiempo_minimo']\n",
    "\n",
    "\n",
    "sparks_tiempo_pico50_2 = []\n",
    "for sp in range  (0, cantidad_sparks):\n",
    "    sp_amp50 = (out_sparks_row['intensidad_maxima'] [sp] + out_sparks_row['intensidad_minima'] [sp])/2\n",
    "    x2 = np.asarray (range (int(out_sparks_row['tiempo_maximo'] [sp]), int(out_sparks_row['tiempo_valle'] [sp]+1))) \n",
    "    y2 = np.asarray (list_img_row [sp] [int(out_sparks_row['tiempo_maximo'] [sp]) : int(out_sparks_row['tiempo_valle'] [sp]+1)])\n",
    "    (amplitudeEst2,tauEst2) = sparks_analysis.fitExponent(x2,y2,ySS)  \n",
    "    yEst2 = amplitudeEst2*(exp(-x2/tauEst2))+ySS\n",
    "    sp_ttp50_2 = (np.log((sp_amp50 -ySS)/ amplitudeEst2))*(-tauEst2)\n",
    "    sparks_tiempo_pico50_2.append (sp_ttp50_2)\n",
    "out_sparks['FWHM'] =[A - B for (A, B) in zip(sparks_tiempo_pico50_2, sparks_tiempo_pico50)]"
   ]
  }
 ],
 "metadata": {
  "kernelspec": {
   "display_name": "Python 3",
   "language": "python",
   "name": "python3"
  },
  "language_info": {
   "codemirror_mode": {
    "name": "ipython",
    "version": 3
   },
   "file_extension": ".py",
   "mimetype": "text/x-python",
   "name": "python",
   "nbconvert_exporter": "python",
   "pygments_lexer": "ipython3",
   "version": "3.7.3"
  }
 },
 "nbformat": 4,
 "nbformat_minor": 4
}
