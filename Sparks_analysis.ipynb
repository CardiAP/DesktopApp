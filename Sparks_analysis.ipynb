{
 "cells": [
  {
   "cell_type": "markdown",
   "metadata": {},
   "source": [
    "## Analysis sparks multiple images"
   ]
  },
  {
   "cell_type": "code",
   "execution_count": null,
   "metadata": {},
   "outputs": [],
   "source": [
    "from os import listdir\n",
    "from os.path import isfile, join\n",
    "from sparks_image import *\n",
    "from sparks_analysis import *\n",
    "import cv2\n",
    "import matplotlib.pyplot as plt\n",
    "%matplotlib inline\n",
    "\n",
    "x_calibracion = 4.5\n",
    "path = 'C:/Users/Leand/OneDrive/Documentos/Lean/Analizador_imagenes_calcio/Imagenes_confocal/Rata/C071112/'\n",
    "files = [\".\".join(f.split(\".\")[:-1]) for f in listdir(path) if isfile(join(path, f))]\n",
    "for photo_name in files:\n",
    "    image = cv2.imread(path + photo_name + \".tif\")    # Read image\n",
    "    plt.imshow(image, cmap='gray')\n",
    "    cont = input('Continue?')\n",
    "    while 's' in cont.lower():\n",
    "        list_img = image_process (image,path)\n",
    "        list_img_col = list_img [0]\n",
    "        list_img_row = list_img [1]\n",
    "        out_sparks = analysis_process (list_img_col, list_img_row)\n",
    "        out_sparks\n",
    "        if 'n' in cont.lower():\n",
    "            continue"
   ]
  },
  {
   "cell_type": "markdown",
   "metadata": {},
   "source": [
    "## Sparks analysis single image"
   ]
  },
  {
   "cell_type": "code",
   "execution_count": 4,
   "metadata": {},
   "outputs": [],
   "source": [
    "from sparks_image import *\n",
    "from sparks_analysis import *\n",
    "import cv2\n",
    "\n",
    "path = '/media/leandro/Volumen1TB/Lean/Analizador_imagenes_calcio/Sp/Imágenes confocal/Rata/C071112/'\n",
    "photo_name = 'c2ac000'\n",
    "image = cv2.imread(path + photo_name + \".tif\")    # Read image\n",
    "list_img = image_process (image,path)\n",
    "list_img_col = list_img [0]\n",
    "list_img_row = list_img [1]\n",
    "out_sparks = analysis_process (list_img_col, list_img_row)"
   ]
  },
  {
   "cell_type": "code",
   "execution_count": 6,
   "metadata": {},
   "outputs": [
    {
     "name": "stdout",
     "output_type": "stream",
     "text": [
      "15.477653503417969 93 2 (array([[15.4776535],\n",
      "       [15.4776535],\n",
      "       [15.4776535]]), array([[11.33300795],\n",
      "       [11.33300795],\n",
      "       [11.33300795]]))\n"
     ]
    }
   ],
   "source": [
    "img_mean = (np.mean(image))\n",
    "img_max = (np.max(image))\n",
    "img_min = (np.min(image))\n",
    "img_std = (cv2.meanStdDev(image))\n",
    "print(img_mean,img_max, img_min, img_std)"
   ]
  },
  {
   "cell_type": "code",
   "execution_count": 8,
   "metadata": {},
   "outputs": [
    {
     "data": {
      "text/html": [
       "<div>\n",
       "<style scoped>\n",
       "    .dataframe tbody tr th:only-of-type {\n",
       "        vertical-align: middle;\n",
       "    }\n",
       "\n",
       "    .dataframe tbody tr th {\n",
       "        vertical-align: top;\n",
       "    }\n",
       "\n",
       "    .dataframe thead th {\n",
       "        text-align: right;\n",
       "    }\n",
       "</style>\n",
       "<table border=\"1\" class=\"dataframe\">\n",
       "  <thead>\n",
       "    <tr style=\"text-align: right;\">\n",
       "      <th></th>\n",
       "      <th>tiempo_maximo</th>\n",
       "      <th>intensidad_maxima</th>\n",
       "      <th>tiempo_minimo</th>\n",
       "      <th>intensidad_minima</th>\n",
       "      <th>tiempo_valle</th>\n",
       "      <th>intensidad_valle</th>\n",
       "      <th>amplitud</th>\n",
       "      <th>TTP</th>\n",
       "      <th>TTP50</th>\n",
       "      <th>FDHM</th>\n",
       "      <th>tau</th>\n",
       "      <th>(ΔF/F0)/ΔTmax</th>\n",
       "      <th>fullDuration</th>\n",
       "      <th>fullWidth</th>\n",
       "      <th>FWHM</th>\n",
       "    </tr>\n",
       "  </thead>\n",
       "  <tbody>\n",
       "    <tr>\n",
       "      <th>0</th>\n",
       "      <td>4.0</td>\n",
       "      <td>130.384615</td>\n",
       "      <td>0</td>\n",
       "      <td>68.923077</td>\n",
       "      <td>11</td>\n",
       "      <td>78.307692</td>\n",
       "      <td>0.891741</td>\n",
       "      <td>4.0</td>\n",
       "      <td>2.232491</td>\n",
       "      <td>4.834375</td>\n",
       "      <td>15.699474</td>\n",
       "      <td>0.222935</td>\n",
       "      <td>11</td>\n",
       "      <td>10</td>\n",
       "      <td>3.821075</td>\n",
       "    </tr>\n",
       "    <tr>\n",
       "      <th>1</th>\n",
       "      <td>4.0</td>\n",
       "      <td>169.500000</td>\n",
       "      <td>1</td>\n",
       "      <td>55.400000</td>\n",
       "      <td>8</td>\n",
       "      <td>120.400000</td>\n",
       "      <td>2.059567</td>\n",
       "      <td>3.0</td>\n",
       "      <td>1.606464</td>\n",
       "      <td>3.867328</td>\n",
       "      <td>12.504987</td>\n",
       "      <td>0.686522</td>\n",
       "      <td>7</td>\n",
       "      <td>9</td>\n",
       "      <td>3.649862</td>\n",
       "    </tr>\n",
       "  </tbody>\n",
       "</table>\n",
       "</div>"
      ],
      "text/plain": [
       "   tiempo_maximo  intensidad_maxima  tiempo_minimo  intensidad_minima  \\\n",
       "0            4.0         130.384615              0          68.923077   \n",
       "1            4.0         169.500000              1          55.400000   \n",
       "\n",
       "   tiempo_valle  intensidad_valle  amplitud  TTP     TTP50      FDHM  \\\n",
       "0            11         78.307692  0.891741  4.0  2.232491  4.834375   \n",
       "1             8        120.400000  2.059567  3.0  1.606464  3.867328   \n",
       "\n",
       "         tau  (ΔF/F0)/ΔTmax  fullDuration  fullWidth      FWHM  \n",
       "0  15.699474       0.222935            11         10  3.821075  \n",
       "1  12.504987       0.686522             7          9  3.649862  "
      ]
     },
     "execution_count": 8,
     "metadata": {},
     "output_type": "execute_result"
    }
   ],
   "source": [
    "out_sparks"
   ]
  },
  {
   "cell_type": "code",
   "execution_count": null,
   "metadata": {},
   "outputs": [],
   "source": [
    "out_sparks.to_csv(path+photo_name+'_sparks.csv', sep='\\t')"
   ]
  },
  {
   "cell_type": "code",
   "execution_count": 5,
   "metadata": {},
   "outputs": [
    {
     "data": {
      "text/plain": [
       "[[68.92307692307692,\n",
       "  86.53846153846153,\n",
       "  89.07692307692308,\n",
       "  118.0,\n",
       "  130.3846153846154,\n",
       "  107.46153846153847,\n",
       "  117.3846153846154,\n",
       "  112.53846153846153,\n",
       "  91.76923076923077,\n",
       "  95.53846153846153,\n",
       "  88.6923076923077,\n",
       "  78.3076923076923,\n",
       "  78.38461538461539],\n",
       " [73.4,\n",
       "  55.4,\n",
       "  98.0,\n",
       "  148.0,\n",
       "  169.5,\n",
       "  161.2,\n",
       "  163.7,\n",
       "  143.6,\n",
       "  120.40000000000002,\n",
       "  126.09999999999998]]"
      ]
     },
     "execution_count": 5,
     "metadata": {},
     "output_type": "execute_result"
    }
   ],
   "source": [
    "# LinAlgError('Incompatible dimensions')\n",
    "list_img[0]\n",
    "# lstsq(a, b, rcond)\n",
    "# m2, n_rhs = b.shape[-2:]\n",
    "# if m != m2:"
   ]
  },
  {
   "cell_type": "markdown",
   "metadata": {},
   "source": [
    "from __future__ import print_function\n",
    "import ipywidgets as widgets\n",
    "from ipywidgets import interact, interactive, fixed, interact_manual\n",
    "from IPython.display import display\n",
    "\n",
    "img_bc = interactive(f, brightness=100, contrast=100)   #display brightness and contrast\n",
    "display (img_bc)"
   ]
  },
  {
   "cell_type": "markdown",
   "metadata": {},
   "source": [
    "im = rotation (imCrop, 90)    # rotate image\n",
    "display_image ('Image' , im)    # Display cropped image"
   ]
  }
 ],
 "metadata": {
  "kernelspec": {
   "display_name": "Python 3",
   "language": "python",
   "name": "python3"
  },
  "language_info": {
   "codemirror_mode": {
    "name": "ipython",
    "version": 3
   },
   "file_extension": ".py",
   "mimetype": "text/x-python",
   "name": "python",
   "nbconvert_exporter": "python",
   "pygments_lexer": "ipython3",
   "version": "3.8.5"
  }
 },
 "nbformat": 4,
 "nbformat_minor": 4
}
