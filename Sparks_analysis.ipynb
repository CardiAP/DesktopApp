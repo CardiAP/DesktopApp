{
 "cells": [
  {
   "cell_type": "markdown",
   "metadata": {},
   "source": [
    "## Analysis sparks multiple images"
   ]
  },
  {
   "cell_type": "raw",
   "metadata": {},
   "source": [
    "from os import listdir\n",
    "from os.path import isfile, join\n",
    "from sparks_image import *\n",
    "from sparks_analysis import *\n",
    "import cv2\n",
    "import matplotlib.pyplot as plt\n",
    "%matplotlib inline\n",
    "\n",
    "x_calibracion = 4.5\n",
    "path = 'C:/Users/Leand/OneDrive/Documentos/Lean/Analizador_imagenes_calcio/Imagenes_confocal/Rata/C071112/'\n",
    "files = [\".\".join(f.split(\".\")[:-1]) for f in listdir(path) if isfile(join(path, f))]\n",
    "for photo_name in files:\n",
    "    image = cv2.imread(path + photo_name + \".tif\")    # Read image\n",
    "    plt.imshow(image, cmap='gray')\n",
    "    cont = input('Continue?')\n",
    "    while 's' in cont.lower():\n",
    "        list_img = image_process (image,path)\n",
    "        list_img_col = list_img [0]\n",
    "        list_img_row = list_img [1]\n",
    "        out_sparks = analysis_process (list_img_col, list_img_row)\n",
    "        out_sparks\n",
    "        if 'n' in cont.lower():\n",
    "            continue"
   ]
  },
  {
   "cell_type": "markdown",
   "metadata": {},
   "source": [
    "## Sparks analysis single image"
   ]
  },
  {
   "cell_type": "code",
   "execution_count": 1,
   "metadata": {},
   "outputs": [],
   "source": [
    "from sparks_image import *\n",
    "from sparks_analysis import *\n",
    "import cv2\n",
    "from scipy import stats\n",
    "\n",
    "path = '/media/leandro/Volumen1TB/Lean/Analizador_imagenes_calcio/Sp/Imagenes_confocal/Rata/C071112/'\n",
    "photo_name = 'c2ac009'\n",
    "image = cv2.imread(path + photo_name + \".tif\")    # Read image\n",
    "list_img = image_process (image,path)\n",
    "if list_img:\n",
    "    list_img_col = list_img [0]\n",
    "    list_img_row = list_img [1]\n",
    "    out_sparks = analysis_process (list_img_col, list_img_row)"
   ]
  },
  {
   "cell_type": "code",
   "execution_count": null,
   "metadata": {},
   "outputs": [],
   "source": [
    "out_sparks"
   ]
  },
  {
   "cell_type": "raw",
   "metadata": {},
   "source": [
    "out_sparks.to_csv(path+photo_name+'_sparks.csv', sep='\\t')"
   ]
  },
  {
   "cell_type": "code",
   "execution_count": null,
   "metadata": {},
   "outputs": [],
   "source": [
    "# LinAlgError('Incompatible dimensions')\n",
    "\n",
    "xList = np.asarray(list (range(int(out_sparks ['tiempo_maximo'] [0]), int(out_sparks ['tiempo_valle'] [0]))))\n",
    "yList = np.asarray(list_img[0][0][int(out_sparks ['tiempo_maximo'] [0]) : int(out_sparks ['tiempo_valle'] [0])],dtype=np.float64)\n",
    "\n",
    "bList = [log(max(y,1e-6)) for y in yList]\n",
    "m = matrix([[1,t] for t in xList])\n",
    "m2 = matrix(bList).T\n",
    "(w,residuals,rank,sing_vals) = lstsq(m,m2, rcond=None)\n",
    "tau = -1.0/w[1,0]\n",
    "print (m)\n",
    "print(m2)\n",
    "# m2, n_rhs = b.shape[-2:]\n",
    "# if m != m2:"
   ]
  },
  {
   "cell_type": "code",
   "execution_count": null,
   "metadata": {},
   "outputs": [],
   "source": []
  },
  {
   "cell_type": "markdown",
   "metadata": {},
   "source": [
    "from __future__ import print_function\n",
    "import ipywidgets as widgets\n",
    "from ipywidgets import interact, interactive, fixed, interact_manual\n",
    "from IPython.display import display\n",
    "\n",
    "img_bc = interactive(f, brightness=100, contrast=100)   #display brightness and contrast\n",
    "display (img_bc)"
   ]
  },
  {
   "cell_type": "markdown",
   "metadata": {},
   "source": [
    "im = rotation (imCrop, 90)    # rotate image\n",
    "display_image ('Image' , im)    # Display cropped image"
   ]
  }
 ],
 "metadata": {
  "kernelspec": {
   "display_name": "Python 3",
   "language": "python",
   "name": "python3"
  },
  "language_info": {
   "codemirror_mode": {
    "name": "ipython",
    "version": 3
   },
   "file_extension": ".py",
   "mimetype": "text/x-python",
   "name": "python",
   "nbconvert_exporter": "python",
   "pygments_lexer": "ipython3",
   "version": "3.8.5"
  }
 },
 "nbformat": 4,
 "nbformat_minor": 4
}
