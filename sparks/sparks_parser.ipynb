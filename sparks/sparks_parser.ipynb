{
 "cells": [
  {
   "cell_type": "code",
   "execution_count": null,
   "metadata": {},
   "outputs": [],
   "source": [
    "import pandas as pd\n",
    "from pathlib import Path"
   ]
  },
  {
   "cell_type": "code",
   "execution_count": null,
   "metadata": {},
   "outputs": [],
   "source": [
    "path = '/media/leandro/Volumen1TB/Lean/Analizador_imagenes_calcio/Sp/Imagenes_confocal/sp_para entrenar/'\n",
    "pathlist = Path(path).glob('*.csv')\n",
    "sparks_data_list = []\n",
    "for file in pathlist:\n",
    "    path_in_str = str(file)\n",
    "    df = pd.read_csv(path_in_str)\n",
    "    sparks_data_list.append(df)\n",
    "sparks_data_list = pd.concat(sparks_data_list)\n",
    "del (sparks_data_list['Unnamed: 0'])\n",
    "del (sparks_data_list['minim'])\n",
    "del (sparks_data_list['FWHM'])\n",
    "del (sparks_data_list['pos_x'])\n",
    "del (sparks_data_list['pos_y'])\n",
    "del (sparks_data_list['FDHM'])\n",
    "del (sparks_data_list['full_width'])\n",
    "del (sparks_data_list['sparks_tiempo_pico50_2'])\n",
    "del (sparks_data_list['tiempo_minimo'])"
   ]
  },
  {
   "cell_type": "code",
   "execution_count": null,
   "metadata": {},
   "outputs": [],
   "source": [
    "sparks_data_list.to_csv(path + 'sparks_data_list.csv')"
   ]
  },
  {
   "cell_type": "code",
   "execution_count": null,
   "metadata": {},
   "outputs": [],
   "source": [
    "#Disabling the warnings permantently\n",
    "import warnings\n",
    "warnings.filterwarnings('ignore')"
   ]
  },
  {
   "cell_type": "code",
   "execution_count": null,
   "metadata": {},
   "outputs": [],
   "source": [
    "import pandas as pd\n",
    "import seaborn as sns\n",
    "import numpy as np\n",
    "\n",
    "from sklearn.model_selection import train_test_split\n",
    "from xgboost import XGBClassifier\n",
    "\n",
    "\n",
    "from sklearn.model_selection import (RandomizedSearchCV,\n",
    "                                     KFold,\n",
    "                                     cross_val_score,\n",
    "                                     train_test_split)\n",
    "from sklearn.metrics import (roc_auc_score,\n",
    "                             make_scorer,\n",
    "                             classification_report,\n",
    "                             roc_curve,\n",
    "                             f1_score,\n",
    "                             matthews_corrcoef,\n",
    "                             precision_score,\n",
    "                             recall_score,\n",
    "                             confusion_matrix)\n",
    "\n",
    "from xgboost import XGBClassifier"
   ]
  },
  {
   "cell_type": "code",
   "execution_count": null,
   "metadata": {},
   "outputs": [],
   "source": [
    "sparks_data_list.isnull().sum()"
   ]
  },
  {
   "cell_type": "code",
   "execution_count": null,
   "metadata": {},
   "outputs": [],
   "source": [
    "corr = sparks_data_list[sparks_data_list.columns].corr()\n",
    "sns.heatmap(corr, cmap=\"YlGnBu\", annot = True)\n",
    "sns.set(rc={'figure.figsize':(30,24)})"
   ]
  },
  {
   "cell_type": "code",
   "execution_count": null,
   "metadata": {},
   "outputs": [],
   "source": [
    "X = sparks_data_list.drop(['flag'], axis=1).values\n",
    "y = sparks_data_list.flag"
   ]
  },
  {
   "cell_type": "code",
   "execution_count": null,
   "metadata": {},
   "outputs": [],
   "source": [
    "X_train,X_test,  y_train, y_test = train_test_split(X,\n",
    "                                                    y,\n",
    "                                                    test_size=0.3,\n",
    "                                                    stratify=y)"
   ]
  },
  {
   "cell_type": "code",
   "execution_count": null,
   "metadata": {},
   "outputs": [],
   "source": [
    "df_train = pd.DataFrame(y_train)\n",
    "df_test = pd.DataFrame(y_test)"
   ]
  },
  {
   "cell_type": "code",
   "execution_count": null,
   "metadata": {},
   "outputs": [],
   "source": [
    "print(df_train.groupby('flag').size())\n",
    "print(df_test.groupby('flag').size())"
   ]
  },
  {
   "cell_type": "code",
   "execution_count": null,
   "metadata": {},
   "outputs": [],
   "source": [
    "from sklearn.impute import SimpleImputer\n",
    "\n",
    "# Tratamiento de NaN\n",
    "imp = SimpleImputer(missing_values=np.nan, strategy='median') # Uso el promedio para reemplazar\n",
    "imp.fit(X_train)\n",
    "X_train = imp.transform(X_train)\n",
    "\n",
    "imp.fit(X_test)\n",
    "X_test = imp.transform(X_test)"
   ]
  },
  {
   "cell_type": "code",
   "execution_count": null,
   "metadata": {},
   "outputs": [],
   "source": [
    "model_baseline = XGBClassifier()"
   ]
  },
  {
   "cell_type": "code",
   "execution_count": null,
   "metadata": {},
   "outputs": [],
   "source": [
    "model_baseline.fit(X_train, y_train)"
   ]
  },
  {
   "cell_type": "code",
   "execution_count": null,
   "metadata": {},
   "outputs": [],
   "source": [
    "def get_prediction(predictions):\n",
    "    new_preds = []\n",
    "    for preds in predictions:\n",
    "        if preds >= 0.25:\n",
    "            new_preds.append(1)\n",
    "        else: new_preds.append(2)\n",
    "    return new_preds"
   ]
  },
  {
   "cell_type": "code",
   "execution_count": null,
   "metadata": {},
   "outputs": [],
   "source": [
    "pred_proba_train = model_baseline.predict_proba(X_train)[:, 1]\n",
    "pred_proba_test = model_baseline.predict_proba(X_test)[:, 1]\n",
    "\n",
    "pred_train = get_prediction(pred_proba_train)\n",
    "pred_test = get_prediction(pred_proba_test)"
   ]
  },
  {
   "cell_type": "code",
   "execution_count": null,
   "metadata": {},
   "outputs": [],
   "source": [
    "print(f\"Train ROC-AUC: {np.round(roc_auc_score(y_train, pred_proba_train), 2)}\")\n",
    "print(f\"Test ROC-AUC: {np.round(roc_auc_score(y_test, pred_proba_test), 2)}\")"
   ]
  },
  {
   "cell_type": "code",
   "execution_count": null,
   "metadata": {},
   "outputs": [],
   "source": [
    "import joblib\n",
    "\n",
    "# Save the model as a pickle in a file\n",
    "# joblib.dump(model_baseline, 'modelXGB.pkl')\n",
    "\n",
    "# Load the model from the file\n",
    "knn_from_joblib = joblib.load('modelXGB.pkl')\n",
    "\n",
    "# Use the loaded model to make predictions\n",
    "# knn_from_joblib.predict(X_test)\n"
   ]
  },
  {
   "cell_type": "markdown",
   "metadata": {},
   "source": [
    "pred_proba_train = model_baseline.predict_proba(X_train)[:, 1]\n",
    "pred_proba_test = knn_from_joblib.predict_proba(X_test)[:, 1]\n",
    "\n",
    "pred_train = get_prediction(pred_proba_train)\n",
    "pred_test = get_prediction(pred_proba_test)"
   ]
  },
  {
   "cell_type": "markdown",
   "metadata": {},
   "source": [
    "print(f\"Train ROC-AUC: {np.round(roc_auc_score(y_train, pred_proba_train), 2)}\")\n",
    "print(f\"Test ROC-AUC: {np.round(roc_auc_score(y_test, pred_proba_test), 2)}\")"
   ]
  },
  {
   "cell_type": "code",
   "execution_count": null,
   "metadata": {},
   "outputs": [],
   "source": [
    "import Image_Sparks\n",
    "import cv2\n",
    "import sparks_analysis_apply\n",
    "import image_class\n",
    "\n",
    "# path = '/media/leandro/Volumen1TB/Lean/Analizador_imagenes_calcio/Sp/Imagenes_confocal/sp_para entrenar/'\n",
    "image = image_class.Image_Processing('/media/leandro/Volumen1TB/Lean/Analizador_imagenes_calcio/Sp/Imagenes_confocal/Rata/C071112/', 'c1ac000')\n",
    "\n",
    "\n",
    "image = cv2.imread(image.path + image.photo_name + \".tif\")\n",
    "imcrop = Image_Sparks.Image_Sparks.Image_cropping(image)\n",
    "cv2.imwrite('/path/to/destination/image.png',imcrop)\n",
    "contours, img_processed = Image_Sparks.Image_Sparks.Image_processing(imcrop)\n",
    "list_img_col, list_img_row, x_position, y_position, width, high = Image_Sparks.Image_Sparks.Image_analysis(contours, img_processed, image)\n",
    "\n",
    "# Take the processing data to analyze each spark and extract parameters\n",
    "\n",
    "parameters = sparks_analysis_apply.analysis_process (list_img_col, list_img_row,x_position,y_position,width,high)\n",
    "parameters = parameters.drop(['FWHM','FDHM','pos_x','pos_y','tau','width','high'], axis = 1)\n",
    "# knn_from_joblib.predict(parameters).to_numpy()\n",
    "print(parameters)"
   ]
  },
  {
   "cell_type": "code",
   "execution_count": null,
   "metadata": {},
   "outputs": [],
   "source": []
  }
 ],
 "metadata": {
  "kernelspec": {
   "display_name": "Python 3",
   "language": "python",
   "name": "python3"
  },
  "language_info": {
   "codemirror_mode": {
    "name": "ipython",
    "version": 3
   },
   "file_extension": ".py",
   "mimetype": "text/x-python",
   "name": "python",
   "nbconvert_exporter": "python",
   "pygments_lexer": "ipython3",
   "version": "3.8.10"
  }
 },
 "nbformat": 4,
 "nbformat_minor": 4
}
