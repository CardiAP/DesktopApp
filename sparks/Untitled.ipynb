{
 "cells": [
  {
   "cell_type": "code",
   "execution_count": 2,
   "metadata": {},
   "outputs": [],
   "source": [
    "import pandas as pd\n",
    "from pathlib import Path\n",
    "import matplotlib.pyplot as plt"
   ]
  },
  {
   "cell_type": "code",
   "execution_count": 3,
   "metadata": {},
   "outputs": [],
   "source": [
    "path = '/media/leandro/Volumen1TB/Lean/Analizador_imagenes_calcio/Sp/Imagenes_confocal/sp_para entrenar/'\n",
    "pathlist = Path(path).glob('*.csv')\n",
    "sparks_data_list = []\n",
    "for file in pathlist:\n",
    "    path_in_str = str(file)\n",
    "    df = pd.read_csv(path_in_str)\n",
    "    sparks_data_list.append(df)\n",
    "sparks_data_list = pd.concat(sparks_data_list)\n",
    "del (sparks_data_list['Unnamed: 0'])\n",
    "del (sparks_data_list['minim'])\n",
    "del (sparks_data_list['FWHM'])\n",
    "del (sparks_data_list['pos_x'])\n",
    "del (sparks_data_list['pos_y'])\n",
    "del (sparks_data_list['FDHM'])\n",
    "del (sparks_data_list['full_width'])\n",
    "del (sparks_data_list['sparks_tiempo_pico50_2'])\n",
    "del (sparks_data_list['tiempo_minimo'])"
   ]
  },
  {
   "cell_type": "code",
   "execution_count": 4,
   "metadata": {},
   "outputs": [
    {
     "name": "stdout",
     "output_type": "stream",
     "text": [
      "(2397, 16)\n"
     ]
    }
   ],
   "source": [
    "print(sparks_data_list.shape)"
   ]
  },
  {
   "cell_type": "code",
   "execution_count": 5,
   "metadata": {},
   "outputs": [
    {
     "name": "stdout",
     "output_type": "stream",
     "text": [
      "[2. 1.]\n"
     ]
    }
   ],
   "source": [
    "print(sparks_data_list['flag'].unique())"
   ]
  },
  {
   "cell_type": "code",
   "execution_count": 6,
   "metadata": {},
   "outputs": [
    {
     "data": {
      "text/html": [
       "<div>\n",
       "<style scoped>\n",
       "    .dataframe tbody tr th:only-of-type {\n",
       "        vertical-align: middle;\n",
       "    }\n",
       "\n",
       "    .dataframe tbody tr th {\n",
       "        vertical-align: top;\n",
       "    }\n",
       "\n",
       "    .dataframe thead th {\n",
       "        text-align: right;\n",
       "    }\n",
       "</style>\n",
       "<table border=\"1\" class=\"dataframe\">\n",
       "  <thead>\n",
       "    <tr style=\"text-align: right;\">\n",
       "      <th></th>\n",
       "      <th>tiempo_maximo</th>\n",
       "      <th>intensidad_maxima</th>\n",
       "      <th>intensidad_minima</th>\n",
       "      <th>tiempo_valle</th>\n",
       "      <th>intensidad_valle</th>\n",
       "      <th>sparks_amplitud</th>\n",
       "      <th>TTP</th>\n",
       "      <th>sparks_tiempo_pico50</th>\n",
       "      <th>sp_tau</th>\n",
       "      <th>TTP50</th>\n",
       "      <th>fullWidth</th>\n",
       "      <th>(ΔF/F0)/ΔTmax</th>\n",
       "      <th>fullDuration</th>\n",
       "      <th>width</th>\n",
       "      <th>high</th>\n",
       "      <th>flag</th>\n",
       "    </tr>\n",
       "  </thead>\n",
       "  <tbody>\n",
       "    <tr>\n",
       "      <th>0</th>\n",
       "      <td>13.0</td>\n",
       "      <td>10.925926</td>\n",
       "      <td>7.740741</td>\n",
       "      <td>23.0</td>\n",
       "      <td>7.666667</td>\n",
       "      <td>0.411483</td>\n",
       "      <td>8.0</td>\n",
       "      <td>9.482171</td>\n",
       "      <td>32.285667</td>\n",
       "      <td>4.482171</td>\n",
       "      <td>11.0</td>\n",
       "      <td>0.051435</td>\n",
       "      <td>18.0</td>\n",
       "      <td>25.0</td>\n",
       "      <td>27.0</td>\n",
       "      <td>2.0</td>\n",
       "    </tr>\n",
       "    <tr>\n",
       "      <th>1</th>\n",
       "      <td>4.0</td>\n",
       "      <td>10.941176</td>\n",
       "      <td>8.117647</td>\n",
       "      <td>7.0</td>\n",
       "      <td>7.764706</td>\n",
       "      <td>0.347826</td>\n",
       "      <td>2.0</td>\n",
       "      <td>3.206613</td>\n",
       "      <td>9.208165</td>\n",
       "      <td>1.206613</td>\n",
       "      <td>12.0</td>\n",
       "      <td>0.173913</td>\n",
       "      <td>5.0</td>\n",
       "      <td>12.0</td>\n",
       "      <td>17.0</td>\n",
       "      <td>2.0</td>\n",
       "    </tr>\n",
       "    <tr>\n",
       "      <th>2</th>\n",
       "      <td>3.0</td>\n",
       "      <td>7.230769</td>\n",
       "      <td>6.884615</td>\n",
       "      <td>4.0</td>\n",
       "      <td>6.615385</td>\n",
       "      <td>0.050279</td>\n",
       "      <td>1.0</td>\n",
       "      <td>2.506131</td>\n",
       "      <td>11.242589</td>\n",
       "      <td>0.506131</td>\n",
       "      <td>18.0</td>\n",
       "      <td>0.050279</td>\n",
       "      <td>2.0</td>\n",
       "      <td>12.0</td>\n",
       "      <td>26.0</td>\n",
       "      <td>1.0</td>\n",
       "    </tr>\n",
       "    <tr>\n",
       "      <th>3</th>\n",
       "      <td>15.0</td>\n",
       "      <td>10.363636</td>\n",
       "      <td>7.454545</td>\n",
       "      <td>0.0</td>\n",
       "      <td>9.636364</td>\n",
       "      <td>0.390244</td>\n",
       "      <td>14.0</td>\n",
       "      <td>12.507874</td>\n",
       "      <td>NaN</td>\n",
       "      <td>11.507874</td>\n",
       "      <td>2.0</td>\n",
       "      <td>0.027875</td>\n",
       "      <td>-1.0</td>\n",
       "      <td>17.0</td>\n",
       "      <td>11.0</td>\n",
       "      <td>2.0</td>\n",
       "    </tr>\n",
       "    <tr>\n",
       "      <th>4</th>\n",
       "      <td>24.0</td>\n",
       "      <td>10.689655</td>\n",
       "      <td>7.931034</td>\n",
       "      <td>26.0</td>\n",
       "      <td>8.229885</td>\n",
       "      <td>0.347826</td>\n",
       "      <td>13.0</td>\n",
       "      <td>19.740930</td>\n",
       "      <td>7.648054</td>\n",
       "      <td>8.740930</td>\n",
       "      <td>25.0</td>\n",
       "      <td>0.026756</td>\n",
       "      <td>15.0</td>\n",
       "      <td>41.0</td>\n",
       "      <td>87.0</td>\n",
       "      <td>2.0</td>\n",
       "    </tr>\n",
       "  </tbody>\n",
       "</table>\n",
       "</div>"
      ],
      "text/plain": [
       "   tiempo_maximo  intensidad_maxima  intensidad_minima  tiempo_valle  \\\n",
       "0           13.0          10.925926           7.740741          23.0   \n",
       "1            4.0          10.941176           8.117647           7.0   \n",
       "2            3.0           7.230769           6.884615           4.0   \n",
       "3           15.0          10.363636           7.454545           0.0   \n",
       "4           24.0          10.689655           7.931034          26.0   \n",
       "\n",
       "   intensidad_valle  sparks_amplitud   TTP  sparks_tiempo_pico50     sp_tau  \\\n",
       "0          7.666667         0.411483   8.0              9.482171  32.285667   \n",
       "1          7.764706         0.347826   2.0              3.206613   9.208165   \n",
       "2          6.615385         0.050279   1.0              2.506131  11.242589   \n",
       "3          9.636364         0.390244  14.0             12.507874        NaN   \n",
       "4          8.229885         0.347826  13.0             19.740930   7.648054   \n",
       "\n",
       "       TTP50  fullWidth  (ΔF/F0)/ΔTmax  fullDuration  width  high  flag  \n",
       "0   4.482171       11.0       0.051435          18.0   25.0  27.0   2.0  \n",
       "1   1.206613       12.0       0.173913           5.0   12.0  17.0   2.0  \n",
       "2   0.506131       18.0       0.050279           2.0   12.0  26.0   1.0  \n",
       "3  11.507874        2.0       0.027875          -1.0   17.0  11.0   2.0  \n",
       "4   8.740930       25.0       0.026756          15.0   41.0  87.0   2.0  "
      ]
     },
     "execution_count": 6,
     "metadata": {},
     "output_type": "execute_result"
    }
   ],
   "source": [
    "sparks_data_list.head()"
   ]
  },
  {
   "cell_type": "code",
   "execution_count": 7,
   "metadata": {},
   "outputs": [
    {
     "name": "stdout",
     "output_type": "stream",
     "text": [
      "flag\n",
      "1.0    1113\n",
      "2.0    1284\n",
      "dtype: int64\n"
     ]
    }
   ],
   "source": [
    "print(sparks_data_list.groupby('flag').size())"
   ]
  },
  {
   "cell_type": "code",
   "execution_count": 8,
   "metadata": {},
   "outputs": [
    {
     "name": "stderr",
     "output_type": "stream",
     "text": [
      "/home/leandro/.local/lib/python3.8/site-packages/seaborn/_decorators.py:36: FutureWarning: Pass the following variable as a keyword arg: x. From version 0.12, the only valid positional argument will be `data`, and passing other arguments without an explicit keyword will result in an error or misinterpretation.\n",
      "  warnings.warn(\n"
     ]
    },
    {
     "data": {
      "image/png": "[encoded data removed]",
      "text/plain": [
       "<Figure size 432x288 with 1 Axes>"
      ]
     },
     "metadata": {
      "needs_background": "light"
     },
     "output_type": "display_data"
    }
   ],
   "source": [
    "import seaborn as sns\n",
    "sns.countplot(sparks_data_list['flag'],label=\"Count\")\n",
    "plt.show()"
   ]
  },
  {
   "cell_type": "code",
   "execution_count": 9,
   "metadata": {},
   "outputs": [
    {
     "data": {
      "image/png": "[encoded data removed]",
      "text/plain": [
       "<Figure size 648x648 with 25 Axes>"
      ]
     },
     "metadata": {
      "needs_background": "light"
     },
     "output_type": "display_data"
    }
   ],
   "source": [
    "sparks_data_list.plot(kind='box', subplots=True, layout=(5,5), sharex=False, sharey=False, figsize=(9,9), \n",
    "                                        title='Box Plot for each input variable')\n",
    "plt.show()"
   ]
  },
  {
   "cell_type": "code",
   "execution_count": 10,
   "metadata": {},
   "outputs": [
    {
     "data": {
      "image/png": "[encoded data removed]",
      "text/plain": [
       "<Figure size 648x648 with 16 Axes>"
      ]
     },
     "metadata": {
      "needs_background": "light"
     },
     "output_type": "display_data"
    }
   ],
   "source": [
    "import pylab as pl\n",
    "sparks_data_list.hist(bins=30, figsize=(9,9))\n",
    "pl.suptitle(\"Histogram for each numeric input variable\")\n",
    "# plt.savefig('fruits_hist')\n",
    "plt.show()"
   ]
  },
  {
   "cell_type": "code",
   "execution_count": 11,
   "metadata": {},
   "outputs": [],
   "source": [
    "from matplotlib import cm\n",
    "\n",
    "feature_names = list(sparks_data_list.columns)\n",
    "feature_names.remove('flag')\n",
    "X = sparks_data_list[feature_names]\n",
    "y = sparks_data_list['flag']"
   ]
  },
  {
   "cell_type": "code",
   "execution_count": 12,
   "metadata": {},
   "outputs": [
    {
     "data": {
      "text/plain": [
       "['tiempo_maximo',\n",
       " 'intensidad_maxima',\n",
       " 'intensidad_minima',\n",
       " 'tiempo_valle',\n",
       " 'intensidad_valle',\n",
       " 'sparks_amplitud',\n",
       " 'TTP',\n",
       " 'sparks_tiempo_pico50',\n",
       " 'sp_tau',\n",
       " 'TTP50',\n",
       " 'fullWidth',\n",
       " '(ΔF/F0)/ΔTmax',\n",
       " 'fullDuration',\n",
       " 'width',\n",
       " 'high']"
      ]
     },
     "execution_count": 12,
     "metadata": {},
     "output_type": "execute_result"
    }
   ],
   "source": [
    "feature_names"
   ]
  },
  {
   "cell_type": "code",
   "execution_count": 13,
   "metadata": {},
   "outputs": [],
   "source": [
    "from sklearn.model_selection import train_test_split\n",
    "from sklearn.impute import SimpleImputer\n",
    "import numpy as np\n",
    "\n",
    "X_train, X_test, y_train, y_test = train_test_split(X,y, random_state=0)\n",
    "\n",
    "# Tratamiento de NaN\n",
    "imp = SimpleImputer(missing_values=np.nan, strategy='median') # Uso el promedio para reemplazar\n",
    "imp.fit(X_train)\n",
    "X_train = imp.transform(X_train)\n",
    "\n",
    "imp.fit(X_test)\n",
    "X_test = imp.transform(X_test)\n",
    "\n",
    "from sklearn.preprocessing import MinMaxScaler\n",
    "scaler = MinMaxScaler()\n",
    "X_train = scaler.fit_transform(X_train)\n",
    "X_test = scaler.transform(X_test)"
   ]
  },
  {
   "cell_type": "code",
   "execution_count": 14,
   "metadata": {},
   "outputs": [
    {
     "name": "stdout",
     "output_type": "stream",
     "text": [
      "Accuracy of Logistic regression classifier on training set: 0.61\n",
      "Accuracy of Logistic regression classifier on test set: 0.60\n"
     ]
    },
    {
     "name": "stderr",
     "output_type": "stream",
     "text": [
      "/home/leandro/.local/lib/python3.8/site-packages/sklearn/linear_model/_logistic.py:762: ConvergenceWarning: lbfgs failed to converge (status=1):\n",
      "STOP: TOTAL NO. of ITERATIONS REACHED LIMIT.\n",
      "\n",
      "Increase the number of iterations (max_iter) or scale the data as shown in:\n",
      "    https://scikit-learn.org/stable/modules/preprocessing.html\n",
      "Please also refer to the documentation for alternative solver options:\n",
      "    https://scikit-learn.org/stable/modules/linear_model.html#logistic-regression\n",
      "  n_iter_i = _check_optimize_result(\n"
     ]
    }
   ],
   "source": [
    "from sklearn.linear_model import LogisticRegression\n",
    "logreg = LogisticRegression(C=15.0)\n",
    "logreg.fit(X_train, y_train)\n",
    "print('Accuracy of Logistic regression classifier on training set: {:.2f}'\n",
    "     .format(logreg.score(X_train, y_train)))\n",
    "print('Accuracy of Logistic regression classifier on test set: {:.2f}'\n",
    "     .format(logreg.score(X_test, y_test)))"
   ]
  },
  {
   "cell_type": "code",
   "execution_count": 15,
   "metadata": {},
   "outputs": [
    {
     "name": "stdout",
     "output_type": "stream",
     "text": [
      "Accuracy of Decision Tree classifier on training set: 1.00\n",
      "Accuracy of Decision Tree classifier on test set: 0.58\n"
     ]
    }
   ],
   "source": [
    "from sklearn.tree import DecisionTreeClassifier\n",
    "clf = DecisionTreeClassifier(criterion='entropy').fit(X_train, y_train)\n",
    "print('Accuracy of Decision Tree classifier on training set: {:.2f}'\n",
    "     .format(clf.score(X_train, y_train)))\n",
    "print('Accuracy of Decision Tree classifier on test set: {:.2f}'\n",
    "     .format(clf.score(X_test, y_test)))"
   ]
  },
  {
   "cell_type": "code",
   "execution_count": 21,
   "metadata": {},
   "outputs": [
    {
     "data": {
      "text/plain": [
       "([<matplotlib.axis.XTick at 0x7fac32f41760>,\n",
       "  <matplotlib.axis.XTick at 0x7fac32f41d30>,\n",
       "  <matplotlib.axis.XTick at 0x7fac30ed4fa0>,\n",
       "  <matplotlib.axis.XTick at 0x7fac30ef1d00>,\n",
       "  <matplotlib.axis.XTick at 0x7fac30ef1460>,\n",
       "  <matplotlib.axis.XTick at 0x7fac30f02520>,\n",
       "  <matplotlib.axis.XTick at 0x7fac30f02a30>],\n",
       " [Text(0, 0, ''),\n",
       "  Text(0, 0, ''),\n",
       "  Text(0, 0, ''),\n",
       "  Text(0, 0, ''),\n",
       "  Text(0, 0, ''),\n",
       "  Text(0, 0, ''),\n",
       "  Text(0, 0, '')])"
      ]
     },
     "execution_count": 21,
     "metadata": {},
     "output_type": "execute_result"
    },
    {
     "data": {
      "image/png": "[encoded data removed]",
      "text/plain": [
       "<Figure size 432x288 with 1 Axes>"
      ]
     },
     "metadata": {
      "needs_background": "light"
     },
     "output_type": "display_data"
    }
   ],
   "source": [
    "k_range = range(1, 20)\n",
    "scores = []\n",
    "for k in k_range:\n",
    "    knn = KNeighborsClassifier(n_neighbors = k)\n",
    "    knn.fit(X_train, y_train)\n",
    "    scores.append(knn.score(X_test, y_test))\n",
    "plt.figure()\n",
    "plt.xlabel('k')\n",
    "plt.ylabel('accuracy')\n",
    "plt.scatter(k_range, scores)\n",
    "plt.xticks([0,1,2,5,10,15,20])"
   ]
  },
  {
   "cell_type": "code",
   "execution_count": 26,
   "metadata": {},
   "outputs": [
    {
     "name": "stdout",
     "output_type": "stream",
     "text": [
      "Accuracy of K-NN classifier on training set: 1.00\n",
      "Accuracy of K-NN classifier on test set: 0.66\n"
     ]
    }
   ],
   "source": [
    "from sklearn.neighbors import KNeighborsClassifier\n",
    "knn = KNeighborsClassifier(n_neighbors=8, weights='distance', algorithm='ball_tree')\n",
    "knn.fit(X_train, y_train)\n",
    "print('Accuracy of K-NN classifier on training set: {:.2f}'\n",
    "     .format(knn.score(X_train, y_train)))\n",
    "print('Accuracy of K-NN classifier on test set: {:.2f}'\n",
    "     .format(knn.score(X_test, y_test)))"
   ]
  },
  {
   "cell_type": "code",
   "execution_count": 27,
   "metadata": {},
   "outputs": [
    {
     "name": "stdout",
     "output_type": "stream",
     "text": [
      "Accuracy of LDA classifier on training set: 0.61\n",
      "Accuracy of LDA classifier on test set: 0.60\n"
     ]
    }
   ],
   "source": [
    "from sklearn.discriminant_analysis import LinearDiscriminantAnalysis\n",
    "lda = LinearDiscriminantAnalysis()\n",
    "lda.fit(X_train, y_train)\n",
    "print('Accuracy of LDA classifier on training set: {:.2f}'\n",
    "     .format(lda.score(X_train, y_train)))\n",
    "print('Accuracy of LDA classifier on test set: {:.2f}'\n",
    "     .format(lda.score(X_test, y_test)))"
   ]
  },
  {
   "cell_type": "code",
   "execution_count": 18,
   "metadata": {},
   "outputs": [
    {
     "name": "stdout",
     "output_type": "stream",
     "text": [
      "Accuracy of QDA classifier on training set: 0.55\n",
      "Accuracy of QDA classifier on test set: 0.55\n"
     ]
    },
    {
     "name": "stderr",
     "output_type": "stream",
     "text": [
      "/home/leandro/.local/lib/python3.8/site-packages/sklearn/discriminant_analysis.py:715: UserWarning: Variables are collinear\n",
      "  warnings.warn(\"Variables are collinear\")\n"
     ]
    }
   ],
   "source": [
    "from sklearn.discriminant_analysis import QuadraticDiscriminantAnalysis\n",
    "qda = QuadraticDiscriminantAnalysis()\n",
    "qda.fit(X_train, y_train)\n",
    "print('Accuracy of QDA classifier on training set: {:.2f}'\n",
    "     .format(qda.score(X_train, y_train)))\n",
    "print('Accuracy of QDA classifier on test set: {:.2f}'\n",
    "     .format(qda.score(X_test, y_test)))"
   ]
  },
  {
   "cell_type": "code",
   "execution_count": 19,
   "metadata": {},
   "outputs": [
    {
     "name": "stdout",
     "output_type": "stream",
     "text": [
      "Accuracy of GNB classifier on training set: 0.55\n",
      "Accuracy of GNB classifier on test set: 0.59\n"
     ]
    }
   ],
   "source": [
    "from sklearn.naive_bayes import GaussianNB\n",
    "gnb = GaussianNB()\n",
    "gnb.fit(X_train, y_train)\n",
    "print('Accuracy of GNB classifier on training set: {:.2f}'\n",
    "     .format(gnb.score(X_train, y_train)))\n",
    "print('Accuracy of GNB classifier on test set: {:.2f}'\n",
    "     .format(gnb.score(X_test, y_test)))"
   ]
  },
  {
   "cell_type": "code",
   "execution_count": 20,
   "metadata": {},
   "outputs": [
    {
     "name": "stdout",
     "output_type": "stream",
     "text": [
      "[[190 108]\n",
      " [105 197]]\n",
      "              precision    recall  f1-score   support\n",
      "\n",
      "         1.0       0.64      0.64      0.64       298\n",
      "         2.0       0.65      0.65      0.65       302\n",
      "\n",
      "    accuracy                           0.65       600\n",
      "   macro avg       0.64      0.64      0.64       600\n",
      "weighted avg       0.64      0.65      0.64       600\n",
      "\n"
     ]
    }
   ],
   "source": [
    "from sklearn.metrics import classification_report\n",
    "from sklearn.metrics import confusion_matrix\n",
    "pred = knn.predict(X_test)\n",
    "print(confusion_matrix(y_test, pred))\n",
    "print(classification_report(y_test, pred))"
   ]
  },
  {
   "cell_type": "code",
   "execution_count": null,
   "metadata": {},
   "outputs": [],
   "source": [
    "X"
   ]
  },
  {
   "cell_type": "code",
   "execution_count": null,
   "metadata": {},
   "outputs": [],
   "source": []
  }
 ],
 "metadata": {
  "kernelspec": {
   "display_name": "Python 3",
   "language": "python",
   "name": "python3"
  },
  "language_info": {
   "codemirror_mode": {
    "name": "ipython",
    "version": 3
   },
   "file_extension": ".py",
   "mimetype": "text/x-python",
   "name": "python",
   "nbconvert_exporter": "python",
   "pygments_lexer": "ipython3",
   "version": "3.8.5"
  }
 },
 "nbformat": 4,
 "nbformat_minor": 4
}
