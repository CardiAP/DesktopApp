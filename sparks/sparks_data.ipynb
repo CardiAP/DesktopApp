{
 "cells": [
  {
   "cell_type": "markdown",
   "metadata": {},
   "source": [
    "### SINGLE IMAGE ANALYSIS"
   ]
  },
  {
   "cell_type": "code",
   "execution_count": 1,
   "metadata": {},
   "outputs": [
    {
     "ename": "KeyboardInterrupt",
     "evalue": "",
     "output_type": "error",
     "traceback": [
      "\u001b[0;31m---------------------------------------------------------------------------\u001b[0m",
      "\u001b[0;31mKeyboardInterrupt\u001b[0m                         Traceback (most recent call last)",
      "\u001b[0;32m<ipython-input-1-51e583e6d414>\u001b[0m in \u001b[0;36m<module>\u001b[0;34m\u001b[0m\n\u001b[1;32m     27\u001b[0m     \u001b[0mcv2\u001b[0m\u001b[0;34m.\u001b[0m\u001b[0mimshow\u001b[0m\u001b[0;34m(\u001b[0m\u001b[0mwinname\u001b[0m\u001b[0;34m,\u001b[0m\u001b[0mimg_processed\u001b[0m\u001b[0;34m)\u001b[0m\u001b[0;34m\u001b[0m\u001b[0;34m\u001b[0m\u001b[0m\n\u001b[1;32m     28\u001b[0m     \u001b[0mcv2\u001b[0m\u001b[0;34m.\u001b[0m\u001b[0mimshow\u001b[0m\u001b[0;34m(\u001b[0m\u001b[0;34m'original'\u001b[0m\u001b[0;34m,\u001b[0m\u001b[0mimage\u001b[0m\u001b[0;34m)\u001b[0m\u001b[0;34m\u001b[0m\u001b[0;34m\u001b[0m\u001b[0m\n\u001b[0;32m---> 29\u001b[0;31m     \u001b[0;32mif\u001b[0m \u001b[0mcv2\u001b[0m\u001b[0;34m.\u001b[0m\u001b[0mwaitKey\u001b[0m\u001b[0;34m(\u001b[0m\u001b[0;36m20\u001b[0m\u001b[0;34m)\u001b[0m \u001b[0;34m&\u001b[0m \u001b[0;36m0xFF\u001b[0m \u001b[0;34m==\u001b[0m\u001b[0;36m27\u001b[0m\u001b[0;34m:\u001b[0m\u001b[0;34m\u001b[0m\u001b[0;34m\u001b[0m\u001b[0m\n\u001b[0m\u001b[1;32m     30\u001b[0m         \u001b[0;32mbreak\u001b[0m\u001b[0;34m\u001b[0m\u001b[0;34m\u001b[0m\u001b[0m\n\u001b[1;32m     31\u001b[0m \u001b[0mcv2\u001b[0m\u001b[0;34m.\u001b[0m\u001b[0mdestroyAllWindows\u001b[0m\u001b[0;34m(\u001b[0m\u001b[0;34m)\u001b[0m\u001b[0;34m\u001b[0m\u001b[0;34m\u001b[0m\u001b[0m\n",
      "\u001b[0;31mKeyboardInterrupt\u001b[0m: "
     ]
    }
   ],
   "source": [
    "import Image_Sparks\n",
    "import cv2\n",
    "import sparks_analysis\n",
    "import image_class\n",
    "\n",
    "# path = '/media/leandro/Volumen1TB/Lean/Analizador_imagenes_calcio/Sp/Imagenes_confocal/sp_para entrenar/'\n",
    "image = image_class.Image_Processing('/media/leandro/Volumen1TB/Lean/Curso MLIP/', 'c5ac007')\n",
    "\n",
    "\n",
    "image = cv2.imread(image.path + image.photo_name + \".tif\")\n",
    "imcrop = Image_Sparks.Image_Sparks.Image_cropping(image)\n",
    "cv2.imwrite('/path/to/destination/image.png',imcrop)\n",
    "contours, img_processed = Image_Sparks.Image_Sparks.Image_processing(imcrop)\n",
    "list_img_col, list_img_row, x_position, y_position, width, high = Image_Sparks.Image_Sparks.Image_analysis(contours, img_processed, image)\n",
    "\n",
    "# Detect each event and give it a category\n",
    "def write_points(event, x_position, y_position, flags, param):\n",
    "    if event == cv2.EVENT_LBUTTONDOWN:\n",
    "        img_points.append(flags)\n",
    "    if event == cv2.EVENT_RBUTTONDOWN:\n",
    "        img_points.append(flags)\n",
    "winname=\"TAG :: Press ESC to exit; left Click to TAG 1; right Click to TAG 2\"\n",
    "cv2.namedWindow(winname)\n",
    "img_points = []\n",
    "cv2.setMouseCallback(winname,write_points)\n",
    "while True:\n",
    "    cv2.imshow(winname,img_processed)\n",
    "    cv2.imshow('original',image)\n",
    "    if cv2.waitKey(20) & 0xFF ==27:\n",
    "        break      \n",
    "cv2.destroyAllWindows()\n",
    "\n",
    "# Take the processing data to analyze each spark and extract parameters\n",
    "\n",
    "parameters = sparks_analysis.analysis_process (list_img_col, list_img_row,x_position,y_position,width,high, img_points)\n",
    "print(parameters)\n",
    "parameters.to_csv(path + photo_name + '_canny400_f3_b100')"
   ]
  },
  {
   "cell_type": "markdown",
   "metadata": {},
   "source": [
    "### MULTIPLE IMAGE ANALYSIS"
   ]
  },
  {
   "cell_type": "code",
   "execution_count": null,
   "metadata": {},
   "outputs": [],
   "source": [
    "import Image_Sparks\n",
    "import cv2\n",
    "import sparks_analysis\n",
    "import image_class\n",
    "import os\n",
    "\n",
    "path = 'C:/Users/Leand/OneDrive/Documentos/Lean/Analizador_imagenes_calcio/Imagenes_confocal/sp_para entrenar/'\n",
    "# path = '/media/leandro/Volumen1TB/Lean/Analizador_imagenes_calcio/Sp/Imagenes_confocal/sp_para entrenar/'\n",
    "\n",
    "os.makedirs(path + 'sparks_results/')\n",
    "images_list = os.listdir(path)\n",
    "for photo_name in images_list:\n",
    "    try:\n",
    "        image = image_class.Image_Processing(path, photo_name)\n",
    "        image = cv2.imread(image.path + image.photo_name)\n",
    "        imcrop = Image_Sparks.Image_Sparks.Image_cropping(image)\n",
    "        contours, img_processed = Image_Sparks.Image_Sparks.Image_processing(imcrop)\n",
    "        list_img_col, list_img_row, x_position, y_position, width, high = Image_Sparks.Image_Sparks.Image_analysis(contours, img_processed, image)\n",
    "\n",
    "        # Detect each event and give it a category\n",
    "        def write_points(event, x_position, y_position, flags, param):\n",
    "            if event == cv2.EVENT_LBUTTONDOWN:\n",
    "                img_points.append(flags)\n",
    "            if event == cv2.EVENT_RBUTTONDOWN:\n",
    "                img_points.append(flags)\n",
    "        winname=\"TAG :: Press ESC to exit; left Click to TAG 1; right Click to TAG 2\"\n",
    "        cv2.namedWindow(winname)\n",
    "        img_points = []\n",
    "        cv2.setMouseCallback(winname,write_points)\n",
    "        while True:\n",
    "            cv2.imshow(winname,img_processed)\n",
    "            cv2.imshow('original',image)\n",
    "            if cv2.waitKey(20) & 0xFF ==27:\n",
    "                break      \n",
    "        cv2.destroyAllWindows()\n",
    "\n",
    "        # Take the processing data to analyze each spark and extract parameters\n",
    "\n",
    "        parameters = sparks_analysis.analysis_process (list_img_col, list_img_row,x_position,y_position,width,high, img_points)\n",
    "        print(parameters)\n",
    "        parameters.to_csv(path + 'sparks_results/' + photo_name[:-4] + '_canny400_f3_b100.csv')\n",
    "    except:\n",
    "        print(photo_name)"
   ]
  },
  {
   "cell_type": "code",
   "execution_count": null,
   "metadata": {},
   "outputs": [],
   "source": []
  }
 ],
 "metadata": {
  "kernelspec": {
   "display_name": "Python 3",
   "language": "python",
   "name": "python3"
  },
  "language_info": {
   "codemirror_mode": {
    "name": "ipython",
    "version": 3
   },
   "file_extension": ".py",
   "mimetype": "text/x-python",
   "name": "python",
   "nbconvert_exporter": "python",
   "pygments_lexer": "ipython3",
   "version": "3.8.5"
  }
 },
 "nbformat": 4,
 "nbformat_minor": 4
}
