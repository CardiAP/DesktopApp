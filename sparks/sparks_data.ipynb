{
 "cells": [
  {
   "cell_type": "markdown",
   "metadata": {},
   "source": [
    "### SINGLE IMAGE ANALYSIS"
   ]
  },
  {
   "cell_type": "code",
   "execution_count": 1,
   "metadata": {},
   "outputs": [
    {
     "name": "stdout",
     "output_type": "stream",
     "text": [
      "   tiempo_maximo  intensidad_maxima  tiempo_minimo  intensidad_minima  \\\n",
      "0            7.0          19.583333              2           8.916667   \n",
      "1            5.0          22.200000              4          19.100000   \n",
      "2            9.0          19.923077              1          14.692308   \n",
      "3            8.0          23.352941              2          19.411765   \n",
      "\n",
      "   tiempo_valle  intensidad_valle  amplitud  TTP  \n",
      "0             8         16.333333  1.196262  5.0  \n",
      "1             7         18.600000  0.162304  1.0  \n",
      "2            10         17.923077  0.356021  8.0  \n",
      "3            10         19.705882  0.203030  6.0  \n"
     ]
    },
    {
     "ename": "TypeError",
     "evalue": "ufunc 'true_divide' not supported for the input types, and the inputs could not be safely coerced to any supported types according to the casting rule ''safe''",
     "output_type": "error",
     "traceback": [
      "\u001b[1;31m---------------------------------------------------------------------------\u001b[0m",
      "\u001b[1;31mTypeError\u001b[0m                                 Traceback (most recent call last)",
      "\u001b[1;32m<ipython-input-1-87692966fb47>\u001b[0m in \u001b[0;36m<module>\u001b[1;34m\u001b[0m\n\u001b[0;32m     32\u001b[0m \u001b[1;31m# Take the processing data to analyze each spark and extract parameters\u001b[0m\u001b[1;33m\u001b[0m\u001b[1;33m\u001b[0m\u001b[1;33m\u001b[0m\u001b[0m\n\u001b[0;32m     33\u001b[0m \u001b[1;33m\u001b[0m\u001b[0m\n\u001b[1;32m---> 34\u001b[1;33m \u001b[0mparameters\u001b[0m \u001b[1;33m=\u001b[0m \u001b[0msparks_analysis\u001b[0m\u001b[1;33m.\u001b[0m\u001b[0manalysis_process\u001b[0m \u001b[1;33m(\u001b[0m\u001b[0mlist_img_col\u001b[0m\u001b[1;33m,\u001b[0m \u001b[0mlist_img_row\u001b[0m\u001b[1;33m,\u001b[0m\u001b[0mx_position\u001b[0m\u001b[1;33m,\u001b[0m\u001b[0my_position\u001b[0m\u001b[1;33m,\u001b[0m\u001b[0mwidth\u001b[0m\u001b[1;33m,\u001b[0m\u001b[0mhigh\u001b[0m\u001b[1;33m,\u001b[0m \u001b[0mimg_points\u001b[0m\u001b[1;33m)\u001b[0m\u001b[1;33m\u001b[0m\u001b[1;33m\u001b[0m\u001b[0m\n\u001b[0m\u001b[0;32m     35\u001b[0m \u001b[0mprint\u001b[0m\u001b[1;33m(\u001b[0m\u001b[0mparameters\u001b[0m\u001b[1;33m)\u001b[0m\u001b[1;33m\u001b[0m\u001b[1;33m\u001b[0m\u001b[0m\n\u001b[0;32m     36\u001b[0m \u001b[0mparameters\u001b[0m\u001b[1;33m.\u001b[0m\u001b[0mto_csv\u001b[0m\u001b[1;33m(\u001b[0m\u001b[0mpath\u001b[0m \u001b[1;33m+\u001b[0m \u001b[0mphoto_name\u001b[0m \u001b[1;33m+\u001b[0m \u001b[1;34m'_canny400_f3_b100'\u001b[0m\u001b[1;33m)\u001b[0m\u001b[1;33m\u001b[0m\u001b[1;33m\u001b[0m\u001b[0m\n",
      "\u001b[1;32m~\\OneDrive\\Documentos\\GitHub\\DesktopApp\\sparks\\sparks_analysis.py\u001b[0m in \u001b[0;36manalysis_process\u001b[1;34m(list_img_col, list_img_row, x, y, w, h, flag)\u001b[0m\n\u001b[0;32m    221\u001b[0m         \u001b[0mout_sparks\u001b[0m\u001b[1;33m[\u001b[0m\u001b[1;34m'TTP50'\u001b[0m\u001b[1;33m]\u001b[0m \u001b[1;33m=\u001b[0m \u001b[0msparks_tiempo_pico50\u001b[0m \u001b[1;33m-\u001b[0m \u001b[0mout_sparks\u001b[0m\u001b[1;33m[\u001b[0m\u001b[1;34m'tiempo_minimo'\u001b[0m\u001b[1;33m]\u001b[0m\u001b[1;33m\u001b[0m\u001b[1;33m\u001b[0m\u001b[0m\n\u001b[0;32m    222\u001b[0m \u001b[1;33m\u001b[0m\u001b[0m\n\u001b[1;32m--> 223\u001b[1;33m         \u001b[0msparks_tiempo_pico50_2\u001b[0m \u001b[1;33m=\u001b[0m \u001b[0msparks_ttpeak50\u001b[0m \u001b[1;33m(\u001b[0m\u001b[0mcantidad_sparks\u001b[0m\u001b[1;33m,\u001b[0m \u001b[0mlist_img_col\u001b[0m\u001b[1;33m,\u001b[0m \u001b[0mout_sparks\u001b[0m\u001b[1;33m[\u001b[0m\u001b[1;34m'intensidad_maxima'\u001b[0m\u001b[1;33m]\u001b[0m\u001b[1;33m,\u001b[0m \u001b[0mout_sparks\u001b[0m\u001b[1;33m[\u001b[0m\u001b[1;34m'intensidad_valle'\u001b[0m\u001b[1;33m]\u001b[0m\u001b[1;33m,\u001b[0m \u001b[0mout_sparks\u001b[0m\u001b[1;33m[\u001b[0m\u001b[1;34m'tiempo_maximo'\u001b[0m\u001b[1;33m]\u001b[0m\u001b[1;33m,\u001b[0m \u001b[0mout_sparks\u001b[0m\u001b[1;33m[\u001b[0m\u001b[1;34m'tiempo_valle'\u001b[0m\u001b[1;33m]\u001b[0m\u001b[1;33m)\u001b[0m\u001b[1;33m\u001b[0m\u001b[1;33m\u001b[0m\u001b[0m\n\u001b[0m\u001b[0;32m    224\u001b[0m         \u001b[0mout_sparks\u001b[0m\u001b[1;33m[\u001b[0m\u001b[1;34m'FDHM'\u001b[0m\u001b[1;33m]\u001b[0m \u001b[1;33m=\u001b[0m\u001b[1;33m[\u001b[0m\u001b[0mA\u001b[0m \u001b[1;33m-\u001b[0m \u001b[0mB\u001b[0m \u001b[1;32mfor\u001b[0m \u001b[1;33m(\u001b[0m\u001b[0mA\u001b[0m\u001b[1;33m,\u001b[0m \u001b[0mB\u001b[0m\u001b[1;33m)\u001b[0m \u001b[1;32min\u001b[0m \u001b[0mzip\u001b[0m\u001b[1;33m(\u001b[0m\u001b[0msparks_tiempo_pico50_2\u001b[0m\u001b[1;33m,\u001b[0m \u001b[0msparks_tiempo_pico50\u001b[0m\u001b[1;33m)\u001b[0m\u001b[1;33m]\u001b[0m\u001b[1;33m\u001b[0m\u001b[1;33m\u001b[0m\u001b[0m\n\u001b[0;32m    225\u001b[0m \u001b[1;33m\u001b[0m\u001b[0m\n",
      "\u001b[1;32m~\\OneDrive\\Documentos\\GitHub\\DesktopApp\\sparks\\sparks_analysis.py\u001b[0m in \u001b[0;36msparks_ttpeak50\u001b[1;34m(cantidad_sparks, list_img_col, maximum_int, minimum_int, maximum_time, minimum_time)\u001b[0m\n\u001b[0;32m    127\u001b[0m         \u001b[0mySS\u001b[0m \u001b[1;33m=\u001b[0m \u001b[1;36m0\u001b[0m\u001b[1;33m\u001b[0m\u001b[1;33m\u001b[0m\u001b[0m\n\u001b[0;32m    128\u001b[0m         \u001b[1;33m(\u001b[0m\u001b[0mamplitudeEst\u001b[0m\u001b[1;33m,\u001b[0m\u001b[0mtauEst\u001b[0m\u001b[1;33m)\u001b[0m \u001b[1;33m=\u001b[0m \u001b[0mfitExponent\u001b[0m\u001b[1;33m(\u001b[0m\u001b[0mx1\u001b[0m\u001b[1;33m,\u001b[0m\u001b[0my1\u001b[0m\u001b[1;33m,\u001b[0m\u001b[0mySS\u001b[0m\u001b[1;33m)\u001b[0m\u001b[1;33m\u001b[0m\u001b[1;33m\u001b[0m\u001b[0m\n\u001b[1;32m--> 129\u001b[1;33m         \u001b[0msp_ttp50\u001b[0m \u001b[1;33m=\u001b[0m \u001b[1;33m(\u001b[0m\u001b[0mnp\u001b[0m\u001b[1;33m.\u001b[0m\u001b[0mlog\u001b[0m\u001b[1;33m(\u001b[0m\u001b[1;33m(\u001b[0m\u001b[0msp_amp50\u001b[0m \u001b[1;33m-\u001b[0m\u001b[0mySS\u001b[0m\u001b[1;33m)\u001b[0m\u001b[1;33m/\u001b[0m \u001b[0mamplitudeEst\u001b[0m\u001b[1;33m)\u001b[0m\u001b[1;33m)\u001b[0m\u001b[1;33m*\u001b[0m\u001b[1;33m(\u001b[0m\u001b[1;33m-\u001b[0m\u001b[0mtauEst\u001b[0m\u001b[1;33m)\u001b[0m\u001b[1;33m\u001b[0m\u001b[1;33m\u001b[0m\u001b[0m\n\u001b[0m\u001b[0;32m    130\u001b[0m         \u001b[0msparks_tiempo_pico50\u001b[0m\u001b[1;33m.\u001b[0m\u001b[0mappend\u001b[0m \u001b[1;33m(\u001b[0m\u001b[0msp_ttp50\u001b[0m\u001b[1;33m)\u001b[0m\u001b[1;33m\u001b[0m\u001b[1;33m\u001b[0m\u001b[0m\n\u001b[0;32m    131\u001b[0m     \u001b[1;32mreturn\u001b[0m \u001b[0msparks_tiempo_pico50\u001b[0m\u001b[1;33m\u001b[0m\u001b[1;33m\u001b[0m\u001b[0m\n",
      "\u001b[1;31mTypeError\u001b[0m: ufunc 'true_divide' not supported for the input types, and the inputs could not be safely coerced to any supported types according to the casting rule ''safe''"
     ]
    }
   ],
   "source": [
    "import Image_Sparks\n",
    "import cv2\n",
    "import sparks_analysis\n",
    "import image_class\n",
    "\n",
    "# path = '/media/leandro/Volumen1TB/Lean/Analizador_imagenes_calcio/Sp/Imagenes_confocal/sp_para entrenar/'\n",
    "image = image_class.Image_Processing('C:/Users/Leand/OneDrive/Documentos/Lean/Analizador_imagenes_calcio/Imagenes_confocal/sp_para entrenar/', '3arf006')\n",
    "\n",
    "\n",
    "image = cv2.imread(image.path + image.photo_name + \".tif\")\n",
    "imcrop = Image_Sparks.Image_Sparks.Image_cropping(image)\n",
    "contours, img_processed = Image_Sparks.Image_Sparks.Image_processing(imcrop)\n",
    "list_img_col, list_img_row, x_position, y_position, width, high = Image_Sparks.Image_Sparks.Image_analysis(contours, img_processed, image)\n",
    "\n",
    "# Detect each event and give it a category\n",
    "def write_points(event, x_position, y_position, flags, param):\n",
    "    if event == cv2.EVENT_LBUTTONDOWN:\n",
    "        img_points.append(flags)\n",
    "    if event == cv2.EVENT_RBUTTONDOWN:\n",
    "        img_points.append(flags)\n",
    "winname=\"TAG :: Press ESC to exit; left Click to TAG 1; right Click to TAG 2\"\n",
    "cv2.namedWindow(winname)\n",
    "img_points = []\n",
    "cv2.setMouseCallback(winname,write_points)\n",
    "while True:\n",
    "    cv2.imshow(winname,img_processed)\n",
    "    cv2.imshow('original',image)\n",
    "    if cv2.waitKey(20) & 0xFF ==27:\n",
    "        break      \n",
    "cv2.destroyAllWindows()\n",
    "\n",
    "# Take the processing data to analyze each spark and extract parameters\n",
    "\n",
    "parameters = sparks_analysis.analysis_process (list_img_col, list_img_row,x_position,y_position,width,high, img_points)\n",
    "print(parameters)\n",
    "parameters.to_csv(path + photo_name + '_canny400_f3_b100')"
   ]
  },
  {
   "cell_type": "markdown",
   "metadata": {},
   "source": [
    "### MULTIPLE IMAGE ANALYSIS"
   ]
  },
  {
   "cell_type": "code",
   "execution_count": null,
   "metadata": {},
   "outputs": [],
   "source": [
    "import Image_Sparks\n",
    "import cv2\n",
    "import sparks_analysis\n",
    "import image_class\n",
    "import os\n",
    "\n",
    "path = 'C:/Users/Leand/OneDrive/Documentos/Lean/Analizador_imagenes_calcio/Imagenes_confocal/sp_para entrenar/'\n",
    "# path = '/media/leandro/Volumen1TB/Lean/Analizador_imagenes_calcio/Sp/Imagenes_confocal/sp_para entrenar/'\n",
    "\n",
    "os.makedirs(path + 'sparks_results/')\n",
    "images_list = os.listdir(path)\n",
    "for photo_name in images_list:\n",
    "    try:\n",
    "        image = image_class.Image_Processing(path, photo_name)\n",
    "        image = cv2.imread(image.path + image.photo_name)\n",
    "        imcrop = Image_Sparks.Image_Sparks.Image_cropping(image)\n",
    "        contours, img_processed = Image_Sparks.Image_Sparks.Image_processing(imcrop)\n",
    "        list_img_col, list_img_row, x_position, y_position, width, high = Image_Sparks.Image_Sparks.Image_analysis(contours, img_processed, image)\n",
    "\n",
    "        # Detect each event and give it a category\n",
    "        def write_points(event, x_position, y_position, flags, param):\n",
    "            if event == cv2.EVENT_LBUTTONDOWN:\n",
    "                img_points.append(flags)\n",
    "            if event == cv2.EVENT_RBUTTONDOWN:\n",
    "                img_points.append(flags)\n",
    "        winname=\"TAG :: Press ESC to exit; left Click to TAG 1; right Click to TAG 2\"\n",
    "        cv2.namedWindow(winname)\n",
    "        img_points = []\n",
    "        cv2.setMouseCallback(winname,write_points)\n",
    "        while True:\n",
    "            cv2.imshow(winname,img_processed)\n",
    "            cv2.imshow('original',image)\n",
    "            if cv2.waitKey(20) & 0xFF ==27:\n",
    "                break      \n",
    "        cv2.destroyAllWindows()\n",
    "\n",
    "        # Take the processing data to analyze each spark and extract parameters\n",
    "\n",
    "        parameters = sparks_analysis.analysis_process (list_img_col, list_img_row,x_position,y_position,width,high, img_points)\n",
    "        print(parameters)\n",
    "        parameters.to_csv(path + 'sparks_results/' + photo_name[:-4] + '_canny400_f3_b100.csv')\n",
    "    except:\n",
    "        print(photo_name)"
   ]
  },
  {
   "cell_type": "code",
   "execution_count": null,
   "metadata": {},
   "outputs": [],
   "source": []
  }
 ],
 "metadata": {
  "kernelspec": {
   "display_name": "Python 3",
   "language": "python",
   "name": "python3"
  },
  "language_info": {
   "codemirror_mode": {
    "name": "ipython",
    "version": 3
   },
   "file_extension": ".py",
   "mimetype": "text/x-python",
   "name": "python",
   "nbconvert_exporter": "python",
   "pygments_lexer": "ipython3",
   "version": "3.7.3"
  }
 },
 "nbformat": 4,
 "nbformat_minor": 4
}
